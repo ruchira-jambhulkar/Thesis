{
 "cells": [
  {
   "cell_type": "markdown",
   "metadata": {},
   "source": [
    "# Prediction of Diabetes using Artificial neural Network with two hidden layers."
   ]
  },
  {
   "cell_type": "code",
   "execution_count": 1,
   "metadata": {
    "colab": {
     "base_uri": "https://localhost:8080/",
     "height": 70
    },
    "colab_type": "code",
    "id": "kb1_UzgX_yse",
    "outputId": "759a0d88-394e-4750-bf13-dbc11969c422"
   },
   "outputs": [],
   "source": [
    "#Importing required libraries\n",
    "\n",
    "import numpy as np\n",
    "import pandas as pd\n",
    "import matplotlib.pyplot as plt\n",
    "import seaborn as sns"
   ]
  },
  {
   "cell_type": "markdown",
   "metadata": {},
   "source": [
    "## Part 1: Data Gathering"
   ]
  },
  {
   "cell_type": "code",
   "execution_count": 2,
   "metadata": {
    "colab": {},
    "colab_type": "code",
    "id": "H-3j746D_ysk"
   },
   "outputs": [
    {
     "name": "stdout",
     "output_type": "stream",
     "text": [
      "       PatientID  Pregnancies  PlasmaGlucose  DiastolicBloodPressure  \\\n",
      "0        1354778            0            171                      80   \n",
      "1        1147438            8             92                      93   \n",
      "2        1640031            7            115                      47   \n",
      "3        1883350            9            103                      78   \n",
      "4        1424119            1             85                      59   \n",
      "...          ...          ...            ...                     ...   \n",
      "14995    1490300           10             65                      60   \n",
      "14996    1744410            2             73                      66   \n",
      "14997    1742742            0             93                      89   \n",
      "14998    1099353            0            132                      98   \n",
      "14999    1386396            3            114                      65   \n",
      "\n",
      "       TricepsThickness  SerumInsulin        BMI  DiabetesPedigree  Age  \\\n",
      "0                    34            23  43.509726          1.213191   21   \n",
      "1                    47            36  21.240576          0.158365   23   \n",
      "2                    52            35  41.511523          0.079019   23   \n",
      "3                    25           304  29.582192          1.282870   43   \n",
      "4                    27            35  42.604536          0.549542   22   \n",
      "...                 ...           ...        ...               ...  ...   \n",
      "14995                46           177  33.512468          0.148327   41   \n",
      "14996                27           168  30.132636          0.862252   38   \n",
      "14997                43            57  18.690683          0.427049   24   \n",
      "14998                18           161  19.791645          0.302257   23   \n",
      "14999                47           512  36.215437          0.147363   34   \n",
      "\n",
      "       Diabetic  \n",
      "0             0  \n",
      "1             0  \n",
      "2             0  \n",
      "3             1  \n",
      "4             0  \n",
      "...         ...  \n",
      "14995         1  \n",
      "14996         1  \n",
      "14997         0  \n",
      "14998         0  \n",
      "14999         1  \n",
      "\n",
      "[15000 rows x 10 columns]\n"
     ]
    }
   ],
   "source": [
    "#Importing dataset\n",
    "diabetes_data = pd.read_csv('diabetes.csv')\n",
    "print(diabetes_data)"
   ]
  },
  {
   "cell_type": "markdown",
   "metadata": {},
   "source": [
    "## Part 2: Data Analysis"
   ]
  },
  {
   "cell_type": "code",
   "execution_count": 3,
   "metadata": {},
   "outputs": [
    {
     "data": {
      "text/html": [
       "<div>\n",
       "<style scoped>\n",
       "    .dataframe tbody tr th:only-of-type {\n",
       "        vertical-align: middle;\n",
       "    }\n",
       "\n",
       "    .dataframe tbody tr th {\n",
       "        vertical-align: top;\n",
       "    }\n",
       "\n",
       "    .dataframe thead th {\n",
       "        text-align: right;\n",
       "    }\n",
       "</style>\n",
       "<table border=\"1\" class=\"dataframe\">\n",
       "  <thead>\n",
       "    <tr style=\"text-align: right;\">\n",
       "      <th></th>\n",
       "      <th>PatientID</th>\n",
       "      <th>Pregnancies</th>\n",
       "      <th>PlasmaGlucose</th>\n",
       "      <th>DiastolicBloodPressure</th>\n",
       "      <th>TricepsThickness</th>\n",
       "      <th>SerumInsulin</th>\n",
       "      <th>BMI</th>\n",
       "      <th>DiabetesPedigree</th>\n",
       "      <th>Age</th>\n",
       "      <th>Diabetic</th>\n",
       "    </tr>\n",
       "  </thead>\n",
       "  <tbody>\n",
       "    <tr>\n",
       "      <th>0</th>\n",
       "      <td>1354778</td>\n",
       "      <td>0</td>\n",
       "      <td>171</td>\n",
       "      <td>80</td>\n",
       "      <td>34</td>\n",
       "      <td>23</td>\n",
       "      <td>43.509726</td>\n",
       "      <td>1.213191</td>\n",
       "      <td>21</td>\n",
       "      <td>0</td>\n",
       "    </tr>\n",
       "    <tr>\n",
       "      <th>1</th>\n",
       "      <td>1147438</td>\n",
       "      <td>8</td>\n",
       "      <td>92</td>\n",
       "      <td>93</td>\n",
       "      <td>47</td>\n",
       "      <td>36</td>\n",
       "      <td>21.240576</td>\n",
       "      <td>0.158365</td>\n",
       "      <td>23</td>\n",
       "      <td>0</td>\n",
       "    </tr>\n",
       "    <tr>\n",
       "      <th>2</th>\n",
       "      <td>1640031</td>\n",
       "      <td>7</td>\n",
       "      <td>115</td>\n",
       "      <td>47</td>\n",
       "      <td>52</td>\n",
       "      <td>35</td>\n",
       "      <td>41.511523</td>\n",
       "      <td>0.079019</td>\n",
       "      <td>23</td>\n",
       "      <td>0</td>\n",
       "    </tr>\n",
       "    <tr>\n",
       "      <th>3</th>\n",
       "      <td>1883350</td>\n",
       "      <td>9</td>\n",
       "      <td>103</td>\n",
       "      <td>78</td>\n",
       "      <td>25</td>\n",
       "      <td>304</td>\n",
       "      <td>29.582192</td>\n",
       "      <td>1.282870</td>\n",
       "      <td>43</td>\n",
       "      <td>1</td>\n",
       "    </tr>\n",
       "    <tr>\n",
       "      <th>4</th>\n",
       "      <td>1424119</td>\n",
       "      <td>1</td>\n",
       "      <td>85</td>\n",
       "      <td>59</td>\n",
       "      <td>27</td>\n",
       "      <td>35</td>\n",
       "      <td>42.604536</td>\n",
       "      <td>0.549542</td>\n",
       "      <td>22</td>\n",
       "      <td>0</td>\n",
       "    </tr>\n",
       "  </tbody>\n",
       "</table>\n",
       "</div>"
      ],
      "text/plain": [
       "   PatientID  Pregnancies  PlasmaGlucose  DiastolicBloodPressure  \\\n",
       "0    1354778            0            171                      80   \n",
       "1    1147438            8             92                      93   \n",
       "2    1640031            7            115                      47   \n",
       "3    1883350            9            103                      78   \n",
       "4    1424119            1             85                      59   \n",
       "\n",
       "   TricepsThickness  SerumInsulin        BMI  DiabetesPedigree  Age  Diabetic  \n",
       "0                34            23  43.509726          1.213191   21         0  \n",
       "1                47            36  21.240576          0.158365   23         0  \n",
       "2                52            35  41.511523          0.079019   23         0  \n",
       "3                25           304  29.582192          1.282870   43         1  \n",
       "4                27            35  42.604536          0.549542   22         0  "
      ]
     },
     "execution_count": 3,
     "metadata": {},
     "output_type": "execute_result"
    }
   ],
   "source": [
    "#Preview the data\n",
    "diabetes_data.head()"
   ]
  },
  {
   "cell_type": "code",
   "execution_count": 4,
   "metadata": {
    "colab": {
     "base_uri": "https://localhost:8080/",
     "height": 34
    },
    "colab_type": "code",
    "id": "sNhM06MT_ysr",
    "outputId": "c04f85a6-7c5f-4983-b80b-079f4a540493"
   },
   "outputs": [
    {
     "data": {
      "text/plain": [
       "(15000, 10)"
      ]
     },
     "execution_count": 4,
     "metadata": {},
     "output_type": "execute_result"
    }
   ],
   "source": [
    "#Checking the shape of data that is number of rows and columns\n",
    "diabetes_data.shape"
   ]
  },
  {
   "cell_type": "code",
   "execution_count": 5,
   "metadata": {
    "colab": {
     "base_uri": "https://localhost:8080/",
     "height": 286
    },
    "colab_type": "code",
    "id": "LrQzjv6W_ysu",
    "outputId": "bbc6ba81-3863-4a69-b5b5-4b39832a70c2"
   },
   "outputs": [
    {
     "name": "stdout",
     "output_type": "stream",
     "text": [
      "<class 'pandas.core.frame.DataFrame'>\n",
      "RangeIndex: 15000 entries, 0 to 14999\n",
      "Data columns (total 10 columns):\n",
      " #   Column                  Non-Null Count  Dtype  \n",
      "---  ------                  --------------  -----  \n",
      " 0   PatientID               15000 non-null  int64  \n",
      " 1   Pregnancies             15000 non-null  int64  \n",
      " 2   PlasmaGlucose           15000 non-null  int64  \n",
      " 3   DiastolicBloodPressure  15000 non-null  int64  \n",
      " 4   TricepsThickness        15000 non-null  int64  \n",
      " 5   SerumInsulin            15000 non-null  int64  \n",
      " 6   BMI                     15000 non-null  float64\n",
      " 7   DiabetesPedigree        15000 non-null  float64\n",
      " 8   Age                     15000 non-null  int64  \n",
      " 9   Diabetic                15000 non-null  int64  \n",
      "dtypes: float64(2), int64(8)\n",
      "memory usage: 1.1 MB\n"
     ]
    }
   ],
   "source": [
    "#Checking the attributes of the dataset\n",
    "diabetes_data.info()"
   ]
  },
  {
   "cell_type": "code",
   "execution_count": 6,
   "metadata": {
    "colab": {},
    "colab_type": "code",
    "id": "388BErELKK-b"
   },
   "outputs": [],
   "source": [
    "#Deleting the patient ID column \n",
    "del diabetes_data['PatientID']"
   ]
  },
  {
   "cell_type": "code",
   "execution_count": 7,
   "metadata": {
    "colab": {
     "base_uri": "https://localhost:8080/",
     "height": 34
    },
    "colab_type": "code",
    "id": "QO0xfXtP_ysy",
    "outputId": "03ce19b7-c42d-427b-d07b-fc22427be482"
   },
   "outputs": [
    {
     "name": "stdout",
     "output_type": "stream",
     "text": [
      "False\n"
     ]
    },
    {
     "data": {
      "text/plain": [
       "Pregnancies               0\n",
       "PlasmaGlucose             0\n",
       "DiastolicBloodPressure    0\n",
       "TricepsThickness          0\n",
       "SerumInsulin              0\n",
       "BMI                       0\n",
       "DiabetesPedigree          0\n",
       "Age                       0\n",
       "Diabetic                  0\n",
       "dtype: int64"
      ]
     },
     "execution_count": 7,
     "metadata": {},
     "output_type": "execute_result"
    }
   ],
   "source": [
    "#Checking for null values\n",
    "print (diabetes_data.isnull().values.any())\n",
    "diabetes_data.isnull().sum()"
   ]
  },
  {
   "cell_type": "code",
   "execution_count": 8,
   "metadata": {
    "colab": {
     "base_uri": "https://localhost:8080/",
     "height": 314
    },
    "colab_type": "code",
    "id": "bOpmoZwN_ys6",
    "outputId": "45dc7f1b-17f0-47de-c6cc-a976c3bf2222"
   },
   "outputs": [
    {
     "data": {
      "text/html": [
       "<div>\n",
       "<style scoped>\n",
       "    .dataframe tbody tr th:only-of-type {\n",
       "        vertical-align: middle;\n",
       "    }\n",
       "\n",
       "    .dataframe tbody tr th {\n",
       "        vertical-align: top;\n",
       "    }\n",
       "\n",
       "    .dataframe thead th {\n",
       "        text-align: right;\n",
       "    }\n",
       "</style>\n",
       "<table border=\"1\" class=\"dataframe\">\n",
       "  <thead>\n",
       "    <tr style=\"text-align: right;\">\n",
       "      <th></th>\n",
       "      <th>count</th>\n",
       "      <th>mean</th>\n",
       "      <th>std</th>\n",
       "      <th>min</th>\n",
       "      <th>25%</th>\n",
       "      <th>50%</th>\n",
       "      <th>75%</th>\n",
       "      <th>max</th>\n",
       "    </tr>\n",
       "  </thead>\n",
       "  <tbody>\n",
       "    <tr>\n",
       "      <th>Pregnancies</th>\n",
       "      <td>15000.0</td>\n",
       "      <td>3.224533</td>\n",
       "      <td>3.391020</td>\n",
       "      <td>0.000000</td>\n",
       "      <td>0.000000</td>\n",
       "      <td>2.000000</td>\n",
       "      <td>6.000000</td>\n",
       "      <td>14.000000</td>\n",
       "    </tr>\n",
       "    <tr>\n",
       "      <th>PlasmaGlucose</th>\n",
       "      <td>15000.0</td>\n",
       "      <td>107.856867</td>\n",
       "      <td>31.981975</td>\n",
       "      <td>44.000000</td>\n",
       "      <td>84.000000</td>\n",
       "      <td>104.000000</td>\n",
       "      <td>129.000000</td>\n",
       "      <td>192.000000</td>\n",
       "    </tr>\n",
       "    <tr>\n",
       "      <th>DiastolicBloodPressure</th>\n",
       "      <td>15000.0</td>\n",
       "      <td>71.220667</td>\n",
       "      <td>16.758716</td>\n",
       "      <td>24.000000</td>\n",
       "      <td>58.000000</td>\n",
       "      <td>72.000000</td>\n",
       "      <td>85.000000</td>\n",
       "      <td>117.000000</td>\n",
       "    </tr>\n",
       "    <tr>\n",
       "      <th>TricepsThickness</th>\n",
       "      <td>15000.0</td>\n",
       "      <td>28.814000</td>\n",
       "      <td>14.555716</td>\n",
       "      <td>7.000000</td>\n",
       "      <td>15.000000</td>\n",
       "      <td>31.000000</td>\n",
       "      <td>41.000000</td>\n",
       "      <td>93.000000</td>\n",
       "    </tr>\n",
       "    <tr>\n",
       "      <th>SerumInsulin</th>\n",
       "      <td>15000.0</td>\n",
       "      <td>137.852133</td>\n",
       "      <td>133.068252</td>\n",
       "      <td>14.000000</td>\n",
       "      <td>39.000000</td>\n",
       "      <td>83.000000</td>\n",
       "      <td>195.000000</td>\n",
       "      <td>799.000000</td>\n",
       "    </tr>\n",
       "    <tr>\n",
       "      <th>BMI</th>\n",
       "      <td>15000.0</td>\n",
       "      <td>31.509646</td>\n",
       "      <td>9.759000</td>\n",
       "      <td>18.200512</td>\n",
       "      <td>21.259887</td>\n",
       "      <td>31.767940</td>\n",
       "      <td>39.259692</td>\n",
       "      <td>56.034628</td>\n",
       "    </tr>\n",
       "    <tr>\n",
       "      <th>DiabetesPedigree</th>\n",
       "      <td>15000.0</td>\n",
       "      <td>0.398968</td>\n",
       "      <td>0.377944</td>\n",
       "      <td>0.078044</td>\n",
       "      <td>0.137743</td>\n",
       "      <td>0.200297</td>\n",
       "      <td>0.616285</td>\n",
       "      <td>2.301594</td>\n",
       "    </tr>\n",
       "    <tr>\n",
       "      <th>Age</th>\n",
       "      <td>15000.0</td>\n",
       "      <td>30.137733</td>\n",
       "      <td>12.089703</td>\n",
       "      <td>21.000000</td>\n",
       "      <td>22.000000</td>\n",
       "      <td>24.000000</td>\n",
       "      <td>35.000000</td>\n",
       "      <td>77.000000</td>\n",
       "    </tr>\n",
       "    <tr>\n",
       "      <th>Diabetic</th>\n",
       "      <td>15000.0</td>\n",
       "      <td>0.333333</td>\n",
       "      <td>0.471420</td>\n",
       "      <td>0.000000</td>\n",
       "      <td>0.000000</td>\n",
       "      <td>0.000000</td>\n",
       "      <td>1.000000</td>\n",
       "      <td>1.000000</td>\n",
       "    </tr>\n",
       "  </tbody>\n",
       "</table>\n",
       "</div>"
      ],
      "text/plain": [
       "                          count        mean         std        min        25%  \\\n",
       "Pregnancies             15000.0    3.224533    3.391020   0.000000   0.000000   \n",
       "PlasmaGlucose           15000.0  107.856867   31.981975  44.000000  84.000000   \n",
       "DiastolicBloodPressure  15000.0   71.220667   16.758716  24.000000  58.000000   \n",
       "TricepsThickness        15000.0   28.814000   14.555716   7.000000  15.000000   \n",
       "SerumInsulin            15000.0  137.852133  133.068252  14.000000  39.000000   \n",
       "BMI                     15000.0   31.509646    9.759000  18.200512  21.259887   \n",
       "DiabetesPedigree        15000.0    0.398968    0.377944   0.078044   0.137743   \n",
       "Age                     15000.0   30.137733   12.089703  21.000000  22.000000   \n",
       "Diabetic                15000.0    0.333333    0.471420   0.000000   0.000000   \n",
       "\n",
       "                               50%         75%         max  \n",
       "Pregnancies               2.000000    6.000000   14.000000  \n",
       "PlasmaGlucose           104.000000  129.000000  192.000000  \n",
       "DiastolicBloodPressure   72.000000   85.000000  117.000000  \n",
       "TricepsThickness         31.000000   41.000000   93.000000  \n",
       "SerumInsulin             83.000000  195.000000  799.000000  \n",
       "BMI                      31.767940   39.259692   56.034628  \n",
       "DiabetesPedigree          0.200297    0.616285    2.301594  \n",
       "Age                      24.000000   35.000000   77.000000  \n",
       "Diabetic                  0.000000    1.000000    1.000000  "
      ]
     },
     "execution_count": 8,
     "metadata": {},
     "output_type": "execute_result"
    }
   ],
   "source": [
    "#Statistical summary of data\n",
    "diabetes_data.describe().T"
   ]
  },
  {
   "cell_type": "code",
   "execution_count": 9,
   "metadata": {
    "colab": {
     "base_uri": "https://localhost:8080/",
     "height": 607
    },
    "colab_type": "code",
    "id": "q02763HD_ys9",
    "outputId": "20071196-98a2-45af-da26-bc38de5f6a99"
   },
   "outputs": [],
   "source": [
    "#Using Histogram to represent the statistical summary\n",
    "#diabetes_data.hist(bins=10,figsize=(10,10))\n",
    "#plt.show()"
   ]
  },
  {
   "cell_type": "code",
   "execution_count": 10,
   "metadata": {
    "colab": {
     "base_uri": "https://localhost:8080/",
     "height": 296
    },
    "colab_type": "code",
    "id": "9udgXW2d_ys_",
    "outputId": "28c2760a-5eeb-4268-84f9-f1a161f3c3a9"
   },
   "outputs": [
    {
     "data": {
      "text/plain": [
       "<matplotlib.axes._subplots.AxesSubplot at 0x22681ec3248>"
      ]
     },
     "execution_count": 10,
     "metadata": {},
     "output_type": "execute_result"
    },
    {
     "data": {
      "image/png": "[encoded data removed]",
      "text/plain": [
       "<Figure size 432x288 with 1 Axes>"
      ]
     },
     "metadata": {
      "needs_background": "light"
     },
     "output_type": "display_data"
    }
   ],
   "source": [
    "# Outcome countplot\n",
    "sns.countplot(x = 'Diabetic',data = diabetes_data)"
   ]
  },
  {
   "cell_type": "markdown",
   "metadata": {},
   "source": [
    "## Part 3: Data Preprocessing"
   ]
  },
  {
   "cell_type": "markdown",
   "metadata": {},
   "source": [
    "### A.Feature Selection"
   ]
  },
  {
   "cell_type": "code",
   "execution_count": 11,
   "metadata": {
    "colab": {
     "base_uri": "https://localhost:8080/",
     "height": 168
    },
    "colab_type": "code",
    "id": "J-GFrf6mI_iE",
    "outputId": "8600907c-c283-4abe-e136-8636fa6181a2"
   },
   "outputs": [
    {
     "name": "stdout",
     "output_type": "stream",
     "text": [
      "                 Features          Score\n",
      "4            SerumInsulin  117899.178047\n",
      "0             Pregnancies    8873.960067\n",
      "7                     Age    8538.278751\n",
      "3        TricepsThickness    2565.049101\n",
      "1           PlasmaGlucose    2330.615204\n",
      "5                     BMI    2008.936371\n",
      "2  DiastolicBloodPressure     493.109061\n",
      "6        DiabetesPedigree     155.745810\n"
     ]
    }
   ],
   "source": [
    "#Feature Selection using Chi-square method\n",
    "\n",
    "from sklearn.feature_selection import chi2\n",
    "from sklearn.feature_selection import SelectKBest\n",
    "\n",
    "X = diabetes_data.iloc[:,0:8] \n",
    "y = diabetes_data.iloc[:,-1]   \n",
    "imp_features = SelectKBest(score_func=chi2, k=8)\n",
    "fit = imp_features.fit(X,y)\n",
    "df_scores = pd.DataFrame(fit.scores_)\n",
    "df_columns = pd.DataFrame(X.columns) \n",
    "attr_scores = pd.concat([df_columns,df_scores],axis=1)\n",
    "attr_scores.columns = ['Features','Score']  \n",
    "print(attr_scores.nlargest(8,'Score'))"
   ]
  },
  {
   "cell_type": "code",
   "execution_count": 12,
   "metadata": {
    "colab": {
     "base_uri": "https://localhost:8080/",
     "height": 334
    },
    "colab_type": "code",
    "id": "KmfDpfgF_ytE",
    "outputId": "2c5e7d11-66ef-427e-d44d-289c311157a3"
   },
   "outputs": [
    {
     "data": {
      "text/html": [
       "<div>\n",
       "<style scoped>\n",
       "    .dataframe tbody tr th:only-of-type {\n",
       "        vertical-align: middle;\n",
       "    }\n",
       "\n",
       "    .dataframe tbody tr th {\n",
       "        vertical-align: top;\n",
       "    }\n",
       "\n",
       "    .dataframe thead th {\n",
       "        text-align: right;\n",
       "    }\n",
       "</style>\n",
       "<table border=\"1\" class=\"dataframe\">\n",
       "  <thead>\n",
       "    <tr style=\"text-align: right;\">\n",
       "      <th></th>\n",
       "      <th>Pregnancies</th>\n",
       "      <th>PlasmaGlucose</th>\n",
       "      <th>DiastolicBloodPressure</th>\n",
       "      <th>TricepsThickness</th>\n",
       "      <th>SerumInsulin</th>\n",
       "      <th>BMI</th>\n",
       "      <th>DiabetesPedigree</th>\n",
       "      <th>Age</th>\n",
       "      <th>Diabetic</th>\n",
       "    </tr>\n",
       "  </thead>\n",
       "  <tbody>\n",
       "    <tr>\n",
       "      <th>Pregnancies</th>\n",
       "      <td>1.000000</td>\n",
       "      <td>0.054502</td>\n",
       "      <td>0.043528</td>\n",
       "      <td>0.063605</td>\n",
       "      <td>0.104487</td>\n",
       "      <td>0.086386</td>\n",
       "      <td>0.054240</td>\n",
       "      <td>0.136972</td>\n",
       "      <td>0.407315</td>\n",
       "    </tr>\n",
       "    <tr>\n",
       "      <th>PlasmaGlucose</th>\n",
       "      <td>0.054502</td>\n",
       "      <td>1.000000</td>\n",
       "      <td>0.007212</td>\n",
       "      <td>0.027100</td>\n",
       "      <td>0.033545</td>\n",
       "      <td>0.020653</td>\n",
       "      <td>0.009057</td>\n",
       "      <td>0.038864</td>\n",
       "      <td>0.128004</td>\n",
       "    </tr>\n",
       "    <tr>\n",
       "      <th>DiastolicBloodPressure</th>\n",
       "      <td>0.043528</td>\n",
       "      <td>0.007212</td>\n",
       "      <td>1.000000</td>\n",
       "      <td>0.011106</td>\n",
       "      <td>0.022649</td>\n",
       "      <td>0.015873</td>\n",
       "      <td>0.014099</td>\n",
       "      <td>0.041333</td>\n",
       "      <td>0.091307</td>\n",
       "    </tr>\n",
       "    <tr>\n",
       "      <th>TricepsThickness</th>\n",
       "      <td>0.063605</td>\n",
       "      <td>0.027100</td>\n",
       "      <td>0.011106</td>\n",
       "      <td>1.000000</td>\n",
       "      <td>0.029688</td>\n",
       "      <td>0.024745</td>\n",
       "      <td>-0.000951</td>\n",
       "      <td>0.061383</td>\n",
       "      <td>0.152505</td>\n",
       "    </tr>\n",
       "    <tr>\n",
       "      <th>SerumInsulin</th>\n",
       "      <td>0.104487</td>\n",
       "      <td>0.033545</td>\n",
       "      <td>0.022649</td>\n",
       "      <td>0.029688</td>\n",
       "      <td>1.000000</td>\n",
       "      <td>0.051223</td>\n",
       "      <td>0.046324</td>\n",
       "      <td>0.088007</td>\n",
       "      <td>0.247375</td>\n",
       "    </tr>\n",
       "    <tr>\n",
       "      <th>BMI</th>\n",
       "      <td>0.086386</td>\n",
       "      <td>0.020653</td>\n",
       "      <td>0.015873</td>\n",
       "      <td>0.024745</td>\n",
       "      <td>0.051223</td>\n",
       "      <td>1.000000</td>\n",
       "      <td>0.028868</td>\n",
       "      <td>0.062910</td>\n",
       "      <td>0.210508</td>\n",
       "    </tr>\n",
       "    <tr>\n",
       "      <th>DiabetesPedigree</th>\n",
       "      <td>0.054240</td>\n",
       "      <td>0.009057</td>\n",
       "      <td>0.014099</td>\n",
       "      <td>-0.000951</td>\n",
       "      <td>0.046324</td>\n",
       "      <td>0.028868</td>\n",
       "      <td>1.000000</td>\n",
       "      <td>0.055633</td>\n",
       "      <td>0.170302</td>\n",
       "    </tr>\n",
       "    <tr>\n",
       "      <th>Age</th>\n",
       "      <td>0.136972</td>\n",
       "      <td>0.038864</td>\n",
       "      <td>0.041333</td>\n",
       "      <td>0.061383</td>\n",
       "      <td>0.088007</td>\n",
       "      <td>0.062910</td>\n",
       "      <td>0.055633</td>\n",
       "      <td>1.000000</td>\n",
       "      <td>0.342605</td>\n",
       "    </tr>\n",
       "    <tr>\n",
       "      <th>Diabetic</th>\n",
       "      <td>0.407315</td>\n",
       "      <td>0.128004</td>\n",
       "      <td>0.091307</td>\n",
       "      <td>0.152505</td>\n",
       "      <td>0.247375</td>\n",
       "      <td>0.210508</td>\n",
       "      <td>0.170302</td>\n",
       "      <td>0.342605</td>\n",
       "      <td>1.000000</td>\n",
       "    </tr>\n",
       "  </tbody>\n",
       "</table>\n",
       "</div>"
      ],
      "text/plain": [
       "                        Pregnancies  PlasmaGlucose  DiastolicBloodPressure  \\\n",
       "Pregnancies                1.000000       0.054502                0.043528   \n",
       "PlasmaGlucose              0.054502       1.000000                0.007212   \n",
       "DiastolicBloodPressure     0.043528       0.007212                1.000000   \n",
       "TricepsThickness           0.063605       0.027100                0.011106   \n",
       "SerumInsulin               0.104487       0.033545                0.022649   \n",
       "BMI                        0.086386       0.020653                0.015873   \n",
       "DiabetesPedigree           0.054240       0.009057                0.014099   \n",
       "Age                        0.136972       0.038864                0.041333   \n",
       "Diabetic                   0.407315       0.128004                0.091307   \n",
       "\n",
       "                        TricepsThickness  SerumInsulin       BMI  \\\n",
       "Pregnancies                     0.063605      0.104487  0.086386   \n",
       "PlasmaGlucose                   0.027100      0.033545  0.020653   \n",
       "DiastolicBloodPressure          0.011106      0.022649  0.015873   \n",
       "TricepsThickness                1.000000      0.029688  0.024745   \n",
       "SerumInsulin                    0.029688      1.000000  0.051223   \n",
       "BMI                             0.024745      0.051223  1.000000   \n",
       "DiabetesPedigree               -0.000951      0.046324  0.028868   \n",
       "Age                             0.061383      0.088007  0.062910   \n",
       "Diabetic                        0.152505      0.247375  0.210508   \n",
       "\n",
       "                        DiabetesPedigree       Age  Diabetic  \n",
       "Pregnancies                     0.054240  0.136972  0.407315  \n",
       "PlasmaGlucose                   0.009057  0.038864  0.128004  \n",
       "DiastolicBloodPressure          0.014099  0.041333  0.091307  \n",
       "TricepsThickness               -0.000951  0.061383  0.152505  \n",
       "SerumInsulin                    0.046324  0.088007  0.247375  \n",
       "BMI                             0.028868  0.062910  0.210508  \n",
       "DiabetesPedigree                1.000000  0.055633  0.170302  \n",
       "Age                             0.055633  1.000000  0.342605  \n",
       "Diabetic                        0.170302  0.342605  1.000000  "
      ]
     },
     "execution_count": 12,
     "metadata": {},
     "output_type": "execute_result"
    }
   ],
   "source": [
    "#Feature Selection using Correlation Matrix\n",
    "diabetes_data.corr()"
   ]
  },
  {
   "cell_type": "code",
   "execution_count": 13,
   "metadata": {
    "colab": {
     "base_uri": "https://localhost:8080/",
     "height": 645
    },
    "colab_type": "code",
    "id": "l_vJnyAh_ytB",
    "outputId": "b755ac3d-850e-4f91-d4e9-ecd81f379321"
   },
   "outputs": [
    {
     "data": {
      "image/png": "[encoded data removed]",
      "text/plain": [
       "<Figure size 864x648 with 2 Axes>"
      ]
     },
     "metadata": {
      "needs_background": "light"
     },
     "output_type": "display_data"
    }
   ],
   "source": [
    "#Using Heatmap to visualize the correlation matrix\n",
    "\n",
    "fig, ax = plt.subplots(figsize=(12, 9))\n",
    "sns.heatmap(diabetes_data.corr(), vmax=1, annot=True,square=True);\n",
    "plt.show()"
   ]
  },
  {
   "cell_type": "code",
   "execution_count": 14,
   "metadata": {
    "colab": {
     "base_uri": "https://localhost:8080/",
     "height": 298
    },
    "colab_type": "code",
    "id": "5pipcD8XL2Lg",
    "outputId": "c7f6a4a7-0344-44d4-a225-1f47a5c9b3b5"
   },
   "outputs": [
    {
     "name": "stdout",
     "output_type": "stream",
     "text": [
      "[0.30587183 0.09782212 0.04851132 0.0545973  0.11840875 0.16688766\n",
      " 0.04434238 0.16355865]\n"
     ]
    },
    {
     "data": {
      "image/png": "[encoded data removed]",
      "text/plain": [
       "<Figure size 432x288 with 1 Axes>"
      ]
     },
     "metadata": {
      "needs_background": "light"
     },
     "output_type": "display_data"
    }
   ],
   "source": [
    "#Using RandomForest classifier for feature selection\n",
    "\n",
    "from sklearn.ensemble import RandomForestClassifier\n",
    "\n",
    "model = RandomForestClassifier()\n",
    "model.fit(X,y)\n",
    "print(model.feature_importances_) \n",
    "feat_importances = pd.Series(model.feature_importances_, index=X.columns)\n",
    "feat_importances.nlargest(8).plot(kind='barh')\n",
    "plt.show()"
   ]
  },
  {
   "cell_type": "code",
   "execution_count": 15,
   "metadata": {
    "colab": {},
    "colab_type": "code",
    "id": "5F77zWvM_ytG"
   },
   "outputs": [],
   "source": [
    "# Feature scaling using MinMaxScaler\n",
    "#from sklearn.preprocessing import MinMaxScaler\n",
    "#scalar = MinMaxScaler(feature_range = (0, 1))\n",
    "#diabetes_data_scaled = scalar.fit_transform(diabetes_data)"
   ]
  },
  {
   "cell_type": "code",
   "execution_count": 16,
   "metadata": {
    "colab": {},
    "colab_type": "code",
    "id": "YVUKD5df_ytI"
   },
   "outputs": [],
   "source": [
    "#diabetes_data_scaled = pd.DataFrame(diabetes_data_scaled)\n",
    "#diabetes_data_scaled"
   ]
  },
  {
   "cell_type": "code",
   "execution_count": 17,
   "metadata": {
    "colab": {},
    "colab_type": "code",
    "id": "fDcy_r8J_ytO"
   },
   "outputs": [],
   "source": [
    "# Selecting features - [Preganancies,Glucose, Insulin, BMI, Age]\n",
    "X = diabetes_data.iloc[:, [0, 1, 4, 5, 7]].values\n",
    "\n",
    "#Labelled data\n",
    "Y = diabetes_data.iloc[:, 8].values"
   ]
  },
  {
   "cell_type": "markdown",
   "metadata": {},
   "source": [
    "### B. Feature Scaling using MinMaxScalar "
   ]
  },
  {
   "cell_type": "code",
   "execution_count": 18,
   "metadata": {},
   "outputs": [
    {
     "data": {
      "text/plain": [
       "array([[  0.        , 171.        ,  23.        ,  43.50972593,\n",
       "         21.        ],\n",
       "       [  8.        ,  92.        ,  36.        ,  21.24057571,\n",
       "         23.        ],\n",
       "       [  7.        , 115.        ,  35.        ,  41.51152348,\n",
       "         23.        ],\n",
       "       ...,\n",
       "       [  0.        ,  93.        ,  57.        ,  18.69068305,\n",
       "         24.        ],\n",
       "       [  0.        , 132.        , 161.        ,  19.7916451 ,\n",
       "         23.        ],\n",
       "       [  3.        , 114.        , 512.        ,  36.21543653,\n",
       "         34.        ]])"
      ]
     },
     "execution_count": 18,
     "metadata": {},
     "output_type": "execute_result"
    }
   ],
   "source": [
    "# Feature scaling using MinMaxScaler\n",
    "\n",
    "from sklearn.preprocessing import MinMaxScaler\n",
    "scalar = MinMaxScaler(feature_range = (0, 1))\n",
    "scalar.fit_transform(X)\n",
    "X"
   ]
  },
  {
   "cell_type": "code",
   "execution_count": 19,
   "metadata": {},
   "outputs": [],
   "source": [
    "#Setting the seed value\n",
    "\n",
    "seed = 5\n",
    "np.random.seed(seed)"
   ]
  },
  {
   "cell_type": "code",
   "execution_count": 20,
   "metadata": {},
   "outputs": [],
   "source": [
    "#Splitting the data into train data and test data\n",
    "\n",
    "from sklearn.model_selection import train_test_split\n",
    "X_train, X_test, y_train, y_test = train_test_split(X, Y, test_size=0.3, random_state=seed)"
   ]
  },
  {
   "cell_type": "code",
   "execution_count": 21,
   "metadata": {},
   "outputs": [
    {
     "data": {
      "text/plain": [
       "<matplotlib.axes._subplots.AxesSubplot at 0x226863e8308>"
      ]
     },
     "execution_count": 21,
     "metadata": {},
     "output_type": "execute_result"
    },
    {
     "data": {
      "image/png": "[encoded data removed]",
      "text/plain": [
       "<Figure size 432x288 with 1 Axes>"
      ]
     },
     "metadata": {
      "needs_background": "light"
     },
     "output_type": "display_data"
    }
   ],
   "source": [
    "# Checking the count of 0 and 1 by plotting the countplot\n",
    "\n",
    "sns.countplot(x = 'Diabetic',data = diabetes_data)"
   ]
  },
  {
   "cell_type": "code",
   "execution_count": 22,
   "metadata": {},
   "outputs": [],
   "source": [
    "#Using the SMOTE library for balancing the outcome.\n",
    "\n",
    "from imblearn.over_sampling import SMOTE\n",
    "\n",
    "# transform the dataset\n",
    "smote = SMOTE(random_state=2)\n",
    "X_train_smote, y_train_smote = smote.fit_sample(X_train, y_train)"
   ]
  },
  {
   "cell_type": "code",
   "execution_count": 23,
   "metadata": {},
   "outputs": [
    {
     "name": "stdout",
     "output_type": "stream",
     "text": [
      "The shape of X_train before oversampling = (10500, 5)\n",
      "The shape of Y_train before oversampling = (10500,)\n",
      "The count of label 0 before oversampling = 7014\n",
      "The count of label 1 before oversampling = 3486\n",
      "The shape of X_train_smote after oversampling = (14028, 5)\n",
      "The shape of Y_train before oversampling = (14028,)\n",
      "The count of label 0 before after oversampling = 7014\n",
      "The count of label 1 before after oversampling = 7014\n"
     ]
    }
   ],
   "source": [
    "#Before Oversampling - Checking the shape of data and count of outcome\n",
    "\n",
    "print(\"The shape of X_train before oversampling = {}\".format(X_train.shape))\n",
    "print(\"The shape of Y_train before oversampling = {}\".format(y_train.shape))\n",
    "\n",
    "print(\"The count of label 0 before oversampling = {}\".format(sum(y_train == 0)))\n",
    "print(\"The count of label 1 before oversampling = {}\".format(sum(y_train == 1)))\n",
    "\n",
    "#After Oversampling - Checking the shape of data and count of outcome\n",
    "  \n",
    "print(\"The shape of X_train_smote after oversampling = {}\".format(X_train_smote.shape))\n",
    "print(\"The shape of Y_train before oversampling = {}\".format(y_train_smote.shape))\n",
    "\n",
    "print(\"The count of label 0 before after oversampling = {}\".format(sum(y_train_smote == 0)))\n",
    "print(\"The count of label 1 before after oversampling = {}\".format(sum(y_train_smote == 1)))"
   ]
  },
  {
   "cell_type": "markdown",
   "metadata": {},
   "source": [
    "# Part 4: Parameter Optimization"
   ]
  },
  {
   "cell_type": "code",
   "execution_count": 24,
   "metadata": {
    "colab": {
     "base_uri": "https://localhost:8080/",
     "height": 34
    },
    "colab_type": "code",
    "id": "8a-hJKoRWIR5",
    "outputId": "1e213577-5df5-4ea3-d275-105727aa8d08"
   },
   "outputs": [
    {
     "name": "stderr",
     "output_type": "stream",
     "text": [
      "Using TensorFlow backend.\n",
      "C:\\Users\\Ruchira\\anaconda3\\lib\\site-packages\\tensorflow\\python\\framework\\dtypes.py:516: FutureWarning: Passing (type, 1) or '1type' as a synonym of type is deprecated; in a future version of numpy, it will be understood as (type, (1,)) / '(1,)type'.\n",
      "  _np_qint8 = np.dtype([(\"qint8\", np.int8, 1)])\n",
      "C:\\Users\\Ruchira\\anaconda3\\lib\\site-packages\\tensorflow\\python\\framework\\dtypes.py:517: FutureWarning: Passing (type, 1) or '1type' as a synonym of type is deprecated; in a future version of numpy, it will be understood as (type, (1,)) / '(1,)type'.\n",
      "  _np_quint8 = np.dtype([(\"quint8\", np.uint8, 1)])\n",
      "C:\\Users\\Ruchira\\anaconda3\\lib\\site-packages\\tensorflow\\python\\framework\\dtypes.py:518: FutureWarning: Passing (type, 1) or '1type' as a synonym of type is deprecated; in a future version of numpy, it will be understood as (type, (1,)) / '(1,)type'.\n",
      "  _np_qint16 = np.dtype([(\"qint16\", np.int16, 1)])\n",
      "C:\\Users\\Ruchira\\anaconda3\\lib\\site-packages\\tensorflow\\python\\framework\\dtypes.py:519: FutureWarning: Passing (type, 1) or '1type' as a synonym of type is deprecated; in a future version of numpy, it will be understood as (type, (1,)) / '(1,)type'.\n",
      "  _np_quint16 = np.dtype([(\"quint16\", np.uint16, 1)])\n",
      "C:\\Users\\Ruchira\\anaconda3\\lib\\site-packages\\tensorflow\\python\\framework\\dtypes.py:520: FutureWarning: Passing (type, 1) or '1type' as a synonym of type is deprecated; in a future version of numpy, it will be understood as (type, (1,)) / '(1,)type'.\n",
      "  _np_qint32 = np.dtype([(\"qint32\", np.int32, 1)])\n",
      "C:\\Users\\Ruchira\\anaconda3\\lib\\site-packages\\tensorflow\\python\\framework\\dtypes.py:525: FutureWarning: Passing (type, 1) or '1type' as a synonym of type is deprecated; in a future version of numpy, it will be understood as (type, (1,)) / '(1,)type'.\n",
      "  np_resource = np.dtype([(\"resource\", np.ubyte, 1)])\n",
      "C:\\Users\\Ruchira\\anaconda3\\lib\\site-packages\\tensorboard\\compat\\tensorflow_stub\\dtypes.py:541: FutureWarning: Passing (type, 1) or '1type' as a synonym of type is deprecated; in a future version of numpy, it will be understood as (type, (1,)) / '(1,)type'.\n",
      "  _np_qint8 = np.dtype([(\"qint8\", np.int8, 1)])\n",
      "C:\\Users\\Ruchira\\anaconda3\\lib\\site-packages\\tensorboard\\compat\\tensorflow_stub\\dtypes.py:542: FutureWarning: Passing (type, 1) or '1type' as a synonym of type is deprecated; in a future version of numpy, it will be understood as (type, (1,)) / '(1,)type'.\n",
      "  _np_quint8 = np.dtype([(\"quint8\", np.uint8, 1)])\n",
      "C:\\Users\\Ruchira\\anaconda3\\lib\\site-packages\\tensorboard\\compat\\tensorflow_stub\\dtypes.py:543: FutureWarning: Passing (type, 1) or '1type' as a synonym of type is deprecated; in a future version of numpy, it will be understood as (type, (1,)) / '(1,)type'.\n",
      "  _np_qint16 = np.dtype([(\"qint16\", np.int16, 1)])\n",
      "C:\\Users\\Ruchira\\anaconda3\\lib\\site-packages\\tensorboard\\compat\\tensorflow_stub\\dtypes.py:544: FutureWarning: Passing (type, 1) or '1type' as a synonym of type is deprecated; in a future version of numpy, it will be understood as (type, (1,)) / '(1,)type'.\n",
      "  _np_quint16 = np.dtype([(\"quint16\", np.uint16, 1)])\n",
      "C:\\Users\\Ruchira\\anaconda3\\lib\\site-packages\\tensorboard\\compat\\tensorflow_stub\\dtypes.py:545: FutureWarning: Passing (type, 1) or '1type' as a synonym of type is deprecated; in a future version of numpy, it will be understood as (type, (1,)) / '(1,)type'.\n",
      "  _np_qint32 = np.dtype([(\"qint32\", np.int32, 1)])\n",
      "C:\\Users\\Ruchira\\anaconda3\\lib\\site-packages\\tensorboard\\compat\\tensorflow_stub\\dtypes.py:550: FutureWarning: Passing (type, 1) or '1type' as a synonym of type is deprecated; in a future version of numpy, it will be understood as (type, (1,)) / '(1,)type'.\n",
      "  np_resource = np.dtype([(\"resource\", np.ubyte, 1)])\n"
     ]
    }
   ],
   "source": [
    "# import necessary sklearn and keras packages\n",
    "from keras.models import Sequential\n",
    "from keras.layers import Dense\n",
    "from keras.wrappers.scikit_learn import KerasClassifier\n",
    "from sklearn.model_selection import GridSearchCV, KFold"
   ]
  },
  {
   "cell_type": "markdown",
   "metadata": {},
   "source": [
    "### 1. Tuning batch size and number of epochs"
   ]
  },
  {
   "cell_type": "code",
   "execution_count": 25,
   "metadata": {
    "colab": {
     "base_uri": "https://localhost:8080/",
     "height": 269
    },
    "colab_type": "code",
    "id": "IFo82g2PWIR7",
    "outputId": "4d43b0fa-6345-4015-d984-414dc03f13d0"
   },
   "outputs": [
    {
     "name": "stdout",
     "output_type": "stream",
     "text": [
      "WARNING:tensorflow:From C:\\Users\\Ruchira\\anaconda3\\lib\\site-packages\\tensorflow\\python\\ops\\nn_impl.py:180: add_dispatch_support.<locals>.wrapper (from tensorflow.python.ops.array_ops) is deprecated and will be removed in a future version.\n",
      "Instructions for updating:\n",
      "Use tf.where in 2.0, which has the same broadcast rule as np.where\n",
      "Model: \"sequential_1\"\n",
      "_________________________________________________________________\n",
      "Layer (type)                 Output Shape              Param #   \n",
      "=================================================================\n",
      "dense_1 (Dense)              (None, 10)                60        \n",
      "_________________________________________________________________\n",
      "dense_2 (Dense)              (None, 5)                 55        \n",
      "_________________________________________________________________\n",
      "dense_3 (Dense)              (None, 1)                 6         \n",
      "=================================================================\n",
      "Total params: 121\n",
      "Trainable params: 121\n",
      "Non-trainable params: 0\n",
      "_________________________________________________________________\n",
      "None\n"
     ]
    }
   ],
   "source": [
    "# Creating the model\n",
    "\n",
    "def define_model():\n",
    "    model = Sequential()\n",
    "    model.add(Dense(10, input_dim = 5, activation='relu'))\n",
    "    model.add(Dense(5, input_dim = 5, activation='relu'))\n",
    "    model.add(Dense(1, activation='sigmoid'))\n",
    "    \n",
    "    # compile the model\n",
    "    model.compile(loss = 'binary_crossentropy', optimizer = 'adam', metrics = ['accuracy'])\n",
    "    return model\n",
    "\n",
    "#Checking the summary of model\n",
    "model = define_model()\n",
    "print(model.summary())"
   ]
  },
  {
   "cell_type": "code",
   "execution_count": 26,
   "metadata": {
    "colab": {},
    "colab_type": "code",
    "id": "hpPNq_XJWISB"
   },
   "outputs": [],
   "source": [
    "# Model Initialization with Keras Classifier\n",
    "model = KerasClassifier(build_fn=define_model,verbose=0)"
   ]
  },
  {
   "cell_type": "code",
   "execution_count": 27,
   "metadata": {
    "colab": {},
    "colab_type": "code",
    "id": "-aC9biMkWISD"
   },
   "outputs": [],
   "source": [
    "# Defining the batch size and number of epochs\n",
    "\n",
    "    batch_size = [50, 100, 150, 200, 250, 300] # number of steps to take while updating the gradient parameters\n",
    "    epochs = [200, 400, 600, 800, 1000]"
   ]
  },
  {
   "cell_type": "code",
   "execution_count": 28,
   "metadata": {
    "colab": {},
    "colab_type": "code",
    "id": "WwJytc3LWISF"
   },
   "outputs": [],
   "source": [
    "# Creating a dictionay of the grid search paramters (batch size and epochs)\n",
    "param_grid = {'batch_size':batch_size,'epochs':epochs}"
   ]
  },
  {
   "cell_type": "code",
   "execution_count": 29,
   "metadata": {
    "colab": {
     "base_uri": "https://localhost:8080/",
     "height": 1000
    },
    "colab_type": "code",
    "id": "DoJ-0hrmWISI",
    "outputId": "f71a5ddc-3844-459d-cb19-6c5263fa0b5e"
   },
   "outputs": [
    {
     "name": "stdout",
     "output_type": "stream",
     "text": [
      "Fitting 5 folds for each of 30 candidates, totalling 150 fits\n"
     ]
    },
    {
     "name": "stderr",
     "output_type": "stream",
     "text": [
      "[Parallel(n_jobs=-1)]: Using backend LokyBackend with 8 concurrent workers.\n",
      "[Parallel(n_jobs=-1)]: Done   2 tasks      | elapsed:  3.8min\n",
      "[Parallel(n_jobs=-1)]: Done   9 tasks      | elapsed:  8.3min\n",
      "[Parallel(n_jobs=-1)]: Done  16 tasks      | elapsed: 15.7min\n",
      "[Parallel(n_jobs=-1)]: Done  25 tasks      | elapsed: 20.5min\n",
      "[Parallel(n_jobs=-1)]: Done  34 tasks      | elapsed: 23.0min\n",
      "[Parallel(n_jobs=-1)]: Done  45 tasks      | elapsed: 26.2min\n",
      "C:\\Users\\Ruchira\\anaconda3\\lib\\site-packages\\joblib\\externals\\loky\\process_executor.py:706: UserWarning: A worker stopped while some jobs were given to the executor. This can be caused by a too short worker timeout or by a memory leak.\n",
      "  \"timeout or by a memory leak.\", UserWarning\n",
      "[Parallel(n_jobs=-1)]: Done  56 tasks      | elapsed: 27.7min\n",
      "[Parallel(n_jobs=-1)]: Done  69 tasks      | elapsed: 30.1min\n",
      "[Parallel(n_jobs=-1)]: Done  82 tasks      | elapsed: 31.7min\n",
      "[Parallel(n_jobs=-1)]: Done  97 tasks      | elapsed: 34.0min\n",
      "[Parallel(n_jobs=-1)]: Done 112 tasks      | elapsed: 35.6min\n",
      "[Parallel(n_jobs=-1)]: Done 129 tasks      | elapsed: 37.4min\n",
      "[Parallel(n_jobs=-1)]: Done 150 out of 150 | elapsed: 39.7min finished\n"
     ]
    },
    {
     "name": "stdout",
     "output_type": "stream",
     "text": [
      "WARNING:tensorflow:From C:\\Users\\Ruchira\\anaconda3\\lib\\site-packages\\keras\\backend\\tensorflow_backend.py:422: The name tf.global_variables is deprecated. Please use tf.compat.v1.global_variables instead.\n",
      "\n"
     ]
    }
   ],
   "source": [
    "# Buidling the grid using GridSearchCV\n",
    "grid = GridSearchCV(estimator=model,param_grid = param_grid, cv=5,verbose=10, return_train_score=True, n_jobs=-1)\n",
    "\n",
    "#Fitting the grid\n",
    "grid_search = grid.fit(X_train_smote,y_train_smote)"
   ]
  },
  {
   "cell_type": "code",
   "execution_count": 30,
   "metadata": {
    "colab": {
     "base_uri": "https://localhost:8080/",
     "height": 34
    },
    "colab_type": "code",
    "id": "gcl2YK_6WISK",
    "outputId": "37f53a32-dad2-4ccd-ff44-d7987be4ca53"
   },
   "outputs": [
    {
     "name": "stdout",
     "output_type": "stream",
     "text": [
      "Best Accuracy: 0.884804081916809, using {'batch_size': 50, 'epochs': 600}\n"
     ]
    }
   ],
   "source": [
    "# Summarizing the result - Best Accuracy using batch size and epochs\n",
    "print(\"Best Accuracy: {0}, using {1}\".format(grid_search.best_score_, grid_search.best_params_))"
   ]
  },
  {
   "cell_type": "code",
   "execution_count": 31,
   "metadata": {
    "colab": {
     "base_uri": "https://localhost:8080/",
     "height": 487
    },
    "colab_type": "code",
    "id": "Dux7vEMzWISM",
    "outputId": "db214cea-9d42-4721-e9de-3544069076d3"
   },
   "outputs": [
    {
     "name": "stdout",
     "output_type": "stream",
     "text": [
      "0.8718812227249145 0.8585025429725647 (0.030958456987082942) with: {'batch_size': 50, 'epochs': 200}\n",
      "0.8763547658920288 0.8664130926132202 (0.018128428637607007) with: {'batch_size': 50, 'epochs': 400}\n",
      "0.8869402885437012 0.884804081916809 (0.01600081331684063) with: {'batch_size': 50, 'epochs': 600}\n",
      "0.8909680008888244 0.8846628427505493 (0.02162066727466963) with: {'batch_size': 50, 'epochs': 800}\n",
      "0.767607843875885 0.5906552910804749 (0.36524518155787733) with: {'batch_size': 50, 'epochs': 1000}\n",
      "0.8610989809036255 0.8493760466575623 (0.02597402142881995) with: {'batch_size': 100, 'epochs': 200}\n",
      "0.8547717809677124 0.8377595782279968 (0.04148116404176623) with: {'batch_size': 100, 'epochs': 400}\n",
      "0.853187894821167 0.8055926442146302 (0.08877965876809772) with: {'batch_size': 100, 'epochs': 600}\n",
      "0.8835723042488098 0.8649150013923645 (0.015923259110211148) with: {'batch_size': 100, 'epochs': 800}\n",
      "0.8686912298202515 0.831835925579071 (0.04963627147724059) with: {'batch_size': 100, 'epochs': 1000}\n",
      "0.8271853923797607 0.8516651749610901 (0.07691271592967211) with: {'batch_size': 150, 'epochs': 200}\n",
      "0.8542732000350952 0.8370477080345153 (0.048524159490866935) with: {'batch_size': 150, 'epochs': 400}\n",
      "0.8524205684661865 0.8242083311080932 (0.03344895956431975) with: {'batch_size': 150, 'epochs': 600}\n",
      "0.8653600454330445 0.8450909972190856 (0.028025928583229144) with: {'batch_size': 150, 'epochs': 800}\n",
      "0.8805961966514587 0.8757532238960266 (0.029627347173528218) with: {'batch_size': 150, 'epochs': 1000}\n",
      "0.8341885566711426 0.8123821496963501 (0.04644381794120882) with: {'batch_size': 200, 'epochs': 200}\n",
      "0.8428495645523071 0.8236420035362244 (0.025117399830879152) with: {'batch_size': 200, 'epochs': 400}\n",
      "0.8078996539115906 0.7576432585716247 (0.21024103550504378) with: {'batch_size': 200, 'epochs': 600}\n",
      "0.7580734252929687 0.5812455773353576 (0.3533535239042371) with: {'batch_size': 200, 'epochs': 800}\n",
      "0.824639368057251 0.6806743383407593 (0.34048122598940783) with: {'batch_size': 200, 'epochs': 1000}\n",
      "0.8403192520141601 0.8456007599830627 (0.05133040061056987) with: {'batch_size': 250, 'epochs': 200}\n",
      "0.8422795057296752 0.8118749380111694 (0.0501367796116254) with: {'batch_size': 250, 'epochs': 400}\n",
      "0.8795621514320373 0.8677683115005493 (0.024504316505731684) with: {'batch_size': 250, 'epochs': 600}\n",
      "0.8782968044281005 0.8587847471237182 (0.019818868632331583) with: {'batch_size': 250, 'epochs': 800}\n",
      "0.7903171300888061 0.7444874525070191 (0.14485631888474684) with: {'batch_size': 250, 'epochs': 1000}\n",
      "0.8355263710021973 0.8408905744552613 (0.04828447383129102) with: {'batch_size': 300, 'epochs': 200}\n",
      "0.8401772141456604 0.8028215646743775 (0.04796001988856317) with: {'batch_size': 300, 'epochs': 400}\n",
      "0.8497284531593323 0.8428186774253845 (0.03582171048544079) with: {'batch_size': 300, 'epochs': 600}\n",
      "0.7891407012939453 0.7690871000289917 (0.13847905235302302) with: {'batch_size': 300, 'epochs': 800}\n",
      "0.8828772664070129 0.8669099688529969 (0.015069902208938295) with: {'batch_size': 300, 'epochs': 1000}\n"
     ]
    }
   ],
   "source": [
    "# finding the mean train accuracy, mean test accuracy and standard deviation\n",
    "\n",
    "means_train = grid_search.cv_results_['mean_train_score']\n",
    "means_test = grid_search.cv_results_['mean_test_score']\n",
    "stds = grid_search.cv_results_['std_test_score']\n",
    "params = grid_search.cv_results_['params']\n",
    "for mean_train,mean_test, stdev, param in zip(means_train,means_test, stds, params):\n",
    "    print('{0} {1} ({2}) with: {3}'.format(mean_train,mean_test, stdev, param))"
   ]
  },
  {
   "cell_type": "markdown",
   "metadata": {},
   "source": [
    "### 2. Tuning Optimization Algorithm"
   ]
  },
  {
   "cell_type": "code",
   "execution_count": 37,
   "metadata": {},
   "outputs": [
    {
     "name": "stdout",
     "output_type": "stream",
     "text": [
      "Fitting 5 folds for each of 7 candidates, totalling 35 fits\n"
     ]
    },
    {
     "name": "stderr",
     "output_type": "stream",
     "text": [
      "[Parallel(n_jobs=-1)]: Using backend LokyBackend with 8 concurrent workers.\n",
      "[Parallel(n_jobs=-1)]: Done   2 tasks      | elapsed:  3.2min\n",
      "[Parallel(n_jobs=-1)]: Done   9 tasks      | elapsed:  6.2min\n",
      "[Parallel(n_jobs=-1)]: Done  16 tasks      | elapsed:  6.9min\n",
      "[Parallel(n_jobs=-1)]: Done  24 out of  35 | elapsed: 11.0min remaining:  5.0min\n",
      "[Parallel(n_jobs=-1)]: Done  28 out of  35 | elapsed: 13.1min remaining:  3.3min\n",
      "[Parallel(n_jobs=-1)]: Done  32 out of  35 | elapsed: 14.2min remaining:  1.3min\n",
      "[Parallel(n_jobs=-1)]: Done  35 out of  35 | elapsed: 14.8min finished\n"
     ]
    }
   ],
   "source": [
    "\n",
    "# Creating the model\n",
    "def define_model(optimizer = 'adam'):\n",
    "    # create model\n",
    "    model = Sequential()\n",
    "    model.add(Dense(10, input_dim = 5, activation= 'relu'))\n",
    "    model.add(Dense(5, input_dim = 5, activation= 'relu'))\n",
    "    model.add(Dense(1, activation='sigmoid'))\n",
    "    \n",
    "    # compile the model\n",
    "    model.compile(loss = 'binary_crossentropy', optimizer = optimizer, metrics = ['accuracy'])\n",
    "    return model\n",
    "\n",
    "# Model Initialization by Keras Classifier\n",
    "model = KerasClassifier(build_fn = define_model, epochs = 600, batch_size = 50, verbose=0)\n",
    "\n",
    "# Defining the grid search parameter - Activation Function\n",
    "optimizer = ['Adam', 'Adadelta', 'Adamax', 'Adagrad', 'Nadam', 'SGD', 'RMSprop']\n",
    "\n",
    "# make a dictionary of the grid search parameters\n",
    "param_grid = {'optimizer' : optimizer}\n",
    "\n",
    "# build and fit the GridSearchCV\n",
    "grid = GridSearchCV(estimator = model, param_grid = param_grid, cv = 5, verbose = 10, n_jobs = -1, return_train_score=True)\n",
    "grid_search = grid.fit(X_train_smote, y_train_smote)"
   ]
  },
  {
   "cell_type": "code",
   "execution_count": 38,
   "metadata": {},
   "outputs": [
    {
     "name": "stdout",
     "output_type": "stream",
     "text": [
      "Best Accuracy: 0.8795996069908142, using {'optimizer': 'Adadelta'}\n"
     ]
    }
   ],
   "source": [
    "print(\"Best Accuracy: {0}, using {1}\".format(grid_search.best_score_, grid_search.best_params_))"
   ]
  },
  {
   "cell_type": "code",
   "execution_count": 39,
   "metadata": {},
   "outputs": [
    {
     "name": "stdout",
     "output_type": "stream",
     "text": [
      "0.8153315901756286 0.7726858019828796 (0.2149659825828819) with: {'optimizer': 'Adam'}\n",
      "0.8863348603248596 0.8795996069908142 (0.02355575806972094) with: {'optimizer': 'Adadelta'}\n",
      "0.8779410004615784 0.8632745146751404 (0.017141460747822693) with: {'optimizer': 'Adamax'}\n",
      "0.7673023700714111 0.7247821152210235 (0.2017751517808504) with: {'optimizer': 'Adagrad'}\n",
      "0.8893818855285645 0.8751085758209228 (0.012221916957323156) with: {'optimizer': 'Nadam'}\n",
      "0.8376097798347473 0.8369077563285827 (0.07697207034197882) with: {'optimizer': 'SGD'}\n",
      "0.8797583818435669 0.8675533652305603 (0.01870674845150319) with: {'optimizer': 'RMSprop'}\n"
     ]
    }
   ],
   "source": [
    "# summarize the results\n",
    "means_train = grid_search.cv_results_['mean_train_score']\n",
    "means_test = grid_search.cv_results_['mean_test_score']\n",
    "stds = grid_search.cv_results_['std_test_score']\n",
    "params = grid_search.cv_results_['params']\n",
    "for mean_train,mean_test, stdev, param in zip(means_train,means_test, stds, params):\n",
    "    print('{0} {1} ({2}) with: {3}'.format(mean_train,mean_test, stdev, param))"
   ]
  },
  {
   "cell_type": "markdown",
   "metadata": {
    "colab_type": "text",
    "id": "q1vxXll2WISO"
   },
   "source": [
    "### 3. Tuning Learning rate "
   ]
  },
  {
   "cell_type": "code",
   "execution_count": 40,
   "metadata": {
    "colab": {},
    "colab_type": "code",
    "id": "wYFyF-kdWISP"
   },
   "outputs": [
    {
     "name": "stdout",
     "output_type": "stream",
     "text": [
      "Fitting 5 folds for each of 3 candidates, totalling 15 fits\n"
     ]
    },
    {
     "name": "stderr",
     "output_type": "stream",
     "text": [
      "[Parallel(n_jobs=-1)]: Using backend LokyBackend with 8 concurrent workers.\n",
      "[Parallel(n_jobs=-1)]: Done   2 out of  15 | elapsed:  3.5min remaining: 23.0min\n",
      "[Parallel(n_jobs=-1)]: Done   4 out of  15 | elapsed:  3.6min remaining:  9.9min\n",
      "[Parallel(n_jobs=-1)]: Done   6 out of  15 | elapsed:  3.8min remaining:  5.7min\n",
      "[Parallel(n_jobs=-1)]: Done   8 out of  15 | elapsed:  3.9min remaining:  3.4min\n",
      "[Parallel(n_jobs=-1)]: Done  10 out of  15 | elapsed:  6.9min remaining:  3.4min\n",
      "[Parallel(n_jobs=-1)]: Done  12 out of  15 | elapsed:  7.0min remaining:  1.7min\n",
      "[Parallel(n_jobs=-1)]: Done  15 out of  15 | elapsed:  7.2min finished\n"
     ]
    }
   ],
   "source": [
    "\n",
    "from keras.optimizers import Adadelta\n",
    "\n",
    "# Creating the model\n",
    "def define_model(lr = 0.01):\n",
    "    model = Sequential()\n",
    "    model.add(Dense(10, input_dim = 5, activation= 'relu'))\n",
    "    model.add(Dense(5, input_dim = 5, activation= 'relu'))\n",
    "    model.add(Dense(1, activation='sigmoid'))\n",
    "    \n",
    "    # compile the model\n",
    "    adadelta = Adadelta(lr = lr)\n",
    "    model.compile(loss = 'binary_crossentropy', optimizer = adadelta, metrics = ['accuracy'])\n",
    "    return model\n",
    "\n",
    "# Model Initialization using Keras Classifier\n",
    "model = KerasClassifier(build_fn = define_model, epochs = 600, batch_size = 50, verbose=0)\n",
    "\n",
    "# Defining the grid search parameter - learning rate\n",
    "lr = [0.001, 0.01, 0.1]\n",
    "\n",
    "# Creating a dictionay of the grid search parameter - learning rate\n",
    "param_grid = dict(lr = lr)\n",
    "\n",
    "# Building the grid using GridSearchCV\n",
    "grid = GridSearchCV(estimator = model, param_grid = param_grid, cv = 5, verbose = 10, return_train_score=True, n_jobs = -1)\n",
    "\n",
    "#Fitting the grid\n",
    "grid_search = grid.fit(X_train_smote, y_train_smote)"
   ]
  },
  {
   "cell_type": "code",
   "execution_count": 41,
   "metadata": {
    "colab": {
     "base_uri": "https://localhost:8080/",
     "height": 34
    },
    "colab_type": "code",
    "id": "OeVymmWd8cwU",
    "outputId": "ef61796b-00f7-42b0-e169-a03d93a52fda"
   },
   "outputs": [
    {
     "name": "stdout",
     "output_type": "stream",
     "text": [
      "Best Accuracy: 0.7782941818237304, using {'lr': 0.1}\n"
     ]
    }
   ],
   "source": [
    "#Finding best accuracy using best learning rate\n",
    "print(\"Best Accuracy: {0}, using {1}\".format(grid_search.best_score_, grid_search.best_params_))"
   ]
  },
  {
   "cell_type": "code",
   "execution_count": 42,
   "metadata": {
    "colab": {
     "base_uri": "https://localhost:8080/",
     "height": 269
    },
    "colab_type": "code",
    "id": "QSSfEPlXWISZ",
    "outputId": "24e2b938-43b5-4cd8-d710-1e79d15a137c"
   },
   "outputs": [
    {
     "name": "stdout",
     "output_type": "stream",
     "text": [
      "0.6230571150779725 0.5317209601402283 (0.0857219195500521) with: {'lr': 0.001}\n",
      "0.77297283411026 0.7344528079032898 (0.050231733099227495) with: {'lr': 0.01}\n",
      "0.8313198566436768 0.7782941818237304 (0.09339066500221044) with: {'lr': 0.1}\n"
     ]
    }
   ],
   "source": [
    "#Summarize the results - mean train accuracy, mean test accuracy, standard deviation\n",
    "\n",
    "means_train = grid_search.cv_results_['mean_train_score']\n",
    "means_test = grid_search.cv_results_['mean_test_score']\n",
    "stds = grid_search.cv_results_['std_test_score']\n",
    "params = grid_search.cv_results_['params']\n",
    "for mean_train,mean_test, stdev, param in zip(means_train,means_test, stds, params):\n",
    "    print('{0} {1} ({2}) with: {3}'.format(mean_train,mean_test, stdev, param))"
   ]
  },
  {
   "cell_type": "markdown",
   "metadata": {},
   "source": [
    "### 4. Tuning Kernel Initializer "
   ]
  },
  {
   "cell_type": "code",
   "execution_count": 43,
   "metadata": {
    "colab": {
     "base_uri": "https://localhost:8080/",
     "height": 1000
    },
    "colab_type": "code",
    "id": "YF_IcTTLWISX",
    "outputId": "671ab0a8-056d-4875-b5d2-8303571d222d"
   },
   "outputs": [
    {
     "name": "stdout",
     "output_type": "stream",
     "text": [
      "Fitting 5 folds for each of 3 candidates, totalling 15 fits\n"
     ]
    },
    {
     "name": "stderr",
     "output_type": "stream",
     "text": [
      "[Parallel(n_jobs=-1)]: Using backend LokyBackend with 8 concurrent workers.\n",
      "[Parallel(n_jobs=-1)]: Done   2 out of  15 | elapsed:  3.4min remaining: 21.9min\n",
      "[Parallel(n_jobs=-1)]: Done   4 out of  15 | elapsed:  3.4min remaining:  9.3min\n",
      "[Parallel(n_jobs=-1)]: Done   6 out of  15 | elapsed:  3.4min remaining:  5.1min\n",
      "[Parallel(n_jobs=-1)]: Done   8 out of  15 | elapsed:  3.4min remaining:  3.0min\n",
      "[Parallel(n_jobs=-1)]: Done  10 out of  15 | elapsed:  6.5min remaining:  3.2min\n",
      "[Parallel(n_jobs=-1)]: Done  12 out of  15 | elapsed:  6.5min remaining:  1.6min\n",
      "[Parallel(n_jobs=-1)]: Done  15 out of  15 | elapsed:  6.5min finished\n"
     ]
    }
   ],
   "source": [
    "\n",
    "# Creating the model\n",
    "def define_model(init = 'uniform'):\n",
    "    # create model\n",
    "    model = Sequential()\n",
    "    model.add(Dense(10, input_dim = 5, kernel_initializer= init, activation= 'relu'))\n",
    "    model.add(Dense(5, input_dim = 5, kernel_initializer= init, activation= 'relu'))\n",
    "    model.add(Dense(1, activation='sigmoid'))\n",
    "    \n",
    "    # compile the model\n",
    "    model.compile(loss = 'binary_crossentropy', optimizer = 'Adadelta', metrics = ['accuracy'])\n",
    "    return model\n",
    "\n",
    "# Model Initialization using keras classifier\n",
    "model = KerasClassifier(build_fn = define_model, epochs = 600, batch_size = 50, verbose=0)\n",
    "\n",
    "# Defining the grid search parameter - kernel initializer\n",
    "init = ['uniform', 'normal', 'zero'] \n",
    "\n",
    "# Building the grid using GridSearchCV\n",
    "param_grid = dict(init = init)\n",
    "\n",
    "# build and fit the GridSearchCV\n",
    "grid = GridSearchCV(estimator = model, param_grid = param_grid, cv = 5, verbose = 10, n_jobs = -1, return_train_score=True)\n",
    "\n",
    "#Fitting the grid\n",
    "grid_search = grid.fit(X_train_smote, y_train_smote)\n"
   ]
  },
  {
   "cell_type": "code",
   "execution_count": 44,
   "metadata": {
    "colab": {
     "base_uri": "https://localhost:8080/",
     "height": 34
    },
    "colab_type": "code",
    "id": "05iUUPC78vv9",
    "outputId": "f7ba9886-d422-4bdb-cac9-a1f04e750c90"
   },
   "outputs": [
    {
     "name": "stdout",
     "output_type": "stream",
     "text": [
      "Best Accuracy: 0.8863716125488281, using {'init': 'uniform'}\n"
     ]
    }
   ],
   "source": [
    "#Finding best accuracy using best kernel initializer\n",
    "print(\"Best Accuracy: {0}, using {1}\".format(grid_search.best_score_, grid_search.best_params_))"
   ]
  },
  {
   "cell_type": "code",
   "execution_count": 45,
   "metadata": {
    "colab": {
     "base_uri": "https://localhost:8080/",
     "height": 353
    },
    "colab_type": "code",
    "id": "1mrvSHO0WISU",
    "outputId": "2aec864c-1836-4b13-e831-d8709235c9f5"
   },
   "outputs": [
    {
     "name": "stdout",
     "output_type": "stream",
     "text": [
      "0.8897923827171326 0.8863716125488281 (0.017517098807078482) with: {'init': 'uniform'}\n",
      "0.8926793217658997 0.8766047239303589 (0.013717983435058565) with: {'init': 'normal'}\n",
      "0.5499888300895691 0.3000353217124939 (0.16255269139347506) with: {'init': 'zero'}\n"
     ]
    }
   ],
   "source": [
    "# Summarize the results - Mean train accuracy, Mean Test accuracy, standard deviation\n",
    "\n",
    "means_train = grid_search.cv_results_['mean_train_score']\n",
    "means_test = grid_search.cv_results_['mean_test_score']\n",
    "stds = grid_search.cv_results_['std_test_score']\n",
    "params = grid_search.cv_results_['params']\n",
    "for mean_train,mean_test, stdev, param in zip(means_train,means_test, stds, params):\n",
    "    print('{0} {1} ({2}) with: {3}'.format(mean_train,mean_test, stdev, param))"
   ]
  },
  {
   "cell_type": "markdown",
   "metadata": {},
   "source": [
    "### 5. Tuning Activation Function"
   ]
  },
  {
   "cell_type": "code",
   "execution_count": 49,
   "metadata": {},
   "outputs": [
    {
     "name": "stdout",
     "output_type": "stream",
     "text": [
      "Fitting 5 folds for each of 5 candidates, totalling 25 fits\n"
     ]
    },
    {
     "name": "stderr",
     "output_type": "stream",
     "text": [
      "[Parallel(n_jobs=-1)]: Using backend LokyBackend with 8 concurrent workers.\n",
      "[Parallel(n_jobs=-1)]: Done   2 tasks      | elapsed:  3.6min\n",
      "[Parallel(n_jobs=-1)]: Done   9 tasks      | elapsed:  7.5min\n",
      "[Parallel(n_jobs=-1)]: Done  13 out of  25 | elapsed:  7.6min remaining:  7.0min\n",
      "[Parallel(n_jobs=-1)]: Done  16 out of  25 | elapsed:  8.2min remaining:  4.6min\n",
      "[Parallel(n_jobs=-1)]: Done  19 out of  25 | elapsed: 11.6min remaining:  3.7min\n",
      "[Parallel(n_jobs=-1)]: Done  22 out of  25 | elapsed: 11.7min remaining:  1.6min\n",
      "[Parallel(n_jobs=-1)]: Done  25 out of  25 | elapsed: 13.3min remaining:    0.0s\n",
      "[Parallel(n_jobs=-1)]: Done  25 out of  25 | elapsed: 13.3min finished\n"
     ]
    }
   ],
   "source": [
    "#Creating the model\n",
    "def define_model(activation = 'relu'):\n",
    "    model = Sequential()\n",
    "    model.add(Dense(10, input_dim = 5, kernel_initializer= 'uniform', activation= activation))\n",
    "    model.add(Dense(5, input_dim = 5, kernel_initializer= 'uniform', activation= activation))\n",
    "    model.add(Dense(1, activation='sigmoid'))\n",
    "    \n",
    "    # compile the model\n",
    "    model.compile(loss = 'binary_crossentropy', optimizer = 'adadelta', metrics = ['accuracy'])\n",
    "    return model\n",
    "\n",
    "# Model Initialization using keras classifier\n",
    "model = KerasClassifier(build_fn = define_model, epochs = 600, batch_size = 50, verbose=0)\n",
    "\n",
    "# Define the activation function - grid search parameter\n",
    "activation = ['softmax', 'relu', 'tanh', 'linear', 'sigmoid'] \n",
    "\n",
    "# Creating a dictionary of activation function - grid search parameter\n",
    "param_grid = dict(activation = activation)\n",
    "\n",
    "# Builing the grid using GridSearchCV\n",
    "grid = GridSearchCV(estimator = model, param_grid = param_grid, cv = 5, verbose = 10, n_jobs = -1, return_train_score=True)\n",
    "\n",
    "#Fitting the grid \n",
    "grid_search = grid.fit(X_train_smote, y_train_smote)"
   ]
  },
  {
   "cell_type": "code",
   "execution_count": 50,
   "metadata": {},
   "outputs": [
    {
     "name": "stdout",
     "output_type": "stream",
     "text": [
      "Best Accuracy: 0.8917903780937195, using {'activation': 'sigmoid'}\n"
     ]
    }
   ],
   "source": [
    "#Finding the best accuracy using best activation function\n",
    "print(\"Best Accuracy: {0}, using {1}\".format(grid_search.best_score_, grid_search.best_params_))"
   ]
  },
  {
   "cell_type": "code",
   "execution_count": 51,
   "metadata": {},
   "outputs": [
    {
     "name": "stdout",
     "output_type": "stream",
     "text": [
      "0.8115574359893799 0.6521658301353455 (0.3285646331563118) with: {'activation': 'softmax'}\n",
      "0.8106867074966431 0.7792804479598999 (0.14457067770538) with: {'activation': 'relu'}\n",
      "0.8925720691680908 0.8885132908821106 (0.030554012050203555) with: {'activation': 'tanh'}\n",
      "0.7586079955101013 0.7172013640403747 (0.0656676123440839) with: {'activation': 'linear'}\n",
      "0.8918420076370239 0.8917903780937195 (0.018162622342464265) with: {'activation': 'sigmoid'}\n"
     ]
    }
   ],
   "source": [
    "# Summarizing the result - mean train accuracy, mean test accuracy, standard deviation\n",
    "\n",
    "means_train = grid_search.cv_results_['mean_train_score']\n",
    "means_test = grid_search.cv_results_['mean_test_score']\n",
    "stds = grid_search.cv_results_['std_test_score']\n",
    "params = grid_search.cv_results_['params']\n",
    "for mean_train,mean_test, stdev, param in zip(means_train,means_test, stds, params):\n",
    "    print('{0} {1} ({2}) with: {3}'.format(mean_train,mean_test, stdev, param))"
   ]
  },
  {
   "cell_type": "markdown",
   "metadata": {},
   "source": [
    "### 6. Tuning Number of Neurons"
   ]
  },
  {
   "cell_type": "code",
   "execution_count": 52,
   "metadata": {
    "colab": {
     "base_uri": "https://localhost:8080/",
     "height": 1000
    },
    "colab_type": "code",
    "id": "c0fRm9fgVwfT",
    "outputId": "59bb99af-67bb-4f90-a5bb-1b36ecfbbcb1"
   },
   "outputs": [
    {
     "name": "stdout",
     "output_type": "stream",
     "text": [
      "Fitting 5 folds for each of 11 candidates, totalling 55 fits\n"
     ]
    },
    {
     "name": "stderr",
     "output_type": "stream",
     "text": [
      "[Parallel(n_jobs=-1)]: Using backend LokyBackend with 8 concurrent workers.\n",
      "[Parallel(n_jobs=-1)]: Done   2 tasks      | elapsed:  3.7min\n",
      "[Parallel(n_jobs=-1)]: Done   9 tasks      | elapsed:  8.0min\n",
      "[Parallel(n_jobs=-1)]: Done  16 tasks      | elapsed:  8.7min\n",
      "[Parallel(n_jobs=-1)]: Done  25 tasks      | elapsed: 21.4min\n",
      "[Parallel(n_jobs=-1)]: Done  34 tasks      | elapsed: 150.1min\n",
      "[Parallel(n_jobs=-1)]: Done  46 out of  55 | elapsed: 279.7min remaining: 54.7min\n",
      "[Parallel(n_jobs=-1)]: Done  52 out of  55 | elapsed: 408.3min remaining: 23.6min\n",
      "[Parallel(n_jobs=-1)]: Done  55 out of  55 | elapsed: 408.6min finished\n"
     ]
    }
   ],
   "source": [
    "# Creating the model\n",
    "\n",
    "def define_model(neurons=1):\n",
    "    model = Sequential()\n",
    "    model.add(Dense(neurons, input_dim = 5, kernel_initializer= 'uniform', activation= 'sigmoid'))\n",
    "    model.add(Dense(5, input_dim = 5, kernel_initializer= 'uniform', activation= 'sigmoid'))\n",
    "    model.add(Dense(1, activation='sigmoid'))\n",
    "    \n",
    "    # compile the model\n",
    "    adadelta = Adadelta(lr = 0.1)\n",
    "    model.compile(loss = 'binary_crossentropy', optimizer = adadelta , metrics = ['accuracy'])\n",
    "    return model\n",
    "\n",
    "# Model Intialization using keras classifier\n",
    "model = KerasClassifier(build_fn = define_model, epochs = 600, batch_size = 50, verbose = 0)\n",
    "\n",
    "# Define the grid search parameter - number of neurons\n",
    "neurons = [1, 50, 100, 150, 200, 250, 300, 350, 400, 450, 500]\n",
    "\n",
    "# Creating a dictionary of the grid search parameter - number of neurons\n",
    "param_grid = dict(neurons=neurons)\n",
    "\n",
    "# Building the fit using GridSearchCV\n",
    "grid = GridSearchCV(estimator = model, param_grid = param_grid, cv = 5, verbose = 10, n_jobs = -1)\n",
    "\n",
    "# Fitting the grid\n",
    "grid_search = grid.fit(X_train_smote, y_train_smote)"
   ]
  },
  {
   "cell_type": "code",
   "execution_count": 53,
   "metadata": {
    "colab": {
     "base_uri": "https://localhost:8080/",
     "height": 34
    },
    "colab_type": "code",
    "id": "8R4fzIkXXVup",
    "outputId": "d5c29092-b46d-4fd6-dbcf-ee5c0e216719"
   },
   "outputs": [
    {
     "name": "stdout",
     "output_type": "stream",
     "text": [
      "Best: 0.9009156107902527, using {'neurons': 400}\n"
     ]
    }
   ],
   "source": [
    "# Finding best accuracy using best value of neurons\n",
    "print(\"Best: {0}, using {1}\".format(grid_search.best_score_, grid_search.best_params_))"
   ]
  },
  {
   "cell_type": "code",
   "execution_count": 54,
   "metadata": {
    "colab": {
     "base_uri": "https://localhost:8080/",
     "height": 134
    },
    "colab_type": "code",
    "id": "M_cvh6qQXfaW",
    "outputId": "ef13fc2e-5074-422c-b1de-f04f81194bc9"
   },
   "outputs": [
    {
     "name": "stdout",
     "output_type": "stream",
     "text": [
      "0.6282845139503479 (0.31514012691802773) with: {'neurons': 1}\n",
      "0.8928595066070557 (0.015360706553182677) with: {'neurons': 50}\n",
      "0.8884393215179444 (0.012139812351151006) with: {'neurons': 100}\n",
      "0.8920749664306641 (0.012159179598604603) with: {'neurons': 150}\n",
      "0.8840887188911438 (0.015958044582682122) with: {'neurons': 200}\n",
      "0.8975649237632751 (0.02116330910478529) with: {'neurons': 250}\n",
      "0.8902223944664002 (0.018294585039799756) with: {'neurons': 300}\n",
      "0.8844452023506164 (0.01494111535361244) with: {'neurons': 350}\n",
      "0.9009156107902527 (0.02069933884633219) with: {'neurons': 400}\n",
      "0.8954268336296082 (0.02365852661102012) with: {'neurons': 450}\n",
      "0.8780273914337158 (0.03133597690169588) with: {'neurons': 500}\n"
     ]
    }
   ],
   "source": [
    "# Summarizing the result - mean train accuracy, mean test accuracy. standard deviation\n",
    "\n",
    "means = grid_search.cv_results_['mean_test_score']\n",
    "stds = grid_search.cv_results_['std_test_score']\n",
    "params = grid_search.cv_results_['params']\n",
    "for mean, stdev, param in zip(means, stds, params):\n",
    "    print('{0} ({1}) with: {2}'.format(mean, stdev, param))"
   ]
  },
  {
   "cell_type": "markdown",
   "metadata": {},
   "source": [
    "### Tuning number of neurons for second hidden layer"
   ]
  },
  {
   "cell_type": "code",
   "execution_count": 55,
   "metadata": {},
   "outputs": [
    {
     "name": "stdout",
     "output_type": "stream",
     "text": [
      "Fitting 5 folds for each of 11 candidates, totalling 55 fits\n"
     ]
    },
    {
     "name": "stderr",
     "output_type": "stream",
     "text": [
      "[Parallel(n_jobs=-1)]: Using backend LokyBackend with 8 concurrent workers.\n",
      "[Parallel(n_jobs=-1)]: Done   2 tasks      | elapsed:  7.9min\n",
      "[Parallel(n_jobs=-1)]: Done   9 tasks      | elapsed: 18.6min\n",
      "[Parallel(n_jobs=-1)]: Done  16 tasks      | elapsed: 26.0min\n",
      "[Parallel(n_jobs=-1)]: Done  25 tasks      | elapsed: 52.6min\n",
      "[Parallel(n_jobs=-1)]: Done  34 tasks      | elapsed: 94.9min\n",
      "[Parallel(n_jobs=-1)]: Done  46 out of  55 | elapsed: 153.0min remaining: 29.9min\n",
      "[Parallel(n_jobs=-1)]: Done  52 out of  55 | elapsed: 183.8min remaining: 10.6min\n",
      "[Parallel(n_jobs=-1)]: Done  55 out of  55 | elapsed: 191.3min finished\n"
     ]
    }
   ],
   "source": [
    "# Creating the model\n",
    "def define_model(neurons=1):\n",
    "    model = Sequential()\n",
    "    model.add(Dense(400,input_dim = 5, kernel_initializer= 'uniform', activation= 'sigmoid'))\n",
    "    model.add(Dense(neurons, input_dim = 5, kernel_initializer= 'uniform', activation= 'sigmoid'))\n",
    "    model.add(Dense(1, activation='sigmoid'))\n",
    "    \n",
    "    # compile the model\n",
    "    adadelta = Adadelta(lr = 0.1)\n",
    "    model.compile(loss = 'binary_crossentropy', optimizer = adadelta, metrics = ['accuracy'])\n",
    "    return model\n",
    "\n",
    "# Model Intialization using keras classifier\n",
    "model = KerasClassifier(build_fn = define_model, epochs = 600, batch_size = 50, verbose = 0)\n",
    "\n",
    "# Define the grid search parameter - number of neurons\n",
    "neurons = [1, 50, 100, 150, 200, 250, 300, 350, 400, 450, 500]\n",
    "\n",
    "# Creating a dictionary of the grid search parameter - number of neurons\n",
    "param_grid = dict(neurons=neurons)\n",
    "\n",
    "# Building the fit using GridSearchCV\n",
    "grid = GridSearchCV(estimator = model, param_grid = param_grid, cv = 5, verbose = 10, n_jobs = -1)\n",
    "\n",
    "# Fitting the grid\n",
    "grid_search = grid.fit(X_train_smote,y_train_smote)"
   ]
  },
  {
   "cell_type": "code",
   "execution_count": 56,
   "metadata": {},
   "outputs": [
    {
     "name": "stdout",
     "output_type": "stream",
     "text": [
      "Best: 0.9016306281089783, using {'neurons': 150}\n"
     ]
    }
   ],
   "source": [
    "# Finding best accuracy using best value of neurons\n",
    "print(\"Best: {0}, using {1}\".format(grid_search.best_score_, grid_search.best_params_))"
   ]
  },
  {
   "cell_type": "code",
   "execution_count": 57,
   "metadata": {},
   "outputs": [
    {
     "name": "stdout",
     "output_type": "stream",
     "text": [
      "0.895283555984497 (0.017938082720858974) with: {'neurons': 1}\n",
      "0.8903645992279052 (0.017675609617406534) with: {'neurons': 50}\n",
      "0.8999879121780395 (0.014352227071138259) with: {'neurons': 100}\n",
      "0.9016306281089783 (0.03759110792012069) with: {'neurons': 150}\n",
      "0.8828087568283081 (0.024712605637256913) with: {'neurons': 200}\n",
      "0.8844479560852051 (0.020969703738080683) with: {'neurons': 250}\n",
      "0.8829517483711242 (0.025198122817284507) with: {'neurons': 300}\n",
      "0.8786040067672729 (0.02585785735739379) with: {'neurons': 350}\n",
      "0.8946404933929444 (0.01021293863392908) with: {'neurons': 400}\n",
      "0.8884358286857605 (0.018999408485207574) with: {'neurons': 450}\n",
      "0.8911484599113464 (0.014902011362065534) with: {'neurons': 500}\n"
     ]
    }
   ],
   "source": [
    "# Summarizing the result - mean train accuracy, mean test accuracy. standard deviation\n",
    "\n",
    "means = grid_search.cv_results_['mean_test_score']\n",
    "stds = grid_search.cv_results_['std_test_score']\n",
    "params = grid_search.cv_results_['params']\n",
    "for mean, stdev, param in zip(means, stds, params):\n",
    "    print('{0} ({1}) with: {2}'.format(mean, stdev, param))"
   ]
  },
  {
   "cell_type": "markdown",
   "metadata": {},
   "source": [
    "## Part 5: Data Modelling using optimized parameters"
   ]
  },
  {
   "cell_type": "code",
   "execution_count": 26,
   "metadata": {},
   "outputs": [
    {
     "name": "stdout",
     "output_type": "stream",
     "text": [
      "WARNING:tensorflow:From C:\\Users\\Ruchira\\anaconda3\\lib\\site-packages\\tensorflow\\python\\ops\\nn_impl.py:180: add_dispatch_support.<locals>.wrapper (from tensorflow.python.ops.array_ops) is deprecated and will be removed in a future version.\n",
      "Instructions for updating:\n",
      "Use tf.where in 2.0, which has the same broadcast rule as np.where\n",
      "WARNING:tensorflow:From C:\\Users\\Ruchira\\anaconda3\\lib\\site-packages\\keras\\backend\\tensorflow_backend.py:422: The name tf.global_variables is deprecated. Please use tf.compat.v1.global_variables instead.\n",
      "\n",
      "Train on 14028 samples, validate on 4500 samples\n",
      "Epoch 1/600\n",
      "14028/14028 [==============================] - 1s 47us/step - loss: 0.6389 - accuracy: 0.6362 - val_loss: 0.6001 - val_accuracy: 0.6216\n",
      "Epoch 2/600\n",
      "14028/14028 [==============================] - 1s 39us/step - loss: 0.5776 - accuracy: 0.7090 - val_loss: 0.5582 - val_accuracy: 0.6869\n",
      "Epoch 3/600\n",
      "14028/14028 [==============================] - 1s 39us/step - loss: 0.5296 - accuracy: 0.7603 - val_loss: 0.4814 - val_accuracy: 0.7836\n",
      "Epoch 4/600\n",
      "14028/14028 [==============================] - 1s 36us/step - loss: 0.4956 - accuracy: 0.7866 - val_loss: 0.4579 - val_accuracy: 0.7904\n",
      "Epoch 5/600\n",
      "14028/14028 [==============================] - 1s 37us/step - loss: 0.4721 - accuracy: 0.7967 - val_loss: 0.4662 - val_accuracy: 0.7860\n",
      "Epoch 6/600\n",
      "14028/14028 [==============================] - 0s 32us/step - loss: 0.4571 - accuracy: 0.8008 - val_loss: 0.4516 - val_accuracy: 0.7938\n",
      "Epoch 7/600\n",
      "14028/14028 [==============================] - 1s 37us/step - loss: 0.4459 - accuracy: 0.8071 - val_loss: 0.4348 - val_accuracy: 0.8000\n",
      "Epoch 8/600\n",
      "14028/14028 [==============================] - 1s 37us/step - loss: 0.4370 - accuracy: 0.8127 - val_loss: 0.4290 - val_accuracy: 0.7996\n",
      "Epoch 9/600\n",
      "14028/14028 [==============================] - 1s 36us/step - loss: 0.4290 - accuracy: 0.8144 - val_loss: 0.4257 - val_accuracy: 0.8040\n",
      "Epoch 10/600\n",
      "14028/14028 [==============================] - 1s 36us/step - loss: 0.4225 - accuracy: 0.8164 - val_loss: 0.4087 - val_accuracy: 0.8113\n",
      "Epoch 11/600\n",
      "14028/14028 [==============================] - 1s 36us/step - loss: 0.4159 - accuracy: 0.8181 - val_loss: 0.4178 - val_accuracy: 0.8120\n",
      "Epoch 12/600\n",
      "14028/14028 [==============================] - 1s 36us/step - loss: 0.4099 - accuracy: 0.8206 - val_loss: 0.4128 - val_accuracy: 0.8111\n",
      "Epoch 13/600\n",
      "14028/14028 [==============================] - 1s 37us/step - loss: 0.4027 - accuracy: 0.8236 - val_loss: 0.4109 - val_accuracy: 0.8164\n",
      "Epoch 14/600\n",
      "14028/14028 [==============================] - 1s 37us/step - loss: 0.3953 - accuracy: 0.8266 - val_loss: 0.3884 - val_accuracy: 0.8216\n",
      "Epoch 15/600\n",
      "14028/14028 [==============================] - 1s 36us/step - loss: 0.3896 - accuracy: 0.8309 - val_loss: 0.3860 - val_accuracy: 0.8258\n",
      "Epoch 16/600\n",
      "14028/14028 [==============================] - 1s 36us/step - loss: 0.3833 - accuracy: 0.8344 - val_loss: 0.3604 - val_accuracy: 0.8329\n",
      "Epoch 17/600\n",
      "14028/14028 [==============================] - 1s 36us/step - loss: 0.3757 - accuracy: 0.8385 - val_loss: 0.3808 - val_accuracy: 0.8291\n",
      "Epoch 18/600\n",
      "14028/14028 [==============================] - 1s 36us/step - loss: 0.3689 - accuracy: 0.8419 - val_loss: 0.3543 - val_accuracy: 0.8444\n",
      "Epoch 19/600\n",
      "14028/14028 [==============================] - 1s 36us/step - loss: 0.3631 - accuracy: 0.8455 - val_loss: 0.3584 - val_accuracy: 0.8418\n",
      "Epoch 20/600\n",
      "14028/14028 [==============================] - 1s 36us/step - loss: 0.3563 - accuracy: 0.8492 - val_loss: 0.3414 - val_accuracy: 0.8544\n",
      "Epoch 21/600\n",
      "14028/14028 [==============================] - 1s 37us/step - loss: 0.3511 - accuracy: 0.8521 - val_loss: 0.3427 - val_accuracy: 0.8547\n",
      "Epoch 22/600\n",
      "14028/14028 [==============================] - 1s 36us/step - loss: 0.3466 - accuracy: 0.8546 - val_loss: 0.3490 - val_accuracy: 0.8489\n",
      "Epoch 23/600\n",
      "14028/14028 [==============================] - 1s 36us/step - loss: 0.3431 - accuracy: 0.8537 - val_loss: 0.3556 - val_accuracy: 0.8444\n",
      "Epoch 24/600\n",
      "14028/14028 [==============================] - 1s 36us/step - loss: 0.3380 - accuracy: 0.8584 - val_loss: 0.3479 - val_accuracy: 0.8487\n",
      "Epoch 25/600\n",
      "14028/14028 [==============================] - 1s 36us/step - loss: 0.3349 - accuracy: 0.8609 - val_loss: 0.3303 - val_accuracy: 0.8569\n",
      "Epoch 26/600\n",
      "14028/14028 [==============================] - 1s 36us/step - loss: 0.3308 - accuracy: 0.8642 - val_loss: 0.3219 - val_accuracy: 0.8580\n",
      "Epoch 27/600\n",
      "14028/14028 [==============================] - 1s 36us/step - loss: 0.3288 - accuracy: 0.8623 - val_loss: 0.3303 - val_accuracy: 0.8573\n",
      "Epoch 28/600\n",
      "14028/14028 [==============================] - 1s 36us/step - loss: 0.3257 - accuracy: 0.8623 - val_loss: 0.3144 - val_accuracy: 0.8549\n",
      "Epoch 29/600\n",
      "14028/14028 [==============================] - 1s 36us/step - loss: 0.3236 - accuracy: 0.8655 - val_loss: 0.3287 - val_accuracy: 0.8567\n",
      "Epoch 30/600\n",
      "14028/14028 [==============================] - 1s 36us/step - loss: 0.3193 - accuracy: 0.8658 - val_loss: 0.3449 - val_accuracy: 0.8476\n",
      "Epoch 31/600\n",
      "14028/14028 [==============================] - 1s 37us/step - loss: 0.3187 - accuracy: 0.8652 - val_loss: 0.3329 - val_accuracy: 0.8524\n",
      "Epoch 32/600\n",
      "14028/14028 [==============================] - 1s 36us/step - loss: 0.3165 - accuracy: 0.8668 - val_loss: 0.3769 - val_accuracy: 0.8344\n",
      "Epoch 33/600\n",
      "14028/14028 [==============================] - 1s 36us/step - loss: 0.3152 - accuracy: 0.8703 - val_loss: 0.3152 - val_accuracy: 0.8622\n",
      "Epoch 34/600\n",
      "14028/14028 [==============================] - 1s 37us/step - loss: 0.3130 - accuracy: 0.8693 - val_loss: 0.3159 - val_accuracy: 0.8600\n",
      "Epoch 35/600\n",
      "14028/14028 [==============================] - ETA: 0s - loss: 0.3119 - accuracy: 0.86 - 1s 37us/step - loss: 0.3110 - accuracy: 0.8700 - val_loss: 0.3092 - val_accuracy: 0.8611\n",
      "Epoch 36/600\n",
      "14028/14028 [==============================] - 1s 36us/step - loss: 0.3096 - accuracy: 0.8695 - val_loss: 0.3556 - val_accuracy: 0.8420\n",
      "Epoch 37/600\n",
      "14028/14028 [==============================] - 1s 36us/step - loss: 0.3083 - accuracy: 0.8723 - val_loss: 0.3103 - val_accuracy: 0.8656\n",
      "Epoch 38/600\n",
      "14028/14028 [==============================] - 1s 36us/step - loss: 0.3071 - accuracy: 0.8703 - val_loss: 0.3196 - val_accuracy: 0.8611\n",
      "Epoch 39/600\n",
      "14028/14028 [==============================] - 1s 36us/step - loss: 0.3059 - accuracy: 0.8714 - val_loss: 0.3113 - val_accuracy: 0.8633\n",
      "Epoch 40/600\n",
      "14028/14028 [==============================] - 1s 36us/step - loss: 0.3046 - accuracy: 0.8723 - val_loss: 0.3268 - val_accuracy: 0.8538\n",
      "Epoch 41/600\n",
      "14028/14028 [==============================] - 1s 36us/step - loss: 0.3038 - accuracy: 0.8725 - val_loss: 0.3047 - val_accuracy: 0.8658\n",
      "Epoch 42/600\n",
      "14028/14028 [==============================] - 1s 36us/step - loss: 0.3026 - accuracy: 0.8728 - val_loss: 0.3187 - val_accuracy: 0.8600\n",
      "Epoch 43/600\n",
      "14028/14028 [==============================] - ETA: 0s - loss: 0.3016 - accuracy: 0.87 - 1s 36us/step - loss: 0.3018 - accuracy: 0.8732 - val_loss: 0.3007 - val_accuracy: 0.8689\n",
      "Epoch 44/600\n",
      "14028/14028 [==============================] - 1s 36us/step - loss: 0.3010 - accuracy: 0.8754 - val_loss: 0.2994 - val_accuracy: 0.8722\n",
      "Epoch 45/600\n",
      "14028/14028 [==============================] - 1s 36us/step - loss: 0.2994 - accuracy: 0.8757 - val_loss: 0.3125 - val_accuracy: 0.8620\n",
      "Epoch 46/600\n",
      "14028/14028 [==============================] - 1s 36us/step - loss: 0.2988 - accuracy: 0.8751 - val_loss: 0.3057 - val_accuracy: 0.8651\n",
      "Epoch 47/600\n",
      "14028/14028 [==============================] - 1s 36us/step - loss: 0.2984 - accuracy: 0.8745 - val_loss: 0.2921 - val_accuracy: 0.8720\n",
      "Epoch 48/600\n",
      "14028/14028 [==============================] - 1s 36us/step - loss: 0.2980 - accuracy: 0.8767 - val_loss: 0.3249 - val_accuracy: 0.8598\n",
      "Epoch 49/600\n",
      "14028/14028 [==============================] - 1s 36us/step - loss: 0.2972 - accuracy: 0.8766 - val_loss: 0.3213 - val_accuracy: 0.8584\n",
      "Epoch 50/600\n",
      "14028/14028 [==============================] - 1s 36us/step - loss: 0.2961 - accuracy: 0.8777 - val_loss: 0.3073 - val_accuracy: 0.8662\n",
      "Epoch 51/600\n",
      "14028/14028 [==============================] - 0s 35us/step - loss: 0.2958 - accuracy: 0.8770 - val_loss: 0.2962 - val_accuracy: 0.8744\n",
      "Epoch 52/600\n",
      "14028/14028 [==============================] - 0s 35us/step - loss: 0.2946 - accuracy: 0.8779 - val_loss: 0.3146 - val_accuracy: 0.8613\n",
      "Epoch 53/600\n",
      "14028/14028 [==============================] - 0s 35us/step - loss: 0.2935 - accuracy: 0.8781 - val_loss: 0.2919 - val_accuracy: 0.8747\n",
      "Epoch 54/600\n",
      "14028/14028 [==============================] - 0s 35us/step - loss: 0.2939 - accuracy: 0.8771 - val_loss: 0.2928 - val_accuracy: 0.8771\n",
      "Epoch 55/600\n",
      "14028/14028 [==============================] - 0s 35us/step - loss: 0.2930 - accuracy: 0.8794 - val_loss: 0.2922 - val_accuracy: 0.8720\n",
      "Epoch 56/600\n",
      "14028/14028 [==============================] - 0s 35us/step - loss: 0.2918 - accuracy: 0.8785 - val_loss: 0.3145 - val_accuracy: 0.8598\n",
      "Epoch 57/600\n",
      "14028/14028 [==============================] - 0s 35us/step - loss: 0.2922 - accuracy: 0.8792 - val_loss: 0.3305 - val_accuracy: 0.8540\n",
      "Epoch 58/600\n",
      "14028/14028 [==============================] - 0s 35us/step - loss: 0.2906 - accuracy: 0.8785 - val_loss: 0.3134 - val_accuracy: 0.8618\n",
      "Epoch 59/600\n",
      "14028/14028 [==============================] - 0s 35us/step - loss: 0.2908 - accuracy: 0.8786 - val_loss: 0.2969 - val_accuracy: 0.8733\n",
      "Epoch 60/600\n",
      "14028/14028 [==============================] - 0s 35us/step - loss: 0.2903 - accuracy: 0.8793 - val_loss: 0.3166 - val_accuracy: 0.8602\n",
      "Epoch 61/600\n",
      "14028/14028 [==============================] - 1s 39us/step - loss: 0.2896 - accuracy: 0.8815 - val_loss: 0.2924 - val_accuracy: 0.8778\n",
      "Epoch 62/600\n",
      "14028/14028 [==============================] - 1s 38us/step - loss: 0.2887 - accuracy: 0.8817 - val_loss: 0.3043 - val_accuracy: 0.8680\n",
      "Epoch 63/600\n",
      "14028/14028 [==============================] - 1s 36us/step - loss: 0.2887 - accuracy: 0.8817 - val_loss: 0.3184 - val_accuracy: 0.8596\n",
      "Epoch 64/600\n",
      "14028/14028 [==============================] - 1s 36us/step - loss: 0.2882 - accuracy: 0.8808 - val_loss: 0.2928 - val_accuracy: 0.8773\n",
      "Epoch 65/600\n",
      "14028/14028 [==============================] - 0s 33us/step - loss: 0.2882 - accuracy: 0.8819 - val_loss: 0.3089 - val_accuracy: 0.8658\n",
      "Epoch 66/600\n",
      "14028/14028 [==============================] - 0s 35us/step - loss: 0.2870 - accuracy: 0.8814 - val_loss: 0.2979 - val_accuracy: 0.8724\n",
      "Epoch 67/600\n",
      "14028/14028 [==============================] - 0s 35us/step - loss: 0.2875 - accuracy: 0.8830 - val_loss: 0.3000 - val_accuracy: 0.8704\n",
      "Epoch 68/600\n",
      "14028/14028 [==============================] - ETA: 0s - loss: 0.2852 - accuracy: 0.88 - 0s 35us/step - loss: 0.2862 - accuracy: 0.8815 - val_loss: 0.2888 - val_accuracy: 0.8771\n",
      "Epoch 69/600\n",
      "14028/14028 [==============================] - 0s 35us/step - loss: 0.2851 - accuracy: 0.8838 - val_loss: 0.2842 - val_accuracy: 0.8756\n",
      "Epoch 70/600\n",
      "14028/14028 [==============================] - 0s 36us/step - loss: 0.2862 - accuracy: 0.8824 - val_loss: 0.3023 - val_accuracy: 0.8709\n",
      "Epoch 71/600\n",
      "14028/14028 [==============================] - 0s 34us/step - loss: 0.2844 - accuracy: 0.8839 - val_loss: 0.2837 - val_accuracy: 0.8820\n",
      "Epoch 72/600\n",
      "14028/14028 [==============================] - 1s 37us/step - loss: 0.2841 - accuracy: 0.8839 - val_loss: 0.2841 - val_accuracy: 0.8809\n",
      "Epoch 73/600\n",
      "14028/14028 [==============================] - 0s 35us/step - loss: 0.2839 - accuracy: 0.8835 - val_loss: 0.2988 - val_accuracy: 0.8740\n",
      "Epoch 74/600\n",
      "14028/14028 [==============================] - 0s 35us/step - loss: 0.2839 - accuracy: 0.8824 - val_loss: 0.2812 - val_accuracy: 0.8833\n",
      "Epoch 75/600\n",
      "14028/14028 [==============================] - 0s 35us/step - loss: 0.2824 - accuracy: 0.8861 - val_loss: 0.2811 - val_accuracy: 0.8840\n",
      "Epoch 76/600\n",
      "14028/14028 [==============================] - 0s 36us/step - loss: 0.2825 - accuracy: 0.8855 - val_loss: 0.2882 - val_accuracy: 0.8798\n",
      "Epoch 77/600\n",
      "14028/14028 [==============================] - 0s 35us/step - loss: 0.2826 - accuracy: 0.8849 - val_loss: 0.2855 - val_accuracy: 0.8804\n",
      "Epoch 78/600\n",
      "14028/14028 [==============================] - 0s 35us/step - loss: 0.2818 - accuracy: 0.8855 - val_loss: 0.3002 - val_accuracy: 0.8702\n",
      "Epoch 79/600\n",
      "14028/14028 [==============================] - 0s 35us/step - loss: 0.2810 - accuracy: 0.8860 - val_loss: 0.3079 - val_accuracy: 0.8662\n",
      "Epoch 80/600\n",
      "14028/14028 [==============================] - ETA: 0s - loss: 0.2804 - accuracy: 0.88 - 0s 35us/step - loss: 0.2824 - accuracy: 0.8847 - val_loss: 0.2801 - val_accuracy: 0.8816\n",
      "Epoch 81/600\n",
      "14028/14028 [==============================] - 0s 35us/step - loss: 0.2798 - accuracy: 0.8854 - val_loss: 0.2916 - val_accuracy: 0.8744\n",
      "Epoch 82/600\n",
      "14028/14028 [==============================] - 0s 35us/step - loss: 0.2802 - accuracy: 0.8869 - val_loss: 0.2936 - val_accuracy: 0.8740\n",
      "Epoch 83/600\n",
      "14028/14028 [==============================] - 0s 35us/step - loss: 0.2804 - accuracy: 0.8861 - val_loss: 0.3049 - val_accuracy: 0.8669\n",
      "Epoch 84/600\n",
      "14028/14028 [==============================] - 0s 35us/step - loss: 0.2792 - accuracy: 0.8875 - val_loss: 0.2840 - val_accuracy: 0.8833\n",
      "Epoch 85/600\n",
      "14028/14028 [==============================] - 0s 35us/step - loss: 0.2788 - accuracy: 0.8885 - val_loss: 0.3317 - val_accuracy: 0.8540\n",
      "Epoch 86/600\n",
      "14028/14028 [==============================] - 0s 35us/step - loss: 0.2781 - accuracy: 0.8884 - val_loss: 0.3321 - val_accuracy: 0.8527\n",
      "Epoch 87/600\n",
      "14028/14028 [==============================] - 0s 35us/step - loss: 0.2780 - accuracy: 0.8877 - val_loss: 0.2856 - val_accuracy: 0.8784\n",
      "Epoch 88/600\n",
      "14028/14028 [==============================] - 0s 35us/step - loss: 0.2784 - accuracy: 0.8864 - val_loss: 0.2783 - val_accuracy: 0.8838\n",
      "Epoch 89/600\n",
      "14028/14028 [==============================] - 0s 35us/step - loss: 0.2771 - accuracy: 0.8879 - val_loss: 0.3108 - val_accuracy: 0.8660\n",
      "Epoch 90/600\n",
      "14028/14028 [==============================] - 0s 35us/step - loss: 0.2779 - accuracy: 0.8878 - val_loss: 0.2905 - val_accuracy: 0.8773\n",
      "Epoch 91/600\n",
      "14028/14028 [==============================] - 0s 35us/step - loss: 0.2766 - accuracy: 0.8869 - val_loss: 0.2824 - val_accuracy: 0.8811\n",
      "Epoch 92/600\n",
      "14028/14028 [==============================] - 0s 35us/step - loss: 0.2764 - accuracy: 0.8882 - val_loss: 0.2987 - val_accuracy: 0.8682\n",
      "Epoch 93/600\n",
      "14028/14028 [==============================] - 0s 35us/step - loss: 0.2761 - accuracy: 0.8880 - val_loss: 0.2954 - val_accuracy: 0.8758\n",
      "Epoch 94/600\n",
      "14028/14028 [==============================] - 0s 35us/step - loss: 0.2760 - accuracy: 0.8901 - val_loss: 0.2924 - val_accuracy: 0.8740\n",
      "Epoch 95/600\n",
      "14028/14028 [==============================] - 0s 35us/step - loss: 0.2753 - accuracy: 0.8906 - val_loss: 0.2879 - val_accuracy: 0.8778\n",
      "Epoch 96/600\n",
      "14028/14028 [==============================] - 0s 35us/step - loss: 0.2751 - accuracy: 0.8900 - val_loss: 0.2841 - val_accuracy: 0.8809\n",
      "Epoch 97/600\n",
      "14028/14028 [==============================] - 0s 35us/step - loss: 0.2746 - accuracy: 0.8894 - val_loss: 0.2892 - val_accuracy: 0.8807\n",
      "Epoch 98/600\n",
      "14028/14028 [==============================] - 0s 35us/step - loss: 0.2742 - accuracy: 0.8883 - val_loss: 0.2784 - val_accuracy: 0.8844\n",
      "Epoch 99/600\n",
      "14028/14028 [==============================] - 0s 35us/step - loss: 0.2740 - accuracy: 0.8897 - val_loss: 0.2769 - val_accuracy: 0.8858\n",
      "Epoch 100/600\n",
      "14028/14028 [==============================] - 0s 35us/step - loss: 0.2732 - accuracy: 0.8906 - val_loss: 0.2793 - val_accuracy: 0.8842\n",
      "Epoch 101/600\n",
      "14028/14028 [==============================] - 0s 35us/step - loss: 0.2728 - accuracy: 0.8901 - val_loss: 0.3240 - val_accuracy: 0.8584\n",
      "Epoch 102/600\n",
      "14028/14028 [==============================] - 0s 35us/step - loss: 0.2725 - accuracy: 0.8911 - val_loss: 0.2808 - val_accuracy: 0.8829\n",
      "Epoch 103/600\n",
      "14028/14028 [==============================] - 0s 35us/step - loss: 0.2721 - accuracy: 0.8904 - val_loss: 0.2773 - val_accuracy: 0.8876\n",
      "Epoch 104/600\n",
      "14028/14028 [==============================] - 0s 35us/step - loss: 0.2721 - accuracy: 0.8908 - val_loss: 0.2743 - val_accuracy: 0.8862\n",
      "Epoch 105/600\n",
      "14028/14028 [==============================] - 0s 35us/step - loss: 0.2721 - accuracy: 0.8918 - val_loss: 0.2762 - val_accuracy: 0.8842\n",
      "Epoch 106/600\n",
      "14028/14028 [==============================] - 0s 35us/step - loss: 0.2722 - accuracy: 0.8909 - val_loss: 0.2978 - val_accuracy: 0.8718\n",
      "Epoch 107/600\n",
      "14028/14028 [==============================] - 0s 35us/step - loss: 0.2724 - accuracy: 0.8914 - val_loss: 0.3003 - val_accuracy: 0.8704\n",
      "Epoch 108/600\n",
      "14028/14028 [==============================] - 0s 34us/step - loss: 0.2709 - accuracy: 0.8913 - val_loss: 0.2818 - val_accuracy: 0.8804\n",
      "Epoch 109/600\n",
      "14028/14028 [==============================] - 0s 35us/step - loss: 0.2714 - accuracy: 0.8924 - val_loss: 0.2830 - val_accuracy: 0.8813\n",
      "Epoch 110/600\n",
      "14028/14028 [==============================] - 0s 35us/step - loss: 0.2714 - accuracy: 0.8922 - val_loss: 0.2931 - val_accuracy: 0.8751\n",
      "Epoch 111/600\n",
      "14028/14028 [==============================] - 0s 35us/step - loss: 0.2703 - accuracy: 0.8922 - val_loss: 0.2789 - val_accuracy: 0.8840\n",
      "Epoch 112/600\n",
      "14028/14028 [==============================] - 0s 35us/step - loss: 0.2701 - accuracy: 0.8911 - val_loss: 0.2781 - val_accuracy: 0.8867\n",
      "Epoch 113/600\n",
      "14028/14028 [==============================] - 0s 34us/step - loss: 0.2702 - accuracy: 0.8914 - val_loss: 0.2865 - val_accuracy: 0.8798\n",
      "Epoch 114/600\n",
      "14028/14028 [==============================] - 0s 35us/step - loss: 0.2698 - accuracy: 0.8925 - val_loss: 0.3176 - val_accuracy: 0.8667\n",
      "Epoch 115/600\n",
      "14028/14028 [==============================] - 0s 35us/step - loss: 0.2700 - accuracy: 0.8914 - val_loss: 0.2747 - val_accuracy: 0.8844\n",
      "Epoch 116/600\n",
      "14028/14028 [==============================] - 0s 35us/step - loss: 0.2687 - accuracy: 0.8939 - val_loss: 0.2773 - val_accuracy: 0.8840\n",
      "Epoch 117/600\n",
      "14028/14028 [==============================] - 0s 36us/step - loss: 0.2685 - accuracy: 0.8930 - val_loss: 0.2833 - val_accuracy: 0.8809\n",
      "Epoch 118/600\n",
      "14028/14028 [==============================] - 0s 35us/step - loss: 0.2694 - accuracy: 0.8928 - val_loss: 0.3089 - val_accuracy: 0.8702\n",
      "Epoch 119/600\n",
      "14028/14028 [==============================] - 0s 35us/step - loss: 0.2686 - accuracy: 0.8921 - val_loss: 0.2768 - val_accuracy: 0.8858\n",
      "Epoch 120/600\n",
      "14028/14028 [==============================] - 0s 34us/step - loss: 0.2690 - accuracy: 0.8936 - val_loss: 0.2971 - val_accuracy: 0.8713\n",
      "Epoch 121/600\n",
      "14028/14028 [==============================] - 0s 35us/step - loss: 0.2685 - accuracy: 0.8934 - val_loss: 0.2808 - val_accuracy: 0.8804\n",
      "Epoch 122/600\n",
      "14028/14028 [==============================] - 1s 38us/step - loss: 0.2673 - accuracy: 0.8941 - val_loss: 0.2721 - val_accuracy: 0.8878\n",
      "Epoch 123/600\n",
      "14028/14028 [==============================] - 1s 36us/step - loss: 0.2676 - accuracy: 0.8928 - val_loss: 0.2794 - val_accuracy: 0.8827\n",
      "Epoch 124/600\n",
      "14028/14028 [==============================] - 1s 36us/step - loss: 0.2673 - accuracy: 0.8938 - val_loss: 0.2954 - val_accuracy: 0.8738\n",
      "Epoch 125/600\n",
      "14028/14028 [==============================] - 0s 35us/step - loss: 0.2677 - accuracy: 0.8925 - val_loss: 0.2786 - val_accuracy: 0.8827\n",
      "Epoch 126/600\n",
      "14028/14028 [==============================] - 0s 33us/step - loss: 0.2679 - accuracy: 0.8909 - val_loss: 0.2819 - val_accuracy: 0.8824\n",
      "Epoch 127/600\n",
      "14028/14028 [==============================] - 0s 34us/step - loss: 0.2667 - accuracy: 0.8936 - val_loss: 0.2848 - val_accuracy: 0.8782\n",
      "Epoch 128/600\n",
      "14028/14028 [==============================] - 0s 35us/step - loss: 0.2672 - accuracy: 0.8950 - val_loss: 0.2768 - val_accuracy: 0.8829\n",
      "Epoch 129/600\n",
      "14028/14028 [==============================] - 0s 35us/step - loss: 0.2668 - accuracy: 0.8932 - val_loss: 0.2760 - val_accuracy: 0.8849\n",
      "Epoch 130/600\n",
      "14028/14028 [==============================] - 0s 35us/step - loss: 0.2677 - accuracy: 0.8915 - val_loss: 0.2706 - val_accuracy: 0.8882\n",
      "Epoch 131/600\n",
      "14028/14028 [==============================] - 0s 35us/step - loss: 0.2668 - accuracy: 0.8941 - val_loss: 0.2995 - val_accuracy: 0.8729\n",
      "Epoch 132/600\n",
      "14028/14028 [==============================] - ETA: 0s - loss: 0.2659 - accuracy: 0.89 - 0s 35us/step - loss: 0.2655 - accuracy: 0.8949 - val_loss: 0.2839 - val_accuracy: 0.8800\n",
      "Epoch 133/600\n",
      "14028/14028 [==============================] - 0s 35us/step - loss: 0.2664 - accuracy: 0.8931 - val_loss: 0.2781 - val_accuracy: 0.8827\n",
      "Epoch 134/600\n",
      "14028/14028 [==============================] - 0s 35us/step - loss: 0.2651 - accuracy: 0.8948 - val_loss: 0.2807 - val_accuracy: 0.8827\n",
      "Epoch 135/600\n",
      "14028/14028 [==============================] - 0s 35us/step - loss: 0.2657 - accuracy: 0.8941 - val_loss: 0.2794 - val_accuracy: 0.8831\n",
      "Epoch 136/600\n",
      "14028/14028 [==============================] - 0s 35us/step - loss: 0.2658 - accuracy: 0.8946 - val_loss: 0.2767 - val_accuracy: 0.8833\n",
      "Epoch 137/600\n",
      "14028/14028 [==============================] - 0s 35us/step - loss: 0.2652 - accuracy: 0.8934 - val_loss: 0.2749 - val_accuracy: 0.8833\n",
      "Epoch 138/600\n",
      "14028/14028 [==============================] - 0s 36us/step - loss: 0.2646 - accuracy: 0.8954 - val_loss: 0.2801 - val_accuracy: 0.8822\n",
      "Epoch 139/600\n",
      "14028/14028 [==============================] - 0s 35us/step - loss: 0.2655 - accuracy: 0.8938 - val_loss: 0.2997 - val_accuracy: 0.8738\n",
      "Epoch 140/600\n",
      "14028/14028 [==============================] - 0s 35us/step - loss: 0.2654 - accuracy: 0.8947 - val_loss: 0.2773 - val_accuracy: 0.8856\n",
      "Epoch 141/600\n",
      "14028/14028 [==============================] - 0s 35us/step - loss: 0.2646 - accuracy: 0.8944 - val_loss: 0.2850 - val_accuracy: 0.8816\n",
      "Epoch 142/600\n",
      "14028/14028 [==============================] - 1s 36us/step - loss: 0.2640 - accuracy: 0.8943 - val_loss: 0.2776 - val_accuracy: 0.8833\n",
      "Epoch 143/600\n",
      "14028/14028 [==============================] - 0s 33us/step - loss: 0.2636 - accuracy: 0.8959 - val_loss: 0.2950 - val_accuracy: 0.8771\n",
      "Epoch 144/600\n",
      "14028/14028 [==============================] - 0s 34us/step - loss: 0.2638 - accuracy: 0.8967 - val_loss: 0.3011 - val_accuracy: 0.8742\n",
      "Epoch 145/600\n",
      "14028/14028 [==============================] - 0s 34us/step - loss: 0.2636 - accuracy: 0.8934 - val_loss: 0.2770 - val_accuracy: 0.8842\n",
      "Epoch 146/600\n",
      "14028/14028 [==============================] - 0s 35us/step - loss: 0.2643 - accuracy: 0.8950 - val_loss: 0.2775 - val_accuracy: 0.8838\n",
      "Epoch 147/600\n",
      "14028/14028 [==============================] - 0s 35us/step - loss: 0.2635 - accuracy: 0.8956 - val_loss: 0.2872 - val_accuracy: 0.8791\n",
      "Epoch 148/600\n",
      "14028/14028 [==============================] - 0s 35us/step - loss: 0.2633 - accuracy: 0.8949 - val_loss: 0.2980 - val_accuracy: 0.8756\n",
      "Epoch 149/600\n",
      "14028/14028 [==============================] - 0s 35us/step - loss: 0.2623 - accuracy: 0.8954 - val_loss: 0.2799 - val_accuracy: 0.8831\n",
      "Epoch 150/600\n",
      "14028/14028 [==============================] - 0s 35us/step - loss: 0.2634 - accuracy: 0.8953 - val_loss: 0.2759 - val_accuracy: 0.8811\n",
      "Epoch 151/600\n",
      "14028/14028 [==============================] - 0s 35us/step - loss: 0.2628 - accuracy: 0.8942 - val_loss: 0.2748 - val_accuracy: 0.8860\n",
      "Epoch 152/600\n",
      "14028/14028 [==============================] - 0s 36us/step - loss: 0.2626 - accuracy: 0.8961 - val_loss: 0.2915 - val_accuracy: 0.8807\n",
      "Epoch 153/600\n",
      "14028/14028 [==============================] - 0s 35us/step - loss: 0.2619 - accuracy: 0.8949 - val_loss: 0.2792 - val_accuracy: 0.8816\n",
      "Epoch 154/600\n",
      "14028/14028 [==============================] - 0s 35us/step - loss: 0.2620 - accuracy: 0.8947 - val_loss: 0.2776 - val_accuracy: 0.8836\n",
      "Epoch 155/600\n",
      "14028/14028 [==============================] - 0s 35us/step - loss: 0.2617 - accuracy: 0.8958 - val_loss: 0.2873 - val_accuracy: 0.8789\n",
      "Epoch 156/600\n",
      "14028/14028 [==============================] - 0s 35us/step - loss: 0.2625 - accuracy: 0.8958 - val_loss: 0.2728 - val_accuracy: 0.8878\n",
      "Epoch 157/600\n",
      "14028/14028 [==============================] - 0s 35us/step - loss: 0.2628 - accuracy: 0.8941 - val_loss: 0.2679 - val_accuracy: 0.8924\n",
      "Epoch 158/600\n",
      "14028/14028 [==============================] - 0s 35us/step - loss: 0.2631 - accuracy: 0.8970 - val_loss: 0.2724 - val_accuracy: 0.8864\n",
      "Epoch 159/600\n",
      "14028/14028 [==============================] - 0s 35us/step - loss: 0.2613 - accuracy: 0.8958 - val_loss: 0.2806 - val_accuracy: 0.8831\n",
      "Epoch 160/600\n",
      "14028/14028 [==============================] - 0s 35us/step - loss: 0.2613 - accuracy: 0.8956 - val_loss: 0.2944 - val_accuracy: 0.8791\n",
      "Epoch 161/600\n",
      "14028/14028 [==============================] - 0s 35us/step - loss: 0.2611 - accuracy: 0.8971 - val_loss: 0.3300 - val_accuracy: 0.8562\n",
      "Epoch 162/600\n",
      "14028/14028 [==============================] - 0s 35us/step - loss: 0.2617 - accuracy: 0.8958 - val_loss: 0.2861 - val_accuracy: 0.8800\n",
      "Epoch 163/600\n",
      "14028/14028 [==============================] - 0s 35us/step - loss: 0.2614 - accuracy: 0.8956 - val_loss: 0.2859 - val_accuracy: 0.8789\n",
      "Epoch 164/600\n",
      "14028/14028 [==============================] - 0s 35us/step - loss: 0.2606 - accuracy: 0.8961 - val_loss: 0.2698 - val_accuracy: 0.8902\n",
      "Epoch 165/600\n",
      "14028/14028 [==============================] - 0s 35us/step - loss: 0.2612 - accuracy: 0.8978 - val_loss: 0.2876 - val_accuracy: 0.8798\n",
      "Epoch 166/600\n",
      "14028/14028 [==============================] - 0s 35us/step - loss: 0.2607 - accuracy: 0.8971 - val_loss: 0.2973 - val_accuracy: 0.8771\n",
      "Epoch 167/600\n",
      "14028/14028 [==============================] - 0s 35us/step - loss: 0.2604 - accuracy: 0.8970 - val_loss: 0.2796 - val_accuracy: 0.8816\n",
      "Epoch 168/600\n",
      "14028/14028 [==============================] - 0s 35us/step - loss: 0.2606 - accuracy: 0.8973 - val_loss: 0.2703 - val_accuracy: 0.8880\n",
      "Epoch 169/600\n",
      "14028/14028 [==============================] - 0s 35us/step - loss: 0.2603 - accuracy: 0.8975 - val_loss: 0.2812 - val_accuracy: 0.8816\n",
      "Epoch 170/600\n",
      "14028/14028 [==============================] - 0s 35us/step - loss: 0.2594 - accuracy: 0.8978 - val_loss: 0.2677 - val_accuracy: 0.8904\n",
      "Epoch 171/600\n",
      "14028/14028 [==============================] - 0s 35us/step - loss: 0.2599 - accuracy: 0.8967 - val_loss: 0.2835 - val_accuracy: 0.8818\n",
      "Epoch 172/600\n",
      "14028/14028 [==============================] - 0s 35us/step - loss: 0.2592 - accuracy: 0.8971 - val_loss: 0.2757 - val_accuracy: 0.8860\n",
      "Epoch 173/600\n",
      "14028/14028 [==============================] - 0s 35us/step - loss: 0.2602 - accuracy: 0.8981 - val_loss: 0.2675 - val_accuracy: 0.8913\n",
      "Epoch 174/600\n",
      "14028/14028 [==============================] - 0s 35us/step - loss: 0.2596 - accuracy: 0.8968 - val_loss: 0.2701 - val_accuracy: 0.8876\n",
      "Epoch 175/600\n",
      "14028/14028 [==============================] - 1s 36us/step - loss: 0.2599 - accuracy: 0.8973 - val_loss: 0.2769 - val_accuracy: 0.8851\n",
      "Epoch 176/600\n",
      "14028/14028 [==============================] - 0s 35us/step - loss: 0.2591 - accuracy: 0.8963 - val_loss: 0.2724 - val_accuracy: 0.8867\n",
      "Epoch 177/600\n",
      "14028/14028 [==============================] - 0s 35us/step - loss: 0.2590 - accuracy: 0.8973 - val_loss: 0.2753 - val_accuracy: 0.8831\n",
      "Epoch 178/600\n",
      "14028/14028 [==============================] - 0s 36us/step - loss: 0.2603 - accuracy: 0.8971 - val_loss: 0.2832 - val_accuracy: 0.8809\n",
      "Epoch 179/600\n",
      "14028/14028 [==============================] - 0s 35us/step - loss: 0.2591 - accuracy: 0.8956 - val_loss: 0.2702 - val_accuracy: 0.8902\n",
      "Epoch 180/600\n",
      "14028/14028 [==============================] - 0s 35us/step - loss: 0.2601 - accuracy: 0.8976 - val_loss: 0.2668 - val_accuracy: 0.8918\n",
      "Epoch 181/600\n",
      "14028/14028 [==============================] - 0s 35us/step - loss: 0.2583 - accuracy: 0.8971 - val_loss: 0.2676 - val_accuracy: 0.8918\n",
      "Epoch 182/600\n",
      "14028/14028 [==============================] - 1s 38us/step - loss: 0.2576 - accuracy: 0.8976 - val_loss: 0.2806 - val_accuracy: 0.8844\n",
      "Epoch 183/600\n",
      "14028/14028 [==============================] - 1s 40us/step - loss: 0.2589 - accuracy: 0.8992 - val_loss: 0.2926 - val_accuracy: 0.8800\n",
      "Epoch 184/600\n",
      "14028/14028 [==============================] - 1s 39us/step - loss: 0.2577 - accuracy: 0.8986 - val_loss: 0.2712 - val_accuracy: 0.8882\n",
      "Epoch 185/600\n",
      "14028/14028 [==============================] - 1s 37us/step - loss: 0.2591 - accuracy: 0.8979 - val_loss: 0.2881 - val_accuracy: 0.8800\n",
      "Epoch 186/600\n",
      "14028/14028 [==============================] - 0s 33us/step - loss: 0.2581 - accuracy: 0.8976 - val_loss: 0.2762 - val_accuracy: 0.8856\n",
      "Epoch 187/600\n",
      "14028/14028 [==============================] - 0s 35us/step - loss: 0.2580 - accuracy: 0.8983 - val_loss: 0.2744 - val_accuracy: 0.8840\n",
      "Epoch 188/600\n",
      "14028/14028 [==============================] - 1s 37us/step - loss: 0.2577 - accuracy: 0.9001 - val_loss: 0.2734 - val_accuracy: 0.8862\n",
      "Epoch 189/600\n",
      "14028/14028 [==============================] - 0s 35us/step - loss: 0.2581 - accuracy: 0.8956 - val_loss: 0.2968 - val_accuracy: 0.8758\n",
      "Epoch 190/600\n",
      "14028/14028 [==============================] - 0s 36us/step - loss: 0.2581 - accuracy: 0.8979 - val_loss: 0.2704 - val_accuracy: 0.8880\n",
      "Epoch 191/600\n",
      "14028/14028 [==============================] - 0s 35us/step - loss: 0.2566 - accuracy: 0.8976 - val_loss: 0.2865 - val_accuracy: 0.8818\n",
      "Epoch 192/600\n",
      "14028/14028 [==============================] - 0s 35us/step - loss: 0.2578 - accuracy: 0.8979 - val_loss: 0.2718 - val_accuracy: 0.8860\n",
      "Epoch 193/600\n",
      "14028/14028 [==============================] - 0s 35us/step - loss: 0.2569 - accuracy: 0.8978 - val_loss: 0.2915 - val_accuracy: 0.8782\n",
      "Epoch 194/600\n",
      "14028/14028 [==============================] - 0s 35us/step - loss: 0.2583 - accuracy: 0.8979 - val_loss: 0.2837 - val_accuracy: 0.8818\n",
      "Epoch 195/600\n",
      "14028/14028 [==============================] - 0s 35us/step - loss: 0.2575 - accuracy: 0.8969 - val_loss: 0.3068 - val_accuracy: 0.8733\n",
      "Epoch 196/600\n",
      "14028/14028 [==============================] - 1s 36us/step - loss: 0.2573 - accuracy: 0.8983 - val_loss: 0.2672 - val_accuracy: 0.8893\n",
      "Epoch 197/600\n",
      "14028/14028 [==============================] - 1s 37us/step - loss: 0.2573 - accuracy: 0.8951 - val_loss: 0.3043 - val_accuracy: 0.8764\n",
      "Epoch 198/600\n",
      "14028/14028 [==============================] - 0s 35us/step - loss: 0.2571 - accuracy: 0.8982 - val_loss: 0.2965 - val_accuracy: 0.8764\n",
      "Epoch 199/600\n",
      "14028/14028 [==============================] - 0s 35us/step - loss: 0.2567 - accuracy: 0.8988 - val_loss: 0.2673 - val_accuracy: 0.8887\n",
      "Epoch 200/600\n",
      "14028/14028 [==============================] - 0s 35us/step - loss: 0.2564 - accuracy: 0.8987 - val_loss: 0.3220 - val_accuracy: 0.8638\n",
      "Epoch 201/600\n",
      "14028/14028 [==============================] - 0s 35us/step - loss: 0.2573 - accuracy: 0.8993 - val_loss: 0.3001 - val_accuracy: 0.8764\n",
      "Epoch 202/600\n",
      "14028/14028 [==============================] - 0s 36us/step - loss: 0.2567 - accuracy: 0.8996 - val_loss: 0.2644 - val_accuracy: 0.8924\n",
      "Epoch 203/600\n",
      "14028/14028 [==============================] - 0s 35us/step - loss: 0.2558 - accuracy: 0.8989 - val_loss: 0.3030 - val_accuracy: 0.8704\n",
      "Epoch 204/600\n",
      "14028/14028 [==============================] - 0s 36us/step - loss: 0.2564 - accuracy: 0.8988 - val_loss: 0.2715 - val_accuracy: 0.8876\n",
      "Epoch 205/600\n",
      "14028/14028 [==============================] - 0s 35us/step - loss: 0.2563 - accuracy: 0.8998 - val_loss: 0.2942 - val_accuracy: 0.8789\n",
      "Epoch 206/600\n",
      "14028/14028 [==============================] - 0s 36us/step - loss: 0.2568 - accuracy: 0.8993 - val_loss: 0.2747 - val_accuracy: 0.8856\n",
      "Epoch 207/600\n",
      "14028/14028 [==============================] - 0s 35us/step - loss: 0.2559 - accuracy: 0.8991 - val_loss: 0.3227 - val_accuracy: 0.8660\n",
      "Epoch 208/600\n",
      "14028/14028 [==============================] - 0s 36us/step - loss: 0.2555 - accuracy: 0.8985 - val_loss: 0.2859 - val_accuracy: 0.8784\n",
      "Epoch 209/600\n",
      "14028/14028 [==============================] - 0s 35us/step - loss: 0.2564 - accuracy: 0.8985 - val_loss: 0.2874 - val_accuracy: 0.8836\n",
      "Epoch 210/600\n",
      "14028/14028 [==============================] - 0s 35us/step - loss: 0.2548 - accuracy: 0.9000 - val_loss: 0.2651 - val_accuracy: 0.8940\n",
      "Epoch 211/600\n",
      "14028/14028 [==============================] - 1s 36us/step - loss: 0.2562 - accuracy: 0.8981 - val_loss: 0.3227 - val_accuracy: 0.8609\n",
      "Epoch 212/600\n",
      "14028/14028 [==============================] - 1s 36us/step - loss: 0.2563 - accuracy: 0.8974 - val_loss: 0.2912 - val_accuracy: 0.8773\n",
      "Epoch 213/600\n",
      "14028/14028 [==============================] - 1s 36us/step - loss: 0.2551 - accuracy: 0.8980 - val_loss: 0.2724 - val_accuracy: 0.8893\n",
      "Epoch 214/600\n",
      "14028/14028 [==============================] - 0s 35us/step - loss: 0.2561 - accuracy: 0.8989 - val_loss: 0.2673 - val_accuracy: 0.8898\n",
      "Epoch 215/600\n",
      "14028/14028 [==============================] - 0s 35us/step - loss: 0.2547 - accuracy: 0.8993 - val_loss: 0.2927 - val_accuracy: 0.8804\n",
      "Epoch 216/600\n",
      "14028/14028 [==============================] - 0s 35us/step - loss: 0.2555 - accuracy: 0.8995 - val_loss: 0.2870 - val_accuracy: 0.8800\n",
      "Epoch 217/600\n",
      "14028/14028 [==============================] - 0s 35us/step - loss: 0.2550 - accuracy: 0.8984 - val_loss: 0.2850 - val_accuracy: 0.8811\n",
      "Epoch 218/600\n",
      "14028/14028 [==============================] - 0s 35us/step - loss: 0.2547 - accuracy: 0.8992 - val_loss: 0.2757 - val_accuracy: 0.8847\n",
      "Epoch 219/600\n",
      "14028/14028 [==============================] - 0s 35us/step - loss: 0.2543 - accuracy: 0.8995 - val_loss: 0.2661 - val_accuracy: 0.8913\n",
      "Epoch 220/600\n",
      "14028/14028 [==============================] - 0s 35us/step - loss: 0.2548 - accuracy: 0.8991 - val_loss: 0.2715 - val_accuracy: 0.8882\n",
      "Epoch 221/600\n",
      "14028/14028 [==============================] - 0s 35us/step - loss: 0.2547 - accuracy: 0.9005 - val_loss: 0.2710 - val_accuracy: 0.8878\n",
      "Epoch 222/600\n",
      "14028/14028 [==============================] - 0s 35us/step - loss: 0.2542 - accuracy: 0.8998 - val_loss: 0.2735 - val_accuracy: 0.8867\n",
      "Epoch 223/600\n",
      "14028/14028 [==============================] - 0s 35us/step - loss: 0.2548 - accuracy: 0.8986 - val_loss: 0.2663 - val_accuracy: 0.8907\n",
      "Epoch 224/600\n",
      "14028/14028 [==============================] - 0s 35us/step - loss: 0.2538 - accuracy: 0.9016 - val_loss: 0.2696 - val_accuracy: 0.8902\n",
      "Epoch 225/600\n",
      "14028/14028 [==============================] - 0s 35us/step - loss: 0.2543 - accuracy: 0.8993 - val_loss: 0.2723 - val_accuracy: 0.8907\n",
      "Epoch 226/600\n",
      "14028/14028 [==============================] - 0s 35us/step - loss: 0.2541 - accuracy: 0.9003 - val_loss: 0.2842 - val_accuracy: 0.8822\n",
      "Epoch 227/600\n",
      "14028/14028 [==============================] - 1s 36us/step - loss: 0.2537 - accuracy: 0.9001 - val_loss: 0.2890 - val_accuracy: 0.8838\n",
      "Epoch 228/600\n",
      "14028/14028 [==============================] - 0s 35us/step - loss: 0.2525 - accuracy: 0.9010 - val_loss: 0.2660 - val_accuracy: 0.8927\n",
      "Epoch 229/600\n",
      "14028/14028 [==============================] - 0s 35us/step - loss: 0.2539 - accuracy: 0.8993 - val_loss: 0.2897 - val_accuracy: 0.8796\n",
      "Epoch 230/600\n",
      "14028/14028 [==============================] - 0s 35us/step - loss: 0.2530 - accuracy: 0.9009 - val_loss: 0.2753 - val_accuracy: 0.8869\n",
      "Epoch 231/600\n",
      "14028/14028 [==============================] - 0s 35us/step - loss: 0.2528 - accuracy: 0.9007 - val_loss: 0.2693 - val_accuracy: 0.8913\n",
      "Epoch 232/600\n",
      "14028/14028 [==============================] - 0s 35us/step - loss: 0.2541 - accuracy: 0.9003 - val_loss: 0.2876 - val_accuracy: 0.8809\n",
      "Epoch 233/600\n",
      "14028/14028 [==============================] - 0s 35us/step - loss: 0.2533 - accuracy: 0.9008 - val_loss: 0.2923 - val_accuracy: 0.8789\n",
      "Epoch 234/600\n",
      "14028/14028 [==============================] - 0s 35us/step - loss: 0.2530 - accuracy: 0.8996 - val_loss: 0.2647 - val_accuracy: 0.8918\n",
      "Epoch 235/600\n",
      "14028/14028 [==============================] - 0s 35us/step - loss: 0.2542 - accuracy: 0.8993 - val_loss: 0.2625 - val_accuracy: 0.8971\n",
      "Epoch 236/600\n",
      "14028/14028 [==============================] - 0s 35us/step - loss: 0.2535 - accuracy: 0.8990 - val_loss: 0.2700 - val_accuracy: 0.8876\n",
      "Epoch 237/600\n",
      "14028/14028 [==============================] - 0s 35us/step - loss: 0.2531 - accuracy: 0.9008 - val_loss: 0.2672 - val_accuracy: 0.8920\n",
      "Epoch 238/600\n",
      "14028/14028 [==============================] - 0s 35us/step - loss: 0.2528 - accuracy: 0.9003 - val_loss: 0.2640 - val_accuracy: 0.8913\n",
      "Epoch 239/600\n",
      "14028/14028 [==============================] - 0s 35us/step - loss: 0.2523 - accuracy: 0.9001 - val_loss: 0.2783 - val_accuracy: 0.8869\n",
      "Epoch 240/600\n",
      "14028/14028 [==============================] - 0s 35us/step - loss: 0.2536 - accuracy: 0.9003 - val_loss: 0.2612 - val_accuracy: 0.8958\n",
      "Epoch 241/600\n",
      "14028/14028 [==============================] - 0s 36us/step - loss: 0.2524 - accuracy: 0.8998 - val_loss: 0.2624 - val_accuracy: 0.8947\n",
      "Epoch 242/600\n",
      "14028/14028 [==============================] - 0s 35us/step - loss: 0.2529 - accuracy: 0.9006 - val_loss: 0.3199 - val_accuracy: 0.8684\n",
      "Epoch 243/600\n",
      "14028/14028 [==============================] - 1s 39us/step - loss: 0.2524 - accuracy: 0.9008 - val_loss: 0.2660 - val_accuracy: 0.8911\n",
      "Epoch 244/600\n",
      "14028/14028 [==============================] - 1s 37us/step - loss: 0.2521 - accuracy: 0.8997 - val_loss: 0.2659 - val_accuracy: 0.8909\n",
      "Epoch 245/600\n",
      "14028/14028 [==============================] - 1s 36us/step - loss: 0.2536 - accuracy: 0.8988 - val_loss: 0.2685 - val_accuracy: 0.8904\n",
      "Epoch 246/600\n",
      "14028/14028 [==============================] - 0s 34us/step - loss: 0.2531 - accuracy: 0.9023 - val_loss: 0.2695 - val_accuracy: 0.8887\n",
      "Epoch 247/600\n",
      "14028/14028 [==============================] - 0s 34us/step - loss: 0.2528 - accuracy: 0.8988 - val_loss: 0.2652 - val_accuracy: 0.8924\n",
      "Epoch 248/600\n",
      "14028/14028 [==============================] - 0s 35us/step - loss: 0.2517 - accuracy: 0.9011 - val_loss: 0.2678 - val_accuracy: 0.8918\n",
      "Epoch 249/600\n",
      "14028/14028 [==============================] - 0s 35us/step - loss: 0.2517 - accuracy: 0.9026 - val_loss: 0.3254 - val_accuracy: 0.8636\n",
      "Epoch 250/600\n",
      "14028/14028 [==============================] - 0s 35us/step - loss: 0.2529 - accuracy: 0.8996 - val_loss: 0.3216 - val_accuracy: 0.8649\n",
      "Epoch 251/600\n",
      "14028/14028 [==============================] - 0s 35us/step - loss: 0.2518 - accuracy: 0.9007 - val_loss: 0.2755 - val_accuracy: 0.8853\n",
      "Epoch 252/600\n",
      "14028/14028 [==============================] - 0s 35us/step - loss: 0.2525 - accuracy: 0.8998 - val_loss: 0.2724 - val_accuracy: 0.8876\n",
      "Epoch 253/600\n",
      "14028/14028 [==============================] - 0s 35us/step - loss: 0.2519 - accuracy: 0.9012 - val_loss: 0.2769 - val_accuracy: 0.8844\n",
      "Epoch 254/600\n",
      "14028/14028 [==============================] - 0s 35us/step - loss: 0.2521 - accuracy: 0.8997 - val_loss: 0.2606 - val_accuracy: 0.8967\n",
      "Epoch 255/600\n",
      "14028/14028 [==============================] - 0s 35us/step - loss: 0.2520 - accuracy: 0.9017 - val_loss: 0.3257 - val_accuracy: 0.8644\n",
      "Epoch 256/600\n",
      "14028/14028 [==============================] - 0s 35us/step - loss: 0.2519 - accuracy: 0.9021 - val_loss: 0.2744 - val_accuracy: 0.8847\n",
      "Epoch 257/600\n",
      "14028/14028 [==============================] - 0s 35us/step - loss: 0.2516 - accuracy: 0.9002 - val_loss: 0.2618 - val_accuracy: 0.8947\n",
      "Epoch 258/600\n",
      "14028/14028 [==============================] - 0s 35us/step - loss: 0.2521 - accuracy: 0.9013 - val_loss: 0.2653 - val_accuracy: 0.8944\n",
      "Epoch 259/600\n",
      "14028/14028 [==============================] - 0s 36us/step - loss: 0.2507 - accuracy: 0.9015 - val_loss: 0.2687 - val_accuracy: 0.8911\n",
      "Epoch 260/600\n",
      "14028/14028 [==============================] - 0s 35us/step - loss: 0.2517 - accuracy: 0.9019 - val_loss: 0.2853 - val_accuracy: 0.8804\n",
      "Epoch 261/600\n",
      "14028/14028 [==============================] - 0s 35us/step - loss: 0.2517 - accuracy: 0.9006 - val_loss: 0.2670 - val_accuracy: 0.8889\n",
      "Epoch 262/600\n",
      "14028/14028 [==============================] - 0s 35us/step - loss: 0.2507 - accuracy: 0.9012 - val_loss: 0.2740 - val_accuracy: 0.8860\n",
      "Epoch 263/600\n",
      "14028/14028 [==============================] - 0s 35us/step - loss: 0.2514 - accuracy: 0.9008 - val_loss: 0.3043 - val_accuracy: 0.8762\n",
      "Epoch 264/600\n",
      "14028/14028 [==============================] - 0s 35us/step - loss: 0.2504 - accuracy: 0.9011 - val_loss: 0.2908 - val_accuracy: 0.8804\n",
      "Epoch 265/600\n",
      "14028/14028 [==============================] - 0s 35us/step - loss: 0.2516 - accuracy: 0.9013 - val_loss: 0.2811 - val_accuracy: 0.8851\n",
      "Epoch 266/600\n",
      "14028/14028 [==============================] - 0s 35us/step - loss: 0.2508 - accuracy: 0.9021 - val_loss: 0.2842 - val_accuracy: 0.8829\n",
      "Epoch 267/600\n",
      "14028/14028 [==============================] - 0s 35us/step - loss: 0.2498 - accuracy: 0.9033 - val_loss: 0.2898 - val_accuracy: 0.8787\n",
      "Epoch 268/600\n",
      "14028/14028 [==============================] - 0s 35us/step - loss: 0.2514 - accuracy: 0.8998 - val_loss: 0.2857 - val_accuracy: 0.8822\n",
      "Epoch 269/600\n",
      "14028/14028 [==============================] - 0s 35us/step - loss: 0.2507 - accuracy: 0.9006 - val_loss: 0.2804 - val_accuracy: 0.8833\n",
      "Epoch 270/600\n",
      "14028/14028 [==============================] - 0s 35us/step - loss: 0.2513 - accuracy: 0.9014 - val_loss: 0.2601 - val_accuracy: 0.8962\n",
      "Epoch 271/600\n",
      "14028/14028 [==============================] - 0s 35us/step - loss: 0.2499 - accuracy: 0.9020 - val_loss: 0.2797 - val_accuracy: 0.8851\n",
      "Epoch 272/600\n",
      "14028/14028 [==============================] - 0s 35us/step - loss: 0.2504 - accuracy: 0.9012 - val_loss: 0.2741 - val_accuracy: 0.8880\n",
      "Epoch 273/600\n",
      "14028/14028 [==============================] - 0s 35us/step - loss: 0.2491 - accuracy: 0.9012 - val_loss: 0.2619 - val_accuracy: 0.8942\n",
      "Epoch 274/600\n",
      "14028/14028 [==============================] - 0s 35us/step - loss: 0.2503 - accuracy: 0.9021 - val_loss: 0.2920 - val_accuracy: 0.8804\n",
      "Epoch 275/600\n",
      "14028/14028 [==============================] - 0s 35us/step - loss: 0.2493 - accuracy: 0.9013 - val_loss: 0.2770 - val_accuracy: 0.8864\n",
      "Epoch 276/600\n",
      "14028/14028 [==============================] - 0s 35us/step - loss: 0.2505 - accuracy: 0.9026 - val_loss: 0.2749 - val_accuracy: 0.8929\n",
      "Epoch 277/600\n",
      "14028/14028 [==============================] - 0s 35us/step - loss: 0.2501 - accuracy: 0.9012 - val_loss: 0.2869 - val_accuracy: 0.8809\n",
      "Epoch 278/600\n",
      "14028/14028 [==============================] - 0s 35us/step - loss: 0.2500 - accuracy: 0.9031 - val_loss: 0.2706 - val_accuracy: 0.8884\n",
      "Epoch 279/600\n",
      "14028/14028 [==============================] - 0s 35us/step - loss: 0.2510 - accuracy: 0.9011 - val_loss: 0.2683 - val_accuracy: 0.8909\n",
      "Epoch 280/600\n",
      "14028/14028 [==============================] - 0s 35us/step - loss: 0.2508 - accuracy: 0.9023 - val_loss: 0.3112 - val_accuracy: 0.8696\n",
      "Epoch 281/600\n",
      "14028/14028 [==============================] - 0s 35us/step - loss: 0.2490 - accuracy: 0.9026 - val_loss: 0.2693 - val_accuracy: 0.8889\n",
      "Epoch 282/600\n",
      "14028/14028 [==============================] - 0s 35us/step - loss: 0.2509 - accuracy: 0.9005 - val_loss: 0.2714 - val_accuracy: 0.8878\n",
      "Epoch 283/600\n",
      "14028/14028 [==============================] - 0s 35us/step - loss: 0.2487 - accuracy: 0.9027 - val_loss: 0.2976 - val_accuracy: 0.8764\n",
      "Epoch 284/600\n",
      "14028/14028 [==============================] - 0s 35us/step - loss: 0.2494 - accuracy: 0.9019 - val_loss: 0.2881 - val_accuracy: 0.8818\n",
      "Epoch 285/600\n",
      "14028/14028 [==============================] - 0s 35us/step - loss: 0.2487 - accuracy: 0.9013 - val_loss: 0.2648 - val_accuracy: 0.8982\n",
      "Epoch 286/600\n",
      "14028/14028 [==============================] - 0s 35us/step - loss: 0.2500 - accuracy: 0.9018 - val_loss: 0.2690 - val_accuracy: 0.8909\n",
      "Epoch 287/600\n",
      "14028/14028 [==============================] - 0s 35us/step - loss: 0.2478 - accuracy: 0.9021 - val_loss: 0.2801 - val_accuracy: 0.8873\n",
      "Epoch 288/600\n",
      "14028/14028 [==============================] - 0s 35us/step - loss: 0.2487 - accuracy: 0.9031 - val_loss: 0.2766 - val_accuracy: 0.8831\n",
      "Epoch 289/600\n",
      "14028/14028 [==============================] - 0s 35us/step - loss: 0.2481 - accuracy: 0.9023 - val_loss: 0.2602 - val_accuracy: 0.8987\n",
      "Epoch 290/600\n",
      "14028/14028 [==============================] - 0s 35us/step - loss: 0.2497 - accuracy: 0.9016 - val_loss: 0.2611 - val_accuracy: 0.8982\n",
      "Epoch 291/600\n",
      "14028/14028 [==============================] - 0s 35us/step - loss: 0.2489 - accuracy: 0.9021 - val_loss: 0.2779 - val_accuracy: 0.8838\n",
      "Epoch 292/600\n",
      "14028/14028 [==============================] - 0s 35us/step - loss: 0.2494 - accuracy: 0.9008 - val_loss: 0.2682 - val_accuracy: 0.8878\n",
      "Epoch 293/600\n",
      "14028/14028 [==============================] - 0s 35us/step - loss: 0.2488 - accuracy: 0.9012 - val_loss: 0.2755 - val_accuracy: 0.8867\n",
      "Epoch 294/600\n",
      "14028/14028 [==============================] - 0s 35us/step - loss: 0.2489 - accuracy: 0.9031 - val_loss: 0.2664 - val_accuracy: 0.8907\n",
      "Epoch 295/600\n",
      "14028/14028 [==============================] - 0s 35us/step - loss: 0.2481 - accuracy: 0.9039 - val_loss: 0.2732 - val_accuracy: 0.8889\n",
      "Epoch 296/600\n",
      "14028/14028 [==============================] - 1s 36us/step - loss: 0.2482 - accuracy: 0.9020 - val_loss: 0.2588 - val_accuracy: 0.8993\n",
      "Epoch 297/600\n",
      "14028/14028 [==============================] - 0s 35us/step - loss: 0.2488 - accuracy: 0.9021 - val_loss: 0.2623 - val_accuracy: 0.8967\n",
      "Epoch 298/600\n",
      "14028/14028 [==============================] - 0s 35us/step - loss: 0.2481 - accuracy: 0.9047 - val_loss: 0.2782 - val_accuracy: 0.8864\n",
      "Epoch 299/600\n",
      "14028/14028 [==============================] - 0s 35us/step - loss: 0.2484 - accuracy: 0.9014 - val_loss: 0.2762 - val_accuracy: 0.8862\n",
      "Epoch 300/600\n",
      "14028/14028 [==============================] - 0s 35us/step - loss: 0.2477 - accuracy: 0.9022 - val_loss: 0.2607 - val_accuracy: 0.8967\n",
      "Epoch 301/600\n",
      "14028/14028 [==============================] - 0s 35us/step - loss: 0.2484 - accuracy: 0.9020 - val_loss: 0.2612 - val_accuracy: 0.8938\n",
      "Epoch 302/600\n",
      "14028/14028 [==============================] - 0s 35us/step - loss: 0.2487 - accuracy: 0.9019 - val_loss: 0.2587 - val_accuracy: 0.8976\n",
      "Epoch 303/600\n",
      "14028/14028 [==============================] - 1s 36us/step - loss: 0.2489 - accuracy: 0.9011 - val_loss: 0.2664 - val_accuracy: 0.8909\n",
      "Epoch 304/600\n",
      "14028/14028 [==============================] - 1s 37us/step - loss: 0.2483 - accuracy: 0.9038 - val_loss: 0.2587 - val_accuracy: 0.8987\n",
      "Epoch 305/600\n",
      "14028/14028 [==============================] - 1s 36us/step - loss: 0.2481 - accuracy: 0.9026 - val_loss: 0.2772 - val_accuracy: 0.8860\n",
      "Epoch 306/600\n",
      "14028/14028 [==============================] - 1s 36us/step - loss: 0.2482 - accuracy: 0.9031 - val_loss: 0.2781 - val_accuracy: 0.8882\n",
      "Epoch 307/600\n",
      "14028/14028 [==============================] - 0s 34us/step - loss: 0.2470 - accuracy: 0.9021 - val_loss: 0.2759 - val_accuracy: 0.8862\n",
      "Epoch 308/600\n",
      "14028/14028 [==============================] - 0s 34us/step - loss: 0.2487 - accuracy: 0.9038 - val_loss: 0.2849 - val_accuracy: 0.8816\n",
      "Epoch 309/600\n",
      "14028/14028 [==============================] - 0s 35us/step - loss: 0.2469 - accuracy: 0.9026 - val_loss: 0.2628 - val_accuracy: 0.8949\n",
      "Epoch 310/600\n",
      "14028/14028 [==============================] - 0s 35us/step - loss: 0.2470 - accuracy: 0.9041 - val_loss: 0.2562 - val_accuracy: 0.8993\n",
      "Epoch 311/600\n",
      "14028/14028 [==============================] - 0s 35us/step - loss: 0.2474 - accuracy: 0.9039 - val_loss: 0.2745 - val_accuracy: 0.8884\n",
      "Epoch 312/600\n",
      "14028/14028 [==============================] - 0s 35us/step - loss: 0.2481 - accuracy: 0.9030 - val_loss: 0.2675 - val_accuracy: 0.8893\n",
      "Epoch 313/600\n",
      "14028/14028 [==============================] - 0s 35us/step - loss: 0.2470 - accuracy: 0.9020 - val_loss: 0.2585 - val_accuracy: 0.8951\n",
      "Epoch 314/600\n",
      "14028/14028 [==============================] - 1s 36us/step - loss: 0.2470 - accuracy: 0.9050 - val_loss: 0.2581 - val_accuracy: 0.8973\n",
      "Epoch 315/600\n",
      "14028/14028 [==============================] - 0s 35us/step - loss: 0.2475 - accuracy: 0.9042 - val_loss: 0.2820 - val_accuracy: 0.8853\n",
      "Epoch 316/600\n",
      "14028/14028 [==============================] - 1s 36us/step - loss: 0.2460 - accuracy: 0.9043 - val_loss: 0.2635 - val_accuracy: 0.8953\n",
      "Epoch 317/600\n",
      "14028/14028 [==============================] - 0s 35us/step - loss: 0.2465 - accuracy: 0.9023 - val_loss: 0.2563 - val_accuracy: 0.9009\n",
      "Epoch 318/600\n",
      "14028/14028 [==============================] - 0s 35us/step - loss: 0.2480 - accuracy: 0.9024 - val_loss: 0.2668 - val_accuracy: 0.8900\n",
      "Epoch 319/600\n",
      "14028/14028 [==============================] - 1s 36us/step - loss: 0.2464 - accuracy: 0.9025 - val_loss: 0.2608 - val_accuracy: 0.8971\n",
      "Epoch 320/600\n",
      "14028/14028 [==============================] - 0s 35us/step - loss: 0.2471 - accuracy: 0.9036 - val_loss: 0.2712 - val_accuracy: 0.8882\n",
      "Epoch 321/600\n",
      "14028/14028 [==============================] - 0s 35us/step - loss: 0.2471 - accuracy: 0.9031 - val_loss: 0.2622 - val_accuracy: 0.8942\n",
      "Epoch 322/600\n",
      "14028/14028 [==============================] - 0s 35us/step - loss: 0.2469 - accuracy: 0.9017 - val_loss: 0.2661 - val_accuracy: 0.8936\n",
      "Epoch 323/600\n",
      "14028/14028 [==============================] - 0s 35us/step - loss: 0.2459 - accuracy: 0.9030 - val_loss: 0.2600 - val_accuracy: 0.9007\n",
      "Epoch 324/600\n",
      "14028/14028 [==============================] - 0s 35us/step - loss: 0.2456 - accuracy: 0.9047 - val_loss: 0.2639 - val_accuracy: 0.8971\n",
      "Epoch 325/600\n",
      "14028/14028 [==============================] - 0s 35us/step - loss: 0.2461 - accuracy: 0.9038 - val_loss: 0.2734 - val_accuracy: 0.8900\n",
      "Epoch 326/600\n",
      "14028/14028 [==============================] - 0s 35us/step - loss: 0.2470 - accuracy: 0.9018 - val_loss: 0.2698 - val_accuracy: 0.8893\n",
      "Epoch 327/600\n",
      "14028/14028 [==============================] - 0s 35us/step - loss: 0.2461 - accuracy: 0.9038 - val_loss: 0.2586 - val_accuracy: 0.8967\n",
      "Epoch 328/600\n",
      "14028/14028 [==============================] - 0s 35us/step - loss: 0.2466 - accuracy: 0.9040 - val_loss: 0.2834 - val_accuracy: 0.8829\n",
      "Epoch 329/600\n",
      "14028/14028 [==============================] - 0s 35us/step - loss: 0.2458 - accuracy: 0.9036 - val_loss: 0.2832 - val_accuracy: 0.8824\n",
      "Epoch 330/600\n",
      "14028/14028 [==============================] - 0s 35us/step - loss: 0.2447 - accuracy: 0.9040 - val_loss: 0.2595 - val_accuracy: 0.8942\n",
      "Epoch 331/600\n",
      "14028/14028 [==============================] - 0s 35us/step - loss: 0.2460 - accuracy: 0.9030 - val_loss: 0.2675 - val_accuracy: 0.8911\n",
      "Epoch 332/600\n",
      "14028/14028 [==============================] - 0s 35us/step - loss: 0.2449 - accuracy: 0.9056 - val_loss: 0.2579 - val_accuracy: 0.9000\n",
      "Epoch 333/600\n",
      "14028/14028 [==============================] - 0s 35us/step - loss: 0.2469 - accuracy: 0.9029 - val_loss: 0.3003 - val_accuracy: 0.8776\n",
      "Epoch 334/600\n",
      "14028/14028 [==============================] - 0s 36us/step - loss: 0.2456 - accuracy: 0.9033 - val_loss: 0.2579 - val_accuracy: 0.9000\n",
      "Epoch 335/600\n",
      "14028/14028 [==============================] - 0s 35us/step - loss: 0.2466 - accuracy: 0.9030 - val_loss: 0.2553 - val_accuracy: 0.9007\n",
      "Epoch 336/600\n",
      "14028/14028 [==============================] - 0s 35us/step - loss: 0.2457 - accuracy: 0.9060 - val_loss: 0.3131 - val_accuracy: 0.8687\n",
      "Epoch 337/600\n",
      "14028/14028 [==============================] - 0s 35us/step - loss: 0.2447 - accuracy: 0.9038 - val_loss: 0.2614 - val_accuracy: 0.8938\n",
      "Epoch 338/600\n",
      "14028/14028 [==============================] - 0s 35us/step - loss: 0.2452 - accuracy: 0.9055 - val_loss: 0.2577 - val_accuracy: 0.9007\n",
      "Epoch 339/600\n",
      "14028/14028 [==============================] - 0s 35us/step - loss: 0.2465 - accuracy: 0.9029 - val_loss: 0.2739 - val_accuracy: 0.8869\n",
      "Epoch 340/600\n",
      "14028/14028 [==============================] - 0s 35us/step - loss: 0.2458 - accuracy: 0.9035 - val_loss: 0.2733 - val_accuracy: 0.8876\n",
      "Epoch 341/600\n",
      "14028/14028 [==============================] - 0s 35us/step - loss: 0.2456 - accuracy: 0.9028 - val_loss: 0.3054 - val_accuracy: 0.8718\n",
      "Epoch 342/600\n",
      "14028/14028 [==============================] - 0s 35us/step - loss: 0.2452 - accuracy: 0.9037 - val_loss: 0.2562 - val_accuracy: 0.9002\n",
      "Epoch 343/600\n",
      "14028/14028 [==============================] - 0s 35us/step - loss: 0.2448 - accuracy: 0.9034 - val_loss: 0.2691 - val_accuracy: 0.8893\n",
      "Epoch 344/600\n",
      "14028/14028 [==============================] - 0s 35us/step - loss: 0.2440 - accuracy: 0.9050 - val_loss: 0.2884 - val_accuracy: 0.8809\n",
      "Epoch 345/600\n",
      "14028/14028 [==============================] - 0s 35us/step - loss: 0.2451 - accuracy: 0.9034 - val_loss: 0.2679 - val_accuracy: 0.8907\n",
      "Epoch 346/600\n",
      "14028/14028 [==============================] - 0s 35us/step - loss: 0.2452 - accuracy: 0.9032 - val_loss: 0.2568 - val_accuracy: 0.8996\n",
      "Epoch 347/600\n",
      "14028/14028 [==============================] - 0s 35us/step - loss: 0.2436 - accuracy: 0.9026 - val_loss: 0.2684 - val_accuracy: 0.8909\n",
      "Epoch 348/600\n",
      "14028/14028 [==============================] - 0s 36us/step - loss: 0.2450 - accuracy: 0.9047 - val_loss: 0.2575 - val_accuracy: 0.8971\n",
      "Epoch 349/600\n",
      "14028/14028 [==============================] - 0s 35us/step - loss: 0.2446 - accuracy: 0.9050 - val_loss: 0.2778 - val_accuracy: 0.8858\n",
      "Epoch 350/600\n",
      "14028/14028 [==============================] - 0s 35us/step - loss: 0.2450 - accuracy: 0.9049 - val_loss: 0.2637 - val_accuracy: 0.8938\n",
      "Epoch 351/600\n",
      "14028/14028 [==============================] - 0s 35us/step - loss: 0.2444 - accuracy: 0.9045 - val_loss: 0.2878 - val_accuracy: 0.8807\n",
      "Epoch 352/600\n",
      "14028/14028 [==============================] - 0s 35us/step - loss: 0.2450 - accuracy: 0.9019 - val_loss: 0.2752 - val_accuracy: 0.8867\n",
      "Epoch 353/600\n",
      "14028/14028 [==============================] - 0s 35us/step - loss: 0.2450 - accuracy: 0.9027 - val_loss: 0.2568 - val_accuracy: 0.8989\n",
      "Epoch 354/600\n",
      "14028/14028 [==============================] - 0s 35us/step - loss: 0.2446 - accuracy: 0.9030 - val_loss: 0.2640 - val_accuracy: 0.8962\n",
      "Epoch 355/600\n",
      "14028/14028 [==============================] - 0s 35us/step - loss: 0.2443 - accuracy: 0.9046 - val_loss: 0.2666 - val_accuracy: 0.8944\n",
      "Epoch 356/600\n",
      "14028/14028 [==============================] - 0s 35us/step - loss: 0.2435 - accuracy: 0.9030 - val_loss: 0.2899 - val_accuracy: 0.8773\n",
      "Epoch 357/600\n",
      "14028/14028 [==============================] - 1s 36us/step - loss: 0.2449 - accuracy: 0.9048 - val_loss: 0.2968 - val_accuracy: 0.8798\n",
      "Epoch 358/600\n",
      "14028/14028 [==============================] - 0s 35us/step - loss: 0.2444 - accuracy: 0.9036 - val_loss: 0.2812 - val_accuracy: 0.8842\n",
      "Epoch 359/600\n",
      "14028/14028 [==============================] - 0s 35us/step - loss: 0.2440 - accuracy: 0.9061 - val_loss: 0.2927 - val_accuracy: 0.8791\n",
      "Epoch 360/600\n",
      "14028/14028 [==============================] - 0s 35us/step - loss: 0.2433 - accuracy: 0.9043 - val_loss: 0.2592 - val_accuracy: 0.8987\n",
      "Epoch 361/600\n",
      "14028/14028 [==============================] - 0s 35us/step - loss: 0.2437 - accuracy: 0.9067 - val_loss: 0.2542 - val_accuracy: 0.9011\n",
      "Epoch 362/600\n",
      "14028/14028 [==============================] - 0s 35us/step - loss: 0.2441 - accuracy: 0.9047 - val_loss: 0.2618 - val_accuracy: 0.8936\n",
      "Epoch 363/600\n",
      "14028/14028 [==============================] - 0s 35us/step - loss: 0.2433 - accuracy: 0.9048 - val_loss: 0.2644 - val_accuracy: 0.8920\n",
      "Epoch 364/600\n",
      "14028/14028 [==============================] - 1s 39us/step - loss: 0.2439 - accuracy: 0.9046 - val_loss: 0.2674 - val_accuracy: 0.8887\n",
      "Epoch 365/600\n",
      "14028/14028 [==============================] - 1s 39us/step - loss: 0.2438 - accuracy: 0.9026 - val_loss: 0.3086 - val_accuracy: 0.8702\n",
      "Epoch 366/600\n",
      "14028/14028 [==============================] - 1s 36us/step - loss: 0.2432 - accuracy: 0.9050 - val_loss: 0.2737 - val_accuracy: 0.8893\n",
      "Epoch 367/600\n",
      "14028/14028 [==============================] - 1s 36us/step - loss: 0.2446 - accuracy: 0.9052 - val_loss: 0.2555 - val_accuracy: 0.8982\n",
      "Epoch 368/600\n",
      "14028/14028 [==============================] - 0s 34us/step - loss: 0.2422 - accuracy: 0.9060 - val_loss: 0.2973 - val_accuracy: 0.8804\n",
      "Epoch 369/600\n",
      "14028/14028 [==============================] - 0s 35us/step - loss: 0.2439 - accuracy: 0.9045 - val_loss: 0.2637 - val_accuracy: 0.8938\n",
      "Epoch 370/600\n",
      "14028/14028 [==============================] - 0s 35us/step - loss: 0.2437 - accuracy: 0.9042 - val_loss: 0.2624 - val_accuracy: 0.8980\n",
      "Epoch 371/600\n",
      "14028/14028 [==============================] - 0s 35us/step - loss: 0.2442 - accuracy: 0.9032 - val_loss: 0.2741 - val_accuracy: 0.8891\n",
      "Epoch 372/600\n",
      "14028/14028 [==============================] - 0s 35us/step - loss: 0.2434 - accuracy: 0.9038 - val_loss: 0.2571 - val_accuracy: 0.8960\n",
      "Epoch 373/600\n",
      "14028/14028 [==============================] - 0s 36us/step - loss: 0.2425 - accuracy: 0.9058 - val_loss: 0.2793 - val_accuracy: 0.8893\n",
      "Epoch 374/600\n",
      "14028/14028 [==============================] - 0s 35us/step - loss: 0.2428 - accuracy: 0.9038 - val_loss: 0.2878 - val_accuracy: 0.8818\n",
      "Epoch 375/600\n",
      "14028/14028 [==============================] - 0s 35us/step - loss: 0.2435 - accuracy: 0.9050 - val_loss: 0.2790 - val_accuracy: 0.8864\n",
      "Epoch 376/600\n",
      "14028/14028 [==============================] - 0s 35us/step - loss: 0.2430 - accuracy: 0.9040 - val_loss: 0.2677 - val_accuracy: 0.8931\n",
      "Epoch 377/600\n",
      "14028/14028 [==============================] - 0s 35us/step - loss: 0.2434 - accuracy: 0.9045 - val_loss: 0.2917 - val_accuracy: 0.8796\n",
      "Epoch 378/600\n",
      "14028/14028 [==============================] - 0s 35us/step - loss: 0.2425 - accuracy: 0.9065 - val_loss: 0.2676 - val_accuracy: 0.8938\n",
      "Epoch 379/600\n",
      "14028/14028 [==============================] - 0s 35us/step - loss: 0.2425 - accuracy: 0.9044 - val_loss: 0.2546 - val_accuracy: 0.9042\n",
      "Epoch 380/600\n",
      "14028/14028 [==============================] - 0s 35us/step - loss: 0.2431 - accuracy: 0.9053 - val_loss: 0.2605 - val_accuracy: 0.8964\n",
      "Epoch 381/600\n",
      "14028/14028 [==============================] - 0s 35us/step - loss: 0.2416 - accuracy: 0.9050 - val_loss: 0.2735 - val_accuracy: 0.8891\n",
      "Epoch 382/600\n",
      "14028/14028 [==============================] - 0s 35us/step - loss: 0.2422 - accuracy: 0.9041 - val_loss: 0.2591 - val_accuracy: 0.9009\n",
      "Epoch 383/600\n",
      "14028/14028 [==============================] - 0s 35us/step - loss: 0.2428 - accuracy: 0.9055 - val_loss: 0.2725 - val_accuracy: 0.8878\n",
      "Epoch 384/600\n",
      "14028/14028 [==============================] - 0s 35us/step - loss: 0.2419 - accuracy: 0.9053 - val_loss: 0.2719 - val_accuracy: 0.8929\n",
      "Epoch 385/600\n",
      "14028/14028 [==============================] - 0s 35us/step - loss: 0.2422 - accuracy: 0.9039 - val_loss: 0.2589 - val_accuracy: 0.8964\n",
      "Epoch 386/600\n",
      "14028/14028 [==============================] - 0s 35us/step - loss: 0.2418 - accuracy: 0.9075 - val_loss: 0.2685 - val_accuracy: 0.8902\n",
      "Epoch 387/600\n",
      "14028/14028 [==============================] - 0s 35us/step - loss: 0.2425 - accuracy: 0.9065 - val_loss: 0.2907 - val_accuracy: 0.8831\n",
      "Epoch 388/600\n",
      "14028/14028 [==============================] - 0s 35us/step - loss: 0.2423 - accuracy: 0.9052 - val_loss: 0.2684 - val_accuracy: 0.8904\n",
      "Epoch 389/600\n",
      "14028/14028 [==============================] - 0s 35us/step - loss: 0.2420 - accuracy: 0.9036 - val_loss: 0.2574 - val_accuracy: 0.9016\n",
      "Epoch 390/600\n",
      "14028/14028 [==============================] - 0s 35us/step - loss: 0.2424 - accuracy: 0.9048 - val_loss: 0.2538 - val_accuracy: 0.9036\n",
      "Epoch 391/600\n",
      "14028/14028 [==============================] - 0s 35us/step - loss: 0.2423 - accuracy: 0.9069 - val_loss: 0.2591 - val_accuracy: 0.8989\n",
      "Epoch 392/600\n",
      "14028/14028 [==============================] - 0s 35us/step - loss: 0.2424 - accuracy: 0.9053 - val_loss: 0.2649 - val_accuracy: 0.8933\n",
      "Epoch 393/600\n",
      "14028/14028 [==============================] - 0s 35us/step - loss: 0.2419 - accuracy: 0.9058 - val_loss: 0.2626 - val_accuracy: 0.8978\n",
      "Epoch 394/600\n",
      "14028/14028 [==============================] - 0s 35us/step - loss: 0.2419 - accuracy: 0.9044 - val_loss: 0.2636 - val_accuracy: 0.8960\n",
      "Epoch 395/600\n",
      "14028/14028 [==============================] - 0s 35us/step - loss: 0.2421 - accuracy: 0.9049 - val_loss: 0.2641 - val_accuracy: 0.8922\n",
      "Epoch 396/600\n",
      "14028/14028 [==============================] - 0s 35us/step - loss: 0.2402 - accuracy: 0.9064 - val_loss: 0.2932 - val_accuracy: 0.8780\n",
      "Epoch 397/600\n",
      "14028/14028 [==============================] - 0s 35us/step - loss: 0.2414 - accuracy: 0.9050 - val_loss: 0.2558 - val_accuracy: 0.9007\n",
      "Epoch 398/600\n",
      "14028/14028 [==============================] - 0s 35us/step - loss: 0.2412 - accuracy: 0.9069 - val_loss: 0.2584 - val_accuracy: 0.8984\n",
      "Epoch 399/600\n",
      "14028/14028 [==============================] - 0s 35us/step - loss: 0.2416 - accuracy: 0.9057 - val_loss: 0.2622 - val_accuracy: 0.8980\n",
      "Epoch 400/600\n",
      "14028/14028 [==============================] - 0s 35us/step - loss: 0.2404 - accuracy: 0.9089 - val_loss: 0.2621 - val_accuracy: 0.8958\n",
      "Epoch 401/600\n",
      "14028/14028 [==============================] - 0s 35us/step - loss: 0.2415 - accuracy: 0.9055 - val_loss: 0.2670 - val_accuracy: 0.8904\n",
      "Epoch 402/600\n",
      "14028/14028 [==============================] - 0s 35us/step - loss: 0.2410 - accuracy: 0.9063 - val_loss: 0.2678 - val_accuracy: 0.8931\n",
      "Epoch 403/600\n",
      "14028/14028 [==============================] - 0s 35us/step - loss: 0.2408 - accuracy: 0.9057 - val_loss: 0.2564 - val_accuracy: 0.8989\n",
      "Epoch 404/600\n",
      "14028/14028 [==============================] - 0s 35us/step - loss: 0.2396 - accuracy: 0.9069 - val_loss: 0.2553 - val_accuracy: 0.8996\n",
      "Epoch 405/600\n",
      "14028/14028 [==============================] - 1s 36us/step - loss: 0.2417 - accuracy: 0.9067 - val_loss: 0.2732 - val_accuracy: 0.8878\n",
      "Epoch 406/600\n",
      "14028/14028 [==============================] - 0s 35us/step - loss: 0.2406 - accuracy: 0.9072 - val_loss: 0.2575 - val_accuracy: 0.8991\n",
      "Epoch 407/600\n",
      "14028/14028 [==============================] - 0s 35us/step - loss: 0.2409 - accuracy: 0.9065 - val_loss: 0.2527 - val_accuracy: 0.9036\n",
      "Epoch 408/600\n",
      "14028/14028 [==============================] - 0s 35us/step - loss: 0.2412 - accuracy: 0.9040 - val_loss: 0.2535 - val_accuracy: 0.9036\n",
      "Epoch 409/600\n",
      "14028/14028 [==============================] - 0s 35us/step - loss: 0.2410 - accuracy: 0.9055 - val_loss: 0.2611 - val_accuracy: 0.8942\n",
      "Epoch 410/600\n",
      "14028/14028 [==============================] - 0s 35us/step - loss: 0.2411 - accuracy: 0.9063 - val_loss: 0.3391 - val_accuracy: 0.8571\n",
      "Epoch 411/600\n",
      "14028/14028 [==============================] - 0s 35us/step - loss: 0.2405 - accuracy: 0.9047 - val_loss: 0.2568 - val_accuracy: 0.9011\n",
      "Epoch 412/600\n",
      "14028/14028 [==============================] - 0s 35us/step - loss: 0.2408 - accuracy: 0.9061 - val_loss: 0.2554 - val_accuracy: 0.9004\n",
      "Epoch 413/600\n",
      "14028/14028 [==============================] - 0s 35us/step - loss: 0.2401 - accuracy: 0.9065 - val_loss: 0.2514 - val_accuracy: 0.9038\n",
      "Epoch 414/600\n",
      "14028/14028 [==============================] - 0s 35us/step - loss: 0.2403 - accuracy: 0.9044 - val_loss: 0.2607 - val_accuracy: 0.8978\n",
      "Epoch 415/600\n",
      "14028/14028 [==============================] - 0s 35us/step - loss: 0.2412 - accuracy: 0.9053 - val_loss: 0.2616 - val_accuracy: 0.8958\n",
      "Epoch 416/600\n",
      "14028/14028 [==============================] - 0s 35us/step - loss: 0.2414 - accuracy: 0.9060 - val_loss: 0.2559 - val_accuracy: 0.9049\n",
      "Epoch 417/600\n",
      "14028/14028 [==============================] - 1s 36us/step - loss: 0.2403 - accuracy: 0.9062 - val_loss: 0.3175 - val_accuracy: 0.8669\n",
      "Epoch 418/600\n",
      "14028/14028 [==============================] - 0s 35us/step - loss: 0.2407 - accuracy: 0.9065 - val_loss: 0.2585 - val_accuracy: 0.9004\n",
      "Epoch 419/600\n",
      "14028/14028 [==============================] - 0s 35us/step - loss: 0.2400 - accuracy: 0.9060 - val_loss: 0.2800 - val_accuracy: 0.8864\n",
      "Epoch 420/600\n",
      "14028/14028 [==============================] - 0s 35us/step - loss: 0.2402 - accuracy: 0.9062 - val_loss: 0.2531 - val_accuracy: 0.9027\n",
      "Epoch 421/600\n",
      "14028/14028 [==============================] - 0s 35us/step - loss: 0.2397 - accuracy: 0.9068 - val_loss: 0.2754 - val_accuracy: 0.8871\n",
      "Epoch 422/600\n",
      "14028/14028 [==============================] - 0s 35us/step - loss: 0.2398 - accuracy: 0.9060 - val_loss: 0.2542 - val_accuracy: 0.9007\n",
      "Epoch 423/600\n",
      "14028/14028 [==============================] - 0s 35us/step - loss: 0.2399 - accuracy: 0.9068 - val_loss: 0.2631 - val_accuracy: 0.8956\n",
      "Epoch 424/600\n",
      "14028/14028 [==============================] - 1s 36us/step - loss: 0.2405 - accuracy: 0.9063 - val_loss: 0.2530 - val_accuracy: 0.9004\n",
      "Epoch 425/600\n",
      "14028/14028 [==============================] - 1s 38us/step - loss: 0.2383 - accuracy: 0.9073 - val_loss: 0.2767 - val_accuracy: 0.8896\n",
      "Epoch 426/600\n",
      "14028/14028 [==============================] - 1s 38us/step - loss: 0.2397 - accuracy: 0.9066 - val_loss: 0.2585 - val_accuracy: 0.8984\n",
      "Epoch 427/600\n",
      "14028/14028 [==============================] - 1s 37us/step - loss: 0.2403 - accuracy: 0.9058 - val_loss: 0.2566 - val_accuracy: 0.8991\n",
      "Epoch 428/600\n",
      "14028/14028 [==============================] - 0s 33us/step - loss: 0.2399 - accuracy: 0.9060 - val_loss: 0.2553 - val_accuracy: 0.9031\n",
      "Epoch 429/600\n",
      "14028/14028 [==============================] - ETA: 0s - loss: 0.2404 - accuracy: 0.90 - 0s 35us/step - loss: 0.2384 - accuracy: 0.9081 - val_loss: 0.2747 - val_accuracy: 0.8911\n",
      "Epoch 430/600\n",
      "14028/14028 [==============================] - 0s 35us/step - loss: 0.2392 - accuracy: 0.9065 - val_loss: 0.2659 - val_accuracy: 0.8956\n",
      "Epoch 431/600\n",
      "14028/14028 [==============================] - 0s 34us/step - loss: 0.2398 - accuracy: 0.9072 - val_loss: 0.2761 - val_accuracy: 0.8913\n",
      "Epoch 432/600\n",
      "14028/14028 [==============================] - 0s 35us/step - loss: 0.2397 - accuracy: 0.9063 - val_loss: 0.2524 - val_accuracy: 0.9013\n",
      "Epoch 433/600\n",
      "14028/14028 [==============================] - 0s 35us/step - loss: 0.2388 - accuracy: 0.9060 - val_loss: 0.2984 - val_accuracy: 0.8776\n",
      "Epoch 434/600\n",
      "14028/14028 [==============================] - 0s 35us/step - loss: 0.2395 - accuracy: 0.9074 - val_loss: 0.2611 - val_accuracy: 0.8976\n",
      "Epoch 435/600\n",
      "14028/14028 [==============================] - 0s 35us/step - loss: 0.2387 - accuracy: 0.9080 - val_loss: 0.2520 - val_accuracy: 0.9007\n",
      "Epoch 436/600\n",
      "14028/14028 [==============================] - 0s 35us/step - loss: 0.2378 - accuracy: 0.9088 - val_loss: 0.2598 - val_accuracy: 0.8982\n",
      "Epoch 437/600\n",
      "14028/14028 [==============================] - 0s 35us/step - loss: 0.2392 - accuracy: 0.9061 - val_loss: 0.2538 - val_accuracy: 0.9027\n",
      "Epoch 438/600\n",
      "14028/14028 [==============================] - 0s 35us/step - loss: 0.2410 - accuracy: 0.9063 - val_loss: 0.2581 - val_accuracy: 0.8996\n",
      "Epoch 439/600\n",
      "14028/14028 [==============================] - 0s 35us/step - loss: 0.2379 - accuracy: 0.9078 - val_loss: 0.2600 - val_accuracy: 0.8967\n",
      "Epoch 440/600\n",
      "14028/14028 [==============================] - 0s 35us/step - loss: 0.2389 - accuracy: 0.9071 - val_loss: 0.2862 - val_accuracy: 0.8804\n",
      "Epoch 441/600\n",
      "14028/14028 [==============================] - 0s 35us/step - loss: 0.2387 - accuracy: 0.9080 - val_loss: 0.3081 - val_accuracy: 0.8729\n",
      "Epoch 442/600\n",
      "14028/14028 [==============================] - 0s 35us/step - loss: 0.2380 - accuracy: 0.9070 - val_loss: 0.2515 - val_accuracy: 0.9002\n",
      "Epoch 443/600\n",
      "14028/14028 [==============================] - 0s 35us/step - loss: 0.2388 - accuracy: 0.9056 - val_loss: 0.2736 - val_accuracy: 0.8904\n",
      "Epoch 444/600\n",
      "14028/14028 [==============================] - 0s 35us/step - loss: 0.2381 - accuracy: 0.9060 - val_loss: 0.2673 - val_accuracy: 0.8907\n",
      "Epoch 445/600\n",
      "14028/14028 [==============================] - 0s 35us/step - loss: 0.2391 - accuracy: 0.9057 - val_loss: 0.2530 - val_accuracy: 0.9029\n",
      "Epoch 446/600\n",
      "14028/14028 [==============================] - 0s 35us/step - loss: 0.2378 - accuracy: 0.9095 - val_loss: 0.2542 - val_accuracy: 0.9024\n",
      "Epoch 447/600\n",
      "14028/14028 [==============================] - 0s 35us/step - loss: 0.2395 - accuracy: 0.9070 - val_loss: 0.2574 - val_accuracy: 0.8982\n",
      "Epoch 448/600\n",
      "14028/14028 [==============================] - 0s 35us/step - loss: 0.2390 - accuracy: 0.9079 - val_loss: 0.2522 - val_accuracy: 0.9036\n",
      "Epoch 449/600\n",
      "14028/14028 [==============================] - 0s 35us/step - loss: 0.2384 - accuracy: 0.9070 - val_loss: 0.2695 - val_accuracy: 0.8929\n",
      "Epoch 450/600\n",
      "14028/14028 [==============================] - 0s 35us/step - loss: 0.2377 - accuracy: 0.9070 - val_loss: 0.2579 - val_accuracy: 0.8993\n",
      "Epoch 451/600\n",
      "14028/14028 [==============================] - 0s 35us/step - loss: 0.2377 - accuracy: 0.9078 - val_loss: 0.2895 - val_accuracy: 0.8838\n",
      "Epoch 452/600\n",
      "14028/14028 [==============================] - 0s 35us/step - loss: 0.2377 - accuracy: 0.9071 - val_loss: 0.2752 - val_accuracy: 0.8882\n",
      "Epoch 453/600\n",
      "14028/14028 [==============================] - 0s 35us/step - loss: 0.2383 - accuracy: 0.9077 - val_loss: 0.2578 - val_accuracy: 0.9000\n",
      "Epoch 454/600\n",
      "14028/14028 [==============================] - 0s 35us/step - loss: 0.2386 - accuracy: 0.9071 - val_loss: 0.3053 - val_accuracy: 0.8756\n",
      "Epoch 455/600\n",
      "14028/14028 [==============================] - 0s 35us/step - loss: 0.2385 - accuracy: 0.9071 - val_loss: 0.2644 - val_accuracy: 0.8976\n",
      "Epoch 456/600\n",
      "14028/14028 [==============================] - 0s 35us/step - loss: 0.2375 - accuracy: 0.9090 - val_loss: 0.2602 - val_accuracy: 0.8978\n",
      "Epoch 457/600\n",
      "14028/14028 [==============================] - 0s 35us/step - loss: 0.2381 - accuracy: 0.9075 - val_loss: 0.2512 - val_accuracy: 0.9040\n",
      "Epoch 458/600\n",
      "14028/14028 [==============================] - 0s 35us/step - loss: 0.2372 - accuracy: 0.9083 - val_loss: 0.2522 - val_accuracy: 0.9038\n",
      "Epoch 459/600\n",
      "14028/14028 [==============================] - 0s 35us/step - loss: 0.2375 - accuracy: 0.9066 - val_loss: 0.2574 - val_accuracy: 0.8993\n",
      "Epoch 460/600\n",
      "14028/14028 [==============================] - 0s 35us/step - loss: 0.2381 - accuracy: 0.9086 - val_loss: 0.2627 - val_accuracy: 0.8949\n",
      "Epoch 461/600\n",
      "14028/14028 [==============================] - 0s 35us/step - loss: 0.2367 - accuracy: 0.9075 - val_loss: 0.2666 - val_accuracy: 0.8909\n",
      "Epoch 462/600\n",
      "14028/14028 [==============================] - 0s 35us/step - loss: 0.2385 - accuracy: 0.9073 - val_loss: 0.2609 - val_accuracy: 0.8987\n",
      "Epoch 463/600\n",
      "14028/14028 [==============================] - 0s 35us/step - loss: 0.2378 - accuracy: 0.9073 - val_loss: 0.2558 - val_accuracy: 0.8993\n",
      "Epoch 464/600\n",
      "14028/14028 [==============================] - 0s 35us/step - loss: 0.2363 - accuracy: 0.9087 - val_loss: 0.2496 - val_accuracy: 0.9044\n",
      "Epoch 465/600\n",
      "14028/14028 [==============================] - 0s 35us/step - loss: 0.2377 - accuracy: 0.9073 - val_loss: 0.2538 - val_accuracy: 0.9027\n",
      "Epoch 466/600\n",
      "14028/14028 [==============================] - 0s 35us/step - loss: 0.2357 - accuracy: 0.9090 - val_loss: 0.3046 - val_accuracy: 0.8733\n",
      "Epoch 467/600\n",
      "14028/14028 [==============================] - 0s 35us/step - loss: 0.2373 - accuracy: 0.9071 - val_loss: 0.2541 - val_accuracy: 0.9002\n",
      "Epoch 468/600\n",
      "14028/14028 [==============================] - 0s 35us/step - loss: 0.2367 - accuracy: 0.9083 - val_loss: 0.2828 - val_accuracy: 0.8847\n",
      "Epoch 469/600\n",
      "14028/14028 [==============================] - 0s 35us/step - loss: 0.2369 - accuracy: 0.9095 - val_loss: 0.2668 - val_accuracy: 0.8909\n",
      "Epoch 470/600\n",
      "14028/14028 [==============================] - 0s 35us/step - loss: 0.2360 - accuracy: 0.9099 - val_loss: 0.2606 - val_accuracy: 0.8993\n",
      "Epoch 471/600\n",
      "14028/14028 [==============================] - 0s 35us/step - loss: 0.2370 - accuracy: 0.9080 - val_loss: 0.2508 - val_accuracy: 0.9024\n",
      "Epoch 472/600\n",
      "14028/14028 [==============================] - 0s 35us/step - loss: 0.2359 - accuracy: 0.9086 - val_loss: 0.2573 - val_accuracy: 0.9020\n",
      "Epoch 473/600\n",
      "14028/14028 [==============================] - 0s 35us/step - loss: 0.2371 - accuracy: 0.9075 - val_loss: 0.2708 - val_accuracy: 0.8916\n",
      "Epoch 474/600\n",
      "14028/14028 [==============================] - 0s 35us/step - loss: 0.2363 - accuracy: 0.9074 - val_loss: 0.2604 - val_accuracy: 0.8980\n",
      "Epoch 475/600\n",
      "14028/14028 [==============================] - 0s 35us/step - loss: 0.2378 - accuracy: 0.9070 - val_loss: 0.2681 - val_accuracy: 0.8913\n",
      "Epoch 476/600\n",
      "14028/14028 [==============================] - 0s 35us/step - loss: 0.2366 - accuracy: 0.9083 - val_loss: 0.2951 - val_accuracy: 0.8813\n",
      "Epoch 477/600\n",
      "14028/14028 [==============================] - 0s 35us/step - loss: 0.2375 - accuracy: 0.9089 - val_loss: 0.2601 - val_accuracy: 0.8976\n",
      "Epoch 478/600\n",
      "14028/14028 [==============================] - 0s 35us/step - loss: 0.2361 - accuracy: 0.9087 - val_loss: 0.2759 - val_accuracy: 0.8898\n",
      "Epoch 479/600\n",
      "14028/14028 [==============================] - 0s 35us/step - loss: 0.2361 - accuracy: 0.9075 - val_loss: 0.2975 - val_accuracy: 0.8802\n",
      "Epoch 480/600\n",
      "14028/14028 [==============================] - 0s 35us/step - loss: 0.2358 - accuracy: 0.9080 - val_loss: 0.2810 - val_accuracy: 0.8836\n",
      "Epoch 481/600\n",
      "14028/14028 [==============================] - 0s 35us/step - loss: 0.2359 - accuracy: 0.9100 - val_loss: 0.2602 - val_accuracy: 0.8978\n",
      "Epoch 482/600\n",
      "14028/14028 [==============================] - 0s 35us/step - loss: 0.2353 - accuracy: 0.9080 - val_loss: 0.2897 - val_accuracy: 0.8787\n",
      "Epoch 483/600\n",
      "14028/14028 [==============================] - 0s 35us/step - loss: 0.2367 - accuracy: 0.9086 - val_loss: 0.2971 - val_accuracy: 0.8796\n",
      "Epoch 484/600\n",
      "14028/14028 [==============================] - 0s 35us/step - loss: 0.2364 - accuracy: 0.9088 - val_loss: 0.2786 - val_accuracy: 0.8871\n",
      "Epoch 485/600\n",
      "14028/14028 [==============================] - 1s 37us/step - loss: 0.2359 - accuracy: 0.9106 - val_loss: 0.2769 - val_accuracy: 0.8907\n",
      "Epoch 486/600\n",
      "14028/14028 [==============================] - 1s 38us/step - loss: 0.2362 - accuracy: 0.9076 - val_loss: 0.2618 - val_accuracy: 0.8971\n",
      "Epoch 487/600\n",
      "14028/14028 [==============================] - 1s 38us/step - loss: 0.2358 - accuracy: 0.9088 - val_loss: 0.2537 - val_accuracy: 0.9040\n",
      "Epoch 488/600\n",
      "14028/14028 [==============================] - 1s 38us/step - loss: 0.2361 - accuracy: 0.9063 - val_loss: 0.2651 - val_accuracy: 0.8929\n",
      "Epoch 489/600\n",
      "14028/14028 [==============================] - 0s 34us/step - loss: 0.2359 - accuracy: 0.9078 - val_loss: 0.2702 - val_accuracy: 0.8918\n",
      "Epoch 490/600\n",
      "14028/14028 [==============================] - 0s 35us/step - loss: 0.2358 - accuracy: 0.9071 - val_loss: 0.2529 - val_accuracy: 0.9013\n",
      "Epoch 491/600\n",
      "14028/14028 [==============================] - 0s 35us/step - loss: 0.2355 - accuracy: 0.9090 - val_loss: 0.2897 - val_accuracy: 0.8853\n",
      "Epoch 492/600\n",
      "14028/14028 [==============================] - 0s 35us/step - loss: 0.2351 - accuracy: 0.9095 - val_loss: 0.2623 - val_accuracy: 0.8967\n",
      "Epoch 493/600\n",
      "14028/14028 [==============================] - 0s 35us/step - loss: 0.2363 - accuracy: 0.9075 - val_loss: 0.2635 - val_accuracy: 0.8978\n",
      "Epoch 494/600\n",
      "14028/14028 [==============================] - 0s 36us/step - loss: 0.2363 - accuracy: 0.9085 - val_loss: 0.2491 - val_accuracy: 0.9047\n",
      "Epoch 495/600\n",
      "14028/14028 [==============================] - 0s 35us/step - loss: 0.2370 - accuracy: 0.9073 - val_loss: 0.2566 - val_accuracy: 0.8987\n",
      "Epoch 496/600\n",
      "14028/14028 [==============================] - 0s 35us/step - loss: 0.2345 - accuracy: 0.9078 - val_loss: 0.2764 - val_accuracy: 0.8898\n",
      "Epoch 497/600\n",
      "14028/14028 [==============================] - 0s 35us/step - loss: 0.2368 - accuracy: 0.9077 - val_loss: 0.2598 - val_accuracy: 0.9000\n",
      "Epoch 498/600\n",
      "14028/14028 [==============================] - 0s 35us/step - loss: 0.2341 - accuracy: 0.9085 - val_loss: 0.2630 - val_accuracy: 0.8944\n",
      "Epoch 499/600\n",
      "14028/14028 [==============================] - 0s 35us/step - loss: 0.2341 - accuracy: 0.9095 - val_loss: 0.2625 - val_accuracy: 0.8976\n",
      "Epoch 500/600\n",
      "14028/14028 [==============================] - 0s 35us/step - loss: 0.2354 - accuracy: 0.9096 - val_loss: 0.2525 - val_accuracy: 0.9020\n",
      "Epoch 501/600\n",
      "14028/14028 [==============================] - 0s 35us/step - loss: 0.2348 - accuracy: 0.9098 - val_loss: 0.2960 - val_accuracy: 0.8782\n",
      "Epoch 502/600\n",
      "14028/14028 [==============================] - 0s 35us/step - loss: 0.2353 - accuracy: 0.9092 - val_loss: 0.2488 - val_accuracy: 0.9049\n",
      "Epoch 503/600\n",
      "14028/14028 [==============================] - 0s 35us/step - loss: 0.2360 - accuracy: 0.9088 - val_loss: 0.2745 - val_accuracy: 0.8867\n",
      "Epoch 504/600\n",
      "14028/14028 [==============================] - 0s 35us/step - loss: 0.2346 - accuracy: 0.9081 - val_loss: 0.2606 - val_accuracy: 0.8971\n",
      "Epoch 505/600\n",
      "14028/14028 [==============================] - 0s 35us/step - loss: 0.2347 - accuracy: 0.9099 - val_loss: 0.3264 - val_accuracy: 0.8624\n",
      "Epoch 506/600\n",
      "14028/14028 [==============================] - 0s 34us/step - loss: 0.2354 - accuracy: 0.9068 - val_loss: 0.2575 - val_accuracy: 0.9000\n",
      "Epoch 507/600\n",
      "14028/14028 [==============================] - 0s 35us/step - loss: 0.2347 - accuracy: 0.9077 - val_loss: 0.2507 - val_accuracy: 0.9069\n",
      "Epoch 508/600\n",
      "14028/14028 [==============================] - 0s 35us/step - loss: 0.2352 - accuracy: 0.9083 - val_loss: 0.3131 - val_accuracy: 0.8684\n",
      "Epoch 509/600\n",
      "14028/14028 [==============================] - 0s 35us/step - loss: 0.2352 - accuracy: 0.9058 - val_loss: 0.2489 - val_accuracy: 0.9040\n",
      "Epoch 510/600\n",
      "14028/14028 [==============================] - 0s 35us/step - loss: 0.2361 - accuracy: 0.9092 - val_loss: 0.2452 - val_accuracy: 0.9076\n",
      "Epoch 511/600\n",
      "14028/14028 [==============================] - 0s 35us/step - loss: 0.2344 - accuracy: 0.9082 - val_loss: 0.2508 - val_accuracy: 0.9013\n",
      "Epoch 512/600\n",
      "14028/14028 [==============================] - 0s 35us/step - loss: 0.2336 - accuracy: 0.9089 - val_loss: 0.2564 - val_accuracy: 0.8971\n",
      "Epoch 513/600\n",
      "14028/14028 [==============================] - 0s 35us/step - loss: 0.2350 - accuracy: 0.9107 - val_loss: 0.2594 - val_accuracy: 0.9000\n",
      "Epoch 514/600\n",
      "14028/14028 [==============================] - 0s 35us/step - loss: 0.2348 - accuracy: 0.9088 - val_loss: 0.2471 - val_accuracy: 0.9049\n",
      "Epoch 515/600\n",
      "14028/14028 [==============================] - 0s 35us/step - loss: 0.2338 - accuracy: 0.9100 - val_loss: 0.2509 - val_accuracy: 0.9027\n",
      "Epoch 516/600\n",
      "14028/14028 [==============================] - 0s 35us/step - loss: 0.2352 - accuracy: 0.9085 - val_loss: 0.3109 - val_accuracy: 0.8740\n",
      "Epoch 517/600\n",
      "14028/14028 [==============================] - 0s 35us/step - loss: 0.2331 - accuracy: 0.9106 - val_loss: 0.2565 - val_accuracy: 0.8989\n",
      "Epoch 518/600\n",
      "14028/14028 [==============================] - 0s 35us/step - loss: 0.2348 - accuracy: 0.9087 - val_loss: 0.2731 - val_accuracy: 0.8862\n",
      "Epoch 519/600\n",
      "14028/14028 [==============================] - 1s 36us/step - loss: 0.2346 - accuracy: 0.9085 - val_loss: 0.2501 - val_accuracy: 0.9029\n",
      "Epoch 520/600\n",
      "14028/14028 [==============================] - 0s 35us/step - loss: 0.2334 - accuracy: 0.9080 - val_loss: 0.2872 - val_accuracy: 0.8827\n",
      "Epoch 521/600\n",
      "14028/14028 [==============================] - 0s 35us/step - loss: 0.2346 - accuracy: 0.9091 - val_loss: 0.2617 - val_accuracy: 0.8978\n",
      "Epoch 522/600\n",
      "14028/14028 [==============================] - 0s 35us/step - loss: 0.2337 - accuracy: 0.9083 - val_loss: 0.2535 - val_accuracy: 0.9016\n",
      "Epoch 523/600\n",
      "14028/14028 [==============================] - 0s 35us/step - loss: 0.2334 - accuracy: 0.9103 - val_loss: 0.2578 - val_accuracy: 0.8982\n",
      "Epoch 524/600\n",
      "14028/14028 [==============================] - 0s 35us/step - loss: 0.2337 - accuracy: 0.9104 - val_loss: 0.2543 - val_accuracy: 0.9016\n",
      "Epoch 525/600\n",
      "14028/14028 [==============================] - 1s 36us/step - loss: 0.2345 - accuracy: 0.9095 - val_loss: 0.2603 - val_accuracy: 0.8987\n",
      "Epoch 526/600\n",
      "14028/14028 [==============================] - 0s 35us/step - loss: 0.2344 - accuracy: 0.9099 - val_loss: 0.2678 - val_accuracy: 0.8909\n",
      "Epoch 527/600\n",
      "14028/14028 [==============================] - 0s 35us/step - loss: 0.2346 - accuracy: 0.9078 - val_loss: 0.2659 - val_accuracy: 0.8960\n",
      "Epoch 528/600\n",
      "14028/14028 [==============================] - 0s 35us/step - loss: 0.2340 - accuracy: 0.9092 - val_loss: 0.2602 - val_accuracy: 0.8982\n",
      "Epoch 529/600\n",
      "14028/14028 [==============================] - 0s 35us/step - loss: 0.2353 - accuracy: 0.9088 - val_loss: 0.2553 - val_accuracy: 0.8998\n",
      "Epoch 530/600\n",
      "14028/14028 [==============================] - 0s 35us/step - loss: 0.2337 - accuracy: 0.9095 - val_loss: 0.2511 - val_accuracy: 0.9024\n",
      "Epoch 531/600\n",
      "14028/14028 [==============================] - 1s 37us/step - loss: 0.2346 - accuracy: 0.9082 - val_loss: 0.2514 - val_accuracy: 0.9040\n",
      "Epoch 532/600\n",
      "14028/14028 [==============================] - 0s 35us/step - loss: 0.2342 - accuracy: 0.9101 - val_loss: 0.2737 - val_accuracy: 0.8911\n",
      "Epoch 533/600\n",
      "14028/14028 [==============================] - 0s 35us/step - loss: 0.2336 - accuracy: 0.9084 - val_loss: 0.2576 - val_accuracy: 0.9002\n",
      "Epoch 534/600\n",
      "14028/14028 [==============================] - 0s 35us/step - loss: 0.2346 - accuracy: 0.9094 - val_loss: 0.2682 - val_accuracy: 0.8933\n",
      "Epoch 535/600\n",
      "14028/14028 [==============================] - 0s 35us/step - loss: 0.2330 - accuracy: 0.9114 - val_loss: 0.2712 - val_accuracy: 0.8922\n",
      "Epoch 536/600\n",
      "14028/14028 [==============================] - 0s 35us/step - loss: 0.2337 - accuracy: 0.9097 - val_loss: 0.2647 - val_accuracy: 0.8931\n",
      "Epoch 537/600\n",
      "14028/14028 [==============================] - 0s 35us/step - loss: 0.2335 - accuracy: 0.9103 - val_loss: 0.2638 - val_accuracy: 0.8969\n",
      "Epoch 538/600\n",
      "14028/14028 [==============================] - 1s 36us/step - loss: 0.2321 - accuracy: 0.9099 - val_loss: 0.2609 - val_accuracy: 0.9016\n",
      "Epoch 539/600\n",
      "14028/14028 [==============================] - 0s 35us/step - loss: 0.2339 - accuracy: 0.9069 - val_loss: 0.3384 - val_accuracy: 0.8576\n",
      "Epoch 540/600\n",
      "14028/14028 [==============================] - 0s 35us/step - loss: 0.2334 - accuracy: 0.9080 - val_loss: 0.2540 - val_accuracy: 0.9031\n",
      "Epoch 541/600\n",
      "14028/14028 [==============================] - 0s 35us/step - loss: 0.2343 - accuracy: 0.9080 - val_loss: 0.2870 - val_accuracy: 0.8831\n",
      "Epoch 542/600\n",
      "14028/14028 [==============================] - 0s 35us/step - loss: 0.2338 - accuracy: 0.9092 - val_loss: 0.2524 - val_accuracy: 0.9027\n",
      "Epoch 543/600\n",
      "14028/14028 [==============================] - 0s 35us/step - loss: 0.2326 - accuracy: 0.9086 - val_loss: 0.2912 - val_accuracy: 0.8822\n",
      "Epoch 544/600\n",
      "14028/14028 [==============================] - 0s 35us/step - loss: 0.2337 - accuracy: 0.9098 - val_loss: 0.2634 - val_accuracy: 0.8940\n",
      "Epoch 545/600\n",
      "14028/14028 [==============================] - 0s 35us/step - loss: 0.2338 - accuracy: 0.9088 - val_loss: 0.2499 - val_accuracy: 0.9022\n",
      "Epoch 546/600\n",
      "14028/14028 [==============================] - 1s 39us/step - loss: 0.2332 - accuracy: 0.9078 - val_loss: 0.2634 - val_accuracy: 0.8964\n",
      "Epoch 547/600\n",
      "14028/14028 [==============================] - 1s 39us/step - loss: 0.2336 - accuracy: 0.9096 - val_loss: 0.2481 - val_accuracy: 0.9056\n",
      "Epoch 548/600\n",
      "14028/14028 [==============================] - 1s 37us/step - loss: 0.2323 - accuracy: 0.9098 - val_loss: 0.2867 - val_accuracy: 0.8853\n",
      "Epoch 549/600\n",
      "14028/14028 [==============================] - 0s 33us/step - loss: 0.2320 - accuracy: 0.9092 - val_loss: 0.2636 - val_accuracy: 0.8944\n",
      "Epoch 550/600\n",
      "14028/14028 [==============================] - 0s 34us/step - loss: 0.2330 - accuracy: 0.9093 - val_loss: 0.2633 - val_accuracy: 0.8947\n",
      "Epoch 551/600\n",
      "14028/14028 [==============================] - 0s 34us/step - loss: 0.2324 - accuracy: 0.9120 - val_loss: 0.2556 - val_accuracy: 0.8989\n",
      "Epoch 552/600\n",
      "14028/14028 [==============================] - 0s 33us/step - loss: 0.2325 - accuracy: 0.9107 - val_loss: 0.2539 - val_accuracy: 0.9007\n",
      "Epoch 553/600\n",
      "14028/14028 [==============================] - 0s 35us/step - loss: 0.2325 - accuracy: 0.9095 - val_loss: 0.2519 - val_accuracy: 0.9016\n",
      "Epoch 554/600\n",
      "14028/14028 [==============================] - 0s 35us/step - loss: 0.2324 - accuracy: 0.9103 - val_loss: 0.2653 - val_accuracy: 0.8947\n",
      "Epoch 555/600\n",
      "14028/14028 [==============================] - 0s 35us/step - loss: 0.2335 - accuracy: 0.9100 - val_loss: 0.2541 - val_accuracy: 0.9020\n",
      "Epoch 556/600\n",
      "14028/14028 [==============================] - 0s 35us/step - loss: 0.2319 - accuracy: 0.9092 - val_loss: 0.2621 - val_accuracy: 0.9000\n",
      "Epoch 557/600\n",
      "14028/14028 [==============================] - 1s 36us/step - loss: 0.2312 - accuracy: 0.9091 - val_loss: 0.2611 - val_accuracy: 0.9007\n",
      "Epoch 558/600\n",
      "14028/14028 [==============================] - 0s 34us/step - loss: 0.2327 - accuracy: 0.9105 - val_loss: 0.2504 - val_accuracy: 0.9047\n",
      "Epoch 559/600\n",
      "14028/14028 [==============================] - 1s 36us/step - loss: 0.2345 - accuracy: 0.9093 - val_loss: 0.2537 - val_accuracy: 0.9058\n",
      "Epoch 560/600\n",
      "14028/14028 [==============================] - 0s 35us/step - loss: 0.2322 - accuracy: 0.9105 - val_loss: 0.3459 - val_accuracy: 0.8520\n",
      "Epoch 561/600\n",
      "14028/14028 [==============================] - 1s 36us/step - loss: 0.2326 - accuracy: 0.9095 - val_loss: 0.2620 - val_accuracy: 0.8962\n",
      "Epoch 562/600\n",
      "14028/14028 [==============================] - 0s 35us/step - loss: 0.2312 - accuracy: 0.9117 - val_loss: 0.3328 - val_accuracy: 0.8596\n",
      "Epoch 563/600\n",
      "14028/14028 [==============================] - 0s 35us/step - loss: 0.2314 - accuracy: 0.9106 - val_loss: 0.2521 - val_accuracy: 0.9038\n",
      "Epoch 564/600\n",
      "14028/14028 [==============================] - 0s 35us/step - loss: 0.2323 - accuracy: 0.9100 - val_loss: 0.2813 - val_accuracy: 0.8887\n",
      "Epoch 565/600\n",
      "14028/14028 [==============================] - 0s 35us/step - loss: 0.2324 - accuracy: 0.9096 - val_loss: 0.2535 - val_accuracy: 0.9033\n",
      "Epoch 566/600\n",
      "14028/14028 [==============================] - 0s 35us/step - loss: 0.2326 - accuracy: 0.9098 - val_loss: 0.2491 - val_accuracy: 0.9082\n",
      "Epoch 567/600\n",
      "14028/14028 [==============================] - 0s 35us/step - loss: 0.2313 - accuracy: 0.9095 - val_loss: 0.2500 - val_accuracy: 0.9042\n",
      "Epoch 568/600\n",
      "14028/14028 [==============================] - 0s 35us/step - loss: 0.2321 - accuracy: 0.9103 - val_loss: 0.2457 - val_accuracy: 0.9071\n",
      "Epoch 569/600\n",
      "14028/14028 [==============================] - 0s 35us/step - loss: 0.2319 - accuracy: 0.9111 - val_loss: 0.2803 - val_accuracy: 0.8867\n",
      "Epoch 570/600\n",
      "14028/14028 [==============================] - 0s 35us/step - loss: 0.2322 - accuracy: 0.9096 - val_loss: 0.2480 - val_accuracy: 0.9073\n",
      "Epoch 571/600\n",
      "14028/14028 [==============================] - 0s 35us/step - loss: 0.2309 - accuracy: 0.9116 - val_loss: 0.2512 - val_accuracy: 0.9076\n",
      "Epoch 572/600\n",
      "14028/14028 [==============================] - 0s 35us/step - loss: 0.2323 - accuracy: 0.9090 - val_loss: 0.2461 - val_accuracy: 0.9080\n",
      "Epoch 573/600\n",
      "14028/14028 [==============================] - 0s 35us/step - loss: 0.2320 - accuracy: 0.9100 - val_loss: 0.2552 - val_accuracy: 0.9040\n",
      "Epoch 574/600\n",
      "14028/14028 [==============================] - 0s 35us/step - loss: 0.2312 - accuracy: 0.9112 - val_loss: 0.2660 - val_accuracy: 0.8942\n",
      "Epoch 575/600\n",
      "14028/14028 [==============================] - 1s 37us/step - loss: 0.2315 - accuracy: 0.9096 - val_loss: 0.2990 - val_accuracy: 0.8793\n",
      "Epoch 576/600\n",
      "14028/14028 [==============================] - 0s 35us/step - loss: 0.2320 - accuracy: 0.9098 - val_loss: 0.2617 - val_accuracy: 0.8984\n",
      "Epoch 577/600\n",
      "14028/14028 [==============================] - 0s 35us/step - loss: 0.2306 - accuracy: 0.9096 - val_loss: 0.2461 - val_accuracy: 0.9080\n",
      "Epoch 578/600\n",
      "14028/14028 [==============================] - 0s 35us/step - loss: 0.2307 - accuracy: 0.9100 - val_loss: 0.2681 - val_accuracy: 0.8967\n",
      "Epoch 579/600\n",
      "14028/14028 [==============================] - 0s 35us/step - loss: 0.2320 - accuracy: 0.9107 - val_loss: 0.3225 - val_accuracy: 0.8633\n",
      "Epoch 580/600\n",
      "14028/14028 [==============================] - 0s 35us/step - loss: 0.2304 - accuracy: 0.9122 - val_loss: 0.2552 - val_accuracy: 0.9031\n",
      "Epoch 581/600\n",
      "14028/14028 [==============================] - 0s 35us/step - loss: 0.2323 - accuracy: 0.9106 - val_loss: 0.2587 - val_accuracy: 0.8978\n",
      "Epoch 582/600\n",
      "14028/14028 [==============================] - 0s 35us/step - loss: 0.2300 - accuracy: 0.9110 - val_loss: 0.2511 - val_accuracy: 0.9076\n",
      "Epoch 583/600\n",
      "14028/14028 [==============================] - 0s 35us/step - loss: 0.2316 - accuracy: 0.9103 - val_loss: 0.2498 - val_accuracy: 0.9062\n",
      "Epoch 584/600\n",
      "14028/14028 [==============================] - 0s 35us/step - loss: 0.2306 - accuracy: 0.9101 - val_loss: 0.2629 - val_accuracy: 0.8940\n",
      "Epoch 585/600\n",
      "14028/14028 [==============================] - 0s 35us/step - loss: 0.2313 - accuracy: 0.9103 - val_loss: 0.2912 - val_accuracy: 0.8816\n",
      "Epoch 586/600\n",
      "14028/14028 [==============================] - 0s 35us/step - loss: 0.2314 - accuracy: 0.9113 - val_loss: 0.2479 - val_accuracy: 0.9064\n",
      "Epoch 587/600\n",
      "14028/14028 [==============================] - 0s 35us/step - loss: 0.2298 - accuracy: 0.9110 - val_loss: 0.2853 - val_accuracy: 0.8838\n",
      "Epoch 588/600\n",
      "14028/14028 [==============================] - 0s 35us/step - loss: 0.2305 - accuracy: 0.9115 - val_loss: 0.2704 - val_accuracy: 0.8924\n",
      "Epoch 589/600\n",
      "14028/14028 [==============================] - 0s 35us/step - loss: 0.2317 - accuracy: 0.9104 - val_loss: 0.2515 - val_accuracy: 0.9018\n",
      "Epoch 590/600\n",
      "14028/14028 [==============================] - 0s 35us/step - loss: 0.2311 - accuracy: 0.9109 - val_loss: 0.2551 - val_accuracy: 0.9031\n",
      "Epoch 591/600\n",
      "14028/14028 [==============================] - 0s 35us/step - loss: 0.2314 - accuracy: 0.9117 - val_loss: 0.2442 - val_accuracy: 0.9091\n",
      "Epoch 592/600\n",
      "14028/14028 [==============================] - 0s 35us/step - loss: 0.2318 - accuracy: 0.9110 - val_loss: 0.2638 - val_accuracy: 0.8931\n",
      "Epoch 593/600\n",
      "14028/14028 [==============================] - 0s 35us/step - loss: 0.2311 - accuracy: 0.9100 - val_loss: 0.2496 - val_accuracy: 0.9044\n",
      "Epoch 594/600\n",
      "14028/14028 [==============================] - 0s 35us/step - loss: 0.2311 - accuracy: 0.9096 - val_loss: 0.2470 - val_accuracy: 0.9078\n",
      "Epoch 595/600\n",
      "14028/14028 [==============================] - 0s 35us/step - loss: 0.2304 - accuracy: 0.9116 - val_loss: 0.2469 - val_accuracy: 0.9071\n",
      "Epoch 596/600\n",
      "14028/14028 [==============================] - 0s 35us/step - loss: 0.2303 - accuracy: 0.9117 - val_loss: 0.2639 - val_accuracy: 0.8964\n",
      "Epoch 597/600\n",
      "14028/14028 [==============================] - 0s 35us/step - loss: 0.2312 - accuracy: 0.9104 - val_loss: 0.2526 - val_accuracy: 0.9033\n",
      "Epoch 598/600\n",
      "14028/14028 [==============================] - 0s 35us/step - loss: 0.2313 - accuracy: 0.9115 - val_loss: 0.2740 - val_accuracy: 0.8884\n",
      "Epoch 599/600\n",
      "14028/14028 [==============================] - 0s 35us/step - loss: 0.2314 - accuracy: 0.9104 - val_loss: 0.2619 - val_accuracy: 0.8940\n",
      "Epoch 600/600\n",
      "14028/14028 [==============================] - 0s 35us/step - loss: 0.2298 - accuracy: 0.9115 - val_loss: 0.2736 - val_accuracy: 0.8940\n"
     ]
    }
   ],
   "source": [
    "#Creating the model\n",
    "from keras.optimizers import Adadelta\n",
    "\n",
    "model = Sequential()\n",
    "model.add(Dense(400, input_dim = 5, kernel_initializer= 'uniform', activation= 'sigmoid'))\n",
    "model.add(Dense(150, input_dim = 5, kernel_initializer= 'uniform', activation= 'sigmoid'))\n",
    "model.add(Dense(1, activation='sigmoid'))\n",
    "    \n",
    "# compile the model\n",
    "adadelta = Adadelta(lr = 0.1)\n",
    "model.compile(loss = 'binary_crossentropy', optimizer = adadelta, metrics = ['accuracy'])\n",
    "\n",
    "#Fitting the model\n",
    "history = model.fit(X_train_smote, y_train_smote, validation_data = (X_test,y_test), epochs = 600, batch_size = 50)"
   ]
  },
  {
   "cell_type": "code",
   "execution_count": 27,
   "metadata": {},
   "outputs": [
    {
     "name": "stdout",
     "output_type": "stream",
     "text": [
      "14028/14028 [==============================] - 0s 19us/step\n"
     ]
    },
    {
     "data": {
      "text/plain": [
       "[0.23242248445196917, 0.909252941608429]"
      ]
     },
     "execution_count": 27,
     "metadata": {},
     "output_type": "execute_result"
    }
   ],
   "source": [
    "#Evaluating train accuracy\n",
    "model.evaluate(X_train_smote, y_train_smote)"
   ]
  },
  {
   "cell_type": "code",
   "execution_count": 29,
   "metadata": {},
   "outputs": [
    {
     "name": "stdout",
     "output_type": "stream",
     "text": [
      "Test accuracy of ANN is 89.4\n"
     ]
    }
   ],
   "source": [
    "#Evaluating test accuracy\n",
    "from sklearn.metrics import accuracy_score\n",
    "\n",
    "Y_pred_nn = model.predict(X_test)\n",
    "Y_pred_nn = (Y_pred_nn > 0.5)\n",
    "test_accuracy_nn = accuracy_score(y_test, Y_pred_nn)\n",
    "print(\"Test accuracy of ANN is \" + str(test_accuracy_nn * 100))"
   ]
  },
  {
   "cell_type": "code",
   "execution_count": 30,
   "metadata": {},
   "outputs": [
    {
     "data": {
      "text/plain": [
       "array([[2648,  338],\n",
       "       [ 139, 1375]], dtype=int64)"
      ]
     },
     "execution_count": 30,
     "metadata": {},
     "output_type": "execute_result"
    }
   ],
   "source": [
    "# Creating the Confusion Matrix\n",
    "from sklearn.metrics import confusion_matrix\n",
    "cm = confusion_matrix(y_test, Y_pred_nn)\n",
    "cm"
   ]
  },
  {
   "cell_type": "code",
   "execution_count": 34,
   "metadata": {},
   "outputs": [
    {
     "name": "stdout",
     "output_type": "stream",
     "text": [
      "              precision    recall  f1-score   support\n",
      "\n",
      "           0       0.95      0.89      0.92      2986\n",
      "           1       0.80      0.91      0.85      1514\n",
      "\n",
      "    accuracy                           0.89      4500\n",
      "   macro avg       0.88      0.90      0.88      4500\n",
      "weighted avg       0.90      0.89      0.90      4500\n",
      "\n"
     ]
    }
   ],
   "source": [
    "# Classification report\n",
    "from sklearn.metrics import classification_report, precision_score, recall_score, f1_score\n",
    "print(classification_report(y_test, Y_pred_nn))"
   ]
  },
  {
   "cell_type": "code",
   "execution_count": 32,
   "metadata": {},
   "outputs": [
    {
     "data": {
      "image/png": "[encoded data removed]",
      "text/plain": [
       "<Figure size 432x288 with 1 Axes>"
      ]
     },
     "metadata": {
      "needs_background": "light"
     },
     "output_type": "display_data"
    }
   ],
   "source": [
    "#Plot of Model Accuracy vs Epoch\n",
    "\n",
    "import matplotlib.pyplot as plt\n",
    "plt.plot(history.history['accuracy'])\n",
    "plt.plot(history.history['val_accuracy'])\n",
    "plt.title('Model accuracy')\n",
    "plt.ylabel('Accuracy')\n",
    "plt.xlabel('Epoch')\n",
    "plt.legend(['Train', 'Test'], loc='upper left')\n",
    "plt.show()"
   ]
  },
  {
   "cell_type": "code",
   "execution_count": 33,
   "metadata": {},
   "outputs": [
    {
     "data": {
      "image/png": "[encoded data removed]",
      "text/plain": [
       "<Figure size 432x288 with 1 Axes>"
      ]
     },
     "metadata": {
      "needs_background": "light"
     },
     "output_type": "display_data"
    }
   ],
   "source": [
    "#Plot of Model Loss vs Epoch\n",
    "\n",
    "import matplotlib.pyplot as plt\n",
    "plt.plot(history.history['loss'])\n",
    "plt.plot(history.history['val_loss'])\n",
    "plt.title('Model Loss')\n",
    "plt.ylabel('Loss')\n",
    "plt.xlabel('Epoch')\n",
    "plt.legend(['Train', 'Test'], loc='upper left')\n",
    "plt.show()"
   ]
  }
 ],
 "metadata": {
  "colab": {
   "collapsed_sections": [],
   "name": "thesis_DL-Copy1.ipynb",
   "provenance": [],
   "toc_visible": true
  },
  "kernelspec": {
   "display_name": "Python 3",
   "language": "python",
   "name": "python3"
  },
  "language_info": {
   "codemirror_mode": {
    "name": "ipython",
    "version": 3
   },
   "file_extension": ".py",
   "mimetype": "text/x-python",
   "name": "python",
   "nbconvert_exporter": "python",
   "pygments_lexer": "ipython3",
   "version": "3.7.6"
  }
 },
 "nbformat": 4,
 "nbformat_minor": 1
}
