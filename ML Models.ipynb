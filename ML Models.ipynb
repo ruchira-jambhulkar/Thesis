{
 "cells": [
  {
   "cell_type": "markdown",
   "metadata": {},
   "source": [
    "# Prediction of Diabetes using Machine Learning classification models"
   ]
  },
  {
   "cell_type": "code",
   "execution_count": 1,
   "metadata": {
    "colab": {
     "base_uri": "https://localhost:8080/",
     "height": 70
    },
    "colab_type": "code",
    "id": "kb1_UzgX_yse",
    "outputId": "da0b1099-851a-41d3-e729-897bb3431eff"
   },
   "outputs": [],
   "source": [
    "#Importing required Libraries\n",
    "\n",
    "import numpy as np\n",
    "import pandas as pd\n",
    "import matplotlib.pyplot as plt\n",
    "import seaborn as sns\n",
    "from sklearn.metrics import accuracy_score\n",
    "from sklearn.metrics import confusion_matrix\n",
    "from sklearn.metrics import classification_report"
   ]
  },
  {
   "cell_type": "markdown",
   "metadata": {},
   "source": [
    "## Part 1: Data Gathering"
   ]
  },
  {
   "cell_type": "code",
   "execution_count": 2,
   "metadata": {
    "colab": {},
    "colab_type": "code",
    "id": "H-3j746D_ysk"
   },
   "outputs": [
    {
     "name": "stdout",
     "output_type": "stream",
     "text": [
      "       PatientID  Pregnancies  PlasmaGlucose  DiastolicBloodPressure  \\\n",
      "0        1354778            0            171                      80   \n",
      "1        1147438            8             92                      93   \n",
      "2        1640031            7            115                      47   \n",
      "3        1883350            9            103                      78   \n",
      "4        1424119            1             85                      59   \n",
      "...          ...          ...            ...                     ...   \n",
      "14995    1490300           10             65                      60   \n",
      "14996    1744410            2             73                      66   \n",
      "14997    1742742            0             93                      89   \n",
      "14998    1099353            0            132                      98   \n",
      "14999    1386396            3            114                      65   \n",
      "\n",
      "       TricepsThickness  SerumInsulin        BMI  DiabetesPedigree  Age  \\\n",
      "0                    34            23  43.509726          1.213191   21   \n",
      "1                    47            36  21.240576          0.158365   23   \n",
      "2                    52            35  41.511523          0.079019   23   \n",
      "3                    25           304  29.582192          1.282870   43   \n",
      "4                    27            35  42.604536          0.549542   22   \n",
      "...                 ...           ...        ...               ...  ...   \n",
      "14995                46           177  33.512468          0.148327   41   \n",
      "14996                27           168  30.132636          0.862252   38   \n",
      "14997                43            57  18.690683          0.427049   24   \n",
      "14998                18           161  19.791645          0.302257   23   \n",
      "14999                47           512  36.215437          0.147363   34   \n",
      "\n",
      "       Diabetic  \n",
      "0             0  \n",
      "1             0  \n",
      "2             0  \n",
      "3             1  \n",
      "4             0  \n",
      "...         ...  \n",
      "14995         1  \n",
      "14996         1  \n",
      "14997         0  \n",
      "14998         0  \n",
      "14999         1  \n",
      "\n",
      "[15000 rows x 10 columns]\n"
     ]
    }
   ],
   "source": [
    "#Importing dataset\n",
    "diabetes_data = pd.read_csv('diabetes.csv')\n",
    "print(diabetes_data)"
   ]
  },
  {
   "cell_type": "markdown",
   "metadata": {},
   "source": [
    "## Part 2: Data Analysis"
   ]
  },
  {
   "cell_type": "code",
   "execution_count": 3,
   "metadata": {
    "colab": {
     "base_uri": "https://localhost:8080/",
     "height": 195
    },
    "colab_type": "code",
    "id": "emju41yZ_ysn",
    "outputId": "742d1538-339e-4209-fd3e-9a876eecf555"
   },
   "outputs": [
    {
     "data": {
      "text/html": [
       "<div>\n",
       "<style scoped>\n",
       "    .dataframe tbody tr th:only-of-type {\n",
       "        vertical-align: middle;\n",
       "    }\n",
       "\n",
       "    .dataframe tbody tr th {\n",
       "        vertical-align: top;\n",
       "    }\n",
       "\n",
       "    .dataframe thead th {\n",
       "        text-align: right;\n",
       "    }\n",
       "</style>\n",
       "<table border=\"1\" class=\"dataframe\">\n",
       "  <thead>\n",
       "    <tr style=\"text-align: right;\">\n",
       "      <th></th>\n",
       "      <th>PatientID</th>\n",
       "      <th>Pregnancies</th>\n",
       "      <th>PlasmaGlucose</th>\n",
       "      <th>DiastolicBloodPressure</th>\n",
       "      <th>TricepsThickness</th>\n",
       "      <th>SerumInsulin</th>\n",
       "      <th>BMI</th>\n",
       "      <th>DiabetesPedigree</th>\n",
       "      <th>Age</th>\n",
       "      <th>Diabetic</th>\n",
       "    </tr>\n",
       "  </thead>\n",
       "  <tbody>\n",
       "    <tr>\n",
       "      <th>0</th>\n",
       "      <td>1354778</td>\n",
       "      <td>0</td>\n",
       "      <td>171</td>\n",
       "      <td>80</td>\n",
       "      <td>34</td>\n",
       "      <td>23</td>\n",
       "      <td>43.509726</td>\n",
       "      <td>1.213191</td>\n",
       "      <td>21</td>\n",
       "      <td>0</td>\n",
       "    </tr>\n",
       "    <tr>\n",
       "      <th>1</th>\n",
       "      <td>1147438</td>\n",
       "      <td>8</td>\n",
       "      <td>92</td>\n",
       "      <td>93</td>\n",
       "      <td>47</td>\n",
       "      <td>36</td>\n",
       "      <td>21.240576</td>\n",
       "      <td>0.158365</td>\n",
       "      <td>23</td>\n",
       "      <td>0</td>\n",
       "    </tr>\n",
       "    <tr>\n",
       "      <th>2</th>\n",
       "      <td>1640031</td>\n",
       "      <td>7</td>\n",
       "      <td>115</td>\n",
       "      <td>47</td>\n",
       "      <td>52</td>\n",
       "      <td>35</td>\n",
       "      <td>41.511523</td>\n",
       "      <td>0.079019</td>\n",
       "      <td>23</td>\n",
       "      <td>0</td>\n",
       "    </tr>\n",
       "    <tr>\n",
       "      <th>3</th>\n",
       "      <td>1883350</td>\n",
       "      <td>9</td>\n",
       "      <td>103</td>\n",
       "      <td>78</td>\n",
       "      <td>25</td>\n",
       "      <td>304</td>\n",
       "      <td>29.582192</td>\n",
       "      <td>1.282870</td>\n",
       "      <td>43</td>\n",
       "      <td>1</td>\n",
       "    </tr>\n",
       "    <tr>\n",
       "      <th>4</th>\n",
       "      <td>1424119</td>\n",
       "      <td>1</td>\n",
       "      <td>85</td>\n",
       "      <td>59</td>\n",
       "      <td>27</td>\n",
       "      <td>35</td>\n",
       "      <td>42.604536</td>\n",
       "      <td>0.549542</td>\n",
       "      <td>22</td>\n",
       "      <td>0</td>\n",
       "    </tr>\n",
       "  </tbody>\n",
       "</table>\n",
       "</div>"
      ],
      "text/plain": [
       "   PatientID  Pregnancies  PlasmaGlucose  DiastolicBloodPressure  \\\n",
       "0    1354778            0            171                      80   \n",
       "1    1147438            8             92                      93   \n",
       "2    1640031            7            115                      47   \n",
       "3    1883350            9            103                      78   \n",
       "4    1424119            1             85                      59   \n",
       "\n",
       "   TricepsThickness  SerumInsulin        BMI  DiabetesPedigree  Age  Diabetic  \n",
       "0                34            23  43.509726          1.213191   21         0  \n",
       "1                47            36  21.240576          0.158365   23         0  \n",
       "2                52            35  41.511523          0.079019   23         0  \n",
       "3                25           304  29.582192          1.282870   43         1  \n",
       "4                27            35  42.604536          0.549542   22         0  "
      ]
     },
     "execution_count": 3,
     "metadata": {},
     "output_type": "execute_result"
    }
   ],
   "source": [
    "#Preview the data\n",
    "diabetes_data.head()"
   ]
  },
  {
   "cell_type": "code",
   "execution_count": 4,
   "metadata": {
    "colab": {
     "base_uri": "https://localhost:8080/",
     "height": 34
    },
    "colab_type": "code",
    "id": "sNhM06MT_ysr",
    "outputId": "4e376c03-4161-4c31-ab61-0c789347be07"
   },
   "outputs": [
    {
     "data": {
      "text/plain": [
       "(15000, 10)"
      ]
     },
     "execution_count": 4,
     "metadata": {},
     "output_type": "execute_result"
    }
   ],
   "source": [
    "#Checking the shape of data that is number of rows and columns\n",
    "diabetes_data.shape"
   ]
  },
  {
   "cell_type": "code",
   "execution_count": 5,
   "metadata": {
    "colab": {
     "base_uri": "https://localhost:8080/",
     "height": 286
    },
    "colab_type": "code",
    "id": "LrQzjv6W_ysu",
    "outputId": "3f63456c-d64f-4a3a-9372-77e109c5e23b"
   },
   "outputs": [
    {
     "name": "stdout",
     "output_type": "stream",
     "text": [
      "<class 'pandas.core.frame.DataFrame'>\n",
      "RangeIndex: 15000 entries, 0 to 14999\n",
      "Data columns (total 10 columns):\n",
      " #   Column                  Non-Null Count  Dtype  \n",
      "---  ------                  --------------  -----  \n",
      " 0   PatientID               15000 non-null  int64  \n",
      " 1   Pregnancies             15000 non-null  int64  \n",
      " 2   PlasmaGlucose           15000 non-null  int64  \n",
      " 3   DiastolicBloodPressure  15000 non-null  int64  \n",
      " 4   TricepsThickness        15000 non-null  int64  \n",
      " 5   SerumInsulin            15000 non-null  int64  \n",
      " 6   BMI                     15000 non-null  float64\n",
      " 7   DiabetesPedigree        15000 non-null  float64\n",
      " 8   Age                     15000 non-null  int64  \n",
      " 9   Diabetic                15000 non-null  int64  \n",
      "dtypes: float64(2), int64(8)\n",
      "memory usage: 1.1 MB\n"
     ]
    }
   ],
   "source": [
    "#Checking the attributes of the dataset\n",
    "diabetes_data.info()"
   ]
  },
  {
   "cell_type": "code",
   "execution_count": 6,
   "metadata": {
    "colab": {},
    "colab_type": "code",
    "id": "388BErELKK-b"
   },
   "outputs": [],
   "source": [
    "#Deleting the patient ID column\n",
    "del diabetes_data['PatientID']"
   ]
  },
  {
   "cell_type": "code",
   "execution_count": 7,
   "metadata": {
    "colab": {
     "base_uri": "https://localhost:8080/",
     "height": 34
    },
    "colab_type": "code",
    "id": "QO0xfXtP_ysy",
    "outputId": "9f23a96a-dc4a-4594-81df-6ff7b38e19ec"
   },
   "outputs": [
    {
     "name": "stdout",
     "output_type": "stream",
     "text": [
      "False\n"
     ]
    },
    {
     "data": {
      "text/plain": [
       "Pregnancies               0\n",
       "PlasmaGlucose             0\n",
       "DiastolicBloodPressure    0\n",
       "TricepsThickness          0\n",
       "SerumInsulin              0\n",
       "BMI                       0\n",
       "DiabetesPedigree          0\n",
       "Age                       0\n",
       "Diabetic                  0\n",
       "dtype: int64"
      ]
     },
     "execution_count": 7,
     "metadata": {},
     "output_type": "execute_result"
    }
   ],
   "source": [
    "#Checking for null values\n",
    "print (diabetes_data.isnull().values.any())\n",
    "diabetes_data.isnull().sum()"
   ]
  },
  {
   "cell_type": "code",
   "execution_count": 8,
   "metadata": {
    "colab": {
     "base_uri": "https://localhost:8080/",
     "height": 314
    },
    "colab_type": "code",
    "id": "bOpmoZwN_ys6",
    "outputId": "ff16a7d8-ad91-43dc-bc22-dd540d8ea46a"
   },
   "outputs": [
    {
     "data": {
      "text/html": [
       "<div>\n",
       "<style scoped>\n",
       "    .dataframe tbody tr th:only-of-type {\n",
       "        vertical-align: middle;\n",
       "    }\n",
       "\n",
       "    .dataframe tbody tr th {\n",
       "        vertical-align: top;\n",
       "    }\n",
       "\n",
       "    .dataframe thead th {\n",
       "        text-align: right;\n",
       "    }\n",
       "</style>\n",
       "<table border=\"1\" class=\"dataframe\">\n",
       "  <thead>\n",
       "    <tr style=\"text-align: right;\">\n",
       "      <th></th>\n",
       "      <th>count</th>\n",
       "      <th>mean</th>\n",
       "      <th>std</th>\n",
       "      <th>min</th>\n",
       "      <th>25%</th>\n",
       "      <th>50%</th>\n",
       "      <th>75%</th>\n",
       "      <th>max</th>\n",
       "    </tr>\n",
       "  </thead>\n",
       "  <tbody>\n",
       "    <tr>\n",
       "      <th>Pregnancies</th>\n",
       "      <td>15000.0</td>\n",
       "      <td>3.224533</td>\n",
       "      <td>3.391020</td>\n",
       "      <td>0.000000</td>\n",
       "      <td>0.000000</td>\n",
       "      <td>2.000000</td>\n",
       "      <td>6.000000</td>\n",
       "      <td>14.000000</td>\n",
       "    </tr>\n",
       "    <tr>\n",
       "      <th>PlasmaGlucose</th>\n",
       "      <td>15000.0</td>\n",
       "      <td>107.856867</td>\n",
       "      <td>31.981975</td>\n",
       "      <td>44.000000</td>\n",
       "      <td>84.000000</td>\n",
       "      <td>104.000000</td>\n",
       "      <td>129.000000</td>\n",
       "      <td>192.000000</td>\n",
       "    </tr>\n",
       "    <tr>\n",
       "      <th>DiastolicBloodPressure</th>\n",
       "      <td>15000.0</td>\n",
       "      <td>71.220667</td>\n",
       "      <td>16.758716</td>\n",
       "      <td>24.000000</td>\n",
       "      <td>58.000000</td>\n",
       "      <td>72.000000</td>\n",
       "      <td>85.000000</td>\n",
       "      <td>117.000000</td>\n",
       "    </tr>\n",
       "    <tr>\n",
       "      <th>TricepsThickness</th>\n",
       "      <td>15000.0</td>\n",
       "      <td>28.814000</td>\n",
       "      <td>14.555716</td>\n",
       "      <td>7.000000</td>\n",
       "      <td>15.000000</td>\n",
       "      <td>31.000000</td>\n",
       "      <td>41.000000</td>\n",
       "      <td>93.000000</td>\n",
       "    </tr>\n",
       "    <tr>\n",
       "      <th>SerumInsulin</th>\n",
       "      <td>15000.0</td>\n",
       "      <td>137.852133</td>\n",
       "      <td>133.068252</td>\n",
       "      <td>14.000000</td>\n",
       "      <td>39.000000</td>\n",
       "      <td>83.000000</td>\n",
       "      <td>195.000000</td>\n",
       "      <td>799.000000</td>\n",
       "    </tr>\n",
       "    <tr>\n",
       "      <th>BMI</th>\n",
       "      <td>15000.0</td>\n",
       "      <td>31.509646</td>\n",
       "      <td>9.759000</td>\n",
       "      <td>18.200512</td>\n",
       "      <td>21.259887</td>\n",
       "      <td>31.767940</td>\n",
       "      <td>39.259692</td>\n",
       "      <td>56.034628</td>\n",
       "    </tr>\n",
       "    <tr>\n",
       "      <th>DiabetesPedigree</th>\n",
       "      <td>15000.0</td>\n",
       "      <td>0.398968</td>\n",
       "      <td>0.377944</td>\n",
       "      <td>0.078044</td>\n",
       "      <td>0.137743</td>\n",
       "      <td>0.200297</td>\n",
       "      <td>0.616285</td>\n",
       "      <td>2.301594</td>\n",
       "    </tr>\n",
       "    <tr>\n",
       "      <th>Age</th>\n",
       "      <td>15000.0</td>\n",
       "      <td>30.137733</td>\n",
       "      <td>12.089703</td>\n",
       "      <td>21.000000</td>\n",
       "      <td>22.000000</td>\n",
       "      <td>24.000000</td>\n",
       "      <td>35.000000</td>\n",
       "      <td>77.000000</td>\n",
       "    </tr>\n",
       "    <tr>\n",
       "      <th>Diabetic</th>\n",
       "      <td>15000.0</td>\n",
       "      <td>0.333333</td>\n",
       "      <td>0.471420</td>\n",
       "      <td>0.000000</td>\n",
       "      <td>0.000000</td>\n",
       "      <td>0.000000</td>\n",
       "      <td>1.000000</td>\n",
       "      <td>1.000000</td>\n",
       "    </tr>\n",
       "  </tbody>\n",
       "</table>\n",
       "</div>"
      ],
      "text/plain": [
       "                          count        mean         std        min        25%  \\\n",
       "Pregnancies             15000.0    3.224533    3.391020   0.000000   0.000000   \n",
       "PlasmaGlucose           15000.0  107.856867   31.981975  44.000000  84.000000   \n",
       "DiastolicBloodPressure  15000.0   71.220667   16.758716  24.000000  58.000000   \n",
       "TricepsThickness        15000.0   28.814000   14.555716   7.000000  15.000000   \n",
       "SerumInsulin            15000.0  137.852133  133.068252  14.000000  39.000000   \n",
       "BMI                     15000.0   31.509646    9.759000  18.200512  21.259887   \n",
       "DiabetesPedigree        15000.0    0.398968    0.377944   0.078044   0.137743   \n",
       "Age                     15000.0   30.137733   12.089703  21.000000  22.000000   \n",
       "Diabetic                15000.0    0.333333    0.471420   0.000000   0.000000   \n",
       "\n",
       "                               50%         75%         max  \n",
       "Pregnancies               2.000000    6.000000   14.000000  \n",
       "PlasmaGlucose           104.000000  129.000000  192.000000  \n",
       "DiastolicBloodPressure   72.000000   85.000000  117.000000  \n",
       "TricepsThickness         31.000000   41.000000   93.000000  \n",
       "SerumInsulin             83.000000  195.000000  799.000000  \n",
       "BMI                      31.767940   39.259692   56.034628  \n",
       "DiabetesPedigree          0.200297    0.616285    2.301594  \n",
       "Age                      24.000000   35.000000   77.000000  \n",
       "Diabetic                  0.000000    1.000000    1.000000  "
      ]
     },
     "execution_count": 8,
     "metadata": {},
     "output_type": "execute_result"
    }
   ],
   "source": [
    "#Statistical summary of data\n",
    "diabetes_data.describe().T"
   ]
  },
  {
   "cell_type": "code",
   "execution_count": 9,
   "metadata": {
    "colab": {
     "base_uri": "https://localhost:8080/",
     "height": 607
    },
    "colab_type": "code",
    "id": "q02763HD_ys9",
    "outputId": "487fdde8-b5c6-4007-bcbb-63c90addf140"
   },
   "outputs": [],
   "source": [
    "#Using Histogram to represent the statistical summary\n",
    "#diabetes_data.hist(bins=10,figsize=(10,10))\n",
    "#plt.show()"
   ]
  },
  {
   "cell_type": "code",
   "execution_count": 10,
   "metadata": {
    "colab": {
     "base_uri": "https://localhost:8080/",
     "height": 296
    },
    "colab_type": "code",
    "id": "9udgXW2d_ys_",
    "outputId": "6a7a6904-e8c6-4b33-aa59-3fb98eed55fa"
   },
   "outputs": [
    {
     "data": {
      "text/plain": [
       "<matplotlib.axes._subplots.AxesSubplot at 0x256d9426048>"
      ]
     },
     "execution_count": 10,
     "metadata": {},
     "output_type": "execute_result"
    },
    {
     "data": {
      "image/png": "[encoded data removed]",
      "text/plain": [
       "<Figure size 432x288 with 1 Axes>"
      ]
     },
     "metadata": {
      "needs_background": "light"
     },
     "output_type": "display_data"
    }
   ],
   "source": [
    "# Outcome countplot\n",
    "sns.countplot(x = 'Diabetic',data = diabetes_data)"
   ]
  },
  {
   "cell_type": "markdown",
   "metadata": {},
   "source": [
    "## Part 3: Data Preprocessing"
   ]
  },
  {
   "cell_type": "markdown",
   "metadata": {},
   "source": [
    "### A. Feature Selection"
   ]
  },
  {
   "cell_type": "code",
   "execution_count": 11,
   "metadata": {
    "colab": {
     "base_uri": "https://localhost:8080/",
     "height": 168
    },
    "colab_type": "code",
    "id": "J-GFrf6mI_iE",
    "outputId": "00a155bf-c1a8-4fef-c688-17f3e5ac2ea2"
   },
   "outputs": [
    {
     "name": "stdout",
     "output_type": "stream",
     "text": [
      "                 Features          Score\n",
      "4            SerumInsulin  117899.178047\n",
      "0             Pregnancies    8873.960067\n",
      "7                     Age    8538.278751\n",
      "3        TricepsThickness    2565.049101\n",
      "1           PlasmaGlucose    2330.615204\n",
      "5                     BMI    2008.936371\n",
      "2  DiastolicBloodPressure     493.109061\n",
      "6        DiabetesPedigree     155.745810\n"
     ]
    }
   ],
   "source": [
    "#Feature Selection using Chi-square method\n",
    "\n",
    "from sklearn.feature_selection import chi2\n",
    "from sklearn.feature_selection import SelectKBest\n",
    "\n",
    "X = diabetes_data.iloc[:,0:8] \n",
    "y = diabetes_data.iloc[:,-1]   \n",
    "imp_features = SelectKBest(score_func=chi2, k=8)\n",
    "fit = imp_features.fit(X,y)\n",
    "df_scores = pd.DataFrame(fit.scores_)\n",
    "df_columns = pd.DataFrame(X.columns) \n",
    "attr_scores = pd.concat([df_columns,df_scores],axis=1)\n",
    "attr_scores.columns = ['Features','Score']  \n",
    "print(attr_scores.nlargest(8,'Score'))"
   ]
  },
  {
   "cell_type": "code",
   "execution_count": 12,
   "metadata": {
    "colab": {
     "base_uri": "https://localhost:8080/",
     "height": 334
    },
    "colab_type": "code",
    "id": "KmfDpfgF_ytE",
    "outputId": "b3c4e5f5-7bfd-4435-90d8-30bfb77de337"
   },
   "outputs": [
    {
     "data": {
      "text/html": [
       "<div>\n",
       "<style scoped>\n",
       "    .dataframe tbody tr th:only-of-type {\n",
       "        vertical-align: middle;\n",
       "    }\n",
       "\n",
       "    .dataframe tbody tr th {\n",
       "        vertical-align: top;\n",
       "    }\n",
       "\n",
       "    .dataframe thead th {\n",
       "        text-align: right;\n",
       "    }\n",
       "</style>\n",
       "<table border=\"1\" class=\"dataframe\">\n",
       "  <thead>\n",
       "    <tr style=\"text-align: right;\">\n",
       "      <th></th>\n",
       "      <th>Pregnancies</th>\n",
       "      <th>PlasmaGlucose</th>\n",
       "      <th>DiastolicBloodPressure</th>\n",
       "      <th>TricepsThickness</th>\n",
       "      <th>SerumInsulin</th>\n",
       "      <th>BMI</th>\n",
       "      <th>DiabetesPedigree</th>\n",
       "      <th>Age</th>\n",
       "      <th>Diabetic</th>\n",
       "    </tr>\n",
       "  </thead>\n",
       "  <tbody>\n",
       "    <tr>\n",
       "      <th>Pregnancies</th>\n",
       "      <td>1.000000</td>\n",
       "      <td>0.054502</td>\n",
       "      <td>0.043528</td>\n",
       "      <td>0.063605</td>\n",
       "      <td>0.104487</td>\n",
       "      <td>0.086386</td>\n",
       "      <td>0.054240</td>\n",
       "      <td>0.136972</td>\n",
       "      <td>0.407315</td>\n",
       "    </tr>\n",
       "    <tr>\n",
       "      <th>PlasmaGlucose</th>\n",
       "      <td>0.054502</td>\n",
       "      <td>1.000000</td>\n",
       "      <td>0.007212</td>\n",
       "      <td>0.027100</td>\n",
       "      <td>0.033545</td>\n",
       "      <td>0.020653</td>\n",
       "      <td>0.009057</td>\n",
       "      <td>0.038864</td>\n",
       "      <td>0.128004</td>\n",
       "    </tr>\n",
       "    <tr>\n",
       "      <th>DiastolicBloodPressure</th>\n",
       "      <td>0.043528</td>\n",
       "      <td>0.007212</td>\n",
       "      <td>1.000000</td>\n",
       "      <td>0.011106</td>\n",
       "      <td>0.022649</td>\n",
       "      <td>0.015873</td>\n",
       "      <td>0.014099</td>\n",
       "      <td>0.041333</td>\n",
       "      <td>0.091307</td>\n",
       "    </tr>\n",
       "    <tr>\n",
       "      <th>TricepsThickness</th>\n",
       "      <td>0.063605</td>\n",
       "      <td>0.027100</td>\n",
       "      <td>0.011106</td>\n",
       "      <td>1.000000</td>\n",
       "      <td>0.029688</td>\n",
       "      <td>0.024745</td>\n",
       "      <td>-0.000951</td>\n",
       "      <td>0.061383</td>\n",
       "      <td>0.152505</td>\n",
       "    </tr>\n",
       "    <tr>\n",
       "      <th>SerumInsulin</th>\n",
       "      <td>0.104487</td>\n",
       "      <td>0.033545</td>\n",
       "      <td>0.022649</td>\n",
       "      <td>0.029688</td>\n",
       "      <td>1.000000</td>\n",
       "      <td>0.051223</td>\n",
       "      <td>0.046324</td>\n",
       "      <td>0.088007</td>\n",
       "      <td>0.247375</td>\n",
       "    </tr>\n",
       "    <tr>\n",
       "      <th>BMI</th>\n",
       "      <td>0.086386</td>\n",
       "      <td>0.020653</td>\n",
       "      <td>0.015873</td>\n",
       "      <td>0.024745</td>\n",
       "      <td>0.051223</td>\n",
       "      <td>1.000000</td>\n",
       "      <td>0.028868</td>\n",
       "      <td>0.062910</td>\n",
       "      <td>0.210508</td>\n",
       "    </tr>\n",
       "    <tr>\n",
       "      <th>DiabetesPedigree</th>\n",
       "      <td>0.054240</td>\n",
       "      <td>0.009057</td>\n",
       "      <td>0.014099</td>\n",
       "      <td>-0.000951</td>\n",
       "      <td>0.046324</td>\n",
       "      <td>0.028868</td>\n",
       "      <td>1.000000</td>\n",
       "      <td>0.055633</td>\n",
       "      <td>0.170302</td>\n",
       "    </tr>\n",
       "    <tr>\n",
       "      <th>Age</th>\n",
       "      <td>0.136972</td>\n",
       "      <td>0.038864</td>\n",
       "      <td>0.041333</td>\n",
       "      <td>0.061383</td>\n",
       "      <td>0.088007</td>\n",
       "      <td>0.062910</td>\n",
       "      <td>0.055633</td>\n",
       "      <td>1.000000</td>\n",
       "      <td>0.342605</td>\n",
       "    </tr>\n",
       "    <tr>\n",
       "      <th>Diabetic</th>\n",
       "      <td>0.407315</td>\n",
       "      <td>0.128004</td>\n",
       "      <td>0.091307</td>\n",
       "      <td>0.152505</td>\n",
       "      <td>0.247375</td>\n",
       "      <td>0.210508</td>\n",
       "      <td>0.170302</td>\n",
       "      <td>0.342605</td>\n",
       "      <td>1.000000</td>\n",
       "    </tr>\n",
       "  </tbody>\n",
       "</table>\n",
       "</div>"
      ],
      "text/plain": [
       "                        Pregnancies  PlasmaGlucose  DiastolicBloodPressure  \\\n",
       "Pregnancies                1.000000       0.054502                0.043528   \n",
       "PlasmaGlucose              0.054502       1.000000                0.007212   \n",
       "DiastolicBloodPressure     0.043528       0.007212                1.000000   \n",
       "TricepsThickness           0.063605       0.027100                0.011106   \n",
       "SerumInsulin               0.104487       0.033545                0.022649   \n",
       "BMI                        0.086386       0.020653                0.015873   \n",
       "DiabetesPedigree           0.054240       0.009057                0.014099   \n",
       "Age                        0.136972       0.038864                0.041333   \n",
       "Diabetic                   0.407315       0.128004                0.091307   \n",
       "\n",
       "                        TricepsThickness  SerumInsulin       BMI  \\\n",
       "Pregnancies                     0.063605      0.104487  0.086386   \n",
       "PlasmaGlucose                   0.027100      0.033545  0.020653   \n",
       "DiastolicBloodPressure          0.011106      0.022649  0.015873   \n",
       "TricepsThickness                1.000000      0.029688  0.024745   \n",
       "SerumInsulin                    0.029688      1.000000  0.051223   \n",
       "BMI                             0.024745      0.051223  1.000000   \n",
       "DiabetesPedigree               -0.000951      0.046324  0.028868   \n",
       "Age                             0.061383      0.088007  0.062910   \n",
       "Diabetic                        0.152505      0.247375  0.210508   \n",
       "\n",
       "                        DiabetesPedigree       Age  Diabetic  \n",
       "Pregnancies                     0.054240  0.136972  0.407315  \n",
       "PlasmaGlucose                   0.009057  0.038864  0.128004  \n",
       "DiastolicBloodPressure          0.014099  0.041333  0.091307  \n",
       "TricepsThickness               -0.000951  0.061383  0.152505  \n",
       "SerumInsulin                    0.046324  0.088007  0.247375  \n",
       "BMI                             0.028868  0.062910  0.210508  \n",
       "DiabetesPedigree                1.000000  0.055633  0.170302  \n",
       "Age                             0.055633  1.000000  0.342605  \n",
       "Diabetic                        0.170302  0.342605  1.000000  "
      ]
     },
     "execution_count": 12,
     "metadata": {},
     "output_type": "execute_result"
    }
   ],
   "source": [
    "#Feature Selection using Correlation Matrix\n",
    "diabetes_data.corr()"
   ]
  },
  {
   "cell_type": "code",
   "execution_count": 13,
   "metadata": {
    "colab": {
     "base_uri": "https://localhost:8080/",
     "height": 645
    },
    "colab_type": "code",
    "id": "l_vJnyAh_ytB",
    "outputId": "6f5fee95-5687-4e71-882d-d80fa1d2dab0"
   },
   "outputs": [
    {
     "data": {
      "image/png": "[encoded data removed]",
      "text/plain": [
       "<Figure size 864x648 with 2 Axes>"
      ]
     },
     "metadata": {
      "needs_background": "light"
     },
     "output_type": "display_data"
    }
   ],
   "source": [
    "#Using Heatmap to visualize the correlation matrix\n",
    "\n",
    "fig, ax = plt.subplots(figsize=(12, 9))\n",
    "sns.heatmap(diabetes_data.corr(), vmax=1, annot=True,square=True);\n",
    "plt.show()"
   ]
  },
  {
   "cell_type": "code",
   "execution_count": 14,
   "metadata": {
    "colab": {
     "base_uri": "https://localhost:8080/",
     "height": 298
    },
    "colab_type": "code",
    "id": "5pipcD8XL2Lg",
    "outputId": "4cb80764-d23d-453a-ac63-05ed816b267c"
   },
   "outputs": [
    {
     "name": "stdout",
     "output_type": "stream",
     "text": [
      "[0.30549495 0.09638555 0.04904292 0.05668018 0.11885115 0.17215234\n",
      " 0.04401984 0.15737307]\n"
     ]
    },
    {
     "data": {
      "image/png": "[encoded data removed]",
      "text/plain": [
       "<Figure size 432x288 with 1 Axes>"
      ]
     },
     "metadata": {
      "needs_background": "light"
     },
     "output_type": "display_data"
    }
   ],
   "source": [
    "#Using RandomForest classifier for feature selection\n",
    "\n",
    "from sklearn.ensemble import RandomForestClassifier\n",
    "\n",
    "model = RandomForestClassifier()\n",
    "model.fit(X,y)\n",
    "print(model.feature_importances_) \n",
    "feat_importances = pd.Series(model.feature_importances_, index=X.columns)\n",
    "feat_importances.nlargest(8).plot(kind='barh')\n",
    "plt.show()"
   ]
  },
  {
   "cell_type": "code",
   "execution_count": 15,
   "metadata": {
    "colab": {},
    "colab_type": "code",
    "id": "5F77zWvM_ytG"
   },
   "outputs": [],
   "source": [
    "# Feature scaling using MinMaxScaler\n",
    "#from sklearn.preprocessing import MinMaxScaler\n",
    "#scalar = MinMaxScaler(feature_range = (0, 1))\n",
    "#data_scaled = scalar.fit_transform(data)"
   ]
  },
  {
   "cell_type": "code",
   "execution_count": 16,
   "metadata": {
    "colab": {},
    "colab_type": "code",
    "id": "YVUKD5df_ytI"
   },
   "outputs": [],
   "source": [
    "#data_scaled = pd.DataFrame(data_scaled)\n",
    "#data_scaled"
   ]
  },
  {
   "cell_type": "code",
   "execution_count": 17,
   "metadata": {
    "colab": {},
    "colab_type": "code",
    "id": "fDcy_r8J_ytO"
   },
   "outputs": [],
   "source": [
    "# Selecting features - [Preganancies,Glucose, Insulin, BMI, Age]\n",
    "X = diabetes_data.iloc[:, [0, 1, 4, 5, 7]].values\n",
    "\n",
    "#Labelled data\n",
    "Y = diabetes_data.iloc[:, 8].values"
   ]
  },
  {
   "cell_type": "markdown",
   "metadata": {},
   "source": [
    "### B. Feature Scaling using MinMaxScalar"
   ]
  },
  {
   "cell_type": "code",
   "execution_count": 18,
   "metadata": {},
   "outputs": [
    {
     "data": {
      "text/plain": [
       "array([[0.        , 0.85810811, 0.01146497, 0.66895218, 0.        ],\n",
       "       [0.57142857, 0.32432432, 0.02802548, 0.08035246, 0.03571429],\n",
       "       [0.5       , 0.47972973, 0.02675159, 0.61613735, 0.03571429],\n",
       "       ...,\n",
       "       [0.        , 0.33108108, 0.05477707, 0.01295581, 0.05357143],\n",
       "       [0.        , 0.59459459, 0.18726115, 0.04205552, 0.03571429],\n",
       "       [0.21428571, 0.47297297, 0.6343949 , 0.47615557, 0.23214286]])"
      ]
     },
     "execution_count": 18,
     "metadata": {},
     "output_type": "execute_result"
    }
   ],
   "source": [
    "# Feature scaling using MinMaxScaler\n",
    "\n",
    "from sklearn.preprocessing import MinMaxScaler\n",
    "scalar = MinMaxScaler(feature_range = (0, 1))\n",
    "scalar.fit_transform(X,Y)"
   ]
  },
  {
   "cell_type": "code",
   "execution_count": 19,
   "metadata": {},
   "outputs": [],
   "source": [
    "#Setting the seed value\n",
    "\n",
    "seed = 5\n",
    "np.random.seed(seed)"
   ]
  },
  {
   "cell_type": "code",
   "execution_count": 20,
   "metadata": {
    "colab": {},
    "colab_type": "code",
    "id": "msvtwcGE_ytR"
   },
   "outputs": [],
   "source": [
    "#Splitting the data into train data and test data\n",
    "from sklearn.model_selection import train_test_split\n",
    "X_train, X_test, Y_train, Y_test = train_test_split(X, Y, test_size = 0.20, random_state = 42, stratify = diabetes_data['Diabetic'] )"
   ]
  },
  {
   "cell_type": "code",
   "execution_count": 21,
   "metadata": {
    "colab": {
     "base_uri": "https://localhost:8080/",
     "height": 34
    },
    "colab_type": "code",
    "id": "u3_yMUES_ytU",
    "outputId": "a2758f65-70f6-43da-c5bc-ae3913f1df12"
   },
   "outputs": [
    {
     "data": {
      "text/plain": [
       "<matplotlib.axes._subplots.AxesSubplot at 0x256db1c2b48>"
      ]
     },
     "execution_count": 21,
     "metadata": {},
     "output_type": "execute_result"
    },
    {
     "data": {
      "image/png": "[encoded data removed]",
      "text/plain": [
       "<Figure size 432x288 with 1 Axes>"
      ]
     },
     "metadata": {
      "needs_background": "light"
     },
     "output_type": "display_data"
    }
   ],
   "source": [
    "# Checking the count of 0 and 1 by plotting the countplot\n",
    "\n",
    "sns.countplot(x = 'Diabetic',data = diabetes_data)"
   ]
  },
  {
   "cell_type": "code",
   "execution_count": 22,
   "metadata": {},
   "outputs": [],
   "source": [
    "#Using the SMOTE library for balancing the outcome.\n",
    "\n",
    "from imblearn.over_sampling import SMOTE\n",
    "\n",
    "# transform the dataset\n",
    "smote = SMOTE(random_state=2)\n",
    "X_train_smote, y_train_smote = smote.fit_sample(X_train, Y_train)"
   ]
  },
  {
   "cell_type": "code",
   "execution_count": 23,
   "metadata": {},
   "outputs": [
    {
     "name": "stdout",
     "output_type": "stream",
     "text": [
      "The shape of X_train before oversampling = (12000, 5)\n",
      "The shape of Y_train before oversampling = (12000,)\n",
      "The count of label 0 before oversampling = 8000\n",
      "The count of label 1 before oversampling = 4000\n",
      "The shape of X_train_smote after oversampling = (16000, 5)\n",
      "The shape of Y_train before oversampling = (16000,)\n",
      "The count of label 0 before after oversampling = 8000\n",
      "The count of label 1 before after oversampling = 8000\n"
     ]
    }
   ],
   "source": [
    "#Before Oversampling - Checking the shape of data and count of outcome\n",
    "\n",
    "print(\"The shape of X_train before oversampling = {}\".format(X_train.shape))\n",
    "print(\"The shape of Y_train before oversampling = {}\".format(Y_train.shape))\n",
    "\n",
    "print(\"The count of label 0 before oversampling = {}\".format(sum(Y_train == 0)))\n",
    "print(\"The count of label 1 before oversampling = {}\".format(sum(Y_train == 1)))\n",
    "\n",
    "#After Oversampling - Checking the shape of data and count of outcome\n",
    "  \n",
    "print(\"The shape of X_train_smote after oversampling = {}\".format(X_train_smote.shape))\n",
    "print(\"The shape of Y_train before oversampling = {}\".format(y_train_smote.shape))\n",
    "\n",
    "print(\"The count of label 0 before after oversampling = {}\".format(sum(y_train_smote == 0)))\n",
    "print(\"The count of label 1 before after oversampling = {}\".format(sum(y_train_smote == 1)))"
   ]
  },
  {
   "cell_type": "markdown",
   "metadata": {},
   "source": [
    "## Part 4: Data Modelling and Model Evaluation"
   ]
  },
  {
   "cell_type": "markdown",
   "metadata": {},
   "source": [
    "### 1.Logistic Regression"
   ]
  },
  {
   "cell_type": "code",
   "execution_count": 51,
   "metadata": {},
   "outputs": [
    {
     "name": "stdout",
     "output_type": "stream",
     "text": [
      "Fitting 10 folds for each of 24 candidates, totalling 240 fits\n"
     ]
    },
    {
     "name": "stderr",
     "output_type": "stream",
     "text": [
      "[Parallel(n_jobs=-1)]: Using backend LokyBackend with 8 concurrent workers.\n",
      "[Parallel(n_jobs=-1)]: Batch computation too fast (0.0125s.) Setting batch_size=2.\n",
      "[Parallel(n_jobs=-1)]: Done   2 tasks      | elapsed:    0.0s\n",
      "[Parallel(n_jobs=-1)]: Done   9 tasks      | elapsed:    0.0s\n",
      "[Parallel(n_jobs=-1)]: Batch computation too fast (0.1316s.) Setting batch_size=4.\n",
      "[Parallel(n_jobs=-1)]: Done  19 tasks      | elapsed:    0.1s\n",
      "[Parallel(n_jobs=-1)]: Done  34 tasks      | elapsed:    0.2s\n",
      "[Parallel(n_jobs=-1)]: Batch computation too fast (0.1895s.) Setting batch_size=8.\n",
      "[Parallel(n_jobs=-1)]: Done  56 tasks      | elapsed:    0.4s\n",
      "[Parallel(n_jobs=-1)]: Done 104 tasks      | elapsed:    0.7s\n",
      "[Parallel(n_jobs=-1)]: Done 200 out of 240 | elapsed:    1.5s remaining:    0.2s\n",
      "[Parallel(n_jobs=-1)]: Done 240 out of 240 | elapsed:    1.8s finished\n"
     ]
    }
   ],
   "source": [
    "# Import LogisticRegression library\n",
    "from sklearn.model_selection import GridSearchCV\n",
    "from sklearn.linear_model import LogisticRegression\n",
    "\n",
    "#Creating Model\n",
    "logistic_model = LogisticRegression(random_state = 42)\n",
    "\n",
    "#Defining Parameters\n",
    "C = [0.001,0.01, 0.1, 1, 5, 10, 50, 100, 500, 1000, 50000, 100000] \n",
    "penalty = ['l2']\n",
    "\n",
    "# Creating a dictionay of the grid search paramters \n",
    "param_grid = {'C':C,'penalty':penalty}\n",
    "\n",
    "# Buidling the grid using GridSearchCV\n",
    "grid=GridSearchCV(estimator=logistic_model, param_grid=param_grid, n_jobs=-1, cv=10,verbose=10, return_train_score=True)\n",
    "\n",
    "#Fitting the grid\n",
    "grid_search = grid.fit(X_train_smote,y_train_smote)"
   ]
  },
  {
   "cell_type": "code",
   "execution_count": 52,
   "metadata": {},
   "outputs": [
    {
     "name": "stdout",
     "output_type": "stream",
     "text": [
      "Best Accuracy: 0.7610625, using {'C': 1, 'penalty': 'l2'}\n"
     ]
    }
   ],
   "source": [
    "# Summarizing the result - Best Accuracy \n",
    "print(\"Best Accuracy: {0}, using {1}\".format(grid_search.best_score_, grid_search.best_params_))"
   ]
  },
  {
   "cell_type": "code",
   "execution_count": 53,
   "metadata": {},
   "outputs": [
    {
     "name": "stdout",
     "output_type": "stream",
     "text": [
      "nan nan (nan) with: {'C': 0.001, 'penalty': 'l1'}\n",
      "0.7605763888888889 0.7610624999999999 (0.010043071305631545) with: {'C': 0.001, 'penalty': 'l2'}\n",
      "nan nan (nan) with: {'C': 0.01, 'penalty': 'l1'}\n",
      "0.7605138888888889 0.760875 (0.011068677653631424) with: {'C': 0.01, 'penalty': 'l2'}\n",
      "nan nan (nan) with: {'C': 0.1, 'penalty': 'l1'}\n",
      "0.7604722222222222 0.761 (0.011022703842524286) with: {'C': 0.1, 'penalty': 'l2'}\n",
      "nan nan (nan) with: {'C': 1, 'penalty': 'l1'}\n",
      "0.7604791666666667 0.7610625 (0.011064618441229676) with: {'C': 1, 'penalty': 'l2'}\n",
      "nan nan (nan) with: {'C': 5, 'penalty': 'l1'}\n",
      "0.7604791666666667 0.7610625 (0.011064618441229676) with: {'C': 5, 'penalty': 'l2'}\n",
      "nan nan (nan) with: {'C': 10, 'penalty': 'l1'}\n",
      "0.7604791666666667 0.7610625 (0.011064618441229676) with: {'C': 10, 'penalty': 'l2'}\n",
      "nan nan (nan) with: {'C': 50, 'penalty': 'l1'}\n",
      "0.7604861111111111 0.7610625 (0.011064618441229676) with: {'C': 50, 'penalty': 'l2'}\n",
      "nan nan (nan) with: {'C': 100, 'penalty': 'l1'}\n",
      "0.7604861111111111 0.7610625 (0.011064618441229676) with: {'C': 100, 'penalty': 'l2'}\n",
      "nan nan (nan) with: {'C': 500, 'penalty': 'l1'}\n",
      "0.7604861111111111 0.7610625 (0.011064618441229676) with: {'C': 500, 'penalty': 'l2'}\n",
      "nan nan (nan) with: {'C': 1000, 'penalty': 'l1'}\n",
      "0.7604861111111111 0.7610625 (0.011064618441229676) with: {'C': 1000, 'penalty': 'l2'}\n",
      "nan nan (nan) with: {'C': 50000, 'penalty': 'l1'}\n",
      "0.7604861111111111 0.7610625 (0.011064618441229676) with: {'C': 50000, 'penalty': 'l2'}\n",
      "nan nan (nan) with: {'C': 100000, 'penalty': 'l1'}\n",
      "0.7604861111111111 0.7610625 (0.011064618441229676) with: {'C': 100000, 'penalty': 'l2'}\n"
     ]
    }
   ],
   "source": [
    "# finding the mean train accuracy, mean test accuracy and standard deviation\n",
    "means_train = grid_search.cv_results_['mean_train_score']\n",
    "means_test = grid_search.cv_results_['mean_test_score']\n",
    "stds = grid_search.cv_results_['std_test_score']\n",
    "params = grid_search.cv_results_['params']\n",
    "for mean_train,mean_test, stdev, param in zip(means_train,means_test, stds, params):\n",
    "    print('{0} {1} ({2}) with: {3}'.format(mean_train,mean_test, stdev, param))"
   ]
  },
  {
   "cell_type": "code",
   "execution_count": 25,
   "metadata": {},
   "outputs": [
    {
     "data": {
      "text/plain": [
       "LogisticRegression(C=1)"
      ]
     },
     "execution_count": 25,
     "metadata": {},
     "output_type": "execute_result"
    }
   ],
   "source": [
    "from sklearn.linear_model import LogisticRegression\n",
    "#Creating Model\n",
    "logistic_model = LogisticRegression(C=1, penalty='l2')\n",
    "\n",
    "#Fitting the model\n",
    "logistic_model.fit(X_train_smote, y_train_smote)"
   ]
  },
  {
   "cell_type": "code",
   "execution_count": 26,
   "metadata": {},
   "outputs": [
    {
     "name": "stdout",
     "output_type": "stream",
     "text": [
      "Training accuracy of Logistic Regression model is 76.03125\n"
     ]
    }
   ],
   "source": [
    "#Calculating train accuracy\n",
    "\n",
    "logistic_accuracy_train = accuracy_score(y_train_smote,logistic_model.predict(X_train_smote))\n",
    "print(\"Training accuracy of Logistic Regression model is \" + str(logistic_accuracy_train * 100))"
   ]
  },
  {
   "cell_type": "code",
   "execution_count": 27,
   "metadata": {},
   "outputs": [
    {
     "name": "stdout",
     "output_type": "stream",
     "text": [
      "Test Accuracy of Logistic Regression model is 76.13333333333333\n"
     ]
    }
   ],
   "source": [
    "# Making predictions on test dataset\n",
    "Y_predict_logistic = logistic_model.predict(X_test)\n",
    "\n",
    "# Calculating test accuracy\n",
    "logistic_accuracy_test = accuracy_score(Y_test, Y_predict_logistic)\n",
    "print(\"Test Accuracy of Logistic Regression model is \" + str(logistic_accuracy_test * 100))"
   ]
  },
  {
   "cell_type": "code",
   "execution_count": 28,
   "metadata": {},
   "outputs": [
    {
     "data": {
      "text/plain": [
       "array([[1525,  475],\n",
       "       [ 241,  759]], dtype=int64)"
      ]
     },
     "execution_count": 28,
     "metadata": {},
     "output_type": "execute_result"
    }
   ],
   "source": [
    "# Confusion matrix\n",
    "\n",
    "confusion_matrix_logistic = confusion_matrix(Y_test, Y_predict_logistic)\n",
    "confusion_matrix_logistic"
   ]
  },
  {
   "cell_type": "code",
   "execution_count": 29,
   "metadata": {},
   "outputs": [
    {
     "name": "stdout",
     "output_type": "stream",
     "text": [
      "              precision    recall  f1-score   support\n",
      "\n",
      "           0       0.86      0.76      0.81      2000\n",
      "           1       0.62      0.76      0.68      1000\n",
      "\n",
      "    accuracy                           0.76      3000\n",
      "   macro avg       0.74      0.76      0.74      3000\n",
      "weighted avg       0.78      0.76      0.77      3000\n",
      "\n"
     ]
    }
   ],
   "source": [
    "# Classification Report\n",
    "\n",
    "print(classification_report(Y_test, Y_predict_logistic))"
   ]
  },
  {
   "cell_type": "markdown",
   "metadata": {},
   "source": [
    "### 2.SVM"
   ]
  },
  {
   "cell_type": "code",
   "execution_count": 25,
   "metadata": {},
   "outputs": [
    {
     "name": "stdout",
     "output_type": "stream",
     "text": [
      "Fitting 5 folds for each of 48 candidates, totalling 240 fits\n"
     ]
    },
    {
     "name": "stderr",
     "output_type": "stream",
     "text": [
      "[Parallel(n_jobs=-1)]: Using backend LokyBackend with 8 concurrent workers.\n",
      "[Parallel(n_jobs=-1)]: Done   2 tasks      | elapsed:  1.0min\n",
      "[Parallel(n_jobs=-1)]: Done   9 tasks      | elapsed:  2.4min\n",
      "[Parallel(n_jobs=-1)]: Done  16 tasks      | elapsed: 21.6min\n",
      "[Parallel(n_jobs=-1)]: Done  25 tasks      | elapsed: 23.6min\n",
      "[Parallel(n_jobs=-1)]: Done  34 tasks      | elapsed: 26.6min\n",
      "[Parallel(n_jobs=-1)]: Done  45 tasks      | elapsed: 71.2min\n",
      "[Parallel(n_jobs=-1)]: Done  56 tasks      | elapsed: 72.9min\n",
      "[Parallel(n_jobs=-1)]: Done  69 tasks      | elapsed: 110.8min\n",
      "[Parallel(n_jobs=-1)]: Done  82 tasks      | elapsed: 148.0min\n",
      "[Parallel(n_jobs=-1)]: Done  97 tasks      | elapsed: 225.1min\n",
      "[Parallel(n_jobs=-1)]: Done 112 tasks      | elapsed: 254.2min\n",
      "[Parallel(n_jobs=-1)]: Done 129 tasks      | elapsed: 308.3min\n",
      "[Parallel(n_jobs=-1)]: Done 146 tasks      | elapsed: 362.1min\n",
      "[Parallel(n_jobs=-1)]: Done 165 tasks      | elapsed: 417.6min\n",
      "[Parallel(n_jobs=-1)]: Done 184 tasks      | elapsed: 471.6min\n",
      "[Parallel(n_jobs=-1)]: Done 205 tasks      | elapsed: 567.7min\n",
      "[Parallel(n_jobs=-1)]: Done 240 out of 240 | elapsed: 1424.4min finished\n"
     ]
    }
   ],
   "source": [
    "# Importing libraries\n",
    "from sklearn.model_selection import GridSearchCV\n",
    "from sklearn.svm import SVC\n",
    "\n",
    "#Creating Model\n",
    "svm_model = SVC(random_state = 42)\n",
    "\n",
    "#Defining parametrs\n",
    "\n",
    "C = [1, 5, 10, 50, 100, 500, 1000, 100000]\n",
    "kernel = ['linear','rbf','poly']\n",
    "degree = [1,2]\n",
    "\n",
    "#Creating a dictionary of parameters\n",
    "param_grid = {'C':C,'kernel':kernel,'degree':degree}\n",
    "\n",
    "#Buidling the grid using GridSearchCV\n",
    "grid=GridSearchCV(estimator=svm_model, param_grid=param_grid, cv=5, n_jobs=-1,verbose=10, return_train_score=True)\n",
    "\n",
    "#Fitting the grid\n",
    "grid_search = grid.fit(X_train_smote,y_train_smote)"
   ]
  },
  {
   "cell_type": "code",
   "execution_count": 26,
   "metadata": {},
   "outputs": [
    {
     "name": "stdout",
     "output_type": "stream",
     "text": [
      "Best Accuracy: 0.893, using {'C': 100000, 'degree': 1, 'kernel': 'rbf'}\n"
     ]
    }
   ],
   "source": [
    "# Summarizing the result - Best Accuracy \n",
    "print(\"Best Accuracy: {0}, using {1}\".format(grid_search.best_score_, grid_search.best_params_))"
   ]
  },
  {
   "cell_type": "code",
   "execution_count": 27,
   "metadata": {},
   "outputs": [
    {
     "name": "stdout",
     "output_type": "stream",
     "text": [
      "0.760890625 0.7613749999999999 (0.004377677751959341) with: {'C': 1, 'degree': 1, 'kernel': 'linear'}\n",
      "0.78559375 0.7846250000000001 (0.0017831678272108727) with: {'C': 1, 'degree': 1, 'kernel': 'rbf'}\n",
      "0.757921875 0.7578750000000001 (0.003939979378118628) with: {'C': 1, 'degree': 1, 'kernel': 'poly'}\n",
      "0.760890625 0.7613749999999999 (0.004377677751959341) with: {'C': 1, 'degree': 2, 'kernel': 'linear'}\n",
      "0.78559375 0.7846250000000001 (0.0017831678272108727) with: {'C': 1, 'degree': 2, 'kernel': 'rbf'}\n",
      "0.76815625 0.7670625 (0.003477606935810894) with: {'C': 1, 'degree': 2, 'kernel': 'poly'}\n",
      "0.7634531250000001 0.7626875 (0.004120262430962375) with: {'C': 5, 'degree': 1, 'kernel': 'linear'}\n",
      "0.8052343749999998 0.8043125 (0.003419841005076111) with: {'C': 5, 'degree': 1, 'kernel': 'rbf'}\n",
      "0.759484375 0.7580625000000001 (0.0030834740958860267) with: {'C': 5, 'degree': 1, 'kernel': 'poly'}\n",
      "0.7634531250000001 0.7626875 (0.004120262430962375) with: {'C': 5, 'degree': 2, 'kernel': 'linear'}\n",
      "0.8052343749999998 0.8043125 (0.003419841005076111) with: {'C': 5, 'degree': 2, 'kernel': 'rbf'}\n",
      "0.776921875 0.776 (0.005406882188470533) with: {'C': 5, 'degree': 2, 'kernel': 'poly'}\n",
      "0.7631249999999999 0.7630625 (0.003603383826349915) with: {'C': 10, 'degree': 1, 'kernel': 'linear'}\n",
      "0.8112656250000001 0.8098749999999999 (0.00309106575471953) with: {'C': 10, 'degree': 1, 'kernel': 'rbf'}\n",
      "0.760640625 0.7600625 (0.0036518402894979113) with: {'C': 10, 'degree': 1, 'kernel': 'poly'}\n",
      "0.7631249999999999 0.7630625 (0.003603383826349915) with: {'C': 10, 'degree': 2, 'kernel': 'linear'}\n",
      "0.8112656250000001 0.8098749999999999 (0.00309106575471953) with: {'C': 10, 'degree': 2, 'kernel': 'rbf'}\n",
      "0.77946875 0.7791874999999999 (0.005264859922163181) with: {'C': 10, 'degree': 2, 'kernel': 'poly'}\n",
      "0.7616249999999999 0.7620000000000001 (0.0040773766075750196) with: {'C': 50, 'degree': 1, 'kernel': 'linear'}\n",
      "0.8255625 0.8221874999999998 (0.005306982428838454) with: {'C': 50, 'degree': 1, 'kernel': 'rbf'}\n",
      "0.7608437499999999 0.7613749999999999 (0.004522513128781371) with: {'C': 50, 'degree': 1, 'kernel': 'poly'}\n",
      "0.7616249999999999 0.7620000000000001 (0.0040773766075750196) with: {'C': 50, 'degree': 2, 'kernel': 'linear'}\n",
      "0.8255625 0.8221874999999998 (0.005306982428838454) with: {'C': 50, 'degree': 2, 'kernel': 'rbf'}\n",
      "0.783265625 0.782125 (0.004291160973442986) with: {'C': 50, 'degree': 2, 'kernel': 'poly'}\n",
      "0.76090625 0.761 (0.004300254352942401) with: {'C': 100, 'degree': 1, 'kernel': 'linear'}\n",
      "0.8332656250000001 0.8294999999999998 (0.006583597041131834) with: {'C': 100, 'degree': 1, 'kernel': 'rbf'}\n",
      "0.761015625 0.7611874999999999 (0.004268342769740987) with: {'C': 100, 'degree': 1, 'kernel': 'poly'}\n",
      "0.76090625 0.761 (0.004300254352942401) with: {'C': 100, 'degree': 2, 'kernel': 'linear'}\n",
      "0.8332656250000001 0.8294999999999998 (0.006583597041131834) with: {'C': 100, 'degree': 2, 'kernel': 'rbf'}\n",
      "0.7856093749999999 0.7848125 (0.0040533550917727255) with: {'C': 100, 'degree': 2, 'kernel': 'poly'}\n",
      "0.7606875000000001 0.7603125000000001 (0.004280223417065969) with: {'C': 500, 'degree': 1, 'kernel': 'linear'}\n",
      "0.8549375000000001 0.8516875 (0.00702006054104948) with: {'C': 500, 'degree': 1, 'kernel': 'rbf'}\n",
      "0.761109375 0.76125 (0.004414995753112333) with: {'C': 500, 'degree': 1, 'kernel': 'poly'}\n",
      "0.7606875000000001 0.7603125000000001 (0.004280223417065969) with: {'C': 500, 'degree': 2, 'kernel': 'linear'}\n",
      "0.8549375000000001 0.8516875 (0.00702006054104948) with: {'C': 500, 'degree': 2, 'kernel': 'rbf'}\n",
      "0.7975156250000001 0.7959999999999999 (0.0036837905070728452) with: {'C': 500, 'degree': 2, 'kernel': 'poly'}\n",
      "0.7598437499999999 0.760375 (0.0053524235165016585) with: {'C': 1000, 'degree': 1, 'kernel': 'linear'}\n",
      "0.8643749999999999 0.8613125 (0.00619160217552778) with: {'C': 1000, 'degree': 1, 'kernel': 'rbf'}\n",
      "0.761125 0.7611874999999999 (0.004491311055805424) with: {'C': 1000, 'degree': 1, 'kernel': 'poly'}\n",
      "0.7598437499999999 0.760375 (0.0053524235165016585) with: {'C': 1000, 'degree': 2, 'kernel': 'linear'}\n",
      "0.8643749999999999 0.8613125 (0.00619160217552778) with: {'C': 1000, 'degree': 2, 'kernel': 'rbf'}\n",
      "0.8059375 0.804875 (0.004129732134170451) with: {'C': 1000, 'degree': 2, 'kernel': 'poly'}\n",
      "0.7591875 0.7609375 (0.002990871528501351) with: {'C': 100000, 'degree': 1, 'kernel': 'linear'}\n",
      "0.90115625 0.893 (0.006574691057380582) with: {'C': 100000, 'degree': 1, 'kernel': 'rbf'}\n",
      "0.762703125 0.7620625000000001 (0.004843649192499389) with: {'C': 100000, 'degree': 1, 'kernel': 'poly'}\n",
      "0.7591875 0.7609375 (0.002990871528501351) with: {'C': 100000, 'degree': 2, 'kernel': 'linear'}\n",
      "0.90115625 0.893 (0.006574691057380582) with: {'C': 100000, 'degree': 2, 'kernel': 'rbf'}\n",
      "0.836921875 0.836125 (0.008884238149667082) with: {'C': 100000, 'degree': 2, 'kernel': 'poly'}\n"
     ]
    }
   ],
   "source": [
    "# finding the mean train accuracy, mean test accuracy and standard deviation\n",
    "means_train = grid_search.cv_results_['mean_train_score']\n",
    "means_test = grid_search.cv_results_['mean_test_score']\n",
    "stds = grid_search.cv_results_['std_test_score']\n",
    "params = grid_search.cv_results_['params']\n",
    "for mean_train,mean_test, stdev, param in zip(means_train,means_test, stds, params):\n",
    "    print('{0} {1} ({2}) with: {3}'.format(mean_train,mean_test, stdev, param))"
   ]
  },
  {
   "cell_type": "code",
   "execution_count": 36,
   "metadata": {},
   "outputs": [
    {
     "data": {
      "text/plain": [
       "SVC(C=100000)"
      ]
     },
     "execution_count": 36,
     "metadata": {},
     "output_type": "execute_result"
    }
   ],
   "source": [
    "#Creating the model\n",
    "from sklearn.svm import SVC\n",
    "svm_model = SVC(C = 100000, kernel = 'rbf')\n",
    "\n",
    "#Fitting the model\n",
    "svm_model.fit(X_train_smote, y_train_smote)"
   ]
  },
  {
   "cell_type": "code",
   "execution_count": 37,
   "metadata": {},
   "outputs": [
    {
     "name": "stdout",
     "output_type": "stream",
     "text": [
      "Training accuracy of SVM model is 90.08749999999999\n"
     ]
    }
   ],
   "source": [
    "#Calculating train accuracy\n",
    "\n",
    "svm_accuracy_train = accuracy_score(y_train_smote,svm_model.predict(X_train_smote))\n",
    "print(\"Training accuracy of SVM model is \" + str(svm_accuracy_train * 100))"
   ]
  },
  {
   "cell_type": "code",
   "execution_count": 38,
   "metadata": {},
   "outputs": [
    {
     "name": "stdout",
     "output_type": "stream",
     "text": [
      "Test Accuracy of SVM Model is 88.63333333333333\n"
     ]
    }
   ],
   "source": [
    "#Making predictions on test data\n",
    "\n",
    "Y_predict_svm = svm_model.predict(X_test)\n",
    "\n",
    "#Calculating test accuracy\n",
    "svm_accuracy_test = accuracy_score(Y_test, Y_predict_svm)\n",
    "print(\"Test Accuracy of SVM Model is \" + str(svm_accuracy_test * 100))"
   ]
  },
  {
   "cell_type": "code",
   "execution_count": 39,
   "metadata": {},
   "outputs": [
    {
     "data": {
      "text/plain": [
       "array([[1784,  216],\n",
       "       [ 125,  875]], dtype=int64)"
      ]
     },
     "execution_count": 39,
     "metadata": {},
     "output_type": "execute_result"
    }
   ],
   "source": [
    "# Confusion matrix\n",
    "\n",
    "confusion_matrix_svm = confusion_matrix(Y_test, Y_predict_svm)\n",
    "confusion_matrix_svm"
   ]
  },
  {
   "cell_type": "code",
   "execution_count": 40,
   "metadata": {},
   "outputs": [
    {
     "name": "stdout",
     "output_type": "stream",
     "text": [
      "              precision    recall  f1-score   support\n",
      "\n",
      "           0       0.93      0.89      0.91      2000\n",
      "           1       0.80      0.88      0.84      1000\n",
      "\n",
      "    accuracy                           0.89      3000\n",
      "   macro avg       0.87      0.88      0.87      3000\n",
      "weighted avg       0.89      0.89      0.89      3000\n",
      "\n"
     ]
    }
   ],
   "source": [
    "# Classification report\n",
    "\n",
    "print(classification_report(Y_test, Y_predict_svm))"
   ]
  },
  {
   "cell_type": "markdown",
   "metadata": {},
   "source": [
    "### 3.KNN"
   ]
  },
  {
   "cell_type": "code",
   "execution_count": 60,
   "metadata": {},
   "outputs": [
    {
     "name": "stdout",
     "output_type": "stream",
     "text": [
      "Fitting 10 folds for each of 30 candidates, totalling 300 fits\n"
     ]
    },
    {
     "name": "stderr",
     "output_type": "stream",
     "text": [
      "[Parallel(n_jobs=-1)]: Using backend LokyBackend with 8 concurrent workers.\n",
      "[Parallel(n_jobs=-1)]: Done   2 tasks      | elapsed:    0.7s\n",
      "[Parallel(n_jobs=-1)]: Done   9 tasks      | elapsed:    1.3s\n",
      "[Parallel(n_jobs=-1)]: Done  16 tasks      | elapsed:    1.5s\n",
      "[Parallel(n_jobs=-1)]: Done  25 tasks      | elapsed:    2.8s\n",
      "[Parallel(n_jobs=-1)]: Done  34 tasks      | elapsed:    3.7s\n",
      "[Parallel(n_jobs=-1)]: Done  45 tasks      | elapsed:    4.9s\n",
      "[Parallel(n_jobs=-1)]: Done  56 tasks      | elapsed:    6.1s\n",
      "[Parallel(n_jobs=-1)]: Done  69 tasks      | elapsed:    7.9s\n",
      "[Parallel(n_jobs=-1)]: Done  82 tasks      | elapsed:    9.7s\n",
      "[Parallel(n_jobs=-1)]: Done  97 tasks      | elapsed:   11.5s\n",
      "[Parallel(n_jobs=-1)]: Done 112 tasks      | elapsed:   13.1s\n",
      "[Parallel(n_jobs=-1)]: Done 129 tasks      | elapsed:   15.8s\n",
      "[Parallel(n_jobs=-1)]: Done 146 tasks      | elapsed:   18.0s\n",
      "[Parallel(n_jobs=-1)]: Done 165 tasks      | elapsed:   20.0s\n",
      "[Parallel(n_jobs=-1)]: Done 184 tasks      | elapsed:   22.0s\n",
      "[Parallel(n_jobs=-1)]: Done 205 tasks      | elapsed:   24.4s\n",
      "[Parallel(n_jobs=-1)]: Done 226 tasks      | elapsed:   27.2s\n",
      "[Parallel(n_jobs=-1)]: Done 249 tasks      | elapsed:   30.0s\n",
      "[Parallel(n_jobs=-1)]: Done 272 tasks      | elapsed:   33.2s\n",
      "[Parallel(n_jobs=-1)]: Done 300 out of 300 | elapsed:   36.6s finished\n"
     ]
    }
   ],
   "source": [
    "# Importing libraries\n",
    "from sklearn.neighbors import KNeighborsClassifier\n",
    "from sklearn.model_selection import GridSearchCV, KFold\n",
    "\n",
    "#Creating Model\n",
    "knn = KNeighborsClassifier()\n",
    "\n",
    "#Defining parametrs\n",
    "metric = ['minkowski','euclidean'] \n",
    "n_neighbors = [1,3,5,7,9,11,13,15,17,19,21,23,25,27,29]\n",
    "\n",
    "#Creating a dictionary of parameters\n",
    "param_grid = {'metric':metric,'n_neighbors':n_neighbors}\n",
    "\n",
    "#Buidling the grid using GridSearchCV\n",
    "grid=GridSearchCV(estimator=knn, param_grid=param_grid, cv=10, n_jobs=-1,verbose=10, return_train_score=True)\n",
    "\n",
    "#Fitting the grid\n",
    "grid_search = grid.fit(X_train_smote,y_train_smote)"
   ]
  },
  {
   "cell_type": "code",
   "execution_count": 61,
   "metadata": {},
   "outputs": [
    {
     "name": "stdout",
     "output_type": "stream",
     "text": [
      "Best Accuracy: 0.9106875000000001, using {'metric': 'minkowski', 'n_neighbors': 1}\n"
     ]
    }
   ],
   "source": [
    "# Summarizing the result - Best Accuracy \n",
    "print(\"Best Accuracy: {0}, using {1}\".format(grid_search.best_score_, grid_search.best_params_))"
   ]
  },
  {
   "cell_type": "code",
   "execution_count": 62,
   "metadata": {},
   "outputs": [
    {
     "name": "stdout",
     "output_type": "stream",
     "text": [
      "1.0 0.9106875000000001 (0.012867868170369173) with: {'metric': 'minkowski', 'n_neighbors': 1}\n",
      "0.9419236111111111 0.8886249999999999 (0.01626393633165108) with: {'metric': 'minkowski', 'n_neighbors': 3}\n",
      "0.9186041666666667 0.8793124999999999 (0.015238853508384402) with: {'metric': 'minkowski', 'n_neighbors': 5}\n",
      "0.904701388888889 0.873875 (0.017143238463020943) with: {'metric': 'minkowski', 'n_neighbors': 7}\n",
      "0.8955694444444443 0.869375 (0.018260271082325145) with: {'metric': 'minkowski', 'n_neighbors': 9}\n",
      "0.8874305555555555 0.8645624999999999 (0.01652424828093551) with: {'metric': 'minkowski', 'n_neighbors': 11}\n",
      "0.8817083333333333 0.8621875000000001 (0.015932597285125864) with: {'metric': 'minkowski', 'n_neighbors': 13}\n",
      "0.8763888888888889 0.8596875 (0.01634407862958323) with: {'metric': 'minkowski', 'n_neighbors': 15}\n",
      "0.8721249999999999 0.8571249999999999 (0.01519200036203265) with: {'metric': 'minkowski', 'n_neighbors': 17}\n",
      "0.8677222222222222 0.8533125 (0.014042485757514586) with: {'metric': 'minkowski', 'n_neighbors': 19}\n",
      "0.8636875000000002 0.8505 (0.013444910747193511) with: {'metric': 'minkowski', 'n_neighbors': 21}\n",
      "0.8598402777777778 0.8473750000000001 (0.013491316651832006) with: {'metric': 'minkowski', 'n_neighbors': 23}\n",
      "0.8565694444444445 0.8458749999999998 (0.013335221220512245) with: {'metric': 'minkowski', 'n_neighbors': 25}\n",
      "0.8536111111111111 0.843875 (0.012899249009147769) with: {'metric': 'minkowski', 'n_neighbors': 27}\n",
      "0.8504791666666668 0.84275 (0.011649839054682259) with: {'metric': 'minkowski', 'n_neighbors': 29}\n",
      "1.0 0.9106875000000001 (0.012867868170369173) with: {'metric': 'euclidean', 'n_neighbors': 1}\n",
      "0.9419236111111111 0.8886249999999999 (0.01626393633165108) with: {'metric': 'euclidean', 'n_neighbors': 3}\n",
      "0.9186041666666667 0.8793124999999999 (0.015238853508384402) with: {'metric': 'euclidean', 'n_neighbors': 5}\n",
      "0.904701388888889 0.873875 (0.017143238463020943) with: {'metric': 'euclidean', 'n_neighbors': 7}\n",
      "0.8955694444444443 0.869375 (0.018260271082325145) with: {'metric': 'euclidean', 'n_neighbors': 9}\n",
      "0.8874305555555555 0.8645624999999999 (0.01652424828093551) with: {'metric': 'euclidean', 'n_neighbors': 11}\n",
      "0.8817083333333333 0.8621875000000001 (0.015932597285125864) with: {'metric': 'euclidean', 'n_neighbors': 13}\n",
      "0.8763888888888889 0.8596875 (0.01634407862958323) with: {'metric': 'euclidean', 'n_neighbors': 15}\n",
      "0.8721249999999999 0.8571249999999999 (0.01519200036203265) with: {'metric': 'euclidean', 'n_neighbors': 17}\n",
      "0.8677222222222222 0.8533125 (0.014042485757514586) with: {'metric': 'euclidean', 'n_neighbors': 19}\n",
      "0.8636875000000002 0.8505 (0.013444910747193511) with: {'metric': 'euclidean', 'n_neighbors': 21}\n",
      "0.8598402777777778 0.8473750000000001 (0.013491316651832006) with: {'metric': 'euclidean', 'n_neighbors': 23}\n",
      "0.8565694444444445 0.8458749999999998 (0.013335221220512245) with: {'metric': 'euclidean', 'n_neighbors': 25}\n",
      "0.8536111111111111 0.843875 (0.012899249009147769) with: {'metric': 'euclidean', 'n_neighbors': 27}\n",
      "0.8504791666666668 0.84275 (0.011649839054682259) with: {'metric': 'euclidean', 'n_neighbors': 29}\n"
     ]
    }
   ],
   "source": [
    "# finding the mean train accuracy, mean test accuracy and standard deviation\n",
    "means_train = grid_search.cv_results_['mean_train_score']\n",
    "means_test = grid_search.cv_results_['mean_test_score']\n",
    "stds = grid_search.cv_results_['std_test_score']\n",
    "params = grid_search.cv_results_['params']\n",
    "for mean_train,mean_test, stdev, param in zip(means_train,means_test, stds, params):\n",
    "    print('{0} {1} ({2}) with: {3}'.format(mean_train,mean_test, stdev, param))"
   ]
  },
  {
   "cell_type": "code",
   "execution_count": 44,
   "metadata": {},
   "outputs": [
    {
     "data": {
      "text/plain": [
       "KNeighborsClassifier(n_neighbors=1)"
      ]
     },
     "execution_count": 44,
     "metadata": {},
     "output_type": "execute_result"
    }
   ],
   "source": [
    "from sklearn.neighbors import KNeighborsClassifier\n",
    "\n",
    "#Creating a model\n",
    "knn = KNeighborsClassifier(n_neighbors = 1, metric = 'minkowski')\n",
    "\n",
    "#Fitting a model\n",
    "knn.fit(X_train_smote, y_train_smote)"
   ]
  },
  {
   "cell_type": "code",
   "execution_count": 45,
   "metadata": {},
   "outputs": [
    {
     "name": "stdout",
     "output_type": "stream",
     "text": [
      "Training accuracy of KNN Model is: 100.0\n"
     ]
    }
   ],
   "source": [
    "#Calculating train accuracy\n",
    "\n",
    "knn_accuracy_train = accuracy_score(y_train_smote,knn.predict(X_train_smote))\n",
    "print(\"Training accuracy of KNN Model is: \" + str(knn_accuracy_train * 100))"
   ]
  },
  {
   "cell_type": "code",
   "execution_count": 46,
   "metadata": {},
   "outputs": [
    {
     "name": "stdout",
     "output_type": "stream",
     "text": [
      "Testing accuracy of KNN Model is: 84.36666666666667\n"
     ]
    }
   ],
   "source": [
    "#Making predictions on test data\n",
    "Y_pred_knn = knn.predict(X_test)\n",
    "\n",
    "#Calculating test accuracy\n",
    "knn_accuracy_test = accuracy_score(Y_test, Y_pred_knn)\n",
    "print(\"Testing accuracy of KNN Model is: \" + str(knn_accuracy_test * 100))"
   ]
  },
  {
   "cell_type": "code",
   "execution_count": 47,
   "metadata": {},
   "outputs": [
    {
     "data": {
      "text/plain": [
       "array([[1745,  255],\n",
       "       [ 214,  786]], dtype=int64)"
      ]
     },
     "execution_count": 47,
     "metadata": {},
     "output_type": "execute_result"
    }
   ],
   "source": [
    "# Confusion matrix\n",
    "confusion_matrix_knn = confusion_matrix(Y_test, Y_pred_knn)\n",
    "confusion_matrix_knn"
   ]
  },
  {
   "cell_type": "code",
   "execution_count": 48,
   "metadata": {},
   "outputs": [
    {
     "name": "stdout",
     "output_type": "stream",
     "text": [
      "              precision    recall  f1-score   support\n",
      "\n",
      "           0       0.89      0.87      0.88      2000\n",
      "           1       0.76      0.79      0.77      1000\n",
      "\n",
      "    accuracy                           0.84      3000\n",
      "   macro avg       0.82      0.83      0.83      3000\n",
      "weighted avg       0.85      0.84      0.84      3000\n",
      "\n"
     ]
    }
   ],
   "source": [
    "# Classification report\n",
    "print(classification_report(Y_test, Y_pred_knn))"
   ]
  },
  {
   "cell_type": "markdown",
   "metadata": {},
   "source": [
    "### 4.Decision Tree"
   ]
  },
  {
   "cell_type": "code",
   "execution_count": 69,
   "metadata": {},
   "outputs": [
    {
     "name": "stdout",
     "output_type": "stream",
     "text": [
      "Fitting 10 folds for each of 450 candidates, totalling 4500 fits\n"
     ]
    },
    {
     "name": "stderr",
     "output_type": "stream",
     "text": [
      "[Parallel(n_jobs=-1)]: Using backend LokyBackend with 8 concurrent workers.\n",
      "[Parallel(n_jobs=-1)]: Done   2 tasks      | elapsed:    1.8s\n",
      "[Parallel(n_jobs=-1)]: Done   9 tasks      | elapsed:    1.8s\n",
      "[Parallel(n_jobs=-1)]: Done  16 tasks      | elapsed:    1.9s\n",
      "[Parallel(n_jobs=-1)]: Done  25 tasks      | elapsed:    1.9s\n",
      "[Parallel(n_jobs=-1)]: Batch computation too fast (0.1844s.) Setting batch_size=2.\n",
      "[Parallel(n_jobs=-1)]: Done  34 tasks      | elapsed:    2.0s\n",
      "[Parallel(n_jobs=-1)]: Done  45 tasks      | elapsed:    2.0s\n",
      "[Parallel(n_jobs=-1)]: Batch computation too fast (0.0608s.) Setting batch_size=4.\n",
      "[Parallel(n_jobs=-1)]: Done  64 tasks      | elapsed:    2.1s\n",
      "[Parallel(n_jobs=-1)]: Batch computation too fast (0.0947s.) Setting batch_size=8.\n",
      "[Parallel(n_jobs=-1)]: Done 100 tasks      | elapsed:    2.2s\n",
      "[Parallel(n_jobs=-1)]: Done 160 tasks      | elapsed:    2.4s\n",
      "[Parallel(n_jobs=-1)]: Done 280 tasks      | elapsed:    2.8s\n",
      "[Parallel(n_jobs=-1)]: Done 400 tasks      | elapsed:    3.3s\n",
      "[Parallel(n_jobs=-1)]: Done 536 tasks      | elapsed:    4.1s\n",
      "[Parallel(n_jobs=-1)]: Done 672 tasks      | elapsed:    5.3s\n",
      "[Parallel(n_jobs=-1)]: Done 824 tasks      | elapsed:    6.3s\n",
      "[Parallel(n_jobs=-1)]: Done 976 tasks      | elapsed:    7.6s\n",
      "[Parallel(n_jobs=-1)]: Done 1144 tasks      | elapsed:    8.7s\n",
      "[Parallel(n_jobs=-1)]: Done 1312 tasks      | elapsed:   10.2s\n",
      "[Parallel(n_jobs=-1)]: Done 1496 tasks      | elapsed:   11.9s\n",
      "[Parallel(n_jobs=-1)]: Done 1680 tasks      | elapsed:   13.3s\n",
      "[Parallel(n_jobs=-1)]: Done 1880 tasks      | elapsed:   14.8s\n",
      "[Parallel(n_jobs=-1)]: Done 2080 tasks      | elapsed:   16.4s\n",
      "[Parallel(n_jobs=-1)]: Done 2296 tasks      | elapsed:   17.9s\n",
      "[Parallel(n_jobs=-1)]: Done 2512 tasks      | elapsed:   18.4s\n",
      "[Parallel(n_jobs=-1)]: Done 2744 tasks      | elapsed:   19.5s\n",
      "[Parallel(n_jobs=-1)]: Done 2976 tasks      | elapsed:   20.9s\n",
      "[Parallel(n_jobs=-1)]: Done 3224 tasks      | elapsed:   22.4s\n",
      "[Parallel(n_jobs=-1)]: Done 3472 tasks      | elapsed:   23.9s\n",
      "[Parallel(n_jobs=-1)]: Done 3736 tasks      | elapsed:   25.5s\n",
      "[Parallel(n_jobs=-1)]: Done 4000 tasks      | elapsed:   27.2s\n",
      "[Parallel(n_jobs=-1)]: Done 4280 tasks      | elapsed:   28.9s\n",
      "[Parallel(n_jobs=-1)]: Done 4500 out of 4500 | elapsed:   30.4s finished\n"
     ]
    }
   ],
   "source": [
    "from sklearn.tree import DecisionTreeClassifier\n",
    "\n",
    "decision_tree = DecisionTreeClassifier(random_state = 42)\n",
    "\n",
    "criterion = ['entropy','gini']\n",
    "max_depth = [2,6,12,20,50,100,200,300,500]\n",
    "min_samples_split = [2, 3, 4, 5,6]\n",
    "max_features = [1, 2, 3, 4, 5]\n",
    "\n",
    "param_grid = {'criterion':criterion,'max_depth':max_depth, 'min_samples_split':min_samples_split,'max_features':max_features }\n",
    "\n",
    "grid=GridSearchCV(estimator=decision_tree, param_grid=param_grid, cv=10, n_jobs=-1,verbose=10, return_train_score=True)\n",
    "\n",
    "grid_search = grid.fit(X_train_smote,y_train_smote)"
   ]
  },
  {
   "cell_type": "code",
   "execution_count": 70,
   "metadata": {},
   "outputs": [
    {
     "name": "stdout",
     "output_type": "stream",
     "text": [
      "Best Accuracy: 0.9280624999999999, using {'criterion': 'entropy', 'max_depth': 12, 'max_features': 5, 'min_samples_split': 3}\n"
     ]
    }
   ],
   "source": [
    "print(\"Best Accuracy: {0}, using {1}\".format(grid_search.best_score_, grid_search.best_params_))"
   ]
  },
  {
   "cell_type": "code",
   "execution_count": 71,
   "metadata": {},
   "outputs": [
    {
     "name": "stdout",
     "output_type": "stream",
     "text": [
      "0.7218125000000001 0.7216875 (0.012540714941740784) with: {'criterion': 'entropy', 'max_depth': 2, 'max_features': 1, 'min_samples_split': 2}\n",
      "0.7218125000000001 0.7216875 (0.012540714941740784) with: {'criterion': 'entropy', 'max_depth': 2, 'max_features': 1, 'min_samples_split': 3}\n",
      "0.7218125000000001 0.7216875 (0.012540714941740784) with: {'criterion': 'entropy', 'max_depth': 2, 'max_features': 1, 'min_samples_split': 4}\n",
      "0.7218125000000001 0.7216875 (0.012540714941740784) with: {'criterion': 'entropy', 'max_depth': 2, 'max_features': 1, 'min_samples_split': 5}\n",
      "0.7218125000000001 0.7216875 (0.012540714941740784) with: {'criterion': 'entropy', 'max_depth': 2, 'max_features': 1, 'min_samples_split': 6}\n",
      "0.8783750000000001 0.8783125 (0.01549205945799332) with: {'criterion': 'entropy', 'max_depth': 2, 'max_features': 2, 'min_samples_split': 2}\n",
      "0.8783750000000001 0.8783125 (0.01549205945799332) with: {'criterion': 'entropy', 'max_depth': 2, 'max_features': 2, 'min_samples_split': 3}\n",
      "0.8783750000000001 0.8783125 (0.01549205945799332) with: {'criterion': 'entropy', 'max_depth': 2, 'max_features': 2, 'min_samples_split': 4}\n",
      "0.8783750000000001 0.8783125 (0.01549205945799332) with: {'criterion': 'entropy', 'max_depth': 2, 'max_features': 2, 'min_samples_split': 5}\n",
      "0.8783750000000001 0.8783125 (0.01549205945799332) with: {'criterion': 'entropy', 'max_depth': 2, 'max_features': 2, 'min_samples_split': 6}\n",
      "0.8525902777777776 0.851625 (0.015391251573540087) with: {'criterion': 'entropy', 'max_depth': 2, 'max_features': 3, 'min_samples_split': 2}\n",
      "0.8525902777777776 0.851625 (0.015391251573540087) with: {'criterion': 'entropy', 'max_depth': 2, 'max_features': 3, 'min_samples_split': 3}\n",
      "0.8525902777777776 0.851625 (0.015391251573540087) with: {'criterion': 'entropy', 'max_depth': 2, 'max_features': 3, 'min_samples_split': 4}\n",
      "0.8525902777777776 0.851625 (0.015391251573540087) with: {'criterion': 'entropy', 'max_depth': 2, 'max_features': 3, 'min_samples_split': 5}\n",
      "0.8525902777777776 0.851625 (0.015391251573540087) with: {'criterion': 'entropy', 'max_depth': 2, 'max_features': 3, 'min_samples_split': 6}\n",
      "0.8783750000000001 0.8781875000000001 (0.015583570073959318) with: {'criterion': 'entropy', 'max_depth': 2, 'max_features': 4, 'min_samples_split': 2}\n",
      "0.8783750000000001 0.8781875000000001 (0.015583570073959318) with: {'criterion': 'entropy', 'max_depth': 2, 'max_features': 4, 'min_samples_split': 3}\n",
      "0.8783750000000001 0.8781875000000001 (0.015583570073959318) with: {'criterion': 'entropy', 'max_depth': 2, 'max_features': 4, 'min_samples_split': 4}\n",
      "0.8783750000000001 0.8781875000000001 (0.015583570073959318) with: {'criterion': 'entropy', 'max_depth': 2, 'max_features': 4, 'min_samples_split': 5}\n",
      "0.8783750000000001 0.8781875000000001 (0.015583570073959318) with: {'criterion': 'entropy', 'max_depth': 2, 'max_features': 4, 'min_samples_split': 6}\n",
      "0.8783750000000001 0.8781875000000001 (0.015583570073959318) with: {'criterion': 'entropy', 'max_depth': 2, 'max_features': 5, 'min_samples_split': 2}\n",
      "0.8783750000000001 0.8781875000000001 (0.015583570073959318) with: {'criterion': 'entropy', 'max_depth': 2, 'max_features': 5, 'min_samples_split': 3}\n",
      "0.8783750000000001 0.8781875000000001 (0.015583570073959318) with: {'criterion': 'entropy', 'max_depth': 2, 'max_features': 5, 'min_samples_split': 4}\n",
      "0.8783750000000001 0.8781875000000001 (0.015583570073959318) with: {'criterion': 'entropy', 'max_depth': 2, 'max_features': 5, 'min_samples_split': 5}\n",
      "0.8783750000000001 0.8781875000000001 (0.015583570073959318) with: {'criterion': 'entropy', 'max_depth': 2, 'max_features': 5, 'min_samples_split': 6}\n",
      "0.889673611111111 0.8869374999999999 (0.02350440450745348) with: {'criterion': 'entropy', 'max_depth': 6, 'max_features': 1, 'min_samples_split': 2}\n",
      "0.8956944444444443 0.8911250000000001 (0.014873949542740813) with: {'criterion': 'entropy', 'max_depth': 6, 'max_features': 1, 'min_samples_split': 3}\n",
      "0.8956944444444443 0.8911250000000001 (0.014873949542740813) with: {'criterion': 'entropy', 'max_depth': 6, 'max_features': 1, 'min_samples_split': 4}\n",
      "0.8956944444444443 0.8911250000000001 (0.014873949542740813) with: {'criterion': 'entropy', 'max_depth': 6, 'max_features': 1, 'min_samples_split': 5}\n",
      "0.8956944444444443 0.8911250000000001 (0.014873949542740813) with: {'criterion': 'entropy', 'max_depth': 6, 'max_features': 1, 'min_samples_split': 6}\n",
      "0.8962291666666665 0.88925 (0.01840473784111037) with: {'criterion': 'entropy', 'max_depth': 6, 'max_features': 2, 'min_samples_split': 2}\n",
      "0.8965694444444445 0.891 (0.01846068457560553) with: {'criterion': 'entropy', 'max_depth': 6, 'max_features': 2, 'min_samples_split': 3}\n",
      "0.896576388888889 0.8908125 (0.01844131316501078) with: {'criterion': 'entropy', 'max_depth': 6, 'max_features': 2, 'min_samples_split': 4}\n",
      "0.896576388888889 0.8908125 (0.01844131316501078) with: {'criterion': 'entropy', 'max_depth': 6, 'max_features': 2, 'min_samples_split': 5}\n",
      "0.8966874999999999 0.8914375 (0.01812510775830036) with: {'criterion': 'entropy', 'max_depth': 6, 'max_features': 2, 'min_samples_split': 6}\n",
      "0.9176944444444445 0.9095000000000001 (0.017813706099517844) with: {'criterion': 'entropy', 'max_depth': 6, 'max_features': 3, 'min_samples_split': 2}\n",
      "0.9176944444444445 0.9095000000000001 (0.017813706099517844) with: {'criterion': 'entropy', 'max_depth': 6, 'max_features': 3, 'min_samples_split': 3}\n",
      "0.9176944444444445 0.9095000000000001 (0.017813706099517844) with: {'criterion': 'entropy', 'max_depth': 6, 'max_features': 3, 'min_samples_split': 4}\n",
      "0.9176180555555555 0.9085000000000001 (0.01834606565452111) with: {'criterion': 'entropy', 'max_depth': 6, 'max_features': 3, 'min_samples_split': 5}\n",
      "0.9176041666666667 0.9085625 (0.018398900272842373) with: {'criterion': 'entropy', 'max_depth': 6, 'max_features': 3, 'min_samples_split': 6}\n",
      "0.9174305555555555 0.9111874999999999 (0.01692457994308869) with: {'criterion': 'entropy', 'max_depth': 6, 'max_features': 4, 'min_samples_split': 2}\n",
      "0.9174305555555555 0.9111874999999999 (0.01692457994308869) with: {'criterion': 'entropy', 'max_depth': 6, 'max_features': 4, 'min_samples_split': 3}\n",
      "0.9174305555555555 0.9111874999999999 (0.01692457994308869) with: {'criterion': 'entropy', 'max_depth': 6, 'max_features': 4, 'min_samples_split': 4}\n",
      "0.9173680555555555 0.9109375 (0.01685705063912427) with: {'criterion': 'entropy', 'max_depth': 6, 'max_features': 4, 'min_samples_split': 5}\n",
      "0.9173680555555555 0.9109375 (0.01685705063912427) with: {'criterion': 'entropy', 'max_depth': 6, 'max_features': 4, 'min_samples_split': 6}\n",
      "0.9186597222222221 0.9081875 (0.017998372322240698) with: {'criterion': 'entropy', 'max_depth': 6, 'max_features': 5, 'min_samples_split': 2}\n",
      "0.9186597222222221 0.9081875 (0.017998372322240698) with: {'criterion': 'entropy', 'max_depth': 6, 'max_features': 5, 'min_samples_split': 3}\n",
      "0.9186597222222221 0.9081875 (0.017998372322240698) with: {'criterion': 'entropy', 'max_depth': 6, 'max_features': 5, 'min_samples_split': 4}\n",
      "0.9186249999999999 0.9081875 (0.017998372322240698) with: {'criterion': 'entropy', 'max_depth': 6, 'max_features': 5, 'min_samples_split': 5}\n",
      "0.9186111111111112 0.9080625 (0.01788079014613168) with: {'criterion': 'entropy', 'max_depth': 6, 'max_features': 5, 'min_samples_split': 6}\n",
      "0.9532291666666666 0.9115 (0.018036854631559237) with: {'criterion': 'entropy', 'max_depth': 12, 'max_features': 1, 'min_samples_split': 2}\n",
      "0.9520138888888889 0.9139375 (0.018204674022074655) with: {'criterion': 'entropy', 'max_depth': 12, 'max_features': 1, 'min_samples_split': 3}\n",
      "0.9495625000000001 0.908625 (0.014831870246196205) with: {'criterion': 'entropy', 'max_depth': 12, 'max_features': 1, 'min_samples_split': 4}\n",
      "0.9478194444444445 0.9108750000000001 (0.015256146302392363) with: {'criterion': 'entropy', 'max_depth': 12, 'max_features': 1, 'min_samples_split': 5}\n",
      "0.9456111111111112 0.9135625 (0.015289012598922144) with: {'criterion': 'entropy', 'max_depth': 12, 'max_features': 1, 'min_samples_split': 6}\n",
      "0.9675416666666667 0.9230625 (0.013582646327207373) with: {'criterion': 'entropy', 'max_depth': 12, 'max_features': 2, 'min_samples_split': 2}\n",
      "0.9675347222222221 0.9278125000000002 (0.018456557946973765) with: {'criterion': 'entropy', 'max_depth': 12, 'max_features': 2, 'min_samples_split': 3}\n",
      "0.9663541666666665 0.9227500000000001 (0.016129844233593812) with: {'criterion': 'entropy', 'max_depth': 12, 'max_features': 2, 'min_samples_split': 4}\n",
      "0.9650208333333333 0.9251875 (0.0162957289266237) with: {'criterion': 'entropy', 'max_depth': 12, 'max_features': 2, 'min_samples_split': 5}\n",
      "0.9643263888888889 0.924 (0.017032138738279464) with: {'criterion': 'entropy', 'max_depth': 12, 'max_features': 2, 'min_samples_split': 6}\n",
      "0.9717291666666666 0.9253750000000001 (0.01965960325133751) with: {'criterion': 'entropy', 'max_depth': 12, 'max_features': 3, 'min_samples_split': 2}\n",
      "0.970986111111111 0.9259999999999999 (0.018185674306992295) with: {'criterion': 'entropy', 'max_depth': 12, 'max_features': 3, 'min_samples_split': 3}\n",
      "0.9697847222222222 0.9245625000000001 (0.01684731525347586) with: {'criterion': 'entropy', 'max_depth': 12, 'max_features': 3, 'min_samples_split': 4}\n",
      "0.9682847222222222 0.9237500000000001 (0.019395150811478627) with: {'criterion': 'entropy', 'max_depth': 12, 'max_features': 3, 'min_samples_split': 5}\n",
      "0.9679027777777778 0.9260624999999999 (0.017309340867000117) with: {'criterion': 'entropy', 'max_depth': 12, 'max_features': 3, 'min_samples_split': 6}\n",
      "0.9731180555555555 0.9252500000000001 (0.0160375535852573) with: {'criterion': 'entropy', 'max_depth': 12, 'max_features': 4, 'min_samples_split': 2}\n",
      "0.9716111111111111 0.9252500000000001 (0.015325122348614372) with: {'criterion': 'entropy', 'max_depth': 12, 'max_features': 4, 'min_samples_split': 3}\n",
      "0.9717916666666667 0.924625 (0.017904259269793873) with: {'criterion': 'entropy', 'max_depth': 12, 'max_features': 4, 'min_samples_split': 4}\n",
      "0.9699027777777778 0.9268750000000001 (0.01807968473176453) with: {'criterion': 'entropy', 'max_depth': 12, 'max_features': 4, 'min_samples_split': 5}\n",
      "0.969 0.9245625000000001 (0.018183203959973623) with: {'criterion': 'entropy', 'max_depth': 12, 'max_features': 4, 'min_samples_split': 6}\n",
      "0.9739791666666665 0.9278749999999999 (0.014708628420080515) with: {'criterion': 'entropy', 'max_depth': 12, 'max_features': 5, 'min_samples_split': 2}\n",
      "0.9731319444444445 0.9280624999999999 (0.01589627019932663) with: {'criterion': 'entropy', 'max_depth': 12, 'max_features': 5, 'min_samples_split': 3}\n",
      "0.9720486111111113 0.9275625 (0.014799308472019908) with: {'criterion': 'entropy', 'max_depth': 12, 'max_features': 5, 'min_samples_split': 4}\n",
      "0.9707777777777779 0.9275625 (0.01537919150183129) with: {'criterion': 'entropy', 'max_depth': 12, 'max_features': 5, 'min_samples_split': 5}\n",
      "0.9699097222222223 0.9275625 (0.015767970898311542) with: {'criterion': 'entropy', 'max_depth': 12, 'max_features': 5, 'min_samples_split': 6}\n",
      "0.9977986111111111 0.9096874999999999 (0.023550560635577242) with: {'criterion': 'entropy', 'max_depth': 20, 'max_features': 1, 'min_samples_split': 2}\n",
      "0.9890972222222221 0.9103125000000001 (0.01884610785414324) with: {'criterion': 'entropy', 'max_depth': 20, 'max_features': 1, 'min_samples_split': 3}\n",
      "0.9844166666666666 0.9080625 (0.018169019820837892) with: {'criterion': 'entropy', 'max_depth': 20, 'max_features': 1, 'min_samples_split': 4}\n",
      "0.9794930555555557 0.9045625000000002 (0.024160999694756005) with: {'criterion': 'entropy', 'max_depth': 20, 'max_features': 1, 'min_samples_split': 5}\n",
      "0.9761111111111112 0.9108124999999999 (0.022555573729125145) with: {'criterion': 'entropy', 'max_depth': 20, 'max_features': 1, 'min_samples_split': 6}\n",
      "0.9991805555555556 0.9201875000000002 (0.02142583501873382) with: {'criterion': 'entropy', 'max_depth': 20, 'max_features': 2, 'min_samples_split': 2}\n",
      "0.993701388888889 0.9223125 (0.021392993157807533) with: {'criterion': 'entropy', 'max_depth': 20, 'max_features': 2, 'min_samples_split': 3}\n",
      "0.99 0.9179375000000001 (0.02055489981123722) with: {'criterion': 'entropy', 'max_depth': 20, 'max_features': 2, 'min_samples_split': 4}\n",
      "0.9859375 0.9174374999999999 (0.02012354420200379) with: {'criterion': 'entropy', 'max_depth': 20, 'max_features': 2, 'min_samples_split': 5}\n",
      "0.9830069444444446 0.9181874999999999 (0.018796712644768503) with: {'criterion': 'entropy', 'max_depth': 20, 'max_features': 2, 'min_samples_split': 6}\n",
      "0.999375 0.9231874999999998 (0.021745060502330178) with: {'criterion': 'entropy', 'max_depth': 20, 'max_features': 3, 'min_samples_split': 2}\n",
      "0.9957708333333333 0.9221875 (0.018974180647659093) with: {'criterion': 'entropy', 'max_depth': 20, 'max_features': 3, 'min_samples_split': 3}\n",
      "0.9917777777777778 0.9228125 (0.019103439644472395) with: {'criterion': 'entropy', 'max_depth': 20, 'max_features': 3, 'min_samples_split': 4}\n",
      "0.988451388888889 0.92225 (0.02254197473603413) with: {'criterion': 'entropy', 'max_depth': 20, 'max_features': 3, 'min_samples_split': 5}\n",
      "0.9864305555555557 0.9192500000000001 (0.020548722588034512) with: {'criterion': 'entropy', 'max_depth': 20, 'max_features': 3, 'min_samples_split': 6}\n",
      "0.9994027777777778 0.9240625000000001 (0.020439028994793263) with: {'criterion': 'entropy', 'max_depth': 20, 'max_features': 4, 'min_samples_split': 2}\n",
      "0.9963958333333333 0.9218124999999999 (0.021411974599508575) with: {'criterion': 'entropy', 'max_depth': 20, 'max_features': 4, 'min_samples_split': 3}\n",
      "0.9925555555555554 0.9231250000000001 (0.01812500000000001) with: {'criterion': 'entropy', 'max_depth': 20, 'max_features': 4, 'min_samples_split': 4}\n",
      "0.9893749999999999 0.9223125 (0.01899228873121931) with: {'criterion': 'entropy', 'max_depth': 20, 'max_features': 4, 'min_samples_split': 5}\n",
      "0.9871319444444445 0.922375 (0.019406828695075366) with: {'criterion': 'entropy', 'max_depth': 20, 'max_features': 4, 'min_samples_split': 6}\n",
      "0.9993472222222222 0.9239375000000001 (0.017093607174906055) with: {'criterion': 'entropy', 'max_depth': 20, 'max_features': 5, 'min_samples_split': 2}\n",
      "0.9968958333333333 0.9258124999999999 (0.017486713706411503) with: {'criterion': 'entropy', 'max_depth': 20, 'max_features': 5, 'min_samples_split': 3}\n",
      "0.9934375 0.9248749999999999 (0.016980687559695593) with: {'criterion': 'entropy', 'max_depth': 20, 'max_features': 5, 'min_samples_split': 4}\n",
      "0.9900208333333333 0.9235 (0.017633863019769675) with: {'criterion': 'entropy', 'max_depth': 20, 'max_features': 5, 'min_samples_split': 5}\n",
      "0.9875763888888891 0.9253125000000001 (0.016367961273475708) with: {'criterion': 'entropy', 'max_depth': 20, 'max_features': 5, 'min_samples_split': 6}\n",
      "1.0 0.9101874999999999 (0.02014992633361224) with: {'criterion': 'entropy', 'max_depth': 50, 'max_features': 1, 'min_samples_split': 2}\n",
      "0.9904652777777777 0.9125000000000002 (0.022791514320027073) with: {'criterion': 'entropy', 'max_depth': 50, 'max_features': 1, 'min_samples_split': 3}\n",
      "0.9859375 0.9100625000000001 (0.020746705310723448) with: {'criterion': 'entropy', 'max_depth': 50, 'max_features': 1, 'min_samples_split': 4}\n",
      "0.9805486111111111 0.9045 (0.023675541176496874) with: {'criterion': 'entropy', 'max_depth': 50, 'max_features': 1, 'min_samples_split': 5}\n",
      "0.9776874999999998 0.9098124999999999 (0.019683134436618583) with: {'criterion': 'entropy', 'max_depth': 50, 'max_features': 1, 'min_samples_split': 6}\n",
      "1.0 0.9191874999999999 (0.021041346944765678) with: {'criterion': 'entropy', 'max_depth': 50, 'max_features': 2, 'min_samples_split': 2}\n",
      "0.9942430555555555 0.9195 (0.02127718848908379) with: {'criterion': 'entropy', 'max_depth': 50, 'max_features': 2, 'min_samples_split': 3}\n",
      "0.9903472222222222 0.9176875000000001 (0.020777936765954422) with: {'criterion': 'entropy', 'max_depth': 50, 'max_features': 2, 'min_samples_split': 4}\n",
      "0.9869097222222221 0.9171249999999999 (0.019292566573683237) with: {'criterion': 'entropy', 'max_depth': 50, 'max_features': 2, 'min_samples_split': 5}\n",
      "0.9829375 0.9175625000000001 (0.018846522391412157) with: {'criterion': 'entropy', 'max_depth': 50, 'max_features': 2, 'min_samples_split': 6}\n",
      "1.0 0.9225625 (0.022580498361417976) with: {'criterion': 'entropy', 'max_depth': 50, 'max_features': 3, 'min_samples_split': 2}\n",
      "0.9961805555555555 0.9231250000000001 (0.018364793083506265) with: {'criterion': 'entropy', 'max_depth': 50, 'max_features': 3, 'min_samples_split': 3}\n",
      "0.9925416666666667 0.9225000000000001 (0.01889113548731256) with: {'criterion': 'entropy', 'max_depth': 50, 'max_features': 3, 'min_samples_split': 4}\n",
      "0.9889930555555555 0.9193750000000002 (0.022171208807821023) with: {'criterion': 'entropy', 'max_depth': 50, 'max_features': 3, 'min_samples_split': 5}\n",
      "0.9862083333333332 0.9190624999999999 (0.020383529656318122) with: {'criterion': 'entropy', 'max_depth': 50, 'max_features': 3, 'min_samples_split': 6}\n",
      "1.0 0.9213125000000002 (0.019695831570411017) with: {'criterion': 'entropy', 'max_depth': 50, 'max_features': 4, 'min_samples_split': 2}\n",
      "0.9969652777777778 0.9230625 (0.021239795343882192) with: {'criterion': 'entropy', 'max_depth': 50, 'max_features': 4, 'min_samples_split': 3}\n",
      "0.9928958333333334 0.9244999999999999 (0.017621896889949182) with: {'criterion': 'entropy', 'max_depth': 50, 'max_features': 4, 'min_samples_split': 4}\n",
      "0.9899375000000001 0.924 (0.01798045814210528) with: {'criterion': 'entropy', 'max_depth': 50, 'max_features': 4, 'min_samples_split': 5}\n",
      "0.9875 0.9203749999999999 (0.019835652875567284) with: {'criterion': 'entropy', 'max_depth': 50, 'max_features': 4, 'min_samples_split': 6}\n",
      "1.0 0.9251250000000001 (0.01694153549711478) with: {'criterion': 'entropy', 'max_depth': 50, 'max_features': 5, 'min_samples_split': 2}\n",
      "0.9974305555555555 0.9256874999999999 (0.01795056144665118) with: {'criterion': 'entropy', 'max_depth': 50, 'max_features': 5, 'min_samples_split': 3}\n",
      "0.9938472222222223 0.9248749999999999 (0.017003676073131947) with: {'criterion': 'entropy', 'max_depth': 50, 'max_features': 5, 'min_samples_split': 4}\n",
      "0.9903541666666665 0.923625 (0.017362855467923474) with: {'criterion': 'entropy', 'max_depth': 50, 'max_features': 5, 'min_samples_split': 5}\n",
      "0.9879444444444445 0.9254375000000001 (0.016639678670274858) with: {'criterion': 'entropy', 'max_depth': 50, 'max_features': 5, 'min_samples_split': 6}\n",
      "1.0 0.9101874999999999 (0.02014992633361224) with: {'criterion': 'entropy', 'max_depth': 100, 'max_features': 1, 'min_samples_split': 2}\n",
      "0.9904652777777777 0.9125000000000002 (0.022791514320027073) with: {'criterion': 'entropy', 'max_depth': 100, 'max_features': 1, 'min_samples_split': 3}\n",
      "0.9859375 0.9100625000000001 (0.020746705310723448) with: {'criterion': 'entropy', 'max_depth': 100, 'max_features': 1, 'min_samples_split': 4}\n",
      "0.9805486111111111 0.9045 (0.023675541176496874) with: {'criterion': 'entropy', 'max_depth': 100, 'max_features': 1, 'min_samples_split': 5}\n",
      "0.9776874999999998 0.9098124999999999 (0.019683134436618583) with: {'criterion': 'entropy', 'max_depth': 100, 'max_features': 1, 'min_samples_split': 6}\n",
      "1.0 0.9191874999999999 (0.021041346944765678) with: {'criterion': 'entropy', 'max_depth': 100, 'max_features': 2, 'min_samples_split': 2}\n",
      "0.9942430555555555 0.9195 (0.02127718848908379) with: {'criterion': 'entropy', 'max_depth': 100, 'max_features': 2, 'min_samples_split': 3}\n",
      "0.9903472222222222 0.9176875000000001 (0.020777936765954422) with: {'criterion': 'entropy', 'max_depth': 100, 'max_features': 2, 'min_samples_split': 4}\n",
      "0.9869097222222221 0.9171249999999999 (0.019292566573683237) with: {'criterion': 'entropy', 'max_depth': 100, 'max_features': 2, 'min_samples_split': 5}\n",
      "0.9829375 0.9175625000000001 (0.018846522391412157) with: {'criterion': 'entropy', 'max_depth': 100, 'max_features': 2, 'min_samples_split': 6}\n",
      "1.0 0.9225625 (0.022580498361417976) with: {'criterion': 'entropy', 'max_depth': 100, 'max_features': 3, 'min_samples_split': 2}\n",
      "0.9961805555555555 0.9231250000000001 (0.018364793083506265) with: {'criterion': 'entropy', 'max_depth': 100, 'max_features': 3, 'min_samples_split': 3}\n",
      "0.9925416666666667 0.9225000000000001 (0.01889113548731256) with: {'criterion': 'entropy', 'max_depth': 100, 'max_features': 3, 'min_samples_split': 4}\n",
      "0.9889930555555555 0.9193750000000002 (0.022171208807821023) with: {'criterion': 'entropy', 'max_depth': 100, 'max_features': 3, 'min_samples_split': 5}\n",
      "0.9862083333333332 0.9190624999999999 (0.020383529656318122) with: {'criterion': 'entropy', 'max_depth': 100, 'max_features': 3, 'min_samples_split': 6}\n",
      "1.0 0.9213125000000002 (0.019695831570411017) with: {'criterion': 'entropy', 'max_depth': 100, 'max_features': 4, 'min_samples_split': 2}\n",
      "0.9969652777777778 0.9230625 (0.021239795343882192) with: {'criterion': 'entropy', 'max_depth': 100, 'max_features': 4, 'min_samples_split': 3}\n",
      "0.9928958333333334 0.9244999999999999 (0.017621896889949182) with: {'criterion': 'entropy', 'max_depth': 100, 'max_features': 4, 'min_samples_split': 4}\n",
      "0.9899375000000001 0.924 (0.01798045814210528) with: {'criterion': 'entropy', 'max_depth': 100, 'max_features': 4, 'min_samples_split': 5}\n",
      "0.9875 0.9203749999999999 (0.019835652875567284) with: {'criterion': 'entropy', 'max_depth': 100, 'max_features': 4, 'min_samples_split': 6}\n",
      "1.0 0.9251250000000001 (0.01694153549711478) with: {'criterion': 'entropy', 'max_depth': 100, 'max_features': 5, 'min_samples_split': 2}\n",
      "0.9974305555555555 0.9256874999999999 (0.01795056144665118) with: {'criterion': 'entropy', 'max_depth': 100, 'max_features': 5, 'min_samples_split': 3}\n",
      "0.9938472222222223 0.9248749999999999 (0.017003676073131947) with: {'criterion': 'entropy', 'max_depth': 100, 'max_features': 5, 'min_samples_split': 4}\n",
      "0.9903541666666665 0.923625 (0.017362855467923474) with: {'criterion': 'entropy', 'max_depth': 100, 'max_features': 5, 'min_samples_split': 5}\n",
      "0.9879444444444445 0.9254375000000001 (0.016639678670274858) with: {'criterion': 'entropy', 'max_depth': 100, 'max_features': 5, 'min_samples_split': 6}\n",
      "1.0 0.9101874999999999 (0.02014992633361224) with: {'criterion': 'entropy', 'max_depth': 200, 'max_features': 1, 'min_samples_split': 2}\n",
      "0.9904652777777777 0.9125000000000002 (0.022791514320027073) with: {'criterion': 'entropy', 'max_depth': 200, 'max_features': 1, 'min_samples_split': 3}\n",
      "0.9859375 0.9100625000000001 (0.020746705310723448) with: {'criterion': 'entropy', 'max_depth': 200, 'max_features': 1, 'min_samples_split': 4}\n",
      "0.9805486111111111 0.9045 (0.023675541176496874) with: {'criterion': 'entropy', 'max_depth': 200, 'max_features': 1, 'min_samples_split': 5}\n",
      "0.9776874999999998 0.9098124999999999 (0.019683134436618583) with: {'criterion': 'entropy', 'max_depth': 200, 'max_features': 1, 'min_samples_split': 6}\n",
      "1.0 0.9191874999999999 (0.021041346944765678) with: {'criterion': 'entropy', 'max_depth': 200, 'max_features': 2, 'min_samples_split': 2}\n",
      "0.9942430555555555 0.9195 (0.02127718848908379) with: {'criterion': 'entropy', 'max_depth': 200, 'max_features': 2, 'min_samples_split': 3}\n",
      "0.9903472222222222 0.9176875000000001 (0.020777936765954422) with: {'criterion': 'entropy', 'max_depth': 200, 'max_features': 2, 'min_samples_split': 4}\n",
      "0.9869097222222221 0.9171249999999999 (0.019292566573683237) with: {'criterion': 'entropy', 'max_depth': 200, 'max_features': 2, 'min_samples_split': 5}\n",
      "0.9829375 0.9175625000000001 (0.018846522391412157) with: {'criterion': 'entropy', 'max_depth': 200, 'max_features': 2, 'min_samples_split': 6}\n",
      "1.0 0.9225625 (0.022580498361417976) with: {'criterion': 'entropy', 'max_depth': 200, 'max_features': 3, 'min_samples_split': 2}\n",
      "0.9961805555555555 0.9231250000000001 (0.018364793083506265) with: {'criterion': 'entropy', 'max_depth': 200, 'max_features': 3, 'min_samples_split': 3}\n",
      "0.9925416666666667 0.9225000000000001 (0.01889113548731256) with: {'criterion': 'entropy', 'max_depth': 200, 'max_features': 3, 'min_samples_split': 4}\n",
      "0.9889930555555555 0.9193750000000002 (0.022171208807821023) with: {'criterion': 'entropy', 'max_depth': 200, 'max_features': 3, 'min_samples_split': 5}\n",
      "0.9862083333333332 0.9190624999999999 (0.020383529656318122) with: {'criterion': 'entropy', 'max_depth': 200, 'max_features': 3, 'min_samples_split': 6}\n",
      "1.0 0.9213125000000002 (0.019695831570411017) with: {'criterion': 'entropy', 'max_depth': 200, 'max_features': 4, 'min_samples_split': 2}\n",
      "0.9969652777777778 0.9230625 (0.021239795343882192) with: {'criterion': 'entropy', 'max_depth': 200, 'max_features': 4, 'min_samples_split': 3}\n",
      "0.9928958333333334 0.9244999999999999 (0.017621896889949182) with: {'criterion': 'entropy', 'max_depth': 200, 'max_features': 4, 'min_samples_split': 4}\n",
      "0.9899375000000001 0.924 (0.01798045814210528) with: {'criterion': 'entropy', 'max_depth': 200, 'max_features': 4, 'min_samples_split': 5}\n",
      "0.9875 0.9203749999999999 (0.019835652875567284) with: {'criterion': 'entropy', 'max_depth': 200, 'max_features': 4, 'min_samples_split': 6}\n",
      "1.0 0.9251250000000001 (0.01694153549711478) with: {'criterion': 'entropy', 'max_depth': 200, 'max_features': 5, 'min_samples_split': 2}\n",
      "0.9974305555555555 0.9256874999999999 (0.01795056144665118) with: {'criterion': 'entropy', 'max_depth': 200, 'max_features': 5, 'min_samples_split': 3}\n",
      "0.9938472222222223 0.9248749999999999 (0.017003676073131947) with: {'criterion': 'entropy', 'max_depth': 200, 'max_features': 5, 'min_samples_split': 4}\n",
      "0.9903541666666665 0.923625 (0.017362855467923474) with: {'criterion': 'entropy', 'max_depth': 200, 'max_features': 5, 'min_samples_split': 5}\n",
      "0.9879444444444445 0.9254375000000001 (0.016639678670274858) with: {'criterion': 'entropy', 'max_depth': 200, 'max_features': 5, 'min_samples_split': 6}\n",
      "1.0 0.9101874999999999 (0.02014992633361224) with: {'criterion': 'entropy', 'max_depth': 300, 'max_features': 1, 'min_samples_split': 2}\n",
      "0.9904652777777777 0.9125000000000002 (0.022791514320027073) with: {'criterion': 'entropy', 'max_depth': 300, 'max_features': 1, 'min_samples_split': 3}\n",
      "0.9859375 0.9100625000000001 (0.020746705310723448) with: {'criterion': 'entropy', 'max_depth': 300, 'max_features': 1, 'min_samples_split': 4}\n",
      "0.9805486111111111 0.9045 (0.023675541176496874) with: {'criterion': 'entropy', 'max_depth': 300, 'max_features': 1, 'min_samples_split': 5}\n",
      "0.9776874999999998 0.9098124999999999 (0.019683134436618583) with: {'criterion': 'entropy', 'max_depth': 300, 'max_features': 1, 'min_samples_split': 6}\n",
      "1.0 0.9191874999999999 (0.021041346944765678) with: {'criterion': 'entropy', 'max_depth': 300, 'max_features': 2, 'min_samples_split': 2}\n",
      "0.9942430555555555 0.9195 (0.02127718848908379) with: {'criterion': 'entropy', 'max_depth': 300, 'max_features': 2, 'min_samples_split': 3}\n",
      "0.9903472222222222 0.9176875000000001 (0.020777936765954422) with: {'criterion': 'entropy', 'max_depth': 300, 'max_features': 2, 'min_samples_split': 4}\n",
      "0.9869097222222221 0.9171249999999999 (0.019292566573683237) with: {'criterion': 'entropy', 'max_depth': 300, 'max_features': 2, 'min_samples_split': 5}\n",
      "0.9829375 0.9175625000000001 (0.018846522391412157) with: {'criterion': 'entropy', 'max_depth': 300, 'max_features': 2, 'min_samples_split': 6}\n",
      "1.0 0.9225625 (0.022580498361417976) with: {'criterion': 'entropy', 'max_depth': 300, 'max_features': 3, 'min_samples_split': 2}\n",
      "0.9961805555555555 0.9231250000000001 (0.018364793083506265) with: {'criterion': 'entropy', 'max_depth': 300, 'max_features': 3, 'min_samples_split': 3}\n",
      "0.9925416666666667 0.9225000000000001 (0.01889113548731256) with: {'criterion': 'entropy', 'max_depth': 300, 'max_features': 3, 'min_samples_split': 4}\n",
      "0.9889930555555555 0.9193750000000002 (0.022171208807821023) with: {'criterion': 'entropy', 'max_depth': 300, 'max_features': 3, 'min_samples_split': 5}\n",
      "0.9862083333333332 0.9190624999999999 (0.020383529656318122) with: {'criterion': 'entropy', 'max_depth': 300, 'max_features': 3, 'min_samples_split': 6}\n",
      "1.0 0.9213125000000002 (0.019695831570411017) with: {'criterion': 'entropy', 'max_depth': 300, 'max_features': 4, 'min_samples_split': 2}\n",
      "0.9969652777777778 0.9230625 (0.021239795343882192) with: {'criterion': 'entropy', 'max_depth': 300, 'max_features': 4, 'min_samples_split': 3}\n",
      "0.9928958333333334 0.9244999999999999 (0.017621896889949182) with: {'criterion': 'entropy', 'max_depth': 300, 'max_features': 4, 'min_samples_split': 4}\n",
      "0.9899375000000001 0.924 (0.01798045814210528) with: {'criterion': 'entropy', 'max_depth': 300, 'max_features': 4, 'min_samples_split': 5}\n",
      "0.9875 0.9203749999999999 (0.019835652875567284) with: {'criterion': 'entropy', 'max_depth': 300, 'max_features': 4, 'min_samples_split': 6}\n",
      "1.0 0.9251250000000001 (0.01694153549711478) with: {'criterion': 'entropy', 'max_depth': 300, 'max_features': 5, 'min_samples_split': 2}\n",
      "0.9974305555555555 0.9256874999999999 (0.01795056144665118) with: {'criterion': 'entropy', 'max_depth': 300, 'max_features': 5, 'min_samples_split': 3}\n",
      "0.9938472222222223 0.9248749999999999 (0.017003676073131947) with: {'criterion': 'entropy', 'max_depth': 300, 'max_features': 5, 'min_samples_split': 4}\n",
      "0.9903541666666665 0.923625 (0.017362855467923474) with: {'criterion': 'entropy', 'max_depth': 300, 'max_features': 5, 'min_samples_split': 5}\n",
      "0.9879444444444445 0.9254375000000001 (0.016639678670274858) with: {'criterion': 'entropy', 'max_depth': 300, 'max_features': 5, 'min_samples_split': 6}\n",
      "1.0 0.9101874999999999 (0.02014992633361224) with: {'criterion': 'entropy', 'max_depth': 500, 'max_features': 1, 'min_samples_split': 2}\n",
      "0.9904652777777777 0.9125000000000002 (0.022791514320027073) with: {'criterion': 'entropy', 'max_depth': 500, 'max_features': 1, 'min_samples_split': 3}\n",
      "0.9859375 0.9100625000000001 (0.020746705310723448) with: {'criterion': 'entropy', 'max_depth': 500, 'max_features': 1, 'min_samples_split': 4}\n",
      "0.9805486111111111 0.9045 (0.023675541176496874) with: {'criterion': 'entropy', 'max_depth': 500, 'max_features': 1, 'min_samples_split': 5}\n",
      "0.9776874999999998 0.9098124999999999 (0.019683134436618583) with: {'criterion': 'entropy', 'max_depth': 500, 'max_features': 1, 'min_samples_split': 6}\n",
      "1.0 0.9191874999999999 (0.021041346944765678) with: {'criterion': 'entropy', 'max_depth': 500, 'max_features': 2, 'min_samples_split': 2}\n",
      "0.9942430555555555 0.9195 (0.02127718848908379) with: {'criterion': 'entropy', 'max_depth': 500, 'max_features': 2, 'min_samples_split': 3}\n",
      "0.9903472222222222 0.9176875000000001 (0.020777936765954422) with: {'criterion': 'entropy', 'max_depth': 500, 'max_features': 2, 'min_samples_split': 4}\n",
      "0.9869097222222221 0.9171249999999999 (0.019292566573683237) with: {'criterion': 'entropy', 'max_depth': 500, 'max_features': 2, 'min_samples_split': 5}\n",
      "0.9829375 0.9175625000000001 (0.018846522391412157) with: {'criterion': 'entropy', 'max_depth': 500, 'max_features': 2, 'min_samples_split': 6}\n",
      "1.0 0.9225625 (0.022580498361417976) with: {'criterion': 'entropy', 'max_depth': 500, 'max_features': 3, 'min_samples_split': 2}\n",
      "0.9961805555555555 0.9231250000000001 (0.018364793083506265) with: {'criterion': 'entropy', 'max_depth': 500, 'max_features': 3, 'min_samples_split': 3}\n",
      "0.9925416666666667 0.9225000000000001 (0.01889113548731256) with: {'criterion': 'entropy', 'max_depth': 500, 'max_features': 3, 'min_samples_split': 4}\n",
      "0.9889930555555555 0.9193750000000002 (0.022171208807821023) with: {'criterion': 'entropy', 'max_depth': 500, 'max_features': 3, 'min_samples_split': 5}\n",
      "0.9862083333333332 0.9190624999999999 (0.020383529656318122) with: {'criterion': 'entropy', 'max_depth': 500, 'max_features': 3, 'min_samples_split': 6}\n",
      "1.0 0.9213125000000002 (0.019695831570411017) with: {'criterion': 'entropy', 'max_depth': 500, 'max_features': 4, 'min_samples_split': 2}\n",
      "0.9969652777777778 0.9230625 (0.021239795343882192) with: {'criterion': 'entropy', 'max_depth': 500, 'max_features': 4, 'min_samples_split': 3}\n",
      "0.9928958333333334 0.9244999999999999 (0.017621896889949182) with: {'criterion': 'entropy', 'max_depth': 500, 'max_features': 4, 'min_samples_split': 4}\n",
      "0.9899375000000001 0.924 (0.01798045814210528) with: {'criterion': 'entropy', 'max_depth': 500, 'max_features': 4, 'min_samples_split': 5}\n",
      "0.9875 0.9203749999999999 (0.019835652875567284) with: {'criterion': 'entropy', 'max_depth': 500, 'max_features': 4, 'min_samples_split': 6}\n",
      "1.0 0.9251250000000001 (0.01694153549711478) with: {'criterion': 'entropy', 'max_depth': 500, 'max_features': 5, 'min_samples_split': 2}\n",
      "0.9974305555555555 0.9256874999999999 (0.01795056144665118) with: {'criterion': 'entropy', 'max_depth': 500, 'max_features': 5, 'min_samples_split': 3}\n",
      "0.9938472222222223 0.9248749999999999 (0.017003676073131947) with: {'criterion': 'entropy', 'max_depth': 500, 'max_features': 5, 'min_samples_split': 4}\n",
      "0.9903541666666665 0.923625 (0.017362855467923474) with: {'criterion': 'entropy', 'max_depth': 500, 'max_features': 5, 'min_samples_split': 5}\n",
      "0.9879444444444445 0.9254375000000001 (0.016639678670274858) with: {'criterion': 'entropy', 'max_depth': 500, 'max_features': 5, 'min_samples_split': 6}\n",
      "0.7218541666666667 0.7215625000000001 (0.012686884221510042) with: {'criterion': 'gini', 'max_depth': 2, 'max_features': 1, 'min_samples_split': 2}\n",
      "0.7218541666666667 0.7215625000000001 (0.012686884221510042) with: {'criterion': 'gini', 'max_depth': 2, 'max_features': 1, 'min_samples_split': 3}\n",
      "0.7218541666666667 0.7215625000000001 (0.012686884221510042) with: {'criterion': 'gini', 'max_depth': 2, 'max_features': 1, 'min_samples_split': 4}\n",
      "0.7218541666666667 0.7215625000000001 (0.012686884221510042) with: {'criterion': 'gini', 'max_depth': 2, 'max_features': 1, 'min_samples_split': 5}\n",
      "0.7218541666666667 0.7215625000000001 (0.012686884221510042) with: {'criterion': 'gini', 'max_depth': 2, 'max_features': 1, 'min_samples_split': 6}\n",
      "0.8783750000000001 0.8783125 (0.01549205945799332) with: {'criterion': 'gini', 'max_depth': 2, 'max_features': 2, 'min_samples_split': 2}\n",
      "0.8783750000000001 0.8783125 (0.01549205945799332) with: {'criterion': 'gini', 'max_depth': 2, 'max_features': 2, 'min_samples_split': 3}\n",
      "0.8783750000000001 0.8783125 (0.01549205945799332) with: {'criterion': 'gini', 'max_depth': 2, 'max_features': 2, 'min_samples_split': 4}\n",
      "0.8783750000000001 0.8783125 (0.01549205945799332) with: {'criterion': 'gini', 'max_depth': 2, 'max_features': 2, 'min_samples_split': 5}\n",
      "0.8783750000000001 0.8783125 (0.01549205945799332) with: {'criterion': 'gini', 'max_depth': 2, 'max_features': 2, 'min_samples_split': 6}\n",
      "0.8536458333333334 0.8523125 (0.015132358747069134) with: {'criterion': 'gini', 'max_depth': 2, 'max_features': 3, 'min_samples_split': 2}\n",
      "0.8536458333333334 0.8523125 (0.015132358747069134) with: {'criterion': 'gini', 'max_depth': 2, 'max_features': 3, 'min_samples_split': 3}\n",
      "0.8536458333333334 0.8523125 (0.015132358747069134) with: {'criterion': 'gini', 'max_depth': 2, 'max_features': 3, 'min_samples_split': 4}\n",
      "0.8536458333333334 0.8523125 (0.015132358747069134) with: {'criterion': 'gini', 'max_depth': 2, 'max_features': 3, 'min_samples_split': 5}\n",
      "0.8536458333333334 0.8523125 (0.015132358747069134) with: {'criterion': 'gini', 'max_depth': 2, 'max_features': 3, 'min_samples_split': 6}\n",
      "0.8783750000000001 0.8781875000000001 (0.015583570073959318) with: {'criterion': 'gini', 'max_depth': 2, 'max_features': 4, 'min_samples_split': 2}\n",
      "0.8783750000000001 0.8781875000000001 (0.015583570073959318) with: {'criterion': 'gini', 'max_depth': 2, 'max_features': 4, 'min_samples_split': 3}\n",
      "0.8783750000000001 0.8781875000000001 (0.015583570073959318) with: {'criterion': 'gini', 'max_depth': 2, 'max_features': 4, 'min_samples_split': 4}\n",
      "0.8783750000000001 0.8781875000000001 (0.015583570073959318) with: {'criterion': 'gini', 'max_depth': 2, 'max_features': 4, 'min_samples_split': 5}\n",
      "0.8783750000000001 0.8781875000000001 (0.015583570073959318) with: {'criterion': 'gini', 'max_depth': 2, 'max_features': 4, 'min_samples_split': 6}\n",
      "0.8783750000000001 0.8781875000000001 (0.015583570073959318) with: {'criterion': 'gini', 'max_depth': 2, 'max_features': 5, 'min_samples_split': 2}\n",
      "0.8783750000000001 0.8781875000000001 (0.015583570073959318) with: {'criterion': 'gini', 'max_depth': 2, 'max_features': 5, 'min_samples_split': 3}\n",
      "0.8783750000000001 0.8781875000000001 (0.015583570073959318) with: {'criterion': 'gini', 'max_depth': 2, 'max_features': 5, 'min_samples_split': 4}\n",
      "0.8783750000000001 0.8781875000000001 (0.015583570073959318) with: {'criterion': 'gini', 'max_depth': 2, 'max_features': 5, 'min_samples_split': 5}\n",
      "0.8783750000000001 0.8781875000000001 (0.015583570073959318) with: {'criterion': 'gini', 'max_depth': 2, 'max_features': 5, 'min_samples_split': 6}\n",
      "0.8995555555555554 0.8948750000000001 (0.012335796488269416) with: {'criterion': 'gini', 'max_depth': 6, 'max_features': 1, 'min_samples_split': 2}\n",
      "0.9072222222222223 0.9019374999999998 (0.0155785559744798) with: {'criterion': 'gini', 'max_depth': 6, 'max_features': 1, 'min_samples_split': 3}\n",
      "0.9050208333333334 0.9014374999999999 (0.016182673025492433) with: {'criterion': 'gini', 'max_depth': 6, 'max_features': 1, 'min_samples_split': 4}\n",
      "0.9050208333333334 0.9014374999999999 (0.016182673025492433) with: {'criterion': 'gini', 'max_depth': 6, 'max_features': 1, 'min_samples_split': 5}\n",
      "0.9050208333333334 0.9014374999999999 (0.016182673025492433) with: {'criterion': 'gini', 'max_depth': 6, 'max_features': 1, 'min_samples_split': 6}\n",
      "0.9121666666666666 0.9065000000000001 (0.01606675527292303) with: {'criterion': 'gini', 'max_depth': 6, 'max_features': 2, 'min_samples_split': 2}\n",
      "0.9092430555555555 0.9014375000000001 (0.021803544006651736) with: {'criterion': 'gini', 'max_depth': 6, 'max_features': 2, 'min_samples_split': 3}\n",
      "0.9092430555555555 0.9014375000000001 (0.021803544006651736) with: {'criterion': 'gini', 'max_depth': 6, 'max_features': 2, 'min_samples_split': 4}\n",
      "0.9089652777777777 0.9011250000000001 (0.021419908963391958) with: {'criterion': 'gini', 'max_depth': 6, 'max_features': 2, 'min_samples_split': 5}\n",
      "0.9089791666666667 0.9009375000000002 (0.02132202866169163) with: {'criterion': 'gini', 'max_depth': 6, 'max_features': 2, 'min_samples_split': 6}\n",
      "0.9170277777777777 0.9115 (0.015101738310538938) with: {'criterion': 'gini', 'max_depth': 6, 'max_features': 3, 'min_samples_split': 2}\n",
      "0.9168125 0.9098750000000001 (0.016201369540875223) with: {'criterion': 'gini', 'max_depth': 6, 'max_features': 3, 'min_samples_split': 3}\n",
      "0.9171805555555554 0.9093124999999999 (0.01610863995655746) with: {'criterion': 'gini', 'max_depth': 6, 'max_features': 3, 'min_samples_split': 4}\n",
      "0.9171805555555554 0.9093124999999999 (0.01610863995655746) with: {'criterion': 'gini', 'max_depth': 6, 'max_features': 3, 'min_samples_split': 5}\n",
      "0.9174097222222223 0.9104999999999999 (0.016828175777546403) with: {'criterion': 'gini', 'max_depth': 6, 'max_features': 3, 'min_samples_split': 6}\n",
      "0.9203055555555556 0.9105624999999999 (0.01838275771613171) with: {'criterion': 'gini', 'max_depth': 6, 'max_features': 4, 'min_samples_split': 2}\n",
      "0.9203055555555556 0.9105624999999999 (0.01838275771613171) with: {'criterion': 'gini', 'max_depth': 6, 'max_features': 4, 'min_samples_split': 3}\n",
      "0.9198958333333334 0.9103749999999999 (0.018624999999999992) with: {'criterion': 'gini', 'max_depth': 6, 'max_features': 4, 'min_samples_split': 4}\n",
      "0.9199930555555556 0.911125 (0.017557494838387377) with: {'criterion': 'gini', 'max_depth': 6, 'max_features': 4, 'min_samples_split': 5}\n",
      "0.9198124999999999 0.9109375 (0.01781249999999999) with: {'criterion': 'gini', 'max_depth': 6, 'max_features': 4, 'min_samples_split': 6}\n",
      "0.9206111111111112 0.9102500000000001 (0.01910129249553547) with: {'criterion': 'gini', 'max_depth': 6, 'max_features': 5, 'min_samples_split': 2}\n",
      "0.9206111111111112 0.9102500000000001 (0.01910129249553547) with: {'criterion': 'gini', 'max_depth': 6, 'max_features': 5, 'min_samples_split': 3}\n",
      "0.9206041666666666 0.9102500000000001 (0.01910129249553547) with: {'criterion': 'gini', 'max_depth': 6, 'max_features': 5, 'min_samples_split': 4}\n",
      "0.9206041666666666 0.9102500000000001 (0.01910129249553547) with: {'criterion': 'gini', 'max_depth': 6, 'max_features': 5, 'min_samples_split': 5}\n",
      "0.9205902777777778 0.9102500000000001 (0.01910129249553547) with: {'criterion': 'gini', 'max_depth': 6, 'max_features': 5, 'min_samples_split': 6}\n",
      "0.9574652777777779 0.9135625 (0.017664516869985436) with: {'criterion': 'gini', 'max_depth': 12, 'max_features': 1, 'min_samples_split': 2}\n",
      "0.9521180555555556 0.906625 (0.01578963267463814) with: {'criterion': 'gini', 'max_depth': 12, 'max_features': 1, 'min_samples_split': 3}\n",
      "0.9524791666666668 0.9139375000000001 (0.015537379323746991) with: {'criterion': 'gini', 'max_depth': 12, 'max_features': 1, 'min_samples_split': 4}\n",
      "0.9512569444444443 0.9128124999999999 (0.015836690981704482) with: {'criterion': 'gini', 'max_depth': 12, 'max_features': 1, 'min_samples_split': 5}\n",
      "0.9478472222222223 0.9099375000000001 (0.012517019663242531) with: {'criterion': 'gini', 'max_depth': 12, 'max_features': 1, 'min_samples_split': 6}\n",
      "0.9715208333333333 0.923125 (0.01710719877712305) with: {'criterion': 'gini', 'max_depth': 12, 'max_features': 2, 'min_samples_split': 2}\n",
      "0.9703125 0.9215625 (0.01785849325251154) with: {'criterion': 'gini', 'max_depth': 12, 'max_features': 2, 'min_samples_split': 3}\n",
      "0.9682569444444444 0.92125 (0.019625398085134468) with: {'criterion': 'gini', 'max_depth': 12, 'max_features': 2, 'min_samples_split': 4}\n",
      "0.9666805555555555 0.9215 (0.01742663191784345) with: {'criterion': 'gini', 'max_depth': 12, 'max_features': 2, 'min_samples_split': 5}\n",
      "0.9652708333333333 0.9225625 (0.018846522391412178) with: {'criterion': 'gini', 'max_depth': 12, 'max_features': 2, 'min_samples_split': 6}\n",
      "0.9753333333333334 0.924625 (0.01718511347067574) with: {'criterion': 'gini', 'max_depth': 12, 'max_features': 3, 'min_samples_split': 2}\n",
      "0.9718402777777777 0.9235 (0.018185674306992295) with: {'criterion': 'gini', 'max_depth': 12, 'max_features': 3, 'min_samples_split': 3}\n",
      "0.9710833333333333 0.9238750000000001 (0.01755971953078979) with: {'criterion': 'gini', 'max_depth': 12, 'max_features': 3, 'min_samples_split': 4}\n",
      "0.9703680555555556 0.921875 (0.019982414143441225) with: {'criterion': 'gini', 'max_depth': 12, 'max_features': 3, 'min_samples_split': 5}\n",
      "0.9688194444444443 0.9220625 (0.017726326642877818) with: {'criterion': 'gini', 'max_depth': 12, 'max_features': 3, 'min_samples_split': 6}\n",
      "0.9756527777777777 0.9261250000000002 (0.016323870558173387) with: {'criterion': 'gini', 'max_depth': 12, 'max_features': 4, 'min_samples_split': 2}\n",
      "0.974 0.9235624999999998 (0.01665375802184) with: {'criterion': 'gini', 'max_depth': 12, 'max_features': 4, 'min_samples_split': 3}\n",
      "0.9726597222222223 0.9249374999999999 (0.016251081694767282) with: {'criterion': 'gini', 'max_depth': 12, 'max_features': 4, 'min_samples_split': 4}\n",
      "0.9715208333333335 0.9260624999999999 (0.016119790825255775) with: {'criterion': 'gini', 'max_depth': 12, 'max_features': 4, 'min_samples_split': 5}\n",
      "0.9704791666666667 0.9245000000000001 (0.016599134013556262) with: {'criterion': 'gini', 'max_depth': 12, 'max_features': 4, 'min_samples_split': 6}\n",
      "0.9760277777777778 0.9268750000000001 (0.015956483791863423) with: {'criterion': 'gini', 'max_depth': 12, 'max_features': 5, 'min_samples_split': 2}\n",
      "0.9744444444444443 0.9271249999999999 (0.016095903982069466) with: {'criterion': 'gini', 'max_depth': 12, 'max_features': 5, 'min_samples_split': 3}\n",
      "0.9728541666666667 0.9275625000000002 (0.017021241325179542) with: {'criterion': 'gini', 'max_depth': 12, 'max_features': 5, 'min_samples_split': 4}\n",
      "0.9716250000000001 0.9268750000000001 (0.017013321986020263) with: {'criterion': 'gini', 'max_depth': 12, 'max_features': 5, 'min_samples_split': 5}\n",
      "0.9703958333333332 0.9268125000000002 (0.017623337687566465) with: {'criterion': 'gini', 'max_depth': 12, 'max_features': 5, 'min_samples_split': 6}\n",
      "0.9986597222222221 0.9145 (0.02139253666585616) with: {'criterion': 'gini', 'max_depth': 20, 'max_features': 1, 'min_samples_split': 2}\n",
      "0.9887152777777779 0.9038125000000001 (0.022371944623791624) with: {'criterion': 'gini', 'max_depth': 20, 'max_features': 1, 'min_samples_split': 3}\n",
      "0.9827777777777778 0.9065 (0.02011917617597698) with: {'criterion': 'gini', 'max_depth': 20, 'max_features': 1, 'min_samples_split': 4}\n",
      "0.9782430555555555 0.9086875000000001 (0.020385829177396744) with: {'criterion': 'gini', 'max_depth': 20, 'max_features': 1, 'min_samples_split': 5}\n",
      "0.9736319444444443 0.9087500000000001 (0.01775264064864718) with: {'criterion': 'gini', 'max_depth': 20, 'max_features': 1, 'min_samples_split': 6}\n",
      "0.9995277777777778 0.9198125000000001 (0.01966129207987106) with: {'criterion': 'gini', 'max_depth': 20, 'max_features': 2, 'min_samples_split': 2}\n",
      "0.9930555555555556 0.9171250000000001 (0.023385692741503303) with: {'criterion': 'gini', 'max_depth': 20, 'max_features': 2, 'min_samples_split': 3}\n",
      "0.9882708333333333 0.9168125 (0.019538523645608423) with: {'criterion': 'gini', 'max_depth': 20, 'max_features': 2, 'min_samples_split': 4}\n",
      "0.98425 0.9168125 (0.02058604275352598) with: {'criterion': 'gini', 'max_depth': 20, 'max_features': 2, 'min_samples_split': 5}\n",
      "0.9810486111111111 0.9155000000000001 (0.01947113247862075) with: {'criterion': 'gini', 'max_depth': 20, 'max_features': 2, 'min_samples_split': 6}\n",
      "0.9996736111111112 0.9184374999999999 (0.019256188128754865) with: {'criterion': 'gini', 'max_depth': 20, 'max_features': 3, 'min_samples_split': 2}\n",
      "0.9941736111111112 0.9195625 (0.02207241278723287) with: {'criterion': 'gini', 'max_depth': 20, 'max_features': 3, 'min_samples_split': 3}\n",
      "0.9900555555555555 0.9181250000000001 (0.02160548252180452) with: {'criterion': 'gini', 'max_depth': 20, 'max_features': 3, 'min_samples_split': 4}\n",
      "0.9867986111111111 0.917375 (0.021740299560953604) with: {'criterion': 'gini', 'max_depth': 20, 'max_features': 3, 'min_samples_split': 5}\n",
      "0.98375 0.9205 (0.01965085875986086) with: {'criterion': 'gini', 'max_depth': 20, 'max_features': 3, 'min_samples_split': 6}\n",
      "0.999625 0.9196250000000001 (0.0199769398307148) with: {'criterion': 'gini', 'max_depth': 20, 'max_features': 4, 'min_samples_split': 2}\n",
      "0.9953125 0.9182500000000001 (0.020348141807054517) with: {'criterion': 'gini', 'max_depth': 20, 'max_features': 4, 'min_samples_split': 3}\n",
      "0.9909374999999999 0.9200625 (0.01964220981076212) with: {'criterion': 'gini', 'max_depth': 20, 'max_features': 4, 'min_samples_split': 4}\n",
      "0.9873888888888889 0.9176250000000001 (0.01941085392248368) with: {'criterion': 'gini', 'max_depth': 20, 'max_features': 4, 'min_samples_split': 5}\n",
      "0.9847777777777779 0.9207500000000002 (0.01899588771287093) with: {'criterion': 'gini', 'max_depth': 20, 'max_features': 4, 'min_samples_split': 6}\n",
      "0.9997291666666668 0.9210624999999999 (0.018447666688500203) with: {'criterion': 'gini', 'max_depth': 20, 'max_features': 5, 'min_samples_split': 2}\n",
      "0.9956041666666666 0.9209375 (0.021052853874237554) with: {'criterion': 'gini', 'max_depth': 20, 'max_features': 5, 'min_samples_split': 3}\n",
      "0.9913055555555556 0.9204375 (0.020532082365166952) with: {'criterion': 'gini', 'max_depth': 20, 'max_features': 5, 'min_samples_split': 4}\n",
      "0.9881527777777777 0.9200624999999999 (0.02031288461174336) with: {'criterion': 'gini', 'max_depth': 20, 'max_features': 5, 'min_samples_split': 5}\n",
      "0.9851666666666666 0.9228750000000001 (0.02047521367409875) with: {'criterion': 'gini', 'max_depth': 20, 'max_features': 5, 'min_samples_split': 6}\n",
      "1.0 0.9113749999999999 (0.019842741116085732) with: {'criterion': 'gini', 'max_depth': 50, 'max_features': 1, 'min_samples_split': 2}\n",
      "0.9893888888888889 0.9021249999999998 (0.021660015004611607) with: {'criterion': 'gini', 'max_depth': 50, 'max_features': 1, 'min_samples_split': 3}\n",
      "0.982486111111111 0.906875 (0.023234537869301394) with: {'criterion': 'gini', 'max_depth': 50, 'max_features': 1, 'min_samples_split': 4}\n",
      "0.9778472222222222 0.9049375000000002 (0.02164061935920504) with: {'criterion': 'gini', 'max_depth': 50, 'max_features': 1, 'min_samples_split': 5}\n",
      "0.9736180555555556 0.9035 (0.020066685700433948) with: {'criterion': 'gini', 'max_depth': 50, 'max_features': 1, 'min_samples_split': 6}\n",
      "1.0 0.9181250000000001 (0.020666624663935818) with: {'criterion': 'gini', 'max_depth': 50, 'max_features': 2, 'min_samples_split': 2}\n",
      "0.9930208333333332 0.9194375000000001 (0.022431231714954942) with: {'criterion': 'gini', 'max_depth': 50, 'max_features': 2, 'min_samples_split': 3}\n",
      "0.9886250000000001 0.9158125 (0.01809059234104844) with: {'criterion': 'gini', 'max_depth': 50, 'max_features': 2, 'min_samples_split': 4}\n",
      "0.9845625 0.9163124999999999 (0.019303193550550105) with: {'criterion': 'gini', 'max_depth': 50, 'max_features': 2, 'min_samples_split': 5}\n",
      "0.9808124999999999 0.917 (0.018415346860702883) with: {'criterion': 'gini', 'max_depth': 50, 'max_features': 2, 'min_samples_split': 6}\n",
      "1.0 0.9185000000000001 (0.020993302503417608) with: {'criterion': 'gini', 'max_depth': 50, 'max_features': 3, 'min_samples_split': 2}\n",
      "0.9946180555555555 0.9180625000000001 (0.022249385525222938) with: {'criterion': 'gini', 'max_depth': 50, 'max_features': 3, 'min_samples_split': 3}\n",
      "0.9901458333333333 0.9215 (0.019172734546746326) with: {'criterion': 'gini', 'max_depth': 50, 'max_features': 3, 'min_samples_split': 4}\n",
      "0.9869652777777779 0.9169375000000001 (0.020712786660659652) with: {'criterion': 'gini', 'max_depth': 50, 'max_features': 3, 'min_samples_split': 5}\n",
      "0.9836458333333333 0.9199375 (0.019295097337147578) with: {'criterion': 'gini', 'max_depth': 50, 'max_features': 3, 'min_samples_split': 6}\n",
      "1.0 0.9203749999999999 (0.017711225254058525) with: {'criterion': 'gini', 'max_depth': 50, 'max_features': 4, 'min_samples_split': 2}\n",
      "0.9954791666666665 0.9193749999999999 (0.019900141331156418) with: {'criterion': 'gini', 'max_depth': 50, 'max_features': 4, 'min_samples_split': 3}\n",
      "0.9910138888888887 0.9205625000000002 (0.020175886752507317) with: {'criterion': 'gini', 'max_depth': 50, 'max_features': 4, 'min_samples_split': 4}\n",
      "0.9877916666666666 0.9189999999999999 (0.02120620487027323) with: {'criterion': 'gini', 'max_depth': 50, 'max_features': 4, 'min_samples_split': 5}\n",
      "0.9846458333333334 0.92025 (0.018416195318251827) with: {'criterion': 'gini', 'max_depth': 50, 'max_features': 4, 'min_samples_split': 6}\n",
      "1.0 0.9209999999999999 (0.019337059626530602) with: {'criterion': 'gini', 'max_depth': 50, 'max_features': 5, 'min_samples_split': 2}\n",
      "0.9959305555555555 0.9205625000000002 (0.02090986982862402) with: {'criterion': 'gini', 'max_depth': 50, 'max_features': 5, 'min_samples_split': 3}\n",
      "0.9914166666666666 0.9203749999999999 (0.021015619191449002) with: {'criterion': 'gini', 'max_depth': 50, 'max_features': 5, 'min_samples_split': 4}\n",
      "0.9882430555555555 0.9203125 (0.020302882338475988) with: {'criterion': 'gini', 'max_depth': 50, 'max_features': 5, 'min_samples_split': 5}\n",
      "0.9852083333333332 0.9223750000000001 (0.01977964547205031) with: {'criterion': 'gini', 'max_depth': 50, 'max_features': 5, 'min_samples_split': 6}\n",
      "1.0 0.9113749999999999 (0.019842741116085732) with: {'criterion': 'gini', 'max_depth': 100, 'max_features': 1, 'min_samples_split': 2}\n",
      "0.9893888888888889 0.9021249999999998 (0.021660015004611607) with: {'criterion': 'gini', 'max_depth': 100, 'max_features': 1, 'min_samples_split': 3}\n",
      "0.982486111111111 0.906875 (0.023234537869301394) with: {'criterion': 'gini', 'max_depth': 100, 'max_features': 1, 'min_samples_split': 4}\n",
      "0.9778472222222222 0.9049375000000002 (0.02164061935920504) with: {'criterion': 'gini', 'max_depth': 100, 'max_features': 1, 'min_samples_split': 5}\n",
      "0.9736180555555556 0.9035 (0.020066685700433948) with: {'criterion': 'gini', 'max_depth': 100, 'max_features': 1, 'min_samples_split': 6}\n",
      "1.0 0.9181250000000001 (0.020666624663935818) with: {'criterion': 'gini', 'max_depth': 100, 'max_features': 2, 'min_samples_split': 2}\n",
      "0.9930208333333332 0.9194375000000001 (0.022431231714954942) with: {'criterion': 'gini', 'max_depth': 100, 'max_features': 2, 'min_samples_split': 3}\n",
      "0.9886250000000001 0.9158125 (0.01809059234104844) with: {'criterion': 'gini', 'max_depth': 100, 'max_features': 2, 'min_samples_split': 4}\n",
      "0.9845625 0.9163124999999999 (0.019303193550550105) with: {'criterion': 'gini', 'max_depth': 100, 'max_features': 2, 'min_samples_split': 5}\n",
      "0.9808124999999999 0.917 (0.018415346860702883) with: {'criterion': 'gini', 'max_depth': 100, 'max_features': 2, 'min_samples_split': 6}\n",
      "1.0 0.9185000000000001 (0.020993302503417608) with: {'criterion': 'gini', 'max_depth': 100, 'max_features': 3, 'min_samples_split': 2}\n",
      "0.9946180555555555 0.9180625000000001 (0.022249385525222938) with: {'criterion': 'gini', 'max_depth': 100, 'max_features': 3, 'min_samples_split': 3}\n",
      "0.9901458333333333 0.9215 (0.019172734546746326) with: {'criterion': 'gini', 'max_depth': 100, 'max_features': 3, 'min_samples_split': 4}\n",
      "0.9869652777777779 0.9169375000000001 (0.020712786660659652) with: {'criterion': 'gini', 'max_depth': 100, 'max_features': 3, 'min_samples_split': 5}\n",
      "0.9836458333333333 0.9199375 (0.019295097337147578) with: {'criterion': 'gini', 'max_depth': 100, 'max_features': 3, 'min_samples_split': 6}\n",
      "1.0 0.9203749999999999 (0.017711225254058525) with: {'criterion': 'gini', 'max_depth': 100, 'max_features': 4, 'min_samples_split': 2}\n",
      "0.9954791666666665 0.9193749999999999 (0.019900141331156418) with: {'criterion': 'gini', 'max_depth': 100, 'max_features': 4, 'min_samples_split': 3}\n",
      "0.9910138888888887 0.9205625000000002 (0.020175886752507317) with: {'criterion': 'gini', 'max_depth': 100, 'max_features': 4, 'min_samples_split': 4}\n",
      "0.9877916666666666 0.9189999999999999 (0.02120620487027323) with: {'criterion': 'gini', 'max_depth': 100, 'max_features': 4, 'min_samples_split': 5}\n",
      "0.9846458333333334 0.92025 (0.018416195318251827) with: {'criterion': 'gini', 'max_depth': 100, 'max_features': 4, 'min_samples_split': 6}\n",
      "1.0 0.9209999999999999 (0.019337059626530602) with: {'criterion': 'gini', 'max_depth': 100, 'max_features': 5, 'min_samples_split': 2}\n",
      "0.9959305555555555 0.9205625000000002 (0.02090986982862402) with: {'criterion': 'gini', 'max_depth': 100, 'max_features': 5, 'min_samples_split': 3}\n",
      "0.9914166666666666 0.9203749999999999 (0.021015619191449002) with: {'criterion': 'gini', 'max_depth': 100, 'max_features': 5, 'min_samples_split': 4}\n",
      "0.9882430555555555 0.9203125 (0.020302882338475988) with: {'criterion': 'gini', 'max_depth': 100, 'max_features': 5, 'min_samples_split': 5}\n",
      "0.9852083333333332 0.9223750000000001 (0.01977964547205031) with: {'criterion': 'gini', 'max_depth': 100, 'max_features': 5, 'min_samples_split': 6}\n",
      "1.0 0.9113749999999999 (0.019842741116085732) with: {'criterion': 'gini', 'max_depth': 200, 'max_features': 1, 'min_samples_split': 2}\n",
      "0.9893888888888889 0.9021249999999998 (0.021660015004611607) with: {'criterion': 'gini', 'max_depth': 200, 'max_features': 1, 'min_samples_split': 3}\n",
      "0.982486111111111 0.906875 (0.023234537869301394) with: {'criterion': 'gini', 'max_depth': 200, 'max_features': 1, 'min_samples_split': 4}\n",
      "0.9778472222222222 0.9049375000000002 (0.02164061935920504) with: {'criterion': 'gini', 'max_depth': 200, 'max_features': 1, 'min_samples_split': 5}\n",
      "0.9736180555555556 0.9035 (0.020066685700433948) with: {'criterion': 'gini', 'max_depth': 200, 'max_features': 1, 'min_samples_split': 6}\n",
      "1.0 0.9181250000000001 (0.020666624663935818) with: {'criterion': 'gini', 'max_depth': 200, 'max_features': 2, 'min_samples_split': 2}\n",
      "0.9930208333333332 0.9194375000000001 (0.022431231714954942) with: {'criterion': 'gini', 'max_depth': 200, 'max_features': 2, 'min_samples_split': 3}\n",
      "0.9886250000000001 0.9158125 (0.01809059234104844) with: {'criterion': 'gini', 'max_depth': 200, 'max_features': 2, 'min_samples_split': 4}\n",
      "0.9845625 0.9163124999999999 (0.019303193550550105) with: {'criterion': 'gini', 'max_depth': 200, 'max_features': 2, 'min_samples_split': 5}\n",
      "0.9808124999999999 0.917 (0.018415346860702883) with: {'criterion': 'gini', 'max_depth': 200, 'max_features': 2, 'min_samples_split': 6}\n",
      "1.0 0.9185000000000001 (0.020993302503417608) with: {'criterion': 'gini', 'max_depth': 200, 'max_features': 3, 'min_samples_split': 2}\n",
      "0.9946180555555555 0.9180625000000001 (0.022249385525222938) with: {'criterion': 'gini', 'max_depth': 200, 'max_features': 3, 'min_samples_split': 3}\n",
      "0.9901458333333333 0.9215 (0.019172734546746326) with: {'criterion': 'gini', 'max_depth': 200, 'max_features': 3, 'min_samples_split': 4}\n",
      "0.9869652777777779 0.9169375000000001 (0.020712786660659652) with: {'criterion': 'gini', 'max_depth': 200, 'max_features': 3, 'min_samples_split': 5}\n",
      "0.9836458333333333 0.9199375 (0.019295097337147578) with: {'criterion': 'gini', 'max_depth': 200, 'max_features': 3, 'min_samples_split': 6}\n",
      "1.0 0.9203749999999999 (0.017711225254058525) with: {'criterion': 'gini', 'max_depth': 200, 'max_features': 4, 'min_samples_split': 2}\n",
      "0.9954791666666665 0.9193749999999999 (0.019900141331156418) with: {'criterion': 'gini', 'max_depth': 200, 'max_features': 4, 'min_samples_split': 3}\n",
      "0.9910138888888887 0.9205625000000002 (0.020175886752507317) with: {'criterion': 'gini', 'max_depth': 200, 'max_features': 4, 'min_samples_split': 4}\n",
      "0.9877916666666666 0.9189999999999999 (0.02120620487027323) with: {'criterion': 'gini', 'max_depth': 200, 'max_features': 4, 'min_samples_split': 5}\n",
      "0.9846458333333334 0.92025 (0.018416195318251827) with: {'criterion': 'gini', 'max_depth': 200, 'max_features': 4, 'min_samples_split': 6}\n",
      "1.0 0.9209999999999999 (0.019337059626530602) with: {'criterion': 'gini', 'max_depth': 200, 'max_features': 5, 'min_samples_split': 2}\n",
      "0.9959305555555555 0.9205625000000002 (0.02090986982862402) with: {'criterion': 'gini', 'max_depth': 200, 'max_features': 5, 'min_samples_split': 3}\n",
      "0.9914166666666666 0.9203749999999999 (0.021015619191449002) with: {'criterion': 'gini', 'max_depth': 200, 'max_features': 5, 'min_samples_split': 4}\n",
      "0.9882430555555555 0.9203125 (0.020302882338475988) with: {'criterion': 'gini', 'max_depth': 200, 'max_features': 5, 'min_samples_split': 5}\n",
      "0.9852083333333332 0.9223750000000001 (0.01977964547205031) with: {'criterion': 'gini', 'max_depth': 200, 'max_features': 5, 'min_samples_split': 6}\n",
      "1.0 0.9113749999999999 (0.019842741116085732) with: {'criterion': 'gini', 'max_depth': 300, 'max_features': 1, 'min_samples_split': 2}\n",
      "0.9893888888888889 0.9021249999999998 (0.021660015004611607) with: {'criterion': 'gini', 'max_depth': 300, 'max_features': 1, 'min_samples_split': 3}\n",
      "0.982486111111111 0.906875 (0.023234537869301394) with: {'criterion': 'gini', 'max_depth': 300, 'max_features': 1, 'min_samples_split': 4}\n",
      "0.9778472222222222 0.9049375000000002 (0.02164061935920504) with: {'criterion': 'gini', 'max_depth': 300, 'max_features': 1, 'min_samples_split': 5}\n",
      "0.9736180555555556 0.9035 (0.020066685700433948) with: {'criterion': 'gini', 'max_depth': 300, 'max_features': 1, 'min_samples_split': 6}\n",
      "1.0 0.9181250000000001 (0.020666624663935818) with: {'criterion': 'gini', 'max_depth': 300, 'max_features': 2, 'min_samples_split': 2}\n",
      "0.9930208333333332 0.9194375000000001 (0.022431231714954942) with: {'criterion': 'gini', 'max_depth': 300, 'max_features': 2, 'min_samples_split': 3}\n",
      "0.9886250000000001 0.9158125 (0.01809059234104844) with: {'criterion': 'gini', 'max_depth': 300, 'max_features': 2, 'min_samples_split': 4}\n",
      "0.9845625 0.9163124999999999 (0.019303193550550105) with: {'criterion': 'gini', 'max_depth': 300, 'max_features': 2, 'min_samples_split': 5}\n",
      "0.9808124999999999 0.917 (0.018415346860702883) with: {'criterion': 'gini', 'max_depth': 300, 'max_features': 2, 'min_samples_split': 6}\n",
      "1.0 0.9185000000000001 (0.020993302503417608) with: {'criterion': 'gini', 'max_depth': 300, 'max_features': 3, 'min_samples_split': 2}\n",
      "0.9946180555555555 0.9180625000000001 (0.022249385525222938) with: {'criterion': 'gini', 'max_depth': 300, 'max_features': 3, 'min_samples_split': 3}\n",
      "0.9901458333333333 0.9215 (0.019172734546746326) with: {'criterion': 'gini', 'max_depth': 300, 'max_features': 3, 'min_samples_split': 4}\n",
      "0.9869652777777779 0.9169375000000001 (0.020712786660659652) with: {'criterion': 'gini', 'max_depth': 300, 'max_features': 3, 'min_samples_split': 5}\n",
      "0.9836458333333333 0.9199375 (0.019295097337147578) with: {'criterion': 'gini', 'max_depth': 300, 'max_features': 3, 'min_samples_split': 6}\n",
      "1.0 0.9203749999999999 (0.017711225254058525) with: {'criterion': 'gini', 'max_depth': 300, 'max_features': 4, 'min_samples_split': 2}\n",
      "0.9954791666666665 0.9193749999999999 (0.019900141331156418) with: {'criterion': 'gini', 'max_depth': 300, 'max_features': 4, 'min_samples_split': 3}\n",
      "0.9910138888888887 0.9205625000000002 (0.020175886752507317) with: {'criterion': 'gini', 'max_depth': 300, 'max_features': 4, 'min_samples_split': 4}\n",
      "0.9877916666666666 0.9189999999999999 (0.02120620487027323) with: {'criterion': 'gini', 'max_depth': 300, 'max_features': 4, 'min_samples_split': 5}\n",
      "0.9846458333333334 0.92025 (0.018416195318251827) with: {'criterion': 'gini', 'max_depth': 300, 'max_features': 4, 'min_samples_split': 6}\n",
      "1.0 0.9209999999999999 (0.019337059626530602) with: {'criterion': 'gini', 'max_depth': 300, 'max_features': 5, 'min_samples_split': 2}\n",
      "0.9959305555555555 0.9205625000000002 (0.02090986982862402) with: {'criterion': 'gini', 'max_depth': 300, 'max_features': 5, 'min_samples_split': 3}\n",
      "0.9914166666666666 0.9203749999999999 (0.021015619191449002) with: {'criterion': 'gini', 'max_depth': 300, 'max_features': 5, 'min_samples_split': 4}\n",
      "0.9882430555555555 0.9203125 (0.020302882338475988) with: {'criterion': 'gini', 'max_depth': 300, 'max_features': 5, 'min_samples_split': 5}\n",
      "0.9852083333333332 0.9223750000000001 (0.01977964547205031) with: {'criterion': 'gini', 'max_depth': 300, 'max_features': 5, 'min_samples_split': 6}\n",
      "1.0 0.9113749999999999 (0.019842741116085732) with: {'criterion': 'gini', 'max_depth': 500, 'max_features': 1, 'min_samples_split': 2}\n",
      "0.9893888888888889 0.9021249999999998 (0.021660015004611607) with: {'criterion': 'gini', 'max_depth': 500, 'max_features': 1, 'min_samples_split': 3}\n",
      "0.982486111111111 0.906875 (0.023234537869301394) with: {'criterion': 'gini', 'max_depth': 500, 'max_features': 1, 'min_samples_split': 4}\n",
      "0.9778472222222222 0.9049375000000002 (0.02164061935920504) with: {'criterion': 'gini', 'max_depth': 500, 'max_features': 1, 'min_samples_split': 5}\n",
      "0.9736180555555556 0.9035 (0.020066685700433948) with: {'criterion': 'gini', 'max_depth': 500, 'max_features': 1, 'min_samples_split': 6}\n",
      "1.0 0.9181250000000001 (0.020666624663935818) with: {'criterion': 'gini', 'max_depth': 500, 'max_features': 2, 'min_samples_split': 2}\n",
      "0.9930208333333332 0.9194375000000001 (0.022431231714954942) with: {'criterion': 'gini', 'max_depth': 500, 'max_features': 2, 'min_samples_split': 3}\n",
      "0.9886250000000001 0.9158125 (0.01809059234104844) with: {'criterion': 'gini', 'max_depth': 500, 'max_features': 2, 'min_samples_split': 4}\n",
      "0.9845625 0.9163124999999999 (0.019303193550550105) with: {'criterion': 'gini', 'max_depth': 500, 'max_features': 2, 'min_samples_split': 5}\n",
      "0.9808124999999999 0.917 (0.018415346860702883) with: {'criterion': 'gini', 'max_depth': 500, 'max_features': 2, 'min_samples_split': 6}\n",
      "1.0 0.9185000000000001 (0.020993302503417608) with: {'criterion': 'gini', 'max_depth': 500, 'max_features': 3, 'min_samples_split': 2}\n",
      "0.9946180555555555 0.9180625000000001 (0.022249385525222938) with: {'criterion': 'gini', 'max_depth': 500, 'max_features': 3, 'min_samples_split': 3}\n",
      "0.9901458333333333 0.9215 (0.019172734546746326) with: {'criterion': 'gini', 'max_depth': 500, 'max_features': 3, 'min_samples_split': 4}\n",
      "0.9869652777777779 0.9169375000000001 (0.020712786660659652) with: {'criterion': 'gini', 'max_depth': 500, 'max_features': 3, 'min_samples_split': 5}\n",
      "0.9836458333333333 0.9199375 (0.019295097337147578) with: {'criterion': 'gini', 'max_depth': 500, 'max_features': 3, 'min_samples_split': 6}\n",
      "1.0 0.9203749999999999 (0.017711225254058525) with: {'criterion': 'gini', 'max_depth': 500, 'max_features': 4, 'min_samples_split': 2}\n",
      "0.9954791666666665 0.9193749999999999 (0.019900141331156418) with: {'criterion': 'gini', 'max_depth': 500, 'max_features': 4, 'min_samples_split': 3}\n",
      "0.9910138888888887 0.9205625000000002 (0.020175886752507317) with: {'criterion': 'gini', 'max_depth': 500, 'max_features': 4, 'min_samples_split': 4}\n",
      "0.9877916666666666 0.9189999999999999 (0.02120620487027323) with: {'criterion': 'gini', 'max_depth': 500, 'max_features': 4, 'min_samples_split': 5}\n",
      "0.9846458333333334 0.92025 (0.018416195318251827) with: {'criterion': 'gini', 'max_depth': 500, 'max_features': 4, 'min_samples_split': 6}\n",
      "1.0 0.9209999999999999 (0.019337059626530602) with: {'criterion': 'gini', 'max_depth': 500, 'max_features': 5, 'min_samples_split': 2}\n",
      "0.9959305555555555 0.9205625000000002 (0.02090986982862402) with: {'criterion': 'gini', 'max_depth': 500, 'max_features': 5, 'min_samples_split': 3}\n",
      "0.9914166666666666 0.9203749999999999 (0.021015619191449002) with: {'criterion': 'gini', 'max_depth': 500, 'max_features': 5, 'min_samples_split': 4}\n",
      "0.9882430555555555 0.9203125 (0.020302882338475988) with: {'criterion': 'gini', 'max_depth': 500, 'max_features': 5, 'min_samples_split': 5}\n",
      "0.9852083333333332 0.9223750000000001 (0.01977964547205031) with: {'criterion': 'gini', 'max_depth': 500, 'max_features': 5, 'min_samples_split': 6}\n"
     ]
    }
   ],
   "source": [
    "# finding the mean train accuracy, mean test accuracy and standard deviation\n",
    "means_train = grid_search.cv_results_['mean_train_score']\n",
    "means_test = grid_search.cv_results_['mean_test_score']\n",
    "stds = grid_search.cv_results_['std_test_score']\n",
    "params = grid_search.cv_results_['params']\n",
    "for mean_train,mean_test, stdev, param in zip(means_train,means_test, stds, params):\n",
    "    print('{0} {1} ({2}) with: {3}'.format(mean_train,mean_test, stdev, param))"
   ]
  },
  {
   "cell_type": "code",
   "execution_count": 52,
   "metadata": {},
   "outputs": [
    {
     "data": {
      "text/plain": [
       "DecisionTreeClassifier(criterion='entropy', max_depth=12, max_features=5,\n",
       "                       min_samples_split=5)"
      ]
     },
     "execution_count": 52,
     "metadata": {},
     "output_type": "execute_result"
    }
   ],
   "source": [
    "from sklearn.tree import DecisionTreeClassifier\n",
    "\n",
    "#Creating the model\n",
    "decision_tree = DecisionTreeClassifier(criterion = 'entropy', max_depth = 12, max_features = 5, min_samples_split = 5)\n",
    "\n",
    "#Fitting the model\n",
    "decision_tree.fit(X_train_smote, y_train_smote)"
   ]
  },
  {
   "cell_type": "code",
   "execution_count": 53,
   "metadata": {},
   "outputs": [
    {
     "name": "stdout",
     "output_type": "stream",
     "text": [
      "Training accuracy of Decision Tree model is 97.04374999999999\n"
     ]
    }
   ],
   "source": [
    "#Calculating train accuracy\n",
    "\n",
    "decision_tree_accuracy_train = accuracy_score(y_train_smote,decision_tree.predict(X_train_smote))\n",
    "print(\"Training accuracy of Decision Tree model is \" + str(decision_tree_accuracy_train * 100))"
   ]
  },
  {
   "cell_type": "code",
   "execution_count": 54,
   "metadata": {},
   "outputs": [
    {
     "name": "stdout",
     "output_type": "stream",
     "text": [
      "Testing accuracy of Decision Tree Model is: 90.66666666666666\n"
     ]
    }
   ],
   "source": [
    "#Making predictions on test data\n",
    "Y_predict_decision_tree = decision_tree.predict(X_test)\n",
    "\n",
    "#Calculating test accuracy\n",
    "decision_tree_accuracy_test = accuracy_score(Y_test, Y_predict_decision_tree)\n",
    "print(\"Testing accuracy of Decision Tree Model is: \" + str(decision_tree_accuracy_test * 100))"
   ]
  },
  {
   "cell_type": "code",
   "execution_count": 55,
   "metadata": {},
   "outputs": [
    {
     "data": {
      "text/plain": [
       "array([[1838,  162],\n",
       "       [ 118,  882]], dtype=int64)"
      ]
     },
     "execution_count": 55,
     "metadata": {},
     "output_type": "execute_result"
    }
   ],
   "source": [
    "# Confusion matrix\n",
    "confusion_matrix_decision_tree = confusion_matrix(Y_test, Y_predict_decision_tree)\n",
    "confusion_matrix_decision_tree"
   ]
  },
  {
   "cell_type": "code",
   "execution_count": 56,
   "metadata": {},
   "outputs": [
    {
     "name": "stdout",
     "output_type": "stream",
     "text": [
      "              precision    recall  f1-score   support\n",
      "\n",
      "           0       0.94      0.92      0.93      2000\n",
      "           1       0.84      0.88      0.86      1000\n",
      "\n",
      "    accuracy                           0.91      3000\n",
      "   macro avg       0.89      0.90      0.90      3000\n",
      "weighted avg       0.91      0.91      0.91      3000\n",
      "\n"
     ]
    }
   ],
   "source": [
    "# Classification report\n",
    "print(classification_report(Y_test, Y_predict_decision_tree))"
   ]
  },
  {
   "cell_type": "code",
   "execution_count": 57,
   "metadata": {},
   "outputs": [
    {
     "name": "stdout",
     "output_type": "stream",
     "text": [
      "0.8448275862068966\n"
     ]
    }
   ],
   "source": [
    "print(precision_score(Y_test, Y_predict_decision_tree))"
   ]
  },
  {
   "cell_type": "code",
   "execution_count": 58,
   "metadata": {},
   "outputs": [
    {
     "name": "stdout",
     "output_type": "stream",
     "text": [
      "0.882\n"
     ]
    }
   ],
   "source": [
    "print(recall_score(Y_test, Y_predict_decision_tree))"
   ]
  },
  {
   "cell_type": "code",
   "execution_count": 59,
   "metadata": {},
   "outputs": [
    {
     "name": "stdout",
     "output_type": "stream",
     "text": [
      "0.8630136986301371\n"
     ]
    }
   ],
   "source": [
    "print(f1_score(Y_test, Y_predict_decision_tree))"
   ]
  },
  {
   "cell_type": "markdown",
   "metadata": {},
   "source": [
    "### 5. Random Forest"
   ]
  },
  {
   "cell_type": "code",
   "execution_count": 78,
   "metadata": {},
   "outputs": [
    {
     "name": "stdout",
     "output_type": "stream",
     "text": [
      "Fitting 10 folds for each of 648 candidates, totalling 6480 fits\n"
     ]
    },
    {
     "name": "stderr",
     "output_type": "stream",
     "text": [
      "[Parallel(n_jobs=-1)]: Using backend LokyBackend with 8 concurrent workers.\n",
      "[Parallel(n_jobs=-1)]: Batch computation too fast (0.0468s.) Setting batch_size=2.\n",
      "[Parallel(n_jobs=-1)]: Done   2 tasks      | elapsed:    0.0s\n",
      "[Parallel(n_jobs=-1)]: Done   9 tasks      | elapsed:    0.0s\n",
      "[Parallel(n_jobs=-1)]: Done  16 tasks      | elapsed:    0.0s\n",
      "[Parallel(n_jobs=-1)]: Batch computation too fast (0.1147s.) Setting batch_size=4.\n",
      "[Parallel(n_jobs=-1)]: Done  34 tasks      | elapsed:    0.2s\n",
      "[Parallel(n_jobs=-1)]: Done  56 tasks      | elapsed:    0.6s\n",
      "[Parallel(n_jobs=-1)]: Done 100 tasks      | elapsed:    1.4s\n",
      "[Parallel(n_jobs=-1)]: Done 144 tasks      | elapsed:    1.8s\n",
      "[Parallel(n_jobs=-1)]: Done 196 tasks      | elapsed:    2.6s\n",
      "[Parallel(n_jobs=-1)]: Done 248 tasks      | elapsed:    3.3s\n",
      "[Parallel(n_jobs=-1)]: Done 308 tasks      | elapsed:    4.1s\n",
      "[Parallel(n_jobs=-1)]: Done 368 tasks      | elapsed:    5.2s\n",
      "[Parallel(n_jobs=-1)]: Done 436 tasks      | elapsed:    7.0s\n",
      "[Parallel(n_jobs=-1)]: Batch computation too slow (2.0265s.) Setting batch_size=1.\n",
      "[Parallel(n_jobs=-1)]: Done 504 tasks      | elapsed:    9.1s\n",
      "[Parallel(n_jobs=-1)]: Done 541 tasks      | elapsed:    9.7s\n",
      "[Parallel(n_jobs=-1)]: Done 560 tasks      | elapsed:   10.3s\n",
      "[Parallel(n_jobs=-1)]: Done 581 tasks      | elapsed:   11.1s\n",
      "[Parallel(n_jobs=-1)]: Done 602 tasks      | elapsed:   11.7s\n",
      "[Parallel(n_jobs=-1)]: Done 625 tasks      | elapsed:   12.0s\n",
      "[Parallel(n_jobs=-1)]: Done 648 tasks      | elapsed:   12.4s\n",
      "[Parallel(n_jobs=-1)]: Done 673 tasks      | elapsed:   13.1s\n",
      "[Parallel(n_jobs=-1)]: Done 698 tasks      | elapsed:   14.0s\n",
      "[Parallel(n_jobs=-1)]: Done 725 tasks      | elapsed:   14.8s\n",
      "[Parallel(n_jobs=-1)]: Done 752 tasks      | elapsed:   15.3s\n",
      "[Parallel(n_jobs=-1)]: Done 781 tasks      | elapsed:   16.4s\n",
      "[Parallel(n_jobs=-1)]: Done 810 tasks      | elapsed:   17.8s\n",
      "[Parallel(n_jobs=-1)]: Done 841 tasks      | elapsed:   19.4s\n",
      "[Parallel(n_jobs=-1)]: Done 872 tasks      | elapsed:   20.0s\n",
      "[Parallel(n_jobs=-1)]: Done 905 tasks      | elapsed:   21.0s\n",
      "[Parallel(n_jobs=-1)]: Done 938 tasks      | elapsed:   22.8s\n",
      "[Parallel(n_jobs=-1)]: Done 973 tasks      | elapsed:   24.2s\n",
      "[Parallel(n_jobs=-1)]: Done 1008 tasks      | elapsed:   24.9s\n",
      "[Parallel(n_jobs=-1)]: Done 1045 tasks      | elapsed:   26.5s\n",
      "[Parallel(n_jobs=-1)]: Done 1082 tasks      | elapsed:   28.3s\n",
      "[Parallel(n_jobs=-1)]: Done 1121 tasks      | elapsed:   29.0s\n",
      "[Parallel(n_jobs=-1)]: Done 1160 tasks      | elapsed:   30.5s\n",
      "[Parallel(n_jobs=-1)]: Done 1201 tasks      | elapsed:   32.5s\n",
      "[Parallel(n_jobs=-1)]: Done 1242 tasks      | elapsed:   33.3s\n",
      "[Parallel(n_jobs=-1)]: Done 1285 tasks      | elapsed:   35.1s\n",
      "[Parallel(n_jobs=-1)]: Done 1328 tasks      | elapsed:   37.1s\n",
      "[Parallel(n_jobs=-1)]: Done 1373 tasks      | elapsed:   38.1s\n",
      "[Parallel(n_jobs=-1)]: Done 1418 tasks      | elapsed:   40.2s\n",
      "[Parallel(n_jobs=-1)]: Done 1465 tasks      | elapsed:   41.8s\n",
      "[Parallel(n_jobs=-1)]: Done 1512 tasks      | elapsed:   43.4s\n",
      "[Parallel(n_jobs=-1)]: Done 1561 tasks      | elapsed:   46.1s\n",
      "[Parallel(n_jobs=-1)]: Done 1610 tasks      | elapsed:   47.2s\n",
      "[Parallel(n_jobs=-1)]: Done 1661 tasks      | elapsed:   50.1s\n",
      "[Parallel(n_jobs=-1)]: Done 1712 tasks      | elapsed:   51.8s\n",
      "[Parallel(n_jobs=-1)]: Done 1765 tasks      | elapsed:   53.9s\n",
      "[Parallel(n_jobs=-1)]: Done 1818 tasks      | elapsed:   56.3s\n",
      "[Parallel(n_jobs=-1)]: Done 1873 tasks      | elapsed:   58.4s\n",
      "[Parallel(n_jobs=-1)]: Done 1928 tasks      | elapsed:  1.0min\n",
      "[Parallel(n_jobs=-1)]: Done 1985 tasks      | elapsed:  1.0min\n",
      "[Parallel(n_jobs=-1)]: Done 2042 tasks      | elapsed:  1.1min\n",
      "[Parallel(n_jobs=-1)]: Done 2101 tasks      | elapsed:  1.1min\n",
      "[Parallel(n_jobs=-1)]: Done 2160 tasks      | elapsed:  1.2min\n",
      "[Parallel(n_jobs=-1)]: Done 2221 tasks      | elapsed:  1.2min\n",
      "[Parallel(n_jobs=-1)]: Done 2282 tasks      | elapsed:  1.3min\n",
      "[Parallel(n_jobs=-1)]: Done 2345 tasks      | elapsed:  1.3min\n",
      "[Parallel(n_jobs=-1)]: Done 2408 tasks      | elapsed:  1.4min\n",
      "[Parallel(n_jobs=-1)]: Done 2473 tasks      | elapsed:  1.4min\n",
      "[Parallel(n_jobs=-1)]: Done 2538 tasks      | elapsed:  1.4min\n",
      "[Parallel(n_jobs=-1)]: Done 2605 tasks      | elapsed:  1.5min\n",
      "[Parallel(n_jobs=-1)]: Done 2672 tasks      | elapsed:  1.5min\n",
      "[Parallel(n_jobs=-1)]: Done 2741 tasks      | elapsed:  1.6min\n",
      "[Parallel(n_jobs=-1)]: Done 2810 tasks      | elapsed:  1.6min\n",
      "[Parallel(n_jobs=-1)]: Done 2881 tasks      | elapsed:  1.7min\n",
      "[Parallel(n_jobs=-1)]: Done 2952 tasks      | elapsed:  1.7min\n",
      "[Parallel(n_jobs=-1)]: Done 3025 tasks      | elapsed:  1.8min\n",
      "[Parallel(n_jobs=-1)]: Done 3098 tasks      | elapsed:  1.8min\n",
      "[Parallel(n_jobs=-1)]: Done 3173 tasks      | elapsed:  1.9min\n",
      "[Parallel(n_jobs=-1)]: Done 3248 tasks      | elapsed:  1.9min\n",
      "[Parallel(n_jobs=-1)]: Batch computation too fast (0.1986s.) Setting batch_size=2.\n",
      "[Parallel(n_jobs=-1)]: Done 3362 tasks      | elapsed:  2.0min\n",
      "[Parallel(n_jobs=-1)]: Done 3516 tasks      | elapsed:  2.0min\n",
      "[Parallel(n_jobs=-1)]: Done 3674 tasks      | elapsed:  2.1min\n",
      "[Parallel(n_jobs=-1)]: Done 3832 tasks      | elapsed:  2.2min\n",
      "[Parallel(n_jobs=-1)]: Done 3994 tasks      | elapsed:  2.3min\n",
      "[Parallel(n_jobs=-1)]: Batch computation too slow (2.0163s.) Setting batch_size=1.\n",
      "[Parallel(n_jobs=-1)]: Done 4114 tasks      | elapsed:  2.4min\n",
      "[Parallel(n_jobs=-1)]: Done 4197 tasks      | elapsed:  2.4min\n",
      "[Parallel(n_jobs=-1)]: Done 4280 tasks      | elapsed:  2.5min\n",
      "[Parallel(n_jobs=-1)]: Done 4365 tasks      | elapsed:  2.6min\n",
      "[Parallel(n_jobs=-1)]: Done 4450 tasks      | elapsed:  2.6min\n",
      "[Parallel(n_jobs=-1)]: Done 4537 tasks      | elapsed:  2.7min\n",
      "[Parallel(n_jobs=-1)]: Done 4624 tasks      | elapsed:  2.8min\n",
      "[Parallel(n_jobs=-1)]: Done 4713 tasks      | elapsed:  2.9min\n",
      "[Parallel(n_jobs=-1)]: Done 4802 tasks      | elapsed:  3.0min\n",
      "[Parallel(n_jobs=-1)]: Done 4893 tasks      | elapsed:  3.1min\n",
      "[Parallel(n_jobs=-1)]: Done 4984 tasks      | elapsed:  3.2min\n",
      "[Parallel(n_jobs=-1)]: Done 5077 tasks      | elapsed:  3.3min\n",
      "[Parallel(n_jobs=-1)]: Done 5170 tasks      | elapsed:  3.4min\n",
      "[Parallel(n_jobs=-1)]: Done 5265 tasks      | elapsed:  3.5min\n",
      "[Parallel(n_jobs=-1)]: Done 5360 tasks      | elapsed:  3.6min\n",
      "[Parallel(n_jobs=-1)]: Done 5457 tasks      | elapsed:  3.6min\n",
      "[Parallel(n_jobs=-1)]: Done 5554 tasks      | elapsed:  3.8min\n",
      "[Parallel(n_jobs=-1)]: Done 5653 tasks      | elapsed:  3.9min\n",
      "[Parallel(n_jobs=-1)]: Done 5752 tasks      | elapsed:  4.0min\n",
      "[Parallel(n_jobs=-1)]: Done 5853 tasks      | elapsed:  4.1min\n",
      "[Parallel(n_jobs=-1)]: Done 5954 tasks      | elapsed:  4.1min\n",
      "[Parallel(n_jobs=-1)]: Done 6057 tasks      | elapsed:  4.3min\n",
      "[Parallel(n_jobs=-1)]: Done 6160 tasks      | elapsed:  4.4min\n",
      "[Parallel(n_jobs=-1)]: Done 6265 tasks      | elapsed:  4.6min\n",
      "[Parallel(n_jobs=-1)]: Done 6370 tasks      | elapsed:  4.7min\n",
      "[Parallel(n_jobs=-1)]: Done 6480 out of 6480 | elapsed:  4.9min finished\n"
     ]
    }
   ],
   "source": [
    "# Importing RandonForestClassifer \n",
    "from sklearn.ensemble import RandomForestClassifier\n",
    "\n",
    "#Creating a model\n",
    "randomfor = RandomForestClassifier(random_state = 42)\n",
    "\n",
    "n_estimators = [1,3,5,7,9,11,13,15,17,19,21,23]\n",
    "max_depth = [2,6,12,20,50,100,200,300,500]\n",
    "max_features = ['auto','log2','sqrt']\n",
    "\n",
    "criterion = ['gini', 'entropy']\n",
    "            \n",
    "param_grid = {'n_estimators':n_estimators,'max_depth':max_depth, 'max_features':max_features,'criterion':criterion }\n",
    "\n",
    "grid=GridSearchCV(estimator=randomfor, param_grid=param_grid, cv=10, n_jobs=-1,verbose=10, return_train_score=True)\n",
    "\n",
    "grid_search = grid.fit(X_train_smote,y_train_smote)"
   ]
  },
  {
   "cell_type": "code",
   "execution_count": 79,
   "metadata": {},
   "outputs": [
    {
     "name": "stdout",
     "output_type": "stream",
     "text": [
      "Best Accuracy: 0.9454374999999999, using {'criterion': 'entropy', 'max_depth': 50, 'max_features': 'auto', 'n_estimators': 23}\n"
     ]
    }
   ],
   "source": [
    "print(\"Best Accuracy: {0}, using {1}\".format(grid_search.best_score_, grid_search.best_params_))"
   ]
  },
  {
   "cell_type": "code",
   "execution_count": 80,
   "metadata": {},
   "outputs": [
    {
     "name": "stdout",
     "output_type": "stream",
     "text": [
      "0.8524652777777778 0.8516875 (0.01530178196322246) with: {'criterion': 'gini', 'max_depth': 2, 'max_features': 'auto', 'n_estimators': 1}\n",
      "0.8760000000000001 0.8754375 (0.01604936233156943) with: {'criterion': 'gini', 'max_depth': 2, 'max_features': 'auto', 'n_estimators': 3}\n",
      "0.8710277777777777 0.86875 (0.011726039399558585) with: {'criterion': 'gini', 'max_depth': 2, 'max_features': 'auto', 'n_estimators': 5}\n",
      "0.867576388888889 0.8673125 (0.013764339114174727) with: {'criterion': 'gini', 'max_depth': 2, 'max_features': 'auto', 'n_estimators': 7}\n",
      "0.8675416666666667 0.8674375 (0.013816458708728526) with: {'criterion': 'gini', 'max_depth': 2, 'max_features': 'auto', 'n_estimators': 9}\n",
      "0.8675902777777779 0.8675625 (0.013697199759439897) with: {'criterion': 'gini', 'max_depth': 2, 'max_features': 'auto', 'n_estimators': 11}\n",
      "0.8676944444444444 0.86775 (0.013787449002625551) with: {'criterion': 'gini', 'max_depth': 2, 'max_features': 'auto', 'n_estimators': 13}\n",
      "0.8676388888888888 0.8664375 (0.012282641460614252) with: {'criterion': 'gini', 'max_depth': 2, 'max_features': 'auto', 'n_estimators': 15}\n",
      "0.8881388888888889 0.887875 (0.01444061113665207) with: {'criterion': 'gini', 'max_depth': 2, 'max_features': 'auto', 'n_estimators': 17}\n",
      "0.8881736111111111 0.8881249999999999 (0.014268628175126015) with: {'criterion': 'gini', 'max_depth': 2, 'max_features': 'auto', 'n_estimators': 19}\n",
      "0.8865208333333333 0.8858124999999999 (0.013983947269994995) with: {'criterion': 'gini', 'max_depth': 2, 'max_features': 'auto', 'n_estimators': 21}\n",
      "0.8882777777777777 0.8880625 (0.014462910538684799) with: {'criterion': 'gini', 'max_depth': 2, 'max_features': 'auto', 'n_estimators': 23}\n",
      "0.8524652777777778 0.8516875 (0.01530178196322246) with: {'criterion': 'gini', 'max_depth': 2, 'max_features': 'log2', 'n_estimators': 1}\n",
      "0.8760000000000001 0.8754375 (0.01604936233156943) with: {'criterion': 'gini', 'max_depth': 2, 'max_features': 'log2', 'n_estimators': 3}\n",
      "0.8710277777777777 0.86875 (0.011726039399558585) with: {'criterion': 'gini', 'max_depth': 2, 'max_features': 'log2', 'n_estimators': 5}\n",
      "0.867576388888889 0.8673125 (0.013764339114174727) with: {'criterion': 'gini', 'max_depth': 2, 'max_features': 'log2', 'n_estimators': 7}\n",
      "0.8675416666666667 0.8674375 (0.013816458708728526) with: {'criterion': 'gini', 'max_depth': 2, 'max_features': 'log2', 'n_estimators': 9}\n",
      "0.8675902777777779 0.8675625 (0.013697199759439897) with: {'criterion': 'gini', 'max_depth': 2, 'max_features': 'log2', 'n_estimators': 11}\n",
      "0.8676944444444444 0.86775 (0.013787449002625551) with: {'criterion': 'gini', 'max_depth': 2, 'max_features': 'log2', 'n_estimators': 13}\n",
      "0.8676388888888888 0.8664375 (0.012282641460614252) with: {'criterion': 'gini', 'max_depth': 2, 'max_features': 'log2', 'n_estimators': 15}\n",
      "0.8881388888888889 0.887875 (0.01444061113665207) with: {'criterion': 'gini', 'max_depth': 2, 'max_features': 'log2', 'n_estimators': 17}\n",
      "0.8881736111111111 0.8881249999999999 (0.014268628175126015) with: {'criterion': 'gini', 'max_depth': 2, 'max_features': 'log2', 'n_estimators': 19}\n",
      "0.8865208333333333 0.8858124999999999 (0.013983947269994995) with: {'criterion': 'gini', 'max_depth': 2, 'max_features': 'log2', 'n_estimators': 21}\n",
      "0.8882777777777777 0.8880625 (0.014462910538684799) with: {'criterion': 'gini', 'max_depth': 2, 'max_features': 'log2', 'n_estimators': 23}\n",
      "0.8524652777777778 0.8516875 (0.01530178196322246) with: {'criterion': 'gini', 'max_depth': 2, 'max_features': 'sqrt', 'n_estimators': 1}\n",
      "0.8760000000000001 0.8754375 (0.01604936233156943) with: {'criterion': 'gini', 'max_depth': 2, 'max_features': 'sqrt', 'n_estimators': 3}\n",
      "0.8710277777777777 0.86875 (0.011726039399558585) with: {'criterion': 'gini', 'max_depth': 2, 'max_features': 'sqrt', 'n_estimators': 5}\n",
      "0.867576388888889 0.8673125 (0.013764339114174727) with: {'criterion': 'gini', 'max_depth': 2, 'max_features': 'sqrt', 'n_estimators': 7}\n",
      "0.8675416666666667 0.8674375 (0.013816458708728526) with: {'criterion': 'gini', 'max_depth': 2, 'max_features': 'sqrt', 'n_estimators': 9}\n",
      "0.8675902777777779 0.8675625 (0.013697199759439897) with: {'criterion': 'gini', 'max_depth': 2, 'max_features': 'sqrt', 'n_estimators': 11}\n",
      "0.8676944444444444 0.86775 (0.013787449002625551) with: {'criterion': 'gini', 'max_depth': 2, 'max_features': 'sqrt', 'n_estimators': 13}\n",
      "0.8676388888888888 0.8664375 (0.012282641460614252) with: {'criterion': 'gini', 'max_depth': 2, 'max_features': 'sqrt', 'n_estimators': 15}\n",
      "0.8881388888888889 0.887875 (0.01444061113665207) with: {'criterion': 'gini', 'max_depth': 2, 'max_features': 'sqrt', 'n_estimators': 17}\n",
      "0.8881736111111111 0.8881249999999999 (0.014268628175126015) with: {'criterion': 'gini', 'max_depth': 2, 'max_features': 'sqrt', 'n_estimators': 19}\n",
      "0.8865208333333333 0.8858124999999999 (0.013983947269994995) with: {'criterion': 'gini', 'max_depth': 2, 'max_features': 'sqrt', 'n_estimators': 21}\n",
      "0.8882777777777777 0.8880625 (0.014462910538684799) with: {'criterion': 'gini', 'max_depth': 2, 'max_features': 'sqrt', 'n_estimators': 23}\n",
      "0.9097361111111111 0.9047499999999999 (0.013062948556891735) with: {'criterion': 'gini', 'max_depth': 6, 'max_features': 'auto', 'n_estimators': 1}\n",
      "0.9234444444444444 0.9194375000000001 (0.018080656964004366) with: {'criterion': 'gini', 'max_depth': 6, 'max_features': 'auto', 'n_estimators': 3}\n",
      "0.9257222222222223 0.9196874999999999 (0.016267418549050738) with: {'criterion': 'gini', 'max_depth': 6, 'max_features': 'auto', 'n_estimators': 5}\n",
      "0.9256805555555555 0.9201875000000002 (0.015557479109740101) with: {'criterion': 'gini', 'max_depth': 6, 'max_features': 'auto', 'n_estimators': 7}\n",
      "0.9257638888888888 0.9193125 (0.01656297169139644) with: {'criterion': 'gini', 'max_depth': 6, 'max_features': 'auto', 'n_estimators': 9}\n",
      "0.9261250000000001 0.9196249999999999 (0.016003417603749525) with: {'criterion': 'gini', 'max_depth': 6, 'max_features': 'auto', 'n_estimators': 11}\n",
      "0.9266944444444445 0.9200000000000002 (0.016969642011545195) with: {'criterion': 'gini', 'max_depth': 6, 'max_features': 'auto', 'n_estimators': 13}\n",
      "0.9276458333333334 0.9225 (0.01687731465607013) with: {'criterion': 'gini', 'max_depth': 6, 'max_features': 'auto', 'n_estimators': 15}\n",
      "0.9287638888888889 0.9247499999999998 (0.016912458425669536) with: {'criterion': 'gini', 'max_depth': 6, 'max_features': 'auto', 'n_estimators': 17}\n",
      "0.9288541666666668 0.924625 (0.017052767370723147) with: {'criterion': 'gini', 'max_depth': 6, 'max_features': 'auto', 'n_estimators': 19}\n",
      "0.9287847222222222 0.9248125 (0.016059094969829404) with: {'criterion': 'gini', 'max_depth': 6, 'max_features': 'auto', 'n_estimators': 21}\n",
      "0.9290902777777778 0.9243125000000001 (0.01591346226469903) with: {'criterion': 'gini', 'max_depth': 6, 'max_features': 'auto', 'n_estimators': 23}\n",
      "0.9097361111111111 0.9047499999999999 (0.013062948556891735) with: {'criterion': 'gini', 'max_depth': 6, 'max_features': 'log2', 'n_estimators': 1}\n",
      "0.9234444444444444 0.9194375000000001 (0.018080656964004366) with: {'criterion': 'gini', 'max_depth': 6, 'max_features': 'log2', 'n_estimators': 3}\n",
      "0.9257222222222223 0.9196874999999999 (0.016267418549050738) with: {'criterion': 'gini', 'max_depth': 6, 'max_features': 'log2', 'n_estimators': 5}\n",
      "0.9256805555555555 0.9201875000000002 (0.015557479109740101) with: {'criterion': 'gini', 'max_depth': 6, 'max_features': 'log2', 'n_estimators': 7}\n",
      "0.9257638888888888 0.9193125 (0.01656297169139644) with: {'criterion': 'gini', 'max_depth': 6, 'max_features': 'log2', 'n_estimators': 9}\n",
      "0.9261250000000001 0.9196249999999999 (0.016003417603749525) with: {'criterion': 'gini', 'max_depth': 6, 'max_features': 'log2', 'n_estimators': 11}\n",
      "0.9266944444444445 0.9200000000000002 (0.016969642011545195) with: {'criterion': 'gini', 'max_depth': 6, 'max_features': 'log2', 'n_estimators': 13}\n",
      "0.9276458333333334 0.9225 (0.01687731465607013) with: {'criterion': 'gini', 'max_depth': 6, 'max_features': 'log2', 'n_estimators': 15}\n",
      "0.9287638888888889 0.9247499999999998 (0.016912458425669536) with: {'criterion': 'gini', 'max_depth': 6, 'max_features': 'log2', 'n_estimators': 17}\n",
      "0.9288541666666668 0.924625 (0.017052767370723147) with: {'criterion': 'gini', 'max_depth': 6, 'max_features': 'log2', 'n_estimators': 19}\n",
      "0.9287847222222222 0.9248125 (0.016059094969829404) with: {'criterion': 'gini', 'max_depth': 6, 'max_features': 'log2', 'n_estimators': 21}\n",
      "0.9290902777777778 0.9243125000000001 (0.01591346226469903) with: {'criterion': 'gini', 'max_depth': 6, 'max_features': 'log2', 'n_estimators': 23}\n",
      "0.9097361111111111 0.9047499999999999 (0.013062948556891735) with: {'criterion': 'gini', 'max_depth': 6, 'max_features': 'sqrt', 'n_estimators': 1}\n",
      "0.9234444444444444 0.9194375000000001 (0.018080656964004366) with: {'criterion': 'gini', 'max_depth': 6, 'max_features': 'sqrt', 'n_estimators': 3}\n",
      "0.9257222222222223 0.9196874999999999 (0.016267418549050738) with: {'criterion': 'gini', 'max_depth': 6, 'max_features': 'sqrt', 'n_estimators': 5}\n",
      "0.9256805555555555 0.9201875000000002 (0.015557479109740101) with: {'criterion': 'gini', 'max_depth': 6, 'max_features': 'sqrt', 'n_estimators': 7}\n",
      "0.9257638888888888 0.9193125 (0.01656297169139644) with: {'criterion': 'gini', 'max_depth': 6, 'max_features': 'sqrt', 'n_estimators': 9}\n",
      "0.9261250000000001 0.9196249999999999 (0.016003417603749525) with: {'criterion': 'gini', 'max_depth': 6, 'max_features': 'sqrt', 'n_estimators': 11}\n",
      "0.9266944444444445 0.9200000000000002 (0.016969642011545195) with: {'criterion': 'gini', 'max_depth': 6, 'max_features': 'sqrt', 'n_estimators': 13}\n",
      "0.9276458333333334 0.9225 (0.01687731465607013) with: {'criterion': 'gini', 'max_depth': 6, 'max_features': 'sqrt', 'n_estimators': 15}\n",
      "0.9287638888888889 0.9247499999999998 (0.016912458425669536) with: {'criterion': 'gini', 'max_depth': 6, 'max_features': 'sqrt', 'n_estimators': 17}\n",
      "0.9288541666666668 0.924625 (0.017052767370723147) with: {'criterion': 'gini', 'max_depth': 6, 'max_features': 'sqrt', 'n_estimators': 19}\n",
      "0.9287847222222222 0.9248125 (0.016059094969829404) with: {'criterion': 'gini', 'max_depth': 6, 'max_features': 'sqrt', 'n_estimators': 21}\n",
      "0.9290902777777778 0.9243125000000001 (0.01591346226469903) with: {'criterion': 'gini', 'max_depth': 6, 'max_features': 'sqrt', 'n_estimators': 23}\n",
      "0.9533819444444445 0.91375 (0.01799956596698931) with: {'criterion': 'gini', 'max_depth': 12, 'max_features': 'auto', 'n_estimators': 1}\n",
      "0.9714652777777777 0.9317499999999999 (0.01780054423325311) with: {'criterion': 'gini', 'max_depth': 12, 'max_features': 'auto', 'n_estimators': 3}\n",
      "0.9756666666666666 0.9361875 (0.017199314121499144) with: {'criterion': 'gini', 'max_depth': 12, 'max_features': 'auto', 'n_estimators': 5}\n",
      "0.9781458333333333 0.9395625000000001 (0.016775284088503536) with: {'criterion': 'gini', 'max_depth': 12, 'max_features': 'auto', 'n_estimators': 7}\n",
      "0.9795416666666668 0.9409375000000001 (0.017339104107479145) with: {'criterion': 'gini', 'max_depth': 12, 'max_features': 'auto', 'n_estimators': 9}\n",
      "0.9801805555555555 0.9425625 (0.017046466826002388) with: {'criterion': 'gini', 'max_depth': 12, 'max_features': 'auto', 'n_estimators': 11}\n",
      "0.9806666666666665 0.9412499999999999 (0.017273082382713273) with: {'criterion': 'gini', 'max_depth': 12, 'max_features': 'auto', 'n_estimators': 13}\n",
      "0.9814513888888889 0.9425625 (0.01727410001273584) with: {'criterion': 'gini', 'max_depth': 12, 'max_features': 'auto', 'n_estimators': 15}\n",
      "0.9819097222222222 0.9416249999999999 (0.01729839226633505) with: {'criterion': 'gini', 'max_depth': 12, 'max_features': 'auto', 'n_estimators': 17}\n",
      "0.982 0.942 (0.01696687950095716) with: {'criterion': 'gini', 'max_depth': 12, 'max_features': 'auto', 'n_estimators': 19}\n",
      "0.9821805555555556 0.9426250000000002 (0.01638596960817393) with: {'criterion': 'gini', 'max_depth': 12, 'max_features': 'auto', 'n_estimators': 21}\n",
      "0.9824097222222223 0.9430625000000001 (0.0162702998205319) with: {'criterion': 'gini', 'max_depth': 12, 'max_features': 'auto', 'n_estimators': 23}\n",
      "0.9533819444444445 0.91375 (0.01799956596698931) with: {'criterion': 'gini', 'max_depth': 12, 'max_features': 'log2', 'n_estimators': 1}\n",
      "0.9714652777777777 0.9317499999999999 (0.01780054423325311) with: {'criterion': 'gini', 'max_depth': 12, 'max_features': 'log2', 'n_estimators': 3}\n",
      "0.9756666666666666 0.9361875 (0.017199314121499144) with: {'criterion': 'gini', 'max_depth': 12, 'max_features': 'log2', 'n_estimators': 5}\n",
      "0.9781458333333333 0.9395625000000001 (0.016775284088503536) with: {'criterion': 'gini', 'max_depth': 12, 'max_features': 'log2', 'n_estimators': 7}\n",
      "0.9795416666666668 0.9409375000000001 (0.017339104107479145) with: {'criterion': 'gini', 'max_depth': 12, 'max_features': 'log2', 'n_estimators': 9}\n",
      "0.9801805555555555 0.9425625 (0.017046466826002388) with: {'criterion': 'gini', 'max_depth': 12, 'max_features': 'log2', 'n_estimators': 11}\n",
      "0.9806666666666665 0.9412499999999999 (0.017273082382713273) with: {'criterion': 'gini', 'max_depth': 12, 'max_features': 'log2', 'n_estimators': 13}\n",
      "0.9814513888888889 0.9425625 (0.01727410001273584) with: {'criterion': 'gini', 'max_depth': 12, 'max_features': 'log2', 'n_estimators': 15}\n",
      "0.9819097222222222 0.9416249999999999 (0.01729839226633505) with: {'criterion': 'gini', 'max_depth': 12, 'max_features': 'log2', 'n_estimators': 17}\n",
      "0.982 0.942 (0.01696687950095716) with: {'criterion': 'gini', 'max_depth': 12, 'max_features': 'log2', 'n_estimators': 19}\n",
      "0.9821805555555556 0.9426250000000002 (0.01638596960817393) with: {'criterion': 'gini', 'max_depth': 12, 'max_features': 'log2', 'n_estimators': 21}\n",
      "0.9824097222222223 0.9430625000000001 (0.0162702998205319) with: {'criterion': 'gini', 'max_depth': 12, 'max_features': 'log2', 'n_estimators': 23}\n",
      "0.9533819444444445 0.91375 (0.01799956596698931) with: {'criterion': 'gini', 'max_depth': 12, 'max_features': 'sqrt', 'n_estimators': 1}\n",
      "0.9714652777777777 0.9317499999999999 (0.01780054423325311) with: {'criterion': 'gini', 'max_depth': 12, 'max_features': 'sqrt', 'n_estimators': 3}\n",
      "0.9756666666666666 0.9361875 (0.017199314121499144) with: {'criterion': 'gini', 'max_depth': 12, 'max_features': 'sqrt', 'n_estimators': 5}\n",
      "0.9781458333333333 0.9395625000000001 (0.016775284088503536) with: {'criterion': 'gini', 'max_depth': 12, 'max_features': 'sqrt', 'n_estimators': 7}\n",
      "0.9795416666666668 0.9409375000000001 (0.017339104107479145) with: {'criterion': 'gini', 'max_depth': 12, 'max_features': 'sqrt', 'n_estimators': 9}\n",
      "0.9801805555555555 0.9425625 (0.017046466826002388) with: {'criterion': 'gini', 'max_depth': 12, 'max_features': 'sqrt', 'n_estimators': 11}\n",
      "0.9806666666666665 0.9412499999999999 (0.017273082382713273) with: {'criterion': 'gini', 'max_depth': 12, 'max_features': 'sqrt', 'n_estimators': 13}\n",
      "0.9814513888888889 0.9425625 (0.01727410001273584) with: {'criterion': 'gini', 'max_depth': 12, 'max_features': 'sqrt', 'n_estimators': 15}\n",
      "0.9819097222222222 0.9416249999999999 (0.01729839226633505) with: {'criterion': 'gini', 'max_depth': 12, 'max_features': 'sqrt', 'n_estimators': 17}\n",
      "0.982 0.942 (0.01696687950095716) with: {'criterion': 'gini', 'max_depth': 12, 'max_features': 'sqrt', 'n_estimators': 19}\n",
      "0.9821805555555556 0.9426250000000002 (0.01638596960817393) with: {'criterion': 'gini', 'max_depth': 12, 'max_features': 'sqrt', 'n_estimators': 21}\n",
      "0.9824097222222223 0.9430625000000001 (0.0162702998205319) with: {'criterion': 'gini', 'max_depth': 12, 'max_features': 'sqrt', 'n_estimators': 23}\n",
      "0.9667152777777778 0.906375 (0.018370747807315846) with: {'criterion': 'gini', 'max_depth': 20, 'max_features': 'auto', 'n_estimators': 1}\n",
      "0.9863333333333333 0.928875 (0.017166009291620456) with: {'criterion': 'gini', 'max_depth': 20, 'max_features': 'auto', 'n_estimators': 3}\n",
      "0.9918680555555556 0.9346249999999999 (0.01666583331249896) with: {'criterion': 'gini', 'max_depth': 20, 'max_features': 'auto', 'n_estimators': 5}\n",
      "0.9946388888888889 0.9385 (0.015393789332065071) with: {'criterion': 'gini', 'max_depth': 20, 'max_features': 'auto', 'n_estimators': 7}\n",
      "0.9959652777777779 0.9401874999999998 (0.016642026056042578) with: {'criterion': 'gini', 'max_depth': 20, 'max_features': 'auto', 'n_estimators': 9}\n",
      "0.9968124999999999 0.9417500000000001 (0.017637406980619347) with: {'criterion': 'gini', 'max_depth': 20, 'max_features': 'auto', 'n_estimators': 11}\n",
      "0.9972430555555555 0.9423125000000001 (0.017823023207357385) with: {'criterion': 'gini', 'max_depth': 20, 'max_features': 'auto', 'n_estimators': 13}\n",
      "0.9979166666666666 0.9426250000000002 (0.017434699595920786) with: {'criterion': 'gini', 'max_depth': 20, 'max_features': 'auto', 'n_estimators': 15}\n",
      "0.9982569444444443 0.9423124999999999 (0.01718477251085972) with: {'criterion': 'gini', 'max_depth': 20, 'max_features': 'auto', 'n_estimators': 17}\n",
      "0.9985069444444445 0.943 (0.017344847938220737) with: {'criterion': 'gini', 'max_depth': 20, 'max_features': 'auto', 'n_estimators': 19}\n",
      "0.9985624999999999 0.943125 (0.018174501368675832) with: {'criterion': 'gini', 'max_depth': 20, 'max_features': 'auto', 'n_estimators': 21}\n",
      "0.9987708333333334 0.9434999999999999 (0.017125912384454146) with: {'criterion': 'gini', 'max_depth': 20, 'max_features': 'auto', 'n_estimators': 23}\n",
      "0.9667152777777778 0.906375 (0.018370747807315846) with: {'criterion': 'gini', 'max_depth': 20, 'max_features': 'log2', 'n_estimators': 1}\n",
      "0.9863333333333333 0.928875 (0.017166009291620456) with: {'criterion': 'gini', 'max_depth': 20, 'max_features': 'log2', 'n_estimators': 3}\n",
      "0.9918680555555556 0.9346249999999999 (0.01666583331249896) with: {'criterion': 'gini', 'max_depth': 20, 'max_features': 'log2', 'n_estimators': 5}\n",
      "0.9946388888888889 0.9385 (0.015393789332065071) with: {'criterion': 'gini', 'max_depth': 20, 'max_features': 'log2', 'n_estimators': 7}\n",
      "0.9959652777777779 0.9401874999999998 (0.016642026056042578) with: {'criterion': 'gini', 'max_depth': 20, 'max_features': 'log2', 'n_estimators': 9}\n",
      "0.9968124999999999 0.9417500000000001 (0.017637406980619347) with: {'criterion': 'gini', 'max_depth': 20, 'max_features': 'log2', 'n_estimators': 11}\n",
      "0.9972430555555555 0.9423125000000001 (0.017823023207357385) with: {'criterion': 'gini', 'max_depth': 20, 'max_features': 'log2', 'n_estimators': 13}\n",
      "0.9979166666666666 0.9426250000000002 (0.017434699595920786) with: {'criterion': 'gini', 'max_depth': 20, 'max_features': 'log2', 'n_estimators': 15}\n",
      "0.9982569444444443 0.9423124999999999 (0.01718477251085972) with: {'criterion': 'gini', 'max_depth': 20, 'max_features': 'log2', 'n_estimators': 17}\n",
      "0.9985069444444445 0.943 (0.017344847938220737) with: {'criterion': 'gini', 'max_depth': 20, 'max_features': 'log2', 'n_estimators': 19}\n",
      "0.9985624999999999 0.943125 (0.018174501368675832) with: {'criterion': 'gini', 'max_depth': 20, 'max_features': 'log2', 'n_estimators': 21}\n",
      "0.9987708333333334 0.9434999999999999 (0.017125912384454146) with: {'criterion': 'gini', 'max_depth': 20, 'max_features': 'log2', 'n_estimators': 23}\n",
      "0.9667152777777778 0.906375 (0.018370747807315846) with: {'criterion': 'gini', 'max_depth': 20, 'max_features': 'sqrt', 'n_estimators': 1}\n",
      "0.9863333333333333 0.928875 (0.017166009291620456) with: {'criterion': 'gini', 'max_depth': 20, 'max_features': 'sqrt', 'n_estimators': 3}\n",
      "0.9918680555555556 0.9346249999999999 (0.01666583331249896) with: {'criterion': 'gini', 'max_depth': 20, 'max_features': 'sqrt', 'n_estimators': 5}\n",
      "0.9946388888888889 0.9385 (0.015393789332065071) with: {'criterion': 'gini', 'max_depth': 20, 'max_features': 'sqrt', 'n_estimators': 7}\n",
      "0.9959652777777779 0.9401874999999998 (0.016642026056042578) with: {'criterion': 'gini', 'max_depth': 20, 'max_features': 'sqrt', 'n_estimators': 9}\n",
      "0.9968124999999999 0.9417500000000001 (0.017637406980619347) with: {'criterion': 'gini', 'max_depth': 20, 'max_features': 'sqrt', 'n_estimators': 11}\n",
      "0.9972430555555555 0.9423125000000001 (0.017823023207357385) with: {'criterion': 'gini', 'max_depth': 20, 'max_features': 'sqrt', 'n_estimators': 13}\n",
      "0.9979166666666666 0.9426250000000002 (0.017434699595920786) with: {'criterion': 'gini', 'max_depth': 20, 'max_features': 'sqrt', 'n_estimators': 15}\n",
      "0.9982569444444443 0.9423124999999999 (0.01718477251085972) with: {'criterion': 'gini', 'max_depth': 20, 'max_features': 'sqrt', 'n_estimators': 17}\n",
      "0.9985069444444445 0.943 (0.017344847938220737) with: {'criterion': 'gini', 'max_depth': 20, 'max_features': 'sqrt', 'n_estimators': 19}\n",
      "0.9985624999999999 0.943125 (0.018174501368675832) with: {'criterion': 'gini', 'max_depth': 20, 'max_features': 'sqrt', 'n_estimators': 21}\n",
      "0.9987708333333334 0.9434999999999999 (0.017125912384454146) with: {'criterion': 'gini', 'max_depth': 20, 'max_features': 'sqrt', 'n_estimators': 23}\n",
      "0.9669444444444444 0.9055 (0.01916784416672882) with: {'criterion': 'gini', 'max_depth': 50, 'max_features': 'auto', 'n_estimators': 1}\n",
      "0.9863541666666666 0.928125 (0.01667005173957178) with: {'criterion': 'gini', 'max_depth': 50, 'max_features': 'auto', 'n_estimators': 3}\n",
      "0.99175 0.9353125 (0.016425137937015943) with: {'criterion': 'gini', 'max_depth': 50, 'max_features': 'auto', 'n_estimators': 5}\n",
      "0.99475 0.9385 (0.015365850936410906) with: {'criterion': 'gini', 'max_depth': 50, 'max_features': 'auto', 'n_estimators': 7}\n",
      "0.9960486111111111 0.9409375000000001 (0.01653889827799903) with: {'criterion': 'gini', 'max_depth': 50, 'max_features': 'auto', 'n_estimators': 9}\n",
      "0.9969444444444445 0.9418750000000001 (0.01688194301613415) with: {'criterion': 'gini', 'max_depth': 50, 'max_features': 'auto', 'n_estimators': 11}\n",
      "0.997388888888889 0.9421250000000001 (0.017064216946581525) with: {'criterion': 'gini', 'max_depth': 50, 'max_features': 'auto', 'n_estimators': 13}\n",
      "0.9979652777777778 0.9430625000000001 (0.017153830658194116) with: {'criterion': 'gini', 'max_depth': 50, 'max_features': 'auto', 'n_estimators': 15}\n",
      "0.9982569444444443 0.9436249999999999 (0.01648341969980745) with: {'criterion': 'gini', 'max_depth': 50, 'max_features': 'auto', 'n_estimators': 17}\n",
      "0.9984999999999999 0.9435 (0.016910148580068722) with: {'criterion': 'gini', 'max_depth': 50, 'max_features': 'auto', 'n_estimators': 19}\n",
      "0.9985833333333334 0.9440624999999999 (0.0174379480229183) with: {'criterion': 'gini', 'max_depth': 50, 'max_features': 'auto', 'n_estimators': 21}\n",
      "0.9987777777777778 0.944875 (0.01637404577372373) with: {'criterion': 'gini', 'max_depth': 50, 'max_features': 'auto', 'n_estimators': 23}\n",
      "0.9669444444444444 0.9055 (0.01916784416672882) with: {'criterion': 'gini', 'max_depth': 50, 'max_features': 'log2', 'n_estimators': 1}\n",
      "0.9863541666666666 0.928125 (0.01667005173957178) with: {'criterion': 'gini', 'max_depth': 50, 'max_features': 'log2', 'n_estimators': 3}\n",
      "0.99175 0.9353125 (0.016425137937015943) with: {'criterion': 'gini', 'max_depth': 50, 'max_features': 'log2', 'n_estimators': 5}\n",
      "0.99475 0.9385 (0.015365850936410906) with: {'criterion': 'gini', 'max_depth': 50, 'max_features': 'log2', 'n_estimators': 7}\n",
      "0.9960486111111111 0.9409375000000001 (0.01653889827799903) with: {'criterion': 'gini', 'max_depth': 50, 'max_features': 'log2', 'n_estimators': 9}\n",
      "0.9969444444444445 0.9418750000000001 (0.01688194301613415) with: {'criterion': 'gini', 'max_depth': 50, 'max_features': 'log2', 'n_estimators': 11}\n",
      "0.997388888888889 0.9421250000000001 (0.017064216946581525) with: {'criterion': 'gini', 'max_depth': 50, 'max_features': 'log2', 'n_estimators': 13}\n",
      "0.9979652777777778 0.9430625000000001 (0.017153830658194116) with: {'criterion': 'gini', 'max_depth': 50, 'max_features': 'log2', 'n_estimators': 15}\n",
      "0.9982569444444443 0.9436249999999999 (0.01648341969980745) with: {'criterion': 'gini', 'max_depth': 50, 'max_features': 'log2', 'n_estimators': 17}\n",
      "0.9984999999999999 0.9435 (0.016910148580068722) with: {'criterion': 'gini', 'max_depth': 50, 'max_features': 'log2', 'n_estimators': 19}\n",
      "0.9985833333333334 0.9440624999999999 (0.0174379480229183) with: {'criterion': 'gini', 'max_depth': 50, 'max_features': 'log2', 'n_estimators': 21}\n",
      "0.9987777777777778 0.944875 (0.01637404577372373) with: {'criterion': 'gini', 'max_depth': 50, 'max_features': 'log2', 'n_estimators': 23}\n",
      "0.9669444444444444 0.9055 (0.01916784416672882) with: {'criterion': 'gini', 'max_depth': 50, 'max_features': 'sqrt', 'n_estimators': 1}\n",
      "0.9863541666666666 0.928125 (0.01667005173957178) with: {'criterion': 'gini', 'max_depth': 50, 'max_features': 'sqrt', 'n_estimators': 3}\n",
      "0.99175 0.9353125 (0.016425137937015943) with: {'criterion': 'gini', 'max_depth': 50, 'max_features': 'sqrt', 'n_estimators': 5}\n",
      "0.99475 0.9385 (0.015365850936410906) with: {'criterion': 'gini', 'max_depth': 50, 'max_features': 'sqrt', 'n_estimators': 7}\n",
      "0.9960486111111111 0.9409375000000001 (0.01653889827799903) with: {'criterion': 'gini', 'max_depth': 50, 'max_features': 'sqrt', 'n_estimators': 9}\n",
      "0.9969444444444445 0.9418750000000001 (0.01688194301613415) with: {'criterion': 'gini', 'max_depth': 50, 'max_features': 'sqrt', 'n_estimators': 11}\n",
      "0.997388888888889 0.9421250000000001 (0.017064216946581525) with: {'criterion': 'gini', 'max_depth': 50, 'max_features': 'sqrt', 'n_estimators': 13}\n",
      "0.9979652777777778 0.9430625000000001 (0.017153830658194116) with: {'criterion': 'gini', 'max_depth': 50, 'max_features': 'sqrt', 'n_estimators': 15}\n",
      "0.9982569444444443 0.9436249999999999 (0.01648341969980745) with: {'criterion': 'gini', 'max_depth': 50, 'max_features': 'sqrt', 'n_estimators': 17}\n",
      "0.9984999999999999 0.9435 (0.016910148580068722) with: {'criterion': 'gini', 'max_depth': 50, 'max_features': 'sqrt', 'n_estimators': 19}\n",
      "0.9985833333333334 0.9440624999999999 (0.0174379480229183) with: {'criterion': 'gini', 'max_depth': 50, 'max_features': 'sqrt', 'n_estimators': 21}\n",
      "0.9987777777777778 0.944875 (0.01637404577372373) with: {'criterion': 'gini', 'max_depth': 50, 'max_features': 'sqrt', 'n_estimators': 23}\n",
      "0.9669444444444444 0.9055 (0.01916784416672882) with: {'criterion': 'gini', 'max_depth': 100, 'max_features': 'auto', 'n_estimators': 1}\n",
      "0.9863541666666666 0.928125 (0.01667005173957178) with: {'criterion': 'gini', 'max_depth': 100, 'max_features': 'auto', 'n_estimators': 3}\n",
      "0.99175 0.9353125 (0.016425137937015943) with: {'criterion': 'gini', 'max_depth': 100, 'max_features': 'auto', 'n_estimators': 5}\n",
      "0.99475 0.9385 (0.015365850936410906) with: {'criterion': 'gini', 'max_depth': 100, 'max_features': 'auto', 'n_estimators': 7}\n",
      "0.9960486111111111 0.9409375000000001 (0.01653889827799903) with: {'criterion': 'gini', 'max_depth': 100, 'max_features': 'auto', 'n_estimators': 9}\n",
      "0.9969444444444445 0.9418750000000001 (0.01688194301613415) with: {'criterion': 'gini', 'max_depth': 100, 'max_features': 'auto', 'n_estimators': 11}\n",
      "0.997388888888889 0.9421250000000001 (0.017064216946581525) with: {'criterion': 'gini', 'max_depth': 100, 'max_features': 'auto', 'n_estimators': 13}\n",
      "0.9979652777777778 0.9430625000000001 (0.017153830658194116) with: {'criterion': 'gini', 'max_depth': 100, 'max_features': 'auto', 'n_estimators': 15}\n",
      "0.9982569444444443 0.9436249999999999 (0.01648341969980745) with: {'criterion': 'gini', 'max_depth': 100, 'max_features': 'auto', 'n_estimators': 17}\n",
      "0.9984999999999999 0.9435 (0.016910148580068722) with: {'criterion': 'gini', 'max_depth': 100, 'max_features': 'auto', 'n_estimators': 19}\n",
      "0.9985833333333334 0.9440624999999999 (0.0174379480229183) with: {'criterion': 'gini', 'max_depth': 100, 'max_features': 'auto', 'n_estimators': 21}\n",
      "0.9987777777777778 0.944875 (0.01637404577372373) with: {'criterion': 'gini', 'max_depth': 100, 'max_features': 'auto', 'n_estimators': 23}\n",
      "0.9669444444444444 0.9055 (0.01916784416672882) with: {'criterion': 'gini', 'max_depth': 100, 'max_features': 'log2', 'n_estimators': 1}\n",
      "0.9863541666666666 0.928125 (0.01667005173957178) with: {'criterion': 'gini', 'max_depth': 100, 'max_features': 'log2', 'n_estimators': 3}\n",
      "0.99175 0.9353125 (0.016425137937015943) with: {'criterion': 'gini', 'max_depth': 100, 'max_features': 'log2', 'n_estimators': 5}\n",
      "0.99475 0.9385 (0.015365850936410906) with: {'criterion': 'gini', 'max_depth': 100, 'max_features': 'log2', 'n_estimators': 7}\n",
      "0.9960486111111111 0.9409375000000001 (0.01653889827799903) with: {'criterion': 'gini', 'max_depth': 100, 'max_features': 'log2', 'n_estimators': 9}\n",
      "0.9969444444444445 0.9418750000000001 (0.01688194301613415) with: {'criterion': 'gini', 'max_depth': 100, 'max_features': 'log2', 'n_estimators': 11}\n",
      "0.997388888888889 0.9421250000000001 (0.017064216946581525) with: {'criterion': 'gini', 'max_depth': 100, 'max_features': 'log2', 'n_estimators': 13}\n",
      "0.9979652777777778 0.9430625000000001 (0.017153830658194116) with: {'criterion': 'gini', 'max_depth': 100, 'max_features': 'log2', 'n_estimators': 15}\n",
      "0.9982569444444443 0.9436249999999999 (0.01648341969980745) with: {'criterion': 'gini', 'max_depth': 100, 'max_features': 'log2', 'n_estimators': 17}\n",
      "0.9984999999999999 0.9435 (0.016910148580068722) with: {'criterion': 'gini', 'max_depth': 100, 'max_features': 'log2', 'n_estimators': 19}\n",
      "0.9985833333333334 0.9440624999999999 (0.0174379480229183) with: {'criterion': 'gini', 'max_depth': 100, 'max_features': 'log2', 'n_estimators': 21}\n",
      "0.9987777777777778 0.944875 (0.01637404577372373) with: {'criterion': 'gini', 'max_depth': 100, 'max_features': 'log2', 'n_estimators': 23}\n",
      "0.9669444444444444 0.9055 (0.01916784416672882) with: {'criterion': 'gini', 'max_depth': 100, 'max_features': 'sqrt', 'n_estimators': 1}\n",
      "0.9863541666666666 0.928125 (0.01667005173957178) with: {'criterion': 'gini', 'max_depth': 100, 'max_features': 'sqrt', 'n_estimators': 3}\n",
      "0.99175 0.9353125 (0.016425137937015943) with: {'criterion': 'gini', 'max_depth': 100, 'max_features': 'sqrt', 'n_estimators': 5}\n",
      "0.99475 0.9385 (0.015365850936410906) with: {'criterion': 'gini', 'max_depth': 100, 'max_features': 'sqrt', 'n_estimators': 7}\n",
      "0.9960486111111111 0.9409375000000001 (0.01653889827799903) with: {'criterion': 'gini', 'max_depth': 100, 'max_features': 'sqrt', 'n_estimators': 9}\n",
      "0.9969444444444445 0.9418750000000001 (0.01688194301613415) with: {'criterion': 'gini', 'max_depth': 100, 'max_features': 'sqrt', 'n_estimators': 11}\n",
      "0.997388888888889 0.9421250000000001 (0.017064216946581525) with: {'criterion': 'gini', 'max_depth': 100, 'max_features': 'sqrt', 'n_estimators': 13}\n",
      "0.9979652777777778 0.9430625000000001 (0.017153830658194116) with: {'criterion': 'gini', 'max_depth': 100, 'max_features': 'sqrt', 'n_estimators': 15}\n",
      "0.9982569444444443 0.9436249999999999 (0.01648341969980745) with: {'criterion': 'gini', 'max_depth': 100, 'max_features': 'sqrt', 'n_estimators': 17}\n",
      "0.9984999999999999 0.9435 (0.016910148580068722) with: {'criterion': 'gini', 'max_depth': 100, 'max_features': 'sqrt', 'n_estimators': 19}\n",
      "0.9985833333333334 0.9440624999999999 (0.0174379480229183) with: {'criterion': 'gini', 'max_depth': 100, 'max_features': 'sqrt', 'n_estimators': 21}\n",
      "0.9987777777777778 0.944875 (0.01637404577372373) with: {'criterion': 'gini', 'max_depth': 100, 'max_features': 'sqrt', 'n_estimators': 23}\n",
      "0.9669444444444444 0.9055 (0.01916784416672882) with: {'criterion': 'gini', 'max_depth': 200, 'max_features': 'auto', 'n_estimators': 1}\n",
      "0.9863541666666666 0.928125 (0.01667005173957178) with: {'criterion': 'gini', 'max_depth': 200, 'max_features': 'auto', 'n_estimators': 3}\n",
      "0.99175 0.9353125 (0.016425137937015943) with: {'criterion': 'gini', 'max_depth': 200, 'max_features': 'auto', 'n_estimators': 5}\n",
      "0.99475 0.9385 (0.015365850936410906) with: {'criterion': 'gini', 'max_depth': 200, 'max_features': 'auto', 'n_estimators': 7}\n",
      "0.9960486111111111 0.9409375000000001 (0.01653889827799903) with: {'criterion': 'gini', 'max_depth': 200, 'max_features': 'auto', 'n_estimators': 9}\n",
      "0.9969444444444445 0.9418750000000001 (0.01688194301613415) with: {'criterion': 'gini', 'max_depth': 200, 'max_features': 'auto', 'n_estimators': 11}\n",
      "0.997388888888889 0.9421250000000001 (0.017064216946581525) with: {'criterion': 'gini', 'max_depth': 200, 'max_features': 'auto', 'n_estimators': 13}\n",
      "0.9979652777777778 0.9430625000000001 (0.017153830658194116) with: {'criterion': 'gini', 'max_depth': 200, 'max_features': 'auto', 'n_estimators': 15}\n",
      "0.9982569444444443 0.9436249999999999 (0.01648341969980745) with: {'criterion': 'gini', 'max_depth': 200, 'max_features': 'auto', 'n_estimators': 17}\n",
      "0.9984999999999999 0.9435 (0.016910148580068722) with: {'criterion': 'gini', 'max_depth': 200, 'max_features': 'auto', 'n_estimators': 19}\n",
      "0.9985833333333334 0.9440624999999999 (0.0174379480229183) with: {'criterion': 'gini', 'max_depth': 200, 'max_features': 'auto', 'n_estimators': 21}\n",
      "0.9987777777777778 0.944875 (0.01637404577372373) with: {'criterion': 'gini', 'max_depth': 200, 'max_features': 'auto', 'n_estimators': 23}\n",
      "0.9669444444444444 0.9055 (0.01916784416672882) with: {'criterion': 'gini', 'max_depth': 200, 'max_features': 'log2', 'n_estimators': 1}\n",
      "0.9863541666666666 0.928125 (0.01667005173957178) with: {'criterion': 'gini', 'max_depth': 200, 'max_features': 'log2', 'n_estimators': 3}\n",
      "0.99175 0.9353125 (0.016425137937015943) with: {'criterion': 'gini', 'max_depth': 200, 'max_features': 'log2', 'n_estimators': 5}\n",
      "0.99475 0.9385 (0.015365850936410906) with: {'criterion': 'gini', 'max_depth': 200, 'max_features': 'log2', 'n_estimators': 7}\n",
      "0.9960486111111111 0.9409375000000001 (0.01653889827799903) with: {'criterion': 'gini', 'max_depth': 200, 'max_features': 'log2', 'n_estimators': 9}\n",
      "0.9969444444444445 0.9418750000000001 (0.01688194301613415) with: {'criterion': 'gini', 'max_depth': 200, 'max_features': 'log2', 'n_estimators': 11}\n",
      "0.997388888888889 0.9421250000000001 (0.017064216946581525) with: {'criterion': 'gini', 'max_depth': 200, 'max_features': 'log2', 'n_estimators': 13}\n",
      "0.9979652777777778 0.9430625000000001 (0.017153830658194116) with: {'criterion': 'gini', 'max_depth': 200, 'max_features': 'log2', 'n_estimators': 15}\n",
      "0.9982569444444443 0.9436249999999999 (0.01648341969980745) with: {'criterion': 'gini', 'max_depth': 200, 'max_features': 'log2', 'n_estimators': 17}\n",
      "0.9984999999999999 0.9435 (0.016910148580068722) with: {'criterion': 'gini', 'max_depth': 200, 'max_features': 'log2', 'n_estimators': 19}\n",
      "0.9985833333333334 0.9440624999999999 (0.0174379480229183) with: {'criterion': 'gini', 'max_depth': 200, 'max_features': 'log2', 'n_estimators': 21}\n",
      "0.9987777777777778 0.944875 (0.01637404577372373) with: {'criterion': 'gini', 'max_depth': 200, 'max_features': 'log2', 'n_estimators': 23}\n",
      "0.9669444444444444 0.9055 (0.01916784416672882) with: {'criterion': 'gini', 'max_depth': 200, 'max_features': 'sqrt', 'n_estimators': 1}\n",
      "0.9863541666666666 0.928125 (0.01667005173957178) with: {'criterion': 'gini', 'max_depth': 200, 'max_features': 'sqrt', 'n_estimators': 3}\n",
      "0.99175 0.9353125 (0.016425137937015943) with: {'criterion': 'gini', 'max_depth': 200, 'max_features': 'sqrt', 'n_estimators': 5}\n",
      "0.99475 0.9385 (0.015365850936410906) with: {'criterion': 'gini', 'max_depth': 200, 'max_features': 'sqrt', 'n_estimators': 7}\n",
      "0.9960486111111111 0.9409375000000001 (0.01653889827799903) with: {'criterion': 'gini', 'max_depth': 200, 'max_features': 'sqrt', 'n_estimators': 9}\n",
      "0.9969444444444445 0.9418750000000001 (0.01688194301613415) with: {'criterion': 'gini', 'max_depth': 200, 'max_features': 'sqrt', 'n_estimators': 11}\n",
      "0.997388888888889 0.9421250000000001 (0.017064216946581525) with: {'criterion': 'gini', 'max_depth': 200, 'max_features': 'sqrt', 'n_estimators': 13}\n",
      "0.9979652777777778 0.9430625000000001 (0.017153830658194116) with: {'criterion': 'gini', 'max_depth': 200, 'max_features': 'sqrt', 'n_estimators': 15}\n",
      "0.9982569444444443 0.9436249999999999 (0.01648341969980745) with: {'criterion': 'gini', 'max_depth': 200, 'max_features': 'sqrt', 'n_estimators': 17}\n",
      "0.9984999999999999 0.9435 (0.016910148580068722) with: {'criterion': 'gini', 'max_depth': 200, 'max_features': 'sqrt', 'n_estimators': 19}\n",
      "0.9985833333333334 0.9440624999999999 (0.0174379480229183) with: {'criterion': 'gini', 'max_depth': 200, 'max_features': 'sqrt', 'n_estimators': 21}\n",
      "0.9987777777777778 0.944875 (0.01637404577372373) with: {'criterion': 'gini', 'max_depth': 200, 'max_features': 'sqrt', 'n_estimators': 23}\n",
      "0.9669444444444444 0.9055 (0.01916784416672882) with: {'criterion': 'gini', 'max_depth': 300, 'max_features': 'auto', 'n_estimators': 1}\n",
      "0.9863541666666666 0.928125 (0.01667005173957178) with: {'criterion': 'gini', 'max_depth': 300, 'max_features': 'auto', 'n_estimators': 3}\n",
      "0.99175 0.9353125 (0.016425137937015943) with: {'criterion': 'gini', 'max_depth': 300, 'max_features': 'auto', 'n_estimators': 5}\n",
      "0.99475 0.9385 (0.015365850936410906) with: {'criterion': 'gini', 'max_depth': 300, 'max_features': 'auto', 'n_estimators': 7}\n",
      "0.9960486111111111 0.9409375000000001 (0.01653889827799903) with: {'criterion': 'gini', 'max_depth': 300, 'max_features': 'auto', 'n_estimators': 9}\n",
      "0.9969444444444445 0.9418750000000001 (0.01688194301613415) with: {'criterion': 'gini', 'max_depth': 300, 'max_features': 'auto', 'n_estimators': 11}\n",
      "0.997388888888889 0.9421250000000001 (0.017064216946581525) with: {'criterion': 'gini', 'max_depth': 300, 'max_features': 'auto', 'n_estimators': 13}\n",
      "0.9979652777777778 0.9430625000000001 (0.017153830658194116) with: {'criterion': 'gini', 'max_depth': 300, 'max_features': 'auto', 'n_estimators': 15}\n",
      "0.9982569444444443 0.9436249999999999 (0.01648341969980745) with: {'criterion': 'gini', 'max_depth': 300, 'max_features': 'auto', 'n_estimators': 17}\n",
      "0.9984999999999999 0.9435 (0.016910148580068722) with: {'criterion': 'gini', 'max_depth': 300, 'max_features': 'auto', 'n_estimators': 19}\n",
      "0.9985833333333334 0.9440624999999999 (0.0174379480229183) with: {'criterion': 'gini', 'max_depth': 300, 'max_features': 'auto', 'n_estimators': 21}\n",
      "0.9987777777777778 0.944875 (0.01637404577372373) with: {'criterion': 'gini', 'max_depth': 300, 'max_features': 'auto', 'n_estimators': 23}\n",
      "0.9669444444444444 0.9055 (0.01916784416672882) with: {'criterion': 'gini', 'max_depth': 300, 'max_features': 'log2', 'n_estimators': 1}\n",
      "0.9863541666666666 0.928125 (0.01667005173957178) with: {'criterion': 'gini', 'max_depth': 300, 'max_features': 'log2', 'n_estimators': 3}\n",
      "0.99175 0.9353125 (0.016425137937015943) with: {'criterion': 'gini', 'max_depth': 300, 'max_features': 'log2', 'n_estimators': 5}\n",
      "0.99475 0.9385 (0.015365850936410906) with: {'criterion': 'gini', 'max_depth': 300, 'max_features': 'log2', 'n_estimators': 7}\n",
      "0.9960486111111111 0.9409375000000001 (0.01653889827799903) with: {'criterion': 'gini', 'max_depth': 300, 'max_features': 'log2', 'n_estimators': 9}\n",
      "0.9969444444444445 0.9418750000000001 (0.01688194301613415) with: {'criterion': 'gini', 'max_depth': 300, 'max_features': 'log2', 'n_estimators': 11}\n",
      "0.997388888888889 0.9421250000000001 (0.017064216946581525) with: {'criterion': 'gini', 'max_depth': 300, 'max_features': 'log2', 'n_estimators': 13}\n",
      "0.9979652777777778 0.9430625000000001 (0.017153830658194116) with: {'criterion': 'gini', 'max_depth': 300, 'max_features': 'log2', 'n_estimators': 15}\n",
      "0.9982569444444443 0.9436249999999999 (0.01648341969980745) with: {'criterion': 'gini', 'max_depth': 300, 'max_features': 'log2', 'n_estimators': 17}\n",
      "0.9984999999999999 0.9435 (0.016910148580068722) with: {'criterion': 'gini', 'max_depth': 300, 'max_features': 'log2', 'n_estimators': 19}\n",
      "0.9985833333333334 0.9440624999999999 (0.0174379480229183) with: {'criterion': 'gini', 'max_depth': 300, 'max_features': 'log2', 'n_estimators': 21}\n",
      "0.9987777777777778 0.944875 (0.01637404577372373) with: {'criterion': 'gini', 'max_depth': 300, 'max_features': 'log2', 'n_estimators': 23}\n",
      "0.9669444444444444 0.9055 (0.01916784416672882) with: {'criterion': 'gini', 'max_depth': 300, 'max_features': 'sqrt', 'n_estimators': 1}\n",
      "0.9863541666666666 0.928125 (0.01667005173957178) with: {'criterion': 'gini', 'max_depth': 300, 'max_features': 'sqrt', 'n_estimators': 3}\n",
      "0.99175 0.9353125 (0.016425137937015943) with: {'criterion': 'gini', 'max_depth': 300, 'max_features': 'sqrt', 'n_estimators': 5}\n",
      "0.99475 0.9385 (0.015365850936410906) with: {'criterion': 'gini', 'max_depth': 300, 'max_features': 'sqrt', 'n_estimators': 7}\n",
      "0.9960486111111111 0.9409375000000001 (0.01653889827799903) with: {'criterion': 'gini', 'max_depth': 300, 'max_features': 'sqrt', 'n_estimators': 9}\n",
      "0.9969444444444445 0.9418750000000001 (0.01688194301613415) with: {'criterion': 'gini', 'max_depth': 300, 'max_features': 'sqrt', 'n_estimators': 11}\n",
      "0.997388888888889 0.9421250000000001 (0.017064216946581525) with: {'criterion': 'gini', 'max_depth': 300, 'max_features': 'sqrt', 'n_estimators': 13}\n",
      "0.9979652777777778 0.9430625000000001 (0.017153830658194116) with: {'criterion': 'gini', 'max_depth': 300, 'max_features': 'sqrt', 'n_estimators': 15}\n",
      "0.9982569444444443 0.9436249999999999 (0.01648341969980745) with: {'criterion': 'gini', 'max_depth': 300, 'max_features': 'sqrt', 'n_estimators': 17}\n",
      "0.9984999999999999 0.9435 (0.016910148580068722) with: {'criterion': 'gini', 'max_depth': 300, 'max_features': 'sqrt', 'n_estimators': 19}\n",
      "0.9985833333333334 0.9440624999999999 (0.0174379480229183) with: {'criterion': 'gini', 'max_depth': 300, 'max_features': 'sqrt', 'n_estimators': 21}\n",
      "0.9987777777777778 0.944875 (0.01637404577372373) with: {'criterion': 'gini', 'max_depth': 300, 'max_features': 'sqrt', 'n_estimators': 23}\n",
      "0.9669444444444444 0.9055 (0.01916784416672882) with: {'criterion': 'gini', 'max_depth': 500, 'max_features': 'auto', 'n_estimators': 1}\n",
      "0.9863541666666666 0.928125 (0.01667005173957178) with: {'criterion': 'gini', 'max_depth': 500, 'max_features': 'auto', 'n_estimators': 3}\n",
      "0.99175 0.9353125 (0.016425137937015943) with: {'criterion': 'gini', 'max_depth': 500, 'max_features': 'auto', 'n_estimators': 5}\n",
      "0.99475 0.9385 (0.015365850936410906) with: {'criterion': 'gini', 'max_depth': 500, 'max_features': 'auto', 'n_estimators': 7}\n",
      "0.9960486111111111 0.9409375000000001 (0.01653889827799903) with: {'criterion': 'gini', 'max_depth': 500, 'max_features': 'auto', 'n_estimators': 9}\n",
      "0.9969444444444445 0.9418750000000001 (0.01688194301613415) with: {'criterion': 'gini', 'max_depth': 500, 'max_features': 'auto', 'n_estimators': 11}\n",
      "0.997388888888889 0.9421250000000001 (0.017064216946581525) with: {'criterion': 'gini', 'max_depth': 500, 'max_features': 'auto', 'n_estimators': 13}\n",
      "0.9979652777777778 0.9430625000000001 (0.017153830658194116) with: {'criterion': 'gini', 'max_depth': 500, 'max_features': 'auto', 'n_estimators': 15}\n",
      "0.9982569444444443 0.9436249999999999 (0.01648341969980745) with: {'criterion': 'gini', 'max_depth': 500, 'max_features': 'auto', 'n_estimators': 17}\n",
      "0.9984999999999999 0.9435 (0.016910148580068722) with: {'criterion': 'gini', 'max_depth': 500, 'max_features': 'auto', 'n_estimators': 19}\n",
      "0.9985833333333334 0.9440624999999999 (0.0174379480229183) with: {'criterion': 'gini', 'max_depth': 500, 'max_features': 'auto', 'n_estimators': 21}\n",
      "0.9987777777777778 0.944875 (0.01637404577372373) with: {'criterion': 'gini', 'max_depth': 500, 'max_features': 'auto', 'n_estimators': 23}\n",
      "0.9669444444444444 0.9055 (0.01916784416672882) with: {'criterion': 'gini', 'max_depth': 500, 'max_features': 'log2', 'n_estimators': 1}\n",
      "0.9863541666666666 0.928125 (0.01667005173957178) with: {'criterion': 'gini', 'max_depth': 500, 'max_features': 'log2', 'n_estimators': 3}\n",
      "0.99175 0.9353125 (0.016425137937015943) with: {'criterion': 'gini', 'max_depth': 500, 'max_features': 'log2', 'n_estimators': 5}\n",
      "0.99475 0.9385 (0.015365850936410906) with: {'criterion': 'gini', 'max_depth': 500, 'max_features': 'log2', 'n_estimators': 7}\n",
      "0.9960486111111111 0.9409375000000001 (0.01653889827799903) with: {'criterion': 'gini', 'max_depth': 500, 'max_features': 'log2', 'n_estimators': 9}\n",
      "0.9969444444444445 0.9418750000000001 (0.01688194301613415) with: {'criterion': 'gini', 'max_depth': 500, 'max_features': 'log2', 'n_estimators': 11}\n",
      "0.997388888888889 0.9421250000000001 (0.017064216946581525) with: {'criterion': 'gini', 'max_depth': 500, 'max_features': 'log2', 'n_estimators': 13}\n",
      "0.9979652777777778 0.9430625000000001 (0.017153830658194116) with: {'criterion': 'gini', 'max_depth': 500, 'max_features': 'log2', 'n_estimators': 15}\n",
      "0.9982569444444443 0.9436249999999999 (0.01648341969980745) with: {'criterion': 'gini', 'max_depth': 500, 'max_features': 'log2', 'n_estimators': 17}\n",
      "0.9984999999999999 0.9435 (0.016910148580068722) with: {'criterion': 'gini', 'max_depth': 500, 'max_features': 'log2', 'n_estimators': 19}\n",
      "0.9985833333333334 0.9440624999999999 (0.0174379480229183) with: {'criterion': 'gini', 'max_depth': 500, 'max_features': 'log2', 'n_estimators': 21}\n",
      "0.9987777777777778 0.944875 (0.01637404577372373) with: {'criterion': 'gini', 'max_depth': 500, 'max_features': 'log2', 'n_estimators': 23}\n",
      "0.9669444444444444 0.9055 (0.01916784416672882) with: {'criterion': 'gini', 'max_depth': 500, 'max_features': 'sqrt', 'n_estimators': 1}\n",
      "0.9863541666666666 0.928125 (0.01667005173957178) with: {'criterion': 'gini', 'max_depth': 500, 'max_features': 'sqrt', 'n_estimators': 3}\n",
      "0.99175 0.9353125 (0.016425137937015943) with: {'criterion': 'gini', 'max_depth': 500, 'max_features': 'sqrt', 'n_estimators': 5}\n",
      "0.99475 0.9385 (0.015365850936410906) with: {'criterion': 'gini', 'max_depth': 500, 'max_features': 'sqrt', 'n_estimators': 7}\n",
      "0.9960486111111111 0.9409375000000001 (0.01653889827799903) with: {'criterion': 'gini', 'max_depth': 500, 'max_features': 'sqrt', 'n_estimators': 9}\n",
      "0.9969444444444445 0.9418750000000001 (0.01688194301613415) with: {'criterion': 'gini', 'max_depth': 500, 'max_features': 'sqrt', 'n_estimators': 11}\n",
      "0.997388888888889 0.9421250000000001 (0.017064216946581525) with: {'criterion': 'gini', 'max_depth': 500, 'max_features': 'sqrt', 'n_estimators': 13}\n",
      "0.9979652777777778 0.9430625000000001 (0.017153830658194116) with: {'criterion': 'gini', 'max_depth': 500, 'max_features': 'sqrt', 'n_estimators': 15}\n",
      "0.9982569444444443 0.9436249999999999 (0.01648341969980745) with: {'criterion': 'gini', 'max_depth': 500, 'max_features': 'sqrt', 'n_estimators': 17}\n",
      "0.9984999999999999 0.9435 (0.016910148580068722) with: {'criterion': 'gini', 'max_depth': 500, 'max_features': 'sqrt', 'n_estimators': 19}\n",
      "0.9985833333333334 0.9440624999999999 (0.0174379480229183) with: {'criterion': 'gini', 'max_depth': 500, 'max_features': 'sqrt', 'n_estimators': 21}\n",
      "0.9987777777777778 0.944875 (0.01637404577372373) with: {'criterion': 'gini', 'max_depth': 500, 'max_features': 'sqrt', 'n_estimators': 23}\n",
      "0.8481458333333333 0.8488125 (0.015748139771096768) with: {'criterion': 'entropy', 'max_depth': 2, 'max_features': 'auto', 'n_estimators': 1}\n",
      "0.8735486111111112 0.874 (0.017633863019769654) with: {'criterion': 'entropy', 'max_depth': 2, 'max_features': 'auto', 'n_estimators': 3}\n",
      "0.874013888888889 0.8721875000000001 (0.015949750193968566) with: {'criterion': 'entropy', 'max_depth': 2, 'max_features': 'auto', 'n_estimators': 5}\n",
      "0.8668750000000001 0.8665 (0.01414821101765167) with: {'criterion': 'entropy', 'max_depth': 2, 'max_features': 'auto', 'n_estimators': 7}\n",
      "0.8675902777777778 0.8673125 (0.013829457915985005) with: {'criterion': 'entropy', 'max_depth': 2, 'max_features': 'auto', 'n_estimators': 9}\n",
      "0.8669097222222222 0.866625 (0.014073467945037575) with: {'criterion': 'entropy', 'max_depth': 2, 'max_features': 'auto', 'n_estimators': 11}\n",
      "0.8669236111111112 0.8666874999999999 (0.014147796869124185) with: {'criterion': 'entropy', 'max_depth': 2, 'max_features': 'auto', 'n_estimators': 13}\n",
      "0.8642013888888889 0.8639374999999999 (0.013693206572968946) with: {'criterion': 'entropy', 'max_depth': 2, 'max_features': 'auto', 'n_estimators': 15}\n",
      "0.8877708333333333 0.8873749999999999 (0.0140473529534927) with: {'criterion': 'entropy', 'max_depth': 2, 'max_features': 'auto', 'n_estimators': 17}\n",
      "0.8874305555555555 0.8873125 (0.014561426999095928) with: {'criterion': 'entropy', 'max_depth': 2, 'max_features': 'auto', 'n_estimators': 19}\n",
      "0.8865208333333333 0.88575 (0.014025089126276539) with: {'criterion': 'entropy', 'max_depth': 2, 'max_features': 'auto', 'n_estimators': 21}\n",
      "0.8877291666666667 0.8875624999999999 (0.01430267129769822) with: {'criterion': 'entropy', 'max_depth': 2, 'max_features': 'auto', 'n_estimators': 23}\n",
      "0.8481458333333333 0.8488125 (0.015748139771096768) with: {'criterion': 'entropy', 'max_depth': 2, 'max_features': 'log2', 'n_estimators': 1}\n",
      "0.8735486111111112 0.874 (0.017633863019769654) with: {'criterion': 'entropy', 'max_depth': 2, 'max_features': 'log2', 'n_estimators': 3}\n",
      "0.874013888888889 0.8721875000000001 (0.015949750193968566) with: {'criterion': 'entropy', 'max_depth': 2, 'max_features': 'log2', 'n_estimators': 5}\n",
      "0.8668750000000001 0.8665 (0.01414821101765167) with: {'criterion': 'entropy', 'max_depth': 2, 'max_features': 'log2', 'n_estimators': 7}\n",
      "0.8675902777777778 0.8673125 (0.013829457915985005) with: {'criterion': 'entropy', 'max_depth': 2, 'max_features': 'log2', 'n_estimators': 9}\n",
      "0.8669097222222222 0.866625 (0.014073467945037575) with: {'criterion': 'entropy', 'max_depth': 2, 'max_features': 'log2', 'n_estimators': 11}\n",
      "0.8669236111111112 0.8666874999999999 (0.014147796869124185) with: {'criterion': 'entropy', 'max_depth': 2, 'max_features': 'log2', 'n_estimators': 13}\n",
      "0.8642013888888889 0.8639374999999999 (0.013693206572968946) with: {'criterion': 'entropy', 'max_depth': 2, 'max_features': 'log2', 'n_estimators': 15}\n",
      "0.8877708333333333 0.8873749999999999 (0.0140473529534927) with: {'criterion': 'entropy', 'max_depth': 2, 'max_features': 'log2', 'n_estimators': 17}\n",
      "0.8874305555555555 0.8873125 (0.014561426999095928) with: {'criterion': 'entropy', 'max_depth': 2, 'max_features': 'log2', 'n_estimators': 19}\n",
      "0.8865208333333333 0.88575 (0.014025089126276539) with: {'criterion': 'entropy', 'max_depth': 2, 'max_features': 'log2', 'n_estimators': 21}\n",
      "0.8877291666666667 0.8875624999999999 (0.01430267129769822) with: {'criterion': 'entropy', 'max_depth': 2, 'max_features': 'log2', 'n_estimators': 23}\n",
      "0.8481458333333333 0.8488125 (0.015748139771096768) with: {'criterion': 'entropy', 'max_depth': 2, 'max_features': 'sqrt', 'n_estimators': 1}\n",
      "0.8735486111111112 0.874 (0.017633863019769654) with: {'criterion': 'entropy', 'max_depth': 2, 'max_features': 'sqrt', 'n_estimators': 3}\n",
      "0.874013888888889 0.8721875000000001 (0.015949750193968566) with: {'criterion': 'entropy', 'max_depth': 2, 'max_features': 'sqrt', 'n_estimators': 5}\n",
      "0.8668750000000001 0.8665 (0.01414821101765167) with: {'criterion': 'entropy', 'max_depth': 2, 'max_features': 'sqrt', 'n_estimators': 7}\n",
      "0.8675902777777778 0.8673125 (0.013829457915985005) with: {'criterion': 'entropy', 'max_depth': 2, 'max_features': 'sqrt', 'n_estimators': 9}\n",
      "0.8669097222222222 0.866625 (0.014073467945037575) with: {'criterion': 'entropy', 'max_depth': 2, 'max_features': 'sqrt', 'n_estimators': 11}\n",
      "0.8669236111111112 0.8666874999999999 (0.014147796869124185) with: {'criterion': 'entropy', 'max_depth': 2, 'max_features': 'sqrt', 'n_estimators': 13}\n",
      "0.8642013888888889 0.8639374999999999 (0.013693206572968946) with: {'criterion': 'entropy', 'max_depth': 2, 'max_features': 'sqrt', 'n_estimators': 15}\n",
      "0.8877708333333333 0.8873749999999999 (0.0140473529534927) with: {'criterion': 'entropy', 'max_depth': 2, 'max_features': 'sqrt', 'n_estimators': 17}\n",
      "0.8874305555555555 0.8873125 (0.014561426999095928) with: {'criterion': 'entropy', 'max_depth': 2, 'max_features': 'sqrt', 'n_estimators': 19}\n",
      "0.8865208333333333 0.88575 (0.014025089126276539) with: {'criterion': 'entropy', 'max_depth': 2, 'max_features': 'sqrt', 'n_estimators': 21}\n",
      "0.8877291666666667 0.8875624999999999 (0.01430267129769822) with: {'criterion': 'entropy', 'max_depth': 2, 'max_features': 'sqrt', 'n_estimators': 23}\n",
      "0.9103055555555557 0.905125 (0.018236296224836888) with: {'criterion': 'entropy', 'max_depth': 6, 'max_features': 'auto', 'n_estimators': 1}\n",
      "0.9220277777777779 0.9189375 (0.014593582707820582) with: {'criterion': 'entropy', 'max_depth': 6, 'max_features': 'auto', 'n_estimators': 3}\n",
      "0.9242152777777777 0.9203125 (0.01608874315321118) with: {'criterion': 'entropy', 'max_depth': 6, 'max_features': 'auto', 'n_estimators': 5}\n",
      "0.9246874999999999 0.920625 (0.014861338264099919) with: {'criterion': 'entropy', 'max_depth': 6, 'max_features': 'auto', 'n_estimators': 7}\n",
      "0.9249930555555554 0.9210625000000002 (0.01507286987438026) with: {'criterion': 'entropy', 'max_depth': 6, 'max_features': 'auto', 'n_estimators': 9}\n",
      "0.9257083333333334 0.9216875 (0.015843595906548495) with: {'criterion': 'entropy', 'max_depth': 6, 'max_features': 'auto', 'n_estimators': 11}\n",
      "0.9251875 0.9210625 (0.015961501534943384) with: {'criterion': 'entropy', 'max_depth': 6, 'max_features': 'auto', 'n_estimators': 13}\n",
      "0.9263055555555557 0.92175 (0.016662551575314027) with: {'criterion': 'entropy', 'max_depth': 6, 'max_features': 'auto', 'n_estimators': 15}\n",
      "0.9272152777777777 0.9230625 (0.01609408373440376) with: {'criterion': 'entropy', 'max_depth': 6, 'max_features': 'auto', 'n_estimators': 17}\n",
      "0.9275833333333333 0.922625 (0.016830496873235803) with: {'criterion': 'entropy', 'max_depth': 6, 'max_features': 'auto', 'n_estimators': 19}\n",
      "0.9276944444444444 0.9236875000000001 (0.01748313919895396) with: {'criterion': 'entropy', 'max_depth': 6, 'max_features': 'auto', 'n_estimators': 21}\n",
      "0.928138888888889 0.924 (0.017993488405531603) with: {'criterion': 'entropy', 'max_depth': 6, 'max_features': 'auto', 'n_estimators': 23}\n",
      "0.9103055555555557 0.905125 (0.018236296224836888) with: {'criterion': 'entropy', 'max_depth': 6, 'max_features': 'log2', 'n_estimators': 1}\n",
      "0.9220277777777779 0.9189375 (0.014593582707820582) with: {'criterion': 'entropy', 'max_depth': 6, 'max_features': 'log2', 'n_estimators': 3}\n",
      "0.9242152777777777 0.9203125 (0.01608874315321118) with: {'criterion': 'entropy', 'max_depth': 6, 'max_features': 'log2', 'n_estimators': 5}\n",
      "0.9246874999999999 0.920625 (0.014861338264099919) with: {'criterion': 'entropy', 'max_depth': 6, 'max_features': 'log2', 'n_estimators': 7}\n",
      "0.9249930555555554 0.9210625000000002 (0.01507286987438026) with: {'criterion': 'entropy', 'max_depth': 6, 'max_features': 'log2', 'n_estimators': 9}\n",
      "0.9257083333333334 0.9216875 (0.015843595906548495) with: {'criterion': 'entropy', 'max_depth': 6, 'max_features': 'log2', 'n_estimators': 11}\n",
      "0.9251875 0.9210625 (0.015961501534943384) with: {'criterion': 'entropy', 'max_depth': 6, 'max_features': 'log2', 'n_estimators': 13}\n",
      "0.9263055555555557 0.92175 (0.016662551575314027) with: {'criterion': 'entropy', 'max_depth': 6, 'max_features': 'log2', 'n_estimators': 15}\n",
      "0.9272152777777777 0.9230625 (0.01609408373440376) with: {'criterion': 'entropy', 'max_depth': 6, 'max_features': 'log2', 'n_estimators': 17}\n",
      "0.9275833333333333 0.922625 (0.016830496873235803) with: {'criterion': 'entropy', 'max_depth': 6, 'max_features': 'log2', 'n_estimators': 19}\n",
      "0.9276944444444444 0.9236875000000001 (0.01748313919895396) with: {'criterion': 'entropy', 'max_depth': 6, 'max_features': 'log2', 'n_estimators': 21}\n",
      "0.928138888888889 0.924 (0.017993488405531603) with: {'criterion': 'entropy', 'max_depth': 6, 'max_features': 'log2', 'n_estimators': 23}\n",
      "0.9103055555555557 0.905125 (0.018236296224836888) with: {'criterion': 'entropy', 'max_depth': 6, 'max_features': 'sqrt', 'n_estimators': 1}\n",
      "0.9220277777777779 0.9189375 (0.014593582707820582) with: {'criterion': 'entropy', 'max_depth': 6, 'max_features': 'sqrt', 'n_estimators': 3}\n",
      "0.9242152777777777 0.9203125 (0.01608874315321118) with: {'criterion': 'entropy', 'max_depth': 6, 'max_features': 'sqrt', 'n_estimators': 5}\n",
      "0.9246874999999999 0.920625 (0.014861338264099919) with: {'criterion': 'entropy', 'max_depth': 6, 'max_features': 'sqrt', 'n_estimators': 7}\n",
      "0.9249930555555554 0.9210625000000002 (0.01507286987438026) with: {'criterion': 'entropy', 'max_depth': 6, 'max_features': 'sqrt', 'n_estimators': 9}\n",
      "0.9257083333333334 0.9216875 (0.015843595906548495) with: {'criterion': 'entropy', 'max_depth': 6, 'max_features': 'sqrt', 'n_estimators': 11}\n",
      "0.9251875 0.9210625 (0.015961501534943384) with: {'criterion': 'entropy', 'max_depth': 6, 'max_features': 'sqrt', 'n_estimators': 13}\n",
      "0.9263055555555557 0.92175 (0.016662551575314027) with: {'criterion': 'entropy', 'max_depth': 6, 'max_features': 'sqrt', 'n_estimators': 15}\n",
      "0.9272152777777777 0.9230625 (0.01609408373440376) with: {'criterion': 'entropy', 'max_depth': 6, 'max_features': 'sqrt', 'n_estimators': 17}\n",
      "0.9275833333333333 0.922625 (0.016830496873235803) with: {'criterion': 'entropy', 'max_depth': 6, 'max_features': 'sqrt', 'n_estimators': 19}\n",
      "0.9276944444444444 0.9236875000000001 (0.01748313919895396) with: {'criterion': 'entropy', 'max_depth': 6, 'max_features': 'sqrt', 'n_estimators': 21}\n",
      "0.928138888888889 0.924 (0.017993488405531603) with: {'criterion': 'entropy', 'max_depth': 6, 'max_features': 'sqrt', 'n_estimators': 23}\n",
      "0.9516805555555556 0.913625 (0.015488907321047535) with: {'criterion': 'entropy', 'max_depth': 12, 'max_features': 'auto', 'n_estimators': 1}\n",
      "0.9703055555555556 0.9289375 (0.01618508669269336) with: {'criterion': 'entropy', 'max_depth': 12, 'max_features': 'auto', 'n_estimators': 3}\n",
      "0.9748958333333334 0.9350624999999999 (0.014516827520157446) with: {'criterion': 'entropy', 'max_depth': 12, 'max_features': 'auto', 'n_estimators': 5}\n",
      "0.9772708333333334 0.936625 (0.014095655359010428) with: {'criterion': 'entropy', 'max_depth': 12, 'max_features': 'auto', 'n_estimators': 7}\n",
      "0.9784027777777776 0.9389375 (0.015416230286616771) with: {'criterion': 'entropy', 'max_depth': 12, 'max_features': 'auto', 'n_estimators': 9}\n",
      "0.9792361111111111 0.94025 (0.015831633680703963) with: {'criterion': 'entropy', 'max_depth': 12, 'max_features': 'auto', 'n_estimators': 11}\n",
      "0.9797847222222222 0.9395624999999999 (0.016329253848538193) with: {'criterion': 'entropy', 'max_depth': 12, 'max_features': 'auto', 'n_estimators': 13}\n",
      "0.9803194444444443 0.940625 (0.01610754869618593) with: {'criterion': 'entropy', 'max_depth': 12, 'max_features': 'auto', 'n_estimators': 15}\n",
      "0.9808819444444443 0.9414374999999999 (0.015615121877526303) with: {'criterion': 'entropy', 'max_depth': 12, 'max_features': 'auto', 'n_estimators': 17}\n",
      "0.9811875000000001 0.9423125000000001 (0.015524803742720894) with: {'criterion': 'entropy', 'max_depth': 12, 'max_features': 'auto', 'n_estimators': 19}\n",
      "0.9812986111111112 0.9424999999999999 (0.015199198169640389) with: {'criterion': 'entropy', 'max_depth': 12, 'max_features': 'auto', 'n_estimators': 21}\n",
      "0.9811458333333334 0.9428124999999999 (0.01565808996174182) with: {'criterion': 'entropy', 'max_depth': 12, 'max_features': 'auto', 'n_estimators': 23}\n",
      "0.9516805555555556 0.913625 (0.015488907321047535) with: {'criterion': 'entropy', 'max_depth': 12, 'max_features': 'log2', 'n_estimators': 1}\n",
      "0.9703055555555556 0.9289375 (0.01618508669269336) with: {'criterion': 'entropy', 'max_depth': 12, 'max_features': 'log2', 'n_estimators': 3}\n",
      "0.9748958333333334 0.9350624999999999 (0.014516827520157446) with: {'criterion': 'entropy', 'max_depth': 12, 'max_features': 'log2', 'n_estimators': 5}\n",
      "0.9772708333333334 0.936625 (0.014095655359010428) with: {'criterion': 'entropy', 'max_depth': 12, 'max_features': 'log2', 'n_estimators': 7}\n",
      "0.9784027777777776 0.9389375 (0.015416230286616771) with: {'criterion': 'entropy', 'max_depth': 12, 'max_features': 'log2', 'n_estimators': 9}\n",
      "0.9792361111111111 0.94025 (0.015831633680703963) with: {'criterion': 'entropy', 'max_depth': 12, 'max_features': 'log2', 'n_estimators': 11}\n",
      "0.9797847222222222 0.9395624999999999 (0.016329253848538193) with: {'criterion': 'entropy', 'max_depth': 12, 'max_features': 'log2', 'n_estimators': 13}\n",
      "0.9803194444444443 0.940625 (0.01610754869618593) with: {'criterion': 'entropy', 'max_depth': 12, 'max_features': 'log2', 'n_estimators': 15}\n",
      "0.9808819444444443 0.9414374999999999 (0.015615121877526303) with: {'criterion': 'entropy', 'max_depth': 12, 'max_features': 'log2', 'n_estimators': 17}\n",
      "0.9811875000000001 0.9423125000000001 (0.015524803742720894) with: {'criterion': 'entropy', 'max_depth': 12, 'max_features': 'log2', 'n_estimators': 19}\n",
      "0.9812986111111112 0.9424999999999999 (0.015199198169640389) with: {'criterion': 'entropy', 'max_depth': 12, 'max_features': 'log2', 'n_estimators': 21}\n",
      "0.9811458333333334 0.9428124999999999 (0.01565808996174182) with: {'criterion': 'entropy', 'max_depth': 12, 'max_features': 'log2', 'n_estimators': 23}\n",
      "0.9516805555555556 0.913625 (0.015488907321047535) with: {'criterion': 'entropy', 'max_depth': 12, 'max_features': 'sqrt', 'n_estimators': 1}\n",
      "0.9703055555555556 0.9289375 (0.01618508669269336) with: {'criterion': 'entropy', 'max_depth': 12, 'max_features': 'sqrt', 'n_estimators': 3}\n",
      "0.9748958333333334 0.9350624999999999 (0.014516827520157446) with: {'criterion': 'entropy', 'max_depth': 12, 'max_features': 'sqrt', 'n_estimators': 5}\n",
      "0.9772708333333334 0.936625 (0.014095655359010428) with: {'criterion': 'entropy', 'max_depth': 12, 'max_features': 'sqrt', 'n_estimators': 7}\n",
      "0.9784027777777776 0.9389375 (0.015416230286616771) with: {'criterion': 'entropy', 'max_depth': 12, 'max_features': 'sqrt', 'n_estimators': 9}\n",
      "0.9792361111111111 0.94025 (0.015831633680703963) with: {'criterion': 'entropy', 'max_depth': 12, 'max_features': 'sqrt', 'n_estimators': 11}\n",
      "0.9797847222222222 0.9395624999999999 (0.016329253848538193) with: {'criterion': 'entropy', 'max_depth': 12, 'max_features': 'sqrt', 'n_estimators': 13}\n",
      "0.9803194444444443 0.940625 (0.01610754869618593) with: {'criterion': 'entropy', 'max_depth': 12, 'max_features': 'sqrt', 'n_estimators': 15}\n",
      "0.9808819444444443 0.9414374999999999 (0.015615121877526303) with: {'criterion': 'entropy', 'max_depth': 12, 'max_features': 'sqrt', 'n_estimators': 17}\n",
      "0.9811875000000001 0.9423125000000001 (0.015524803742720894) with: {'criterion': 'entropy', 'max_depth': 12, 'max_features': 'sqrt', 'n_estimators': 19}\n",
      "0.9812986111111112 0.9424999999999999 (0.015199198169640389) with: {'criterion': 'entropy', 'max_depth': 12, 'max_features': 'sqrt', 'n_estimators': 21}\n",
      "0.9811458333333334 0.9428124999999999 (0.01565808996174182) with: {'criterion': 'entropy', 'max_depth': 12, 'max_features': 'sqrt', 'n_estimators': 23}\n",
      "0.968236111111111 0.9096249999999999 (0.020480936257896015) with: {'criterion': 'entropy', 'max_depth': 20, 'max_features': 'auto', 'n_estimators': 1}\n",
      "0.9863819444444444 0.930625 (0.018630871557713008) with: {'criterion': 'entropy', 'max_depth': 20, 'max_features': 'auto', 'n_estimators': 3}\n",
      "0.9916666666666666 0.9364999999999999 (0.017191931246954183) with: {'criterion': 'entropy', 'max_depth': 20, 'max_features': 'auto', 'n_estimators': 5}\n",
      "0.9943402777777777 0.9395624999999999 (0.018014859318074065) with: {'criterion': 'entropy', 'max_depth': 20, 'max_features': 'auto', 'n_estimators': 7}\n",
      "0.9958263888888889 0.9411875000000001 (0.0174271922939411) with: {'criterion': 'entropy', 'max_depth': 20, 'max_features': 'auto', 'n_estimators': 9}\n",
      "0.9965833333333333 0.9412500000000001 (0.017214183831945118) with: {'criterion': 'entropy', 'max_depth': 20, 'max_features': 'auto', 'n_estimators': 11}\n",
      "0.9971597222222222 0.942375 (0.01634539308184422) with: {'criterion': 'entropy', 'max_depth': 20, 'max_features': 'auto', 'n_estimators': 13}\n",
      "0.9977777777777778 0.9441875000000002 (0.01646029787853185) with: {'criterion': 'entropy', 'max_depth': 20, 'max_features': 'auto', 'n_estimators': 15}\n",
      "0.9980486111111111 0.944875 (0.01613613956310491) with: {'criterion': 'entropy', 'max_depth': 20, 'max_features': 'auto', 'n_estimators': 17}\n",
      "0.9983541666666668 0.9444999999999999 (0.016196546699836965) with: {'criterion': 'entropy', 'max_depth': 20, 'max_features': 'auto', 'n_estimators': 19}\n",
      "0.9985277777777778 0.9444375 (0.0162246196026286) with: {'criterion': 'entropy', 'max_depth': 20, 'max_features': 'auto', 'n_estimators': 21}\n",
      "0.9987638888888888 0.9445 (0.016424067705656846) with: {'criterion': 'entropy', 'max_depth': 20, 'max_features': 'auto', 'n_estimators': 23}\n",
      "0.968236111111111 0.9096249999999999 (0.020480936257896015) with: {'criterion': 'entropy', 'max_depth': 20, 'max_features': 'log2', 'n_estimators': 1}\n",
      "0.9863819444444444 0.930625 (0.018630871557713008) with: {'criterion': 'entropy', 'max_depth': 20, 'max_features': 'log2', 'n_estimators': 3}\n",
      "0.9916666666666666 0.9364999999999999 (0.017191931246954183) with: {'criterion': 'entropy', 'max_depth': 20, 'max_features': 'log2', 'n_estimators': 5}\n",
      "0.9943402777777777 0.9395624999999999 (0.018014859318074065) with: {'criterion': 'entropy', 'max_depth': 20, 'max_features': 'log2', 'n_estimators': 7}\n",
      "0.9958263888888889 0.9411875000000001 (0.0174271922939411) with: {'criterion': 'entropy', 'max_depth': 20, 'max_features': 'log2', 'n_estimators': 9}\n",
      "0.9965833333333333 0.9412500000000001 (0.017214183831945118) with: {'criterion': 'entropy', 'max_depth': 20, 'max_features': 'log2', 'n_estimators': 11}\n",
      "0.9971597222222222 0.942375 (0.01634539308184422) with: {'criterion': 'entropy', 'max_depth': 20, 'max_features': 'log2', 'n_estimators': 13}\n",
      "0.9977777777777778 0.9441875000000002 (0.01646029787853185) with: {'criterion': 'entropy', 'max_depth': 20, 'max_features': 'log2', 'n_estimators': 15}\n",
      "0.9980486111111111 0.944875 (0.01613613956310491) with: {'criterion': 'entropy', 'max_depth': 20, 'max_features': 'log2', 'n_estimators': 17}\n",
      "0.9983541666666668 0.9444999999999999 (0.016196546699836965) with: {'criterion': 'entropy', 'max_depth': 20, 'max_features': 'log2', 'n_estimators': 19}\n",
      "0.9985277777777778 0.9444375 (0.0162246196026286) with: {'criterion': 'entropy', 'max_depth': 20, 'max_features': 'log2', 'n_estimators': 21}\n",
      "0.9987638888888888 0.9445 (0.016424067705656846) with: {'criterion': 'entropy', 'max_depth': 20, 'max_features': 'log2', 'n_estimators': 23}\n",
      "0.968236111111111 0.9096249999999999 (0.020480936257896015) with: {'criterion': 'entropy', 'max_depth': 20, 'max_features': 'sqrt', 'n_estimators': 1}\n",
      "0.9863819444444444 0.930625 (0.018630871557713008) with: {'criterion': 'entropy', 'max_depth': 20, 'max_features': 'sqrt', 'n_estimators': 3}\n",
      "0.9916666666666666 0.9364999999999999 (0.017191931246954183) with: {'criterion': 'entropy', 'max_depth': 20, 'max_features': 'sqrt', 'n_estimators': 5}\n",
      "0.9943402777777777 0.9395624999999999 (0.018014859318074065) with: {'criterion': 'entropy', 'max_depth': 20, 'max_features': 'sqrt', 'n_estimators': 7}\n",
      "0.9958263888888889 0.9411875000000001 (0.0174271922939411) with: {'criterion': 'entropy', 'max_depth': 20, 'max_features': 'sqrt', 'n_estimators': 9}\n",
      "0.9965833333333333 0.9412500000000001 (0.017214183831945118) with: {'criterion': 'entropy', 'max_depth': 20, 'max_features': 'sqrt', 'n_estimators': 11}\n",
      "0.9971597222222222 0.942375 (0.01634539308184422) with: {'criterion': 'entropy', 'max_depth': 20, 'max_features': 'sqrt', 'n_estimators': 13}\n",
      "0.9977777777777778 0.9441875000000002 (0.01646029787853185) with: {'criterion': 'entropy', 'max_depth': 20, 'max_features': 'sqrt', 'n_estimators': 15}\n",
      "0.9980486111111111 0.944875 (0.01613613956310491) with: {'criterion': 'entropy', 'max_depth': 20, 'max_features': 'sqrt', 'n_estimators': 17}\n",
      "0.9983541666666668 0.9444999999999999 (0.016196546699836965) with: {'criterion': 'entropy', 'max_depth': 20, 'max_features': 'sqrt', 'n_estimators': 19}\n",
      "0.9985277777777778 0.9444375 (0.0162246196026286) with: {'criterion': 'entropy', 'max_depth': 20, 'max_features': 'sqrt', 'n_estimators': 21}\n",
      "0.9987638888888888 0.9445 (0.016424067705656846) with: {'criterion': 'entropy', 'max_depth': 20, 'max_features': 'sqrt', 'n_estimators': 23}\n",
      "0.9683194444444444 0.9091250000000001 (0.019363302920731258) with: {'criterion': 'entropy', 'max_depth': 50, 'max_features': 'auto', 'n_estimators': 1}\n",
      "0.9865069444444445 0.9305 (0.01890312474169284) with: {'criterion': 'entropy', 'max_depth': 50, 'max_features': 'auto', 'n_estimators': 3}\n",
      "0.9916458333333334 0.9368124999999999 (0.019069056249589288) with: {'criterion': 'entropy', 'max_depth': 50, 'max_features': 'auto', 'n_estimators': 5}\n",
      "0.9943055555555554 0.9394375 (0.018807100554046077) with: {'criterion': 'entropy', 'max_depth': 50, 'max_features': 'auto', 'n_estimators': 7}\n",
      "0.9959027777777779 0.9403125000000001 (0.017934886569198026) with: {'criterion': 'entropy', 'max_depth': 50, 'max_features': 'auto', 'n_estimators': 9}\n",
      "0.9967291666666667 0.9414999999999999 (0.016833745869532436) with: {'criterion': 'entropy', 'max_depth': 50, 'max_features': 'auto', 'n_estimators': 11}\n",
      "0.997201388888889 0.9424375000000002 (0.016492067221849423) with: {'criterion': 'entropy', 'max_depth': 50, 'max_features': 'auto', 'n_estimators': 13}\n",
      "0.9980069444444444 0.9439375000000002 (0.016151262528050242) with: {'criterion': 'entropy', 'max_depth': 50, 'max_features': 'auto', 'n_estimators': 15}\n",
      "0.9981458333333333 0.9450625 (0.01606979406370847) with: {'criterion': 'entropy', 'max_depth': 50, 'max_features': 'auto', 'n_estimators': 17}\n",
      "0.9984166666666667 0.94475 (0.015477301928953899) with: {'criterion': 'entropy', 'max_depth': 50, 'max_features': 'auto', 'n_estimators': 19}\n",
      "0.9986180555555556 0.9446249999999999 (0.015883363938410527) with: {'criterion': 'entropy', 'max_depth': 50, 'max_features': 'auto', 'n_estimators': 21}\n",
      "0.9988333333333334 0.9454374999999999 (0.016782268358300077) with: {'criterion': 'entropy', 'max_depth': 50, 'max_features': 'auto', 'n_estimators': 23}\n",
      "0.9683194444444444 0.9091250000000001 (0.019363302920731258) with: {'criterion': 'entropy', 'max_depth': 50, 'max_features': 'log2', 'n_estimators': 1}\n",
      "0.9865069444444445 0.9305 (0.01890312474169284) with: {'criterion': 'entropy', 'max_depth': 50, 'max_features': 'log2', 'n_estimators': 3}\n",
      "0.9916458333333334 0.9368124999999999 (0.019069056249589288) with: {'criterion': 'entropy', 'max_depth': 50, 'max_features': 'log2', 'n_estimators': 5}\n",
      "0.9943055555555554 0.9394375 (0.018807100554046077) with: {'criterion': 'entropy', 'max_depth': 50, 'max_features': 'log2', 'n_estimators': 7}\n",
      "0.9959027777777779 0.9403125000000001 (0.017934886569198026) with: {'criterion': 'entropy', 'max_depth': 50, 'max_features': 'log2', 'n_estimators': 9}\n",
      "0.9967291666666667 0.9414999999999999 (0.016833745869532436) with: {'criterion': 'entropy', 'max_depth': 50, 'max_features': 'log2', 'n_estimators': 11}\n",
      "0.997201388888889 0.9424375000000002 (0.016492067221849423) with: {'criterion': 'entropy', 'max_depth': 50, 'max_features': 'log2', 'n_estimators': 13}\n",
      "0.9980069444444444 0.9439375000000002 (0.016151262528050242) with: {'criterion': 'entropy', 'max_depth': 50, 'max_features': 'log2', 'n_estimators': 15}\n",
      "0.9981458333333333 0.9450625 (0.01606979406370847) with: {'criterion': 'entropy', 'max_depth': 50, 'max_features': 'log2', 'n_estimators': 17}\n",
      "0.9984166666666667 0.94475 (0.015477301928953899) with: {'criterion': 'entropy', 'max_depth': 50, 'max_features': 'log2', 'n_estimators': 19}\n",
      "0.9986180555555556 0.9446249999999999 (0.015883363938410527) with: {'criterion': 'entropy', 'max_depth': 50, 'max_features': 'log2', 'n_estimators': 21}\n",
      "0.9988333333333334 0.9454374999999999 (0.016782268358300077) with: {'criterion': 'entropy', 'max_depth': 50, 'max_features': 'log2', 'n_estimators': 23}\n",
      "0.9683194444444444 0.9091250000000001 (0.019363302920731258) with: {'criterion': 'entropy', 'max_depth': 50, 'max_features': 'sqrt', 'n_estimators': 1}\n",
      "0.9865069444444445 0.9305 (0.01890312474169284) with: {'criterion': 'entropy', 'max_depth': 50, 'max_features': 'sqrt', 'n_estimators': 3}\n",
      "0.9916458333333334 0.9368124999999999 (0.019069056249589288) with: {'criterion': 'entropy', 'max_depth': 50, 'max_features': 'sqrt', 'n_estimators': 5}\n",
      "0.9943055555555554 0.9394375 (0.018807100554046077) with: {'criterion': 'entropy', 'max_depth': 50, 'max_features': 'sqrt', 'n_estimators': 7}\n",
      "0.9959027777777779 0.9403125000000001 (0.017934886569198026) with: {'criterion': 'entropy', 'max_depth': 50, 'max_features': 'sqrt', 'n_estimators': 9}\n",
      "0.9967291666666667 0.9414999999999999 (0.016833745869532436) with: {'criterion': 'entropy', 'max_depth': 50, 'max_features': 'sqrt', 'n_estimators': 11}\n",
      "0.997201388888889 0.9424375000000002 (0.016492067221849423) with: {'criterion': 'entropy', 'max_depth': 50, 'max_features': 'sqrt', 'n_estimators': 13}\n",
      "0.9980069444444444 0.9439375000000002 (0.016151262528050242) with: {'criterion': 'entropy', 'max_depth': 50, 'max_features': 'sqrt', 'n_estimators': 15}\n",
      "0.9981458333333333 0.9450625 (0.01606979406370847) with: {'criterion': 'entropy', 'max_depth': 50, 'max_features': 'sqrt', 'n_estimators': 17}\n",
      "0.9984166666666667 0.94475 (0.015477301928953899) with: {'criterion': 'entropy', 'max_depth': 50, 'max_features': 'sqrt', 'n_estimators': 19}\n",
      "0.9986180555555556 0.9446249999999999 (0.015883363938410527) with: {'criterion': 'entropy', 'max_depth': 50, 'max_features': 'sqrt', 'n_estimators': 21}\n",
      "0.9988333333333334 0.9454374999999999 (0.016782268358300077) with: {'criterion': 'entropy', 'max_depth': 50, 'max_features': 'sqrt', 'n_estimators': 23}\n",
      "0.9683194444444444 0.9091250000000001 (0.019363302920731258) with: {'criterion': 'entropy', 'max_depth': 100, 'max_features': 'auto', 'n_estimators': 1}\n",
      "0.9865069444444445 0.9305 (0.01890312474169284) with: {'criterion': 'entropy', 'max_depth': 100, 'max_features': 'auto', 'n_estimators': 3}\n",
      "0.9916458333333334 0.9368124999999999 (0.019069056249589288) with: {'criterion': 'entropy', 'max_depth': 100, 'max_features': 'auto', 'n_estimators': 5}\n",
      "0.9943055555555554 0.9394375 (0.018807100554046077) with: {'criterion': 'entropy', 'max_depth': 100, 'max_features': 'auto', 'n_estimators': 7}\n",
      "0.9959027777777779 0.9403125000000001 (0.017934886569198026) with: {'criterion': 'entropy', 'max_depth': 100, 'max_features': 'auto', 'n_estimators': 9}\n",
      "0.9967291666666667 0.9414999999999999 (0.016833745869532436) with: {'criterion': 'entropy', 'max_depth': 100, 'max_features': 'auto', 'n_estimators': 11}\n",
      "0.997201388888889 0.9424375000000002 (0.016492067221849423) with: {'criterion': 'entropy', 'max_depth': 100, 'max_features': 'auto', 'n_estimators': 13}\n",
      "0.9980069444444444 0.9439375000000002 (0.016151262528050242) with: {'criterion': 'entropy', 'max_depth': 100, 'max_features': 'auto', 'n_estimators': 15}\n",
      "0.9981458333333333 0.9450625 (0.01606979406370847) with: {'criterion': 'entropy', 'max_depth': 100, 'max_features': 'auto', 'n_estimators': 17}\n",
      "0.9984166666666667 0.94475 (0.015477301928953899) with: {'criterion': 'entropy', 'max_depth': 100, 'max_features': 'auto', 'n_estimators': 19}\n",
      "0.9986180555555556 0.9446249999999999 (0.015883363938410527) with: {'criterion': 'entropy', 'max_depth': 100, 'max_features': 'auto', 'n_estimators': 21}\n",
      "0.9988333333333334 0.9454374999999999 (0.016782268358300077) with: {'criterion': 'entropy', 'max_depth': 100, 'max_features': 'auto', 'n_estimators': 23}\n",
      "0.9683194444444444 0.9091250000000001 (0.019363302920731258) with: {'criterion': 'entropy', 'max_depth': 100, 'max_features': 'log2', 'n_estimators': 1}\n",
      "0.9865069444444445 0.9305 (0.01890312474169284) with: {'criterion': 'entropy', 'max_depth': 100, 'max_features': 'log2', 'n_estimators': 3}\n",
      "0.9916458333333334 0.9368124999999999 (0.019069056249589288) with: {'criterion': 'entropy', 'max_depth': 100, 'max_features': 'log2', 'n_estimators': 5}\n",
      "0.9943055555555554 0.9394375 (0.018807100554046077) with: {'criterion': 'entropy', 'max_depth': 100, 'max_features': 'log2', 'n_estimators': 7}\n",
      "0.9959027777777779 0.9403125000000001 (0.017934886569198026) with: {'criterion': 'entropy', 'max_depth': 100, 'max_features': 'log2', 'n_estimators': 9}\n",
      "0.9967291666666667 0.9414999999999999 (0.016833745869532436) with: {'criterion': 'entropy', 'max_depth': 100, 'max_features': 'log2', 'n_estimators': 11}\n",
      "0.997201388888889 0.9424375000000002 (0.016492067221849423) with: {'criterion': 'entropy', 'max_depth': 100, 'max_features': 'log2', 'n_estimators': 13}\n",
      "0.9980069444444444 0.9439375000000002 (0.016151262528050242) with: {'criterion': 'entropy', 'max_depth': 100, 'max_features': 'log2', 'n_estimators': 15}\n",
      "0.9981458333333333 0.9450625 (0.01606979406370847) with: {'criterion': 'entropy', 'max_depth': 100, 'max_features': 'log2', 'n_estimators': 17}\n",
      "0.9984166666666667 0.94475 (0.015477301928953899) with: {'criterion': 'entropy', 'max_depth': 100, 'max_features': 'log2', 'n_estimators': 19}\n",
      "0.9986180555555556 0.9446249999999999 (0.015883363938410527) with: {'criterion': 'entropy', 'max_depth': 100, 'max_features': 'log2', 'n_estimators': 21}\n",
      "0.9988333333333334 0.9454374999999999 (0.016782268358300077) with: {'criterion': 'entropy', 'max_depth': 100, 'max_features': 'log2', 'n_estimators': 23}\n",
      "0.9683194444444444 0.9091250000000001 (0.019363302920731258) with: {'criterion': 'entropy', 'max_depth': 100, 'max_features': 'sqrt', 'n_estimators': 1}\n",
      "0.9865069444444445 0.9305 (0.01890312474169284) with: {'criterion': 'entropy', 'max_depth': 100, 'max_features': 'sqrt', 'n_estimators': 3}\n",
      "0.9916458333333334 0.9368124999999999 (0.019069056249589288) with: {'criterion': 'entropy', 'max_depth': 100, 'max_features': 'sqrt', 'n_estimators': 5}\n",
      "0.9943055555555554 0.9394375 (0.018807100554046077) with: {'criterion': 'entropy', 'max_depth': 100, 'max_features': 'sqrt', 'n_estimators': 7}\n",
      "0.9959027777777779 0.9403125000000001 (0.017934886569198026) with: {'criterion': 'entropy', 'max_depth': 100, 'max_features': 'sqrt', 'n_estimators': 9}\n",
      "0.9967291666666667 0.9414999999999999 (0.016833745869532436) with: {'criterion': 'entropy', 'max_depth': 100, 'max_features': 'sqrt', 'n_estimators': 11}\n",
      "0.997201388888889 0.9424375000000002 (0.016492067221849423) with: {'criterion': 'entropy', 'max_depth': 100, 'max_features': 'sqrt', 'n_estimators': 13}\n",
      "0.9980069444444444 0.9439375000000002 (0.016151262528050242) with: {'criterion': 'entropy', 'max_depth': 100, 'max_features': 'sqrt', 'n_estimators': 15}\n",
      "0.9981458333333333 0.9450625 (0.01606979406370847) with: {'criterion': 'entropy', 'max_depth': 100, 'max_features': 'sqrt', 'n_estimators': 17}\n",
      "0.9984166666666667 0.94475 (0.015477301928953899) with: {'criterion': 'entropy', 'max_depth': 100, 'max_features': 'sqrt', 'n_estimators': 19}\n",
      "0.9986180555555556 0.9446249999999999 (0.015883363938410527) with: {'criterion': 'entropy', 'max_depth': 100, 'max_features': 'sqrt', 'n_estimators': 21}\n",
      "0.9988333333333334 0.9454374999999999 (0.016782268358300077) with: {'criterion': 'entropy', 'max_depth': 100, 'max_features': 'sqrt', 'n_estimators': 23}\n",
      "0.9683194444444444 0.9091250000000001 (0.019363302920731258) with: {'criterion': 'entropy', 'max_depth': 200, 'max_features': 'auto', 'n_estimators': 1}\n",
      "0.9865069444444445 0.9305 (0.01890312474169284) with: {'criterion': 'entropy', 'max_depth': 200, 'max_features': 'auto', 'n_estimators': 3}\n",
      "0.9916458333333334 0.9368124999999999 (0.019069056249589288) with: {'criterion': 'entropy', 'max_depth': 200, 'max_features': 'auto', 'n_estimators': 5}\n",
      "0.9943055555555554 0.9394375 (0.018807100554046077) with: {'criterion': 'entropy', 'max_depth': 200, 'max_features': 'auto', 'n_estimators': 7}\n",
      "0.9959027777777779 0.9403125000000001 (0.017934886569198026) with: {'criterion': 'entropy', 'max_depth': 200, 'max_features': 'auto', 'n_estimators': 9}\n",
      "0.9967291666666667 0.9414999999999999 (0.016833745869532436) with: {'criterion': 'entropy', 'max_depth': 200, 'max_features': 'auto', 'n_estimators': 11}\n",
      "0.997201388888889 0.9424375000000002 (0.016492067221849423) with: {'criterion': 'entropy', 'max_depth': 200, 'max_features': 'auto', 'n_estimators': 13}\n",
      "0.9980069444444444 0.9439375000000002 (0.016151262528050242) with: {'criterion': 'entropy', 'max_depth': 200, 'max_features': 'auto', 'n_estimators': 15}\n",
      "0.9981458333333333 0.9450625 (0.01606979406370847) with: {'criterion': 'entropy', 'max_depth': 200, 'max_features': 'auto', 'n_estimators': 17}\n",
      "0.9984166666666667 0.94475 (0.015477301928953899) with: {'criterion': 'entropy', 'max_depth': 200, 'max_features': 'auto', 'n_estimators': 19}\n",
      "0.9986180555555556 0.9446249999999999 (0.015883363938410527) with: {'criterion': 'entropy', 'max_depth': 200, 'max_features': 'auto', 'n_estimators': 21}\n",
      "0.9988333333333334 0.9454374999999999 (0.016782268358300077) with: {'criterion': 'entropy', 'max_depth': 200, 'max_features': 'auto', 'n_estimators': 23}\n",
      "0.9683194444444444 0.9091250000000001 (0.019363302920731258) with: {'criterion': 'entropy', 'max_depth': 200, 'max_features': 'log2', 'n_estimators': 1}\n",
      "0.9865069444444445 0.9305 (0.01890312474169284) with: {'criterion': 'entropy', 'max_depth': 200, 'max_features': 'log2', 'n_estimators': 3}\n",
      "0.9916458333333334 0.9368124999999999 (0.019069056249589288) with: {'criterion': 'entropy', 'max_depth': 200, 'max_features': 'log2', 'n_estimators': 5}\n",
      "0.9943055555555554 0.9394375 (0.018807100554046077) with: {'criterion': 'entropy', 'max_depth': 200, 'max_features': 'log2', 'n_estimators': 7}\n",
      "0.9959027777777779 0.9403125000000001 (0.017934886569198026) with: {'criterion': 'entropy', 'max_depth': 200, 'max_features': 'log2', 'n_estimators': 9}\n",
      "0.9967291666666667 0.9414999999999999 (0.016833745869532436) with: {'criterion': 'entropy', 'max_depth': 200, 'max_features': 'log2', 'n_estimators': 11}\n",
      "0.997201388888889 0.9424375000000002 (0.016492067221849423) with: {'criterion': 'entropy', 'max_depth': 200, 'max_features': 'log2', 'n_estimators': 13}\n",
      "0.9980069444444444 0.9439375000000002 (0.016151262528050242) with: {'criterion': 'entropy', 'max_depth': 200, 'max_features': 'log2', 'n_estimators': 15}\n",
      "0.9981458333333333 0.9450625 (0.01606979406370847) with: {'criterion': 'entropy', 'max_depth': 200, 'max_features': 'log2', 'n_estimators': 17}\n",
      "0.9984166666666667 0.94475 (0.015477301928953899) with: {'criterion': 'entropy', 'max_depth': 200, 'max_features': 'log2', 'n_estimators': 19}\n",
      "0.9986180555555556 0.9446249999999999 (0.015883363938410527) with: {'criterion': 'entropy', 'max_depth': 200, 'max_features': 'log2', 'n_estimators': 21}\n",
      "0.9988333333333334 0.9454374999999999 (0.016782268358300077) with: {'criterion': 'entropy', 'max_depth': 200, 'max_features': 'log2', 'n_estimators': 23}\n",
      "0.9683194444444444 0.9091250000000001 (0.019363302920731258) with: {'criterion': 'entropy', 'max_depth': 200, 'max_features': 'sqrt', 'n_estimators': 1}\n",
      "0.9865069444444445 0.9305 (0.01890312474169284) with: {'criterion': 'entropy', 'max_depth': 200, 'max_features': 'sqrt', 'n_estimators': 3}\n",
      "0.9916458333333334 0.9368124999999999 (0.019069056249589288) with: {'criterion': 'entropy', 'max_depth': 200, 'max_features': 'sqrt', 'n_estimators': 5}\n",
      "0.9943055555555554 0.9394375 (0.018807100554046077) with: {'criterion': 'entropy', 'max_depth': 200, 'max_features': 'sqrt', 'n_estimators': 7}\n",
      "0.9959027777777779 0.9403125000000001 (0.017934886569198026) with: {'criterion': 'entropy', 'max_depth': 200, 'max_features': 'sqrt', 'n_estimators': 9}\n",
      "0.9967291666666667 0.9414999999999999 (0.016833745869532436) with: {'criterion': 'entropy', 'max_depth': 200, 'max_features': 'sqrt', 'n_estimators': 11}\n",
      "0.997201388888889 0.9424375000000002 (0.016492067221849423) with: {'criterion': 'entropy', 'max_depth': 200, 'max_features': 'sqrt', 'n_estimators': 13}\n",
      "0.9980069444444444 0.9439375000000002 (0.016151262528050242) with: {'criterion': 'entropy', 'max_depth': 200, 'max_features': 'sqrt', 'n_estimators': 15}\n",
      "0.9981458333333333 0.9450625 (0.01606979406370847) with: {'criterion': 'entropy', 'max_depth': 200, 'max_features': 'sqrt', 'n_estimators': 17}\n",
      "0.9984166666666667 0.94475 (0.015477301928953899) with: {'criterion': 'entropy', 'max_depth': 200, 'max_features': 'sqrt', 'n_estimators': 19}\n",
      "0.9986180555555556 0.9446249999999999 (0.015883363938410527) with: {'criterion': 'entropy', 'max_depth': 200, 'max_features': 'sqrt', 'n_estimators': 21}\n",
      "0.9988333333333334 0.9454374999999999 (0.016782268358300077) with: {'criterion': 'entropy', 'max_depth': 200, 'max_features': 'sqrt', 'n_estimators': 23}\n",
      "0.9683194444444444 0.9091250000000001 (0.019363302920731258) with: {'criterion': 'entropy', 'max_depth': 300, 'max_features': 'auto', 'n_estimators': 1}\n",
      "0.9865069444444445 0.9305 (0.01890312474169284) with: {'criterion': 'entropy', 'max_depth': 300, 'max_features': 'auto', 'n_estimators': 3}\n",
      "0.9916458333333334 0.9368124999999999 (0.019069056249589288) with: {'criterion': 'entropy', 'max_depth': 300, 'max_features': 'auto', 'n_estimators': 5}\n",
      "0.9943055555555554 0.9394375 (0.018807100554046077) with: {'criterion': 'entropy', 'max_depth': 300, 'max_features': 'auto', 'n_estimators': 7}\n",
      "0.9959027777777779 0.9403125000000001 (0.017934886569198026) with: {'criterion': 'entropy', 'max_depth': 300, 'max_features': 'auto', 'n_estimators': 9}\n",
      "0.9967291666666667 0.9414999999999999 (0.016833745869532436) with: {'criterion': 'entropy', 'max_depth': 300, 'max_features': 'auto', 'n_estimators': 11}\n",
      "0.997201388888889 0.9424375000000002 (0.016492067221849423) with: {'criterion': 'entropy', 'max_depth': 300, 'max_features': 'auto', 'n_estimators': 13}\n",
      "0.9980069444444444 0.9439375000000002 (0.016151262528050242) with: {'criterion': 'entropy', 'max_depth': 300, 'max_features': 'auto', 'n_estimators': 15}\n",
      "0.9981458333333333 0.9450625 (0.01606979406370847) with: {'criterion': 'entropy', 'max_depth': 300, 'max_features': 'auto', 'n_estimators': 17}\n",
      "0.9984166666666667 0.94475 (0.015477301928953899) with: {'criterion': 'entropy', 'max_depth': 300, 'max_features': 'auto', 'n_estimators': 19}\n",
      "0.9986180555555556 0.9446249999999999 (0.015883363938410527) with: {'criterion': 'entropy', 'max_depth': 300, 'max_features': 'auto', 'n_estimators': 21}\n",
      "0.9988333333333334 0.9454374999999999 (0.016782268358300077) with: {'criterion': 'entropy', 'max_depth': 300, 'max_features': 'auto', 'n_estimators': 23}\n",
      "0.9683194444444444 0.9091250000000001 (0.019363302920731258) with: {'criterion': 'entropy', 'max_depth': 300, 'max_features': 'log2', 'n_estimators': 1}\n",
      "0.9865069444444445 0.9305 (0.01890312474169284) with: {'criterion': 'entropy', 'max_depth': 300, 'max_features': 'log2', 'n_estimators': 3}\n",
      "0.9916458333333334 0.9368124999999999 (0.019069056249589288) with: {'criterion': 'entropy', 'max_depth': 300, 'max_features': 'log2', 'n_estimators': 5}\n",
      "0.9943055555555554 0.9394375 (0.018807100554046077) with: {'criterion': 'entropy', 'max_depth': 300, 'max_features': 'log2', 'n_estimators': 7}\n",
      "0.9959027777777779 0.9403125000000001 (0.017934886569198026) with: {'criterion': 'entropy', 'max_depth': 300, 'max_features': 'log2', 'n_estimators': 9}\n",
      "0.9967291666666667 0.9414999999999999 (0.016833745869532436) with: {'criterion': 'entropy', 'max_depth': 300, 'max_features': 'log2', 'n_estimators': 11}\n",
      "0.997201388888889 0.9424375000000002 (0.016492067221849423) with: {'criterion': 'entropy', 'max_depth': 300, 'max_features': 'log2', 'n_estimators': 13}\n",
      "0.9980069444444444 0.9439375000000002 (0.016151262528050242) with: {'criterion': 'entropy', 'max_depth': 300, 'max_features': 'log2', 'n_estimators': 15}\n",
      "0.9981458333333333 0.9450625 (0.01606979406370847) with: {'criterion': 'entropy', 'max_depth': 300, 'max_features': 'log2', 'n_estimators': 17}\n",
      "0.9984166666666667 0.94475 (0.015477301928953899) with: {'criterion': 'entropy', 'max_depth': 300, 'max_features': 'log2', 'n_estimators': 19}\n",
      "0.9986180555555556 0.9446249999999999 (0.015883363938410527) with: {'criterion': 'entropy', 'max_depth': 300, 'max_features': 'log2', 'n_estimators': 21}\n",
      "0.9988333333333334 0.9454374999999999 (0.016782268358300077) with: {'criterion': 'entropy', 'max_depth': 300, 'max_features': 'log2', 'n_estimators': 23}\n",
      "0.9683194444444444 0.9091250000000001 (0.019363302920731258) with: {'criterion': 'entropy', 'max_depth': 300, 'max_features': 'sqrt', 'n_estimators': 1}\n",
      "0.9865069444444445 0.9305 (0.01890312474169284) with: {'criterion': 'entropy', 'max_depth': 300, 'max_features': 'sqrt', 'n_estimators': 3}\n",
      "0.9916458333333334 0.9368124999999999 (0.019069056249589288) with: {'criterion': 'entropy', 'max_depth': 300, 'max_features': 'sqrt', 'n_estimators': 5}\n",
      "0.9943055555555554 0.9394375 (0.018807100554046077) with: {'criterion': 'entropy', 'max_depth': 300, 'max_features': 'sqrt', 'n_estimators': 7}\n",
      "0.9959027777777779 0.9403125000000001 (0.017934886569198026) with: {'criterion': 'entropy', 'max_depth': 300, 'max_features': 'sqrt', 'n_estimators': 9}\n",
      "0.9967291666666667 0.9414999999999999 (0.016833745869532436) with: {'criterion': 'entropy', 'max_depth': 300, 'max_features': 'sqrt', 'n_estimators': 11}\n",
      "0.997201388888889 0.9424375000000002 (0.016492067221849423) with: {'criterion': 'entropy', 'max_depth': 300, 'max_features': 'sqrt', 'n_estimators': 13}\n",
      "0.9980069444444444 0.9439375000000002 (0.016151262528050242) with: {'criterion': 'entropy', 'max_depth': 300, 'max_features': 'sqrt', 'n_estimators': 15}\n",
      "0.9981458333333333 0.9450625 (0.01606979406370847) with: {'criterion': 'entropy', 'max_depth': 300, 'max_features': 'sqrt', 'n_estimators': 17}\n",
      "0.9984166666666667 0.94475 (0.015477301928953899) with: {'criterion': 'entropy', 'max_depth': 300, 'max_features': 'sqrt', 'n_estimators': 19}\n",
      "0.9986180555555556 0.9446249999999999 (0.015883363938410527) with: {'criterion': 'entropy', 'max_depth': 300, 'max_features': 'sqrt', 'n_estimators': 21}\n",
      "0.9988333333333334 0.9454374999999999 (0.016782268358300077) with: {'criterion': 'entropy', 'max_depth': 300, 'max_features': 'sqrt', 'n_estimators': 23}\n",
      "0.9683194444444444 0.9091250000000001 (0.019363302920731258) with: {'criterion': 'entropy', 'max_depth': 500, 'max_features': 'auto', 'n_estimators': 1}\n",
      "0.9865069444444445 0.9305 (0.01890312474169284) with: {'criterion': 'entropy', 'max_depth': 500, 'max_features': 'auto', 'n_estimators': 3}\n",
      "0.9916458333333334 0.9368124999999999 (0.019069056249589288) with: {'criterion': 'entropy', 'max_depth': 500, 'max_features': 'auto', 'n_estimators': 5}\n",
      "0.9943055555555554 0.9394375 (0.018807100554046077) with: {'criterion': 'entropy', 'max_depth': 500, 'max_features': 'auto', 'n_estimators': 7}\n",
      "0.9959027777777779 0.9403125000000001 (0.017934886569198026) with: {'criterion': 'entropy', 'max_depth': 500, 'max_features': 'auto', 'n_estimators': 9}\n",
      "0.9967291666666667 0.9414999999999999 (0.016833745869532436) with: {'criterion': 'entropy', 'max_depth': 500, 'max_features': 'auto', 'n_estimators': 11}\n",
      "0.997201388888889 0.9424375000000002 (0.016492067221849423) with: {'criterion': 'entropy', 'max_depth': 500, 'max_features': 'auto', 'n_estimators': 13}\n",
      "0.9980069444444444 0.9439375000000002 (0.016151262528050242) with: {'criterion': 'entropy', 'max_depth': 500, 'max_features': 'auto', 'n_estimators': 15}\n",
      "0.9981458333333333 0.9450625 (0.01606979406370847) with: {'criterion': 'entropy', 'max_depth': 500, 'max_features': 'auto', 'n_estimators': 17}\n",
      "0.9984166666666667 0.94475 (0.015477301928953899) with: {'criterion': 'entropy', 'max_depth': 500, 'max_features': 'auto', 'n_estimators': 19}\n",
      "0.9986180555555556 0.9446249999999999 (0.015883363938410527) with: {'criterion': 'entropy', 'max_depth': 500, 'max_features': 'auto', 'n_estimators': 21}\n",
      "0.9988333333333334 0.9454374999999999 (0.016782268358300077) with: {'criterion': 'entropy', 'max_depth': 500, 'max_features': 'auto', 'n_estimators': 23}\n",
      "0.9683194444444444 0.9091250000000001 (0.019363302920731258) with: {'criterion': 'entropy', 'max_depth': 500, 'max_features': 'log2', 'n_estimators': 1}\n",
      "0.9865069444444445 0.9305 (0.01890312474169284) with: {'criterion': 'entropy', 'max_depth': 500, 'max_features': 'log2', 'n_estimators': 3}\n",
      "0.9916458333333334 0.9368124999999999 (0.019069056249589288) with: {'criterion': 'entropy', 'max_depth': 500, 'max_features': 'log2', 'n_estimators': 5}\n",
      "0.9943055555555554 0.9394375 (0.018807100554046077) with: {'criterion': 'entropy', 'max_depth': 500, 'max_features': 'log2', 'n_estimators': 7}\n",
      "0.9959027777777779 0.9403125000000001 (0.017934886569198026) with: {'criterion': 'entropy', 'max_depth': 500, 'max_features': 'log2', 'n_estimators': 9}\n",
      "0.9967291666666667 0.9414999999999999 (0.016833745869532436) with: {'criterion': 'entropy', 'max_depth': 500, 'max_features': 'log2', 'n_estimators': 11}\n",
      "0.997201388888889 0.9424375000000002 (0.016492067221849423) with: {'criterion': 'entropy', 'max_depth': 500, 'max_features': 'log2', 'n_estimators': 13}\n",
      "0.9980069444444444 0.9439375000000002 (0.016151262528050242) with: {'criterion': 'entropy', 'max_depth': 500, 'max_features': 'log2', 'n_estimators': 15}\n",
      "0.9981458333333333 0.9450625 (0.01606979406370847) with: {'criterion': 'entropy', 'max_depth': 500, 'max_features': 'log2', 'n_estimators': 17}\n",
      "0.9984166666666667 0.94475 (0.015477301928953899) with: {'criterion': 'entropy', 'max_depth': 500, 'max_features': 'log2', 'n_estimators': 19}\n",
      "0.9986180555555556 0.9446249999999999 (0.015883363938410527) with: {'criterion': 'entropy', 'max_depth': 500, 'max_features': 'log2', 'n_estimators': 21}\n",
      "0.9988333333333334 0.9454374999999999 (0.016782268358300077) with: {'criterion': 'entropy', 'max_depth': 500, 'max_features': 'log2', 'n_estimators': 23}\n",
      "0.9683194444444444 0.9091250000000001 (0.019363302920731258) with: {'criterion': 'entropy', 'max_depth': 500, 'max_features': 'sqrt', 'n_estimators': 1}\n",
      "0.9865069444444445 0.9305 (0.01890312474169284) with: {'criterion': 'entropy', 'max_depth': 500, 'max_features': 'sqrt', 'n_estimators': 3}\n",
      "0.9916458333333334 0.9368124999999999 (0.019069056249589288) with: {'criterion': 'entropy', 'max_depth': 500, 'max_features': 'sqrt', 'n_estimators': 5}\n",
      "0.9943055555555554 0.9394375 (0.018807100554046077) with: {'criterion': 'entropy', 'max_depth': 500, 'max_features': 'sqrt', 'n_estimators': 7}\n",
      "0.9959027777777779 0.9403125000000001 (0.017934886569198026) with: {'criterion': 'entropy', 'max_depth': 500, 'max_features': 'sqrt', 'n_estimators': 9}\n",
      "0.9967291666666667 0.9414999999999999 (0.016833745869532436) with: {'criterion': 'entropy', 'max_depth': 500, 'max_features': 'sqrt', 'n_estimators': 11}\n",
      "0.997201388888889 0.9424375000000002 (0.016492067221849423) with: {'criterion': 'entropy', 'max_depth': 500, 'max_features': 'sqrt', 'n_estimators': 13}\n",
      "0.9980069444444444 0.9439375000000002 (0.016151262528050242) with: {'criterion': 'entropy', 'max_depth': 500, 'max_features': 'sqrt', 'n_estimators': 15}\n",
      "0.9981458333333333 0.9450625 (0.01606979406370847) with: {'criterion': 'entropy', 'max_depth': 500, 'max_features': 'sqrt', 'n_estimators': 17}\n",
      "0.9984166666666667 0.94475 (0.015477301928953899) with: {'criterion': 'entropy', 'max_depth': 500, 'max_features': 'sqrt', 'n_estimators': 19}\n",
      "0.9986180555555556 0.9446249999999999 (0.015883363938410527) with: {'criterion': 'entropy', 'max_depth': 500, 'max_features': 'sqrt', 'n_estimators': 21}\n",
      "0.9988333333333334 0.9454374999999999 (0.016782268358300077) with: {'criterion': 'entropy', 'max_depth': 500, 'max_features': 'sqrt', 'n_estimators': 23}\n"
     ]
    }
   ],
   "source": [
    "# finding the mean train accuracy, mean test accuracy and standard deviation\n",
    "means_train = grid_search.cv_results_['mean_train_score']\n",
    "means_test = grid_search.cv_results_['mean_test_score']\n",
    "stds = grid_search.cv_results_['std_test_score']\n",
    "params = grid_search.cv_results_['params']\n",
    "for mean_train,mean_test, stdev, param in zip(means_train,means_test, stds, params):\n",
    "    print('{0} {1} ({2}) with: {3}'.format(mean_train,mean_test, stdev, param))"
   ]
  },
  {
   "cell_type": "code",
   "execution_count": 60,
   "metadata": {},
   "outputs": [
    {
     "data": {
      "text/plain": [
       "RandomForestClassifier(criterion='entropy', max_depth=50, n_estimators=23)"
      ]
     },
     "execution_count": 60,
     "metadata": {},
     "output_type": "execute_result"
    }
   ],
   "source": [
    "from sklearn.ensemble import RandomForestClassifier\n",
    "#Creating a model\n",
    "randomfor = RandomForestClassifier(criterion = 'entropy', n_estimators = 23, max_depth = 50, max_features = 'auto')\n",
    "\n",
    "#Fitting a model\n",
    "randomfor.fit(X_train_smote, y_train_smote)"
   ]
  },
  {
   "cell_type": "code",
   "execution_count": 61,
   "metadata": {},
   "outputs": [
    {
     "name": "stdout",
     "output_type": "stream",
     "text": [
      "Training accuracy of Random Forest Model is: 99.88125\n"
     ]
    }
   ],
   "source": [
    "#Calculating train accuracy\n",
    "\n",
    "randomfor_accuracy_train = accuracy_score(y_train_smote,randomfor.predict(X_train_smote))\n",
    "print(\"Training accuracy of Random Forest Model is: \" + str(randomfor_accuracy_train * 100))"
   ]
  },
  {
   "cell_type": "code",
   "execution_count": 62,
   "metadata": {},
   "outputs": [
    {
     "name": "stdout",
     "output_type": "stream",
     "text": [
      "Testing accuracy of Random Forest Model is: 92.7\n"
     ]
    }
   ],
   "source": [
    "#Making predictions on test data\n",
    "Y_pred_randomfor = randomfor.predict(X_test)\n",
    "\n",
    "#Calculating train accuracy\n",
    "randomfor_accuracy_test = accuracy_score(Y_test, Y_pred_randomfor)\n",
    "print(\"Testing accuracy of Random Forest Model is: \" + str(randomfor_accuracy_test * 100))"
   ]
  },
  {
   "cell_type": "code",
   "execution_count": 63,
   "metadata": {},
   "outputs": [
    {
     "data": {
      "text/plain": [
       "array([[1881,  119],\n",
       "       [ 100,  900]], dtype=int64)"
      ]
     },
     "execution_count": 63,
     "metadata": {},
     "output_type": "execute_result"
    }
   ],
   "source": [
    "# Confusion matrix\n",
    "\n",
    "confusion_matrix_randomfor = confusion_matrix(Y_test, Y_pred_randomfor)\n",
    "confusion_matrix_randomfor"
   ]
  },
  {
   "cell_type": "code",
   "execution_count": 64,
   "metadata": {},
   "outputs": [
    {
     "name": "stdout",
     "output_type": "stream",
     "text": [
      "              precision    recall  f1-score   support\n",
      "\n",
      "           0       0.95      0.94      0.94      2000\n",
      "           1       0.88      0.90      0.89      1000\n",
      "\n",
      "    accuracy                           0.93      3000\n",
      "   macro avg       0.92      0.92      0.92      3000\n",
      "weighted avg       0.93      0.93      0.93      3000\n",
      "\n"
     ]
    }
   ],
   "source": [
    "# Classification report\n",
    "\n",
    "print(classification_report(Y_test, Y_pred_randomfor))"
   ]
  }
 ],
 "metadata": {
  "colab": {
   "collapsed_sections": [],
   "name": "thesis_ML.ipynb",
   "provenance": []
  },
  "kernelspec": {
   "display_name": "Python 3",
   "language": "python",
   "name": "python3"
  },
  "language_info": {
   "codemirror_mode": {
    "name": "ipython",
    "version": 3
   },
   "file_extension": ".py",
   "mimetype": "text/x-python",
   "name": "python",
   "nbconvert_exporter": "python",
   "pygments_lexer": "ipython3",
   "version": "3.7.6"
  }
 },
 "nbformat": 4,
 "nbformat_minor": 1
}
